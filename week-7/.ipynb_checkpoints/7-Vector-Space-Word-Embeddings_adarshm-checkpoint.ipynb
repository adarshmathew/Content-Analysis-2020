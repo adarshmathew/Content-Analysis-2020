{
 "cells": [
  {
   "cell_type": "markdown",
   "metadata": {},
   "source": [
    "# Week 7 HW - Vector Space Word Embeddings"
   ]
  },
  {
   "cell_type": "code",
   "execution_count": 4,
   "metadata": {},
   "outputs": [],
   "source": [
    "#All these packages need to be installed from pip\n",
    "import gensim#For word2vec, etc\n",
    "import requests #For downloading our datasets\n",
    "import lucem_illud_2020\n",
    "\n",
    "import numpy as np #For arrays\n",
    "import pandas #Gives us DataFrames\n",
    "import matplotlib.pyplot as plt #For graphics\n",
    "import seaborn #Makes the graphics look nicer\n",
    "import sklearn.metrics.pairwise #For cosine similarity\n",
    "import sklearn.manifold #For T-SNE\n",
    "import sklearn.decomposition #For PCA\n",
    "import spacy\n",
    "import regex as re\n",
    "import copy\n",
    "\n",
    "#This 'magic' command makes the plots work better\n",
    "#in the notebook, don't use it outside of a notebook.\n",
    "#Also you can ignore the warning\n",
    "%matplotlib inline\n",
    "\n",
    "import os #For looking through files\n",
    "import os.path #For managing file paths\n",
    "import pickle\n",
    "\n",
    "nlp = spacy.load('en')"
   ]
  },
  {
   "cell_type": "code",
   "execution_count": 64,
   "metadata": {},
   "outputs": [
    {
     "data": {
      "application/javascript": [
       "IPython.OutputArea.auto_scroll_threshold = 9999;\n"
      ],
      "text/plain": [
       "<IPython.core.display.Javascript object>"
      ]
     },
     "metadata": {},
     "output_type": "display_data"
    }
   ],
   "source": [
    "%%javascript\n",
    "IPython.OutputArea.auto_scroll_threshold = 9999;"
   ]
  },
  {
   "cell_type": "markdown",
   "metadata": {},
   "source": [
    "## Exercise 1 -- word2vec \n",
    "\n",
    "Tasks:\n",
    "- Try 2 `word2vec` specifications\n",
    "- Visualize each of them with two viz techniques\n",
    "- Arithmetic on words"
   ]
  },
  {
   "cell_type": "code",
   "execution_count": 126,
   "metadata": {},
   "outputs": [],
   "source": [
    "with open('reddit_submissions_incels_tkns.pkl', 'wb') as f:\n",
    "    pickle.dump(reddit_submissions_incels, f)\n",
    "    \n",
    "with open('reddit_submissions_altright_tkns.pkl', 'wb') as f:\n",
    "    pickle.dump(reddit_submissions_altright, f)\n",
    "    \n",
    "with open('reddit_submissions_donald8_tkns.pkl', 'wb') as f:\n",
    "    pickle.dump(reddit_submissions_min8, f)   \n",
    "    \n",
    "with open('reddit_submissions_donald4_tkns.pkl', 'wb') as f:\n",
    "    pickle.dump(reddit_submissions_min4, f)  \n",
    "    \n",
    "with open('reddit_submissions_donald_tkns.pkl', 'wb') as f:\n",
    "    pickle.dump(reddit_submissions_trump, f)  \n",
    "    \n",
    "donald8_W2V.save(\"donald8_WORD2Vec\")\n",
    "donald4_W2V.save(\"donald4_WORD2Vec\")\n",
    "donald8_W2Vsoft.save(\"donald8_WORD2Vec_soft\")\n",
    "donald4_W2Vsoft.save(\"donald4_WORD2Vec_soft\")"
   ]
  },
  {
   "cell_type": "code",
   "execution_count": 3,
   "metadata": {},
   "outputs": [],
   "source": [
    "with open('reddit_submissions_donald8_tkns.pkl', 'rb') as f:\n",
    "    reddit_submissions_min8 = pickle.load(f)\n",
    "    \n",
    "with open('reddit_submissions_donald4_tkns.pkl', 'rb') as f:\n",
    "    reddit_submissions_min4 = pickle.load(f)\n",
    "\n",
    "with open('reddit_submissions_altright_tkns.pkl', 'rb') as f:\n",
    "    reddit_submissions_altright = pickle.load(f)\n",
    "    \n",
    "with open('reddit_submissions_incels_tkns.pkl', 'rb') as f:\n",
    "    reddit_submissions_incels = pickle.load(f)\n",
    "    \n",
    "with open('donald8_WORD2Vec', 'rb') as f:\n",
    "    donald8_W2V = pickle.load(f)\n",
    "    \n",
    "with open('donald4_WORD2Vec', 'rb') as f:\n",
    "    donald4_W2V = pickle.load(f)\n",
    "    \n",
    "with open('donald8_WORD2Vec_soft', 'rb') as f:\n",
    "    donald8_W2Vsoft = pickle.load(f)\n",
    "    \n",
    "with open('donald4_WORD2Vec_soft', 'rb') as f:\n",
    "    donald4_W2Vsoft = pickle.load(f)"
   ]
  },
  {
   "cell_type": "code",
   "execution_count": 6,
   "metadata": {},
   "outputs": [
    {
     "name": "stderr",
     "output_type": "stream",
     "text": [
      "/software/Anaconda3-5.3.0-el7-x86_64/lib/python3.6/site-packages/IPython/core/interactiveshell.py:3018: DtypeWarning: Columns (8) have mixed types. Specify dtype option on import or set low_memory=False.\n",
      "  interactivity=interactivity, compiler=compiler, result=result)\n"
     ]
    }
   ],
   "source": [
    "reddit_submissions_min= pandas.read_csv('../project_data/reddit_submissions_2015_18.csv', index_col=6)[['author', 'created_utc', 'subreddit', 'title', 'selftext', 'distinguished']]\n",
    "reddit_submissions_min['created_datetime'] = pandas.to_datetime(reddit_submissions_min['created_utc'], unit='s')\n",
    "reddit_submissions_min['created_tranche'] = pandas.cut(reddit_submissions_min['created_utc'], bins = 20, labels = list(range(20)))"
   ]
  },
  {
   "cell_type": "code",
   "execution_count": 136,
   "metadata": {},
   "outputs": [
    {
     "name": "stderr",
     "output_type": "stream",
     "text": [
      "/software/Anaconda3-5.3.0-el7-x86_64/lib/python3.6/site-packages/ipykernel_launcher.py:2: SettingWithCopyWarning: \n",
      "A value is trying to be set on a copy of a slice from a DataFrame.\n",
      "Try using .loc[row_indexer,col_indexer] = value instead\n",
      "\n",
      "See the caveats in the documentation: http://pandas.pydata.org/pandas-docs/stable/indexing.html#indexing-view-versus-copy\n",
      "  \n",
      "/software/Anaconda3-5.3.0-el7-x86_64/lib/python3.6/site-packages/ipykernel_launcher.py:3: SettingWithCopyWarning: \n",
      "A value is trying to be set on a copy of a slice from a DataFrame.\n",
      "Try using .loc[row_indexer,col_indexer] = value instead\n",
      "\n",
      "See the caveats in the documentation: http://pandas.pydata.org/pandas-docs/stable/indexing.html#indexing-view-versus-copy\n",
      "  This is separate from the ipykernel package so we can avoid doing imports until\n",
      "/software/Anaconda3-5.3.0-el7-x86_64/lib/python3.6/site-packages/ipykernel_launcher.py:4: SettingWithCopyWarning: \n",
      "A value is trying to be set on a copy of a slice from a DataFrame.\n",
      "Try using .loc[row_indexer,col_indexer] = value instead\n",
      "\n",
      "See the caveats in the documentation: http://pandas.pydata.org/pandas-docs/stable/indexing.html#indexing-view-versus-copy\n",
      "  after removing the cwd from sys.path.\n"
     ]
    }
   ],
   "source": [
    "reddit_submissions_incels = reddit_submissions_min[(reddit_submissions_min['subreddit'] == 'Incels')]\n",
    "reddit_submissions_incels['post_text'] = reddit_submissions_incels['title'] + \" \" + reddit_submissions_incels['selftext']\n",
    "reddit_submissions_incels['tokenized_sents'] = reddit_submissions_incels['post_text'].apply(lambda x: [lucem_illud_2020.word_tokenize(s) for s in lucem_illud_2020.sent_tokenize(x)])\n",
    "reddit_submissions_incels['normalized_sents'] = reddit_submissions_incels['tokenized_sents'].apply(lambda x: [lucem_illud_2020.normalizeTokens(s) for s in x])"
   ]
  },
  {
   "cell_type": "code",
   "execution_count": 142,
   "metadata": {},
   "outputs": [
    {
     "data": {
      "text/plain": [
       "The_Donald        48092\n",
       "KotakuInAction    14834\n",
       "Incels            12862\n",
       "Conservative       1891\n",
       "altright            899\n",
       "Republican          327\n",
       "Name: subreddit, dtype: int64"
      ]
     },
     "execution_count": 142,
     "metadata": {},
     "output_type": "execute_result"
    }
   ],
   "source": [
    "reddit_submissions_min['subreddit'].value_counts()"
   ]
  },
  {
   "cell_type": "code",
   "execution_count": 143,
   "metadata": {},
   "outputs": [
    {
     "name": "stderr",
     "output_type": "stream",
     "text": [
      "/software/Anaconda3-5.3.0-el7-x86_64/lib/python3.6/site-packages/ipykernel_launcher.py:2: SettingWithCopyWarning: \n",
      "A value is trying to be set on a copy of a slice from a DataFrame.\n",
      "Try using .loc[row_indexer,col_indexer] = value instead\n",
      "\n",
      "See the caveats in the documentation: http://pandas.pydata.org/pandas-docs/stable/indexing.html#indexing-view-versus-copy\n",
      "  \n",
      "/software/Anaconda3-5.3.0-el7-x86_64/lib/python3.6/site-packages/ipykernel_launcher.py:3: SettingWithCopyWarning: \n",
      "A value is trying to be set on a copy of a slice from a DataFrame.\n",
      "Try using .loc[row_indexer,col_indexer] = value instead\n",
      "\n",
      "See the caveats in the documentation: http://pandas.pydata.org/pandas-docs/stable/indexing.html#indexing-view-versus-copy\n",
      "  This is separate from the ipykernel package so we can avoid doing imports until\n",
      "/software/Anaconda3-5.3.0-el7-x86_64/lib/python3.6/site-packages/ipykernel_launcher.py:4: SettingWithCopyWarning: \n",
      "A value is trying to be set on a copy of a slice from a DataFrame.\n",
      "Try using .loc[row_indexer,col_indexer] = value instead\n",
      "\n",
      "See the caveats in the documentation: http://pandas.pydata.org/pandas-docs/stable/indexing.html#indexing-view-versus-copy\n",
      "  after removing the cwd from sys.path.\n"
     ]
    }
   ],
   "source": [
    "reddit_submissions_altright = reddit_submissions_min[(reddit_submissions_min['subreddit'] == 'altright')]\n",
    "reddit_submissions_altright['post_text'] = reddit_submissions_altright['title'] + \" \" + reddit_submissions_altright['selftext']\n",
    "reddit_submissions_altright['tokenized_sents'] = reddit_submissions_altright['post_text'].apply(lambda x: [lucem_illud_2020.word_tokenize(s) for s in lucem_illud_2020.sent_tokenize(x)])\n",
    "reddit_submissions_altright['normalized_sents'] = reddit_submissions_altright['tokenized_sents'].apply(lambda x: [lucem_illud_2020.normalizeTokens(s) for s in x])"
   ]
  },
  {
   "cell_type": "code",
   "execution_count": 51,
   "metadata": {},
   "outputs": [],
   "source": [
    "reddit_submissions_min8 = reddit_submissions_min[(reddit_submissions_min['subreddit'] == 'The_Donald') & \n",
    "                                                       (reddit_submissions_min['created_tranche'] == 8)]\n",
    "reddit_submissions_min4 = reddit_submissions_min[(reddit_submissions_min['subreddit'] == 'The_Donald') & \n",
    "                                                       (reddit_submissions_min['created_tranche'] == 4)]"
   ]
  },
  {
   "cell_type": "code",
   "execution_count": 52,
   "metadata": {},
   "outputs": [
    {
     "name": "stderr",
     "output_type": "stream",
     "text": [
      "/software/Anaconda3-5.3.0-el7-x86_64/lib/python3.6/site-packages/ipykernel_launcher.py:1: SettingWithCopyWarning: \n",
      "A value is trying to be set on a copy of a slice from a DataFrame.\n",
      "Try using .loc[row_indexer,col_indexer] = value instead\n",
      "\n",
      "See the caveats in the documentation: http://pandas.pydata.org/pandas-docs/stable/indexing.html#indexing-view-versus-copy\n",
      "  \"\"\"Entry point for launching an IPython kernel.\n",
      "/software/Anaconda3-5.3.0-el7-x86_64/lib/python3.6/site-packages/ipykernel_launcher.py:2: SettingWithCopyWarning: \n",
      "A value is trying to be set on a copy of a slice from a DataFrame.\n",
      "Try using .loc[row_indexer,col_indexer] = value instead\n",
      "\n",
      "See the caveats in the documentation: http://pandas.pydata.org/pandas-docs/stable/indexing.html#indexing-view-versus-copy\n",
      "  \n",
      "/software/Anaconda3-5.3.0-el7-x86_64/lib/python3.6/site-packages/ipykernel_launcher.py:3: SettingWithCopyWarning: \n",
      "A value is trying to be set on a copy of a slice from a DataFrame.\n",
      "Try using .loc[row_indexer,col_indexer] = value instead\n",
      "\n",
      "See the caveats in the documentation: http://pandas.pydata.org/pandas-docs/stable/indexing.html#indexing-view-versus-copy\n",
      "  This is separate from the ipykernel package so we can avoid doing imports until\n",
      "/software/Anaconda3-5.3.0-el7-x86_64/lib/python3.6/site-packages/ipykernel_launcher.py:5: SettingWithCopyWarning: \n",
      "A value is trying to be set on a copy of a slice from a DataFrame.\n",
      "Try using .loc[row_indexer,col_indexer] = value instead\n",
      "\n",
      "See the caveats in the documentation: http://pandas.pydata.org/pandas-docs/stable/indexing.html#indexing-view-versus-copy\n",
      "  \"\"\"\n",
      "/software/Anaconda3-5.3.0-el7-x86_64/lib/python3.6/site-packages/ipykernel_launcher.py:6: SettingWithCopyWarning: \n",
      "A value is trying to be set on a copy of a slice from a DataFrame.\n",
      "Try using .loc[row_indexer,col_indexer] = value instead\n",
      "\n",
      "See the caveats in the documentation: http://pandas.pydata.org/pandas-docs/stable/indexing.html#indexing-view-versus-copy\n",
      "  \n",
      "/software/Anaconda3-5.3.0-el7-x86_64/lib/python3.6/site-packages/ipykernel_launcher.py:7: SettingWithCopyWarning: \n",
      "A value is trying to be set on a copy of a slice from a DataFrame.\n",
      "Try using .loc[row_indexer,col_indexer] = value instead\n",
      "\n",
      "See the caveats in the documentation: http://pandas.pydata.org/pandas-docs/stable/indexing.html#indexing-view-versus-copy\n",
      "  import sys\n"
     ]
    }
   ],
   "source": [
    "reddit_submissions_min8['post_text'] = reddit_submissions_min8['title'] + \" \" + reddit_submissions_min8['selftext']\n",
    "reddit_submissions_min8['tokenized_sents'] = reddit_submissions_min8['post_text'].apply(lambda x: [lucem_illud_2020.word_tokenize(s) for s in lucem_illud_2020.sent_tokenize(x)])\n",
    "reddit_submissions_min8['normalized_sents'] = reddit_submissions_min8['tokenized_sents'].apply(lambda x: [lucem_illud_2020.normalizeTokens(s) for s in x])\n",
    "\n",
    "reddit_submissions_min4['post_text'] = reddit_submissions_min4['title'] + \" \" + reddit_submissions_min4['selftext']\n",
    "reddit_submissions_min4['tokenized_sents'] = reddit_submissions_min4['post_text'].apply(lambda x: [lucem_illud_2020.word_tokenize(s) for s in lucem_illud_2020.sent_tokenize(x)])\n",
    "reddit_submissions_min4['normalized_sents'] = reddit_submissions_min4['tokenized_sents'].apply(lambda x: [lucem_illud_2020.normalizeTokens(s) for s in x])"
   ]
  },
  {
   "cell_type": "code",
   "execution_count": 53,
   "metadata": {},
   "outputs": [],
   "source": [
    "donald8_W2V = gensim.models.word2vec.Word2Vec(reddit_submissions_min8['normalized_sents'].sum())\n",
    "donald4_W2V = gensim.models.word2vec.Word2Vec(reddit_submissions_min4['normalized_sents'].sum())"
   ]
  },
  {
   "cell_type": "code",
   "execution_count": 54,
   "metadata": {},
   "outputs": [
    {
     "data": {
      "text/plain": [
       "[('leave', 0.9967672824859619),\n",
       " ('scare', 0.996751070022583),\n",
       " ('black', 0.9965715408325195),\n",
       " ('tire', 0.9961039423942566),\n",
       " ('life', 0.9950675368309021),\n",
       " ('americans', 0.9948298931121826),\n",
       " ('stand', 0.9947570562362671),\n",
       " ('racist', 0.9942721724510193),\n",
       " ('understand', 0.9941738843917847),\n",
       " ('fight', 0.9935716390609741)]"
      ]
     },
     "execution_count": 54,
     "metadata": {},
     "output_type": "execute_result"
    }
   ],
   "source": [
    "donald8_W2V.most_similar('liberal')"
   ]
  },
  {
   "cell_type": "code",
   "execution_count": 55,
   "metadata": {},
   "outputs": [
    {
     "data": {
      "text/plain": [
       "[('male', 0.9716025590896606),\n",
       " ('shit', 0.9648157954216003),\n",
       " ('family', 0.9588555693626404),\n",
       " ('cis', 0.9580625295639038),\n",
       " ('art', 0.956328809261322),\n",
       " ('black', 0.9544196128845215),\n",
       " ('white', 0.951651930809021),\n",
       " ('life', 0.9513400793075562),\n",
       " ('girl', 0.9489227533340454),\n",
       " ('grow', 0.9488340616226196)]"
      ]
     },
     "execution_count": 55,
     "metadata": {},
     "output_type": "execute_result"
    }
   ],
   "source": [
    "donald4_W2V.most_similar('liberal')"
   ]
  },
  {
   "cell_type": "code",
   "execution_count": 60,
   "metadata": {},
   "outputs": [
    {
     "data": {
      "text/plain": [
       "[('person', 0.9972376823425293),\n",
       " ('change', 0.9961291551589966),\n",
       " ('rig', 0.9946810007095337),\n",
       " ('republican', 0.9942684173583984),\n",
       " ('college', 0.9942322969436646),\n",
       " ('candidate', 0.9935974478721619),\n",
       " ('primary', 0.9930822849273682),\n",
       " ('chance', 0.9918277263641357),\n",
       " ('sander', 0.9912192821502686),\n",
       " ('lose', 0.9908117055892944)]"
      ]
     },
     "execution_count": 60,
     "metadata": {},
     "output_type": "execute_result"
    }
   ],
   "source": [
    "donald8_W2V.most_similar('democrat')"
   ]
  },
  {
   "cell_type": "code",
   "execution_count": 61,
   "metadata": {},
   "outputs": [
    {
     "data": {
      "text/plain": [
       "[('register', 0.9837706685066223),\n",
       " ('democratic', 0.9816001057624817),\n",
       " ('presidential', 0.9801721572875977),\n",
       " ('steal', 0.9671924710273743),\n",
       " ('general', 0.9667967557907104),\n",
       " ('establishment', 0.9663398861885071),\n",
       " ('lose', 0.9661449193954468),\n",
       " ('election', 0.963850736618042),\n",
       " ('republicans', 0.9634897708892822),\n",
       " ('independent', 0.9596998691558838)]"
      ]
     },
     "execution_count": 61,
     "metadata": {},
     "output_type": "execute_result"
    }
   ],
   "source": [
    "donald4_W2V.most_similar('democrat')"
   ]
  },
  {
   "cell_type": "code",
   "execution_count": 73,
   "metadata": {},
   "outputs": [
    {
     "data": {
      "text/plain": [
       "[('u.s', 0.9978862404823303),\n",
       " ('refugee', 0.9968644380569458),\n",
       " ('citizen', 0.9962786436080933),\n",
       " ('china', 0.995557427406311),\n",
       " ('islamic', 0.9953213334083557),\n",
       " ('system', 0.994718074798584),\n",
       " ('trade', 0.9943752884864807),\n",
       " ('workforce', 0.9938507080078125),\n",
       " ('exploit', 0.9937943816184998),\n",
       " ('undocumented', 0.9934136867523193)]"
      ]
     },
     "execution_count": 73,
     "metadata": {},
     "output_type": "execute_result"
    }
   ],
   "source": [
    "donald4_W2V.most_similar('mexican')"
   ]
  },
  {
   "cell_type": "code",
   "execution_count": 72,
   "metadata": {},
   "outputs": [
    {
     "data": {
      "text/plain": [
       "[('ideology', 0.9991565346717834),\n",
       " ('young', 0.9990911483764648),\n",
       " ('tear', 0.9990442395210266),\n",
       " ('sjw', 0.9988831281661987),\n",
       " ('ass', 0.9988289475440979),\n",
       " ('disgrace', 0.9988203048706055),\n",
       " ('jewish', 0.998818039894104),\n",
       " ('wall', 0.9988049864768982),\n",
       " ('smart', 0.9987630844116211),\n",
       " ('table', 0.9987449645996094)]"
      ]
     },
     "execution_count": 72,
     "metadata": {},
     "output_type": "execute_result"
    }
   ],
   "source": [
    "donald8_W2V.most_similar('mexican')"
   ]
  },
  {
   "cell_type": "code",
   "execution_count": 74,
   "metadata": {},
   "outputs": [
    {
     "data": {
      "text/plain": [
       "[('john', 0.9441418051719666),\n",
       " ('/watch?v=_x16_kzx1ve', 0.92958664894104),\n",
       " ('release', 0.9286057949066162),\n",
       " ('fbi', 0.9279534816741943),\n",
       " ('leak', 0.9207971096038818),\n",
       " ('include', 0.9196463227272034),\n",
       " ('would', 0.9175896048545837),\n",
       " ('$', 0.915286660194397),\n",
       " ('server', 0.9102073907852173),\n",
       " ('dnc', 0.903327226638794)]"
      ]
     },
     "execution_count": 74,
     "metadata": {},
     "output_type": "execute_result"
    }
   ],
   "source": [
    "donald8_W2V.most_similar(positive=['mexican', 'clinton'],\n",
    "                        negative = ['trump'])"
   ]
  },
  {
   "cell_type": "code",
   "execution_count": 76,
   "metadata": {},
   "outputs": [
    {
     "data": {
      "text/plain": [
       "[('give', 0.9919983148574829),\n",
       " ('corrupt', 0.9910762906074524),\n",
       " ('dnc', 0.9901973605155945),\n",
       " ('dem', 0.9894123673439026),\n",
       " ('disenfranchise', 0.9890768527984619),\n",
       " ('eventual', 0.9890520572662354),\n",
       " ('away', 0.9888917207717896),\n",
       " ('majority', 0.9886289238929749),\n",
       " ('cycle', 0.9883639812469482),\n",
       " ('senate', 0.9883153438568115)]"
      ]
     },
     "execution_count": 76,
     "metadata": {},
     "output_type": "execute_result"
    }
   ],
   "source": [
    "donald4_W2V.most_similar(positive=['mexican', 'clinton'])"
   ]
  },
  {
   "cell_type": "code",
   "execution_count": 77,
   "metadata": {},
   "outputs": [
    {
     "data": {
      "text/plain": [
       "[('boost', 0.9826087951660156),\n",
       " ('twice', 0.982471227645874),\n",
       " ('seal', 0.9819692969322205),\n",
       " ('wi', 0.9817606806755066),\n",
       " ('single', 0.9815791249275208),\n",
       " ('tl;dr', 0.9812630414962769),\n",
       " ('anticipate', 0.9805881977081299),\n",
       " ('possibly', 0.9805836081504822),\n",
       " ('true', 0.9804460406303406),\n",
       " ('ohioans', 0.9803899526596069)]"
      ]
     },
     "execution_count": 77,
     "metadata": {},
     "output_type": "execute_result"
    }
   ],
   "source": [
    "donald4_W2V.most_similar(positive=['mexican', 'trump'])"
   ]
  },
  {
   "cell_type": "code",
   "execution_count": 89,
   "metadata": {},
   "outputs": [
    {
     "data": {
      "text/plain": [
       "[('fascist', 0.9996554851531982),\n",
       " ('bitch', 0.9996104836463928),\n",
       " ('tear', 0.9995861053466797),\n",
       " ('violent', 0.9995797276496887),\n",
       " ('trigger', 0.9995495676994324),\n",
       " ('despite', 0.9995408058166504),\n",
       " ('cucks', 0.9995261430740356),\n",
       " ('jewish', 0.9994940161705017),\n",
       " ('thanksgiving', 0.9994848370552063),\n",
       " ('lord', 0.9994644522666931)]"
      ]
     },
     "execution_count": 89,
     "metadata": {},
     "output_type": "execute_result"
    }
   ],
   "source": [
    "donald8_W2V.most_similar('leftist')"
   ]
  },
  {
   "cell_type": "code",
   "execution_count": 90,
   "metadata": {},
   "outputs": [
    {
     "data": {
      "text/plain": [
       "[('minor', 0.9980483651161194),\n",
       " ('paragraph', 0.9980237483978271),\n",
       " ('course', 0.9980102777481079),\n",
       " ('innocent', 0.9979696273803711),\n",
       " ('subject', 0.9977161288261414),\n",
       " ('agendum', 0.9976149797439575),\n",
       " ('disrupt', 0.9974727630615234),\n",
       " ('spin', 0.9974364042282104),\n",
       " ('charge', 0.997429370880127),\n",
       " ('boy', 0.9973781704902649)]"
      ]
     },
     "execution_count": 90,
     "metadata": {},
     "output_type": "execute_result"
    }
   ],
   "source": [
    "donald4_W2V.most_similar('leftist')"
   ]
  },
  {
   "cell_type": "code",
   "execution_count": 108,
   "metadata": {},
   "outputs": [
    {
     "data": {
      "text/plain": [
       "[('fox', 0.9715726375579834),\n",
       " ('report', 0.943863034248352),\n",
       " ('cnn', 0.9353094100952148),\n",
       " ('carly', 0.9350003004074097),\n",
       " ('scandal', 0.9348690509796143),\n",
       " ('national', 0.9188006520271301),\n",
       " ('|', 0.916765570640564),\n",
       " ('rule', 0.9153780937194824),\n",
       " ('pac', 0.9090359210968018),\n",
       " ('fund', 0.9084845781326294)]"
      ]
     },
     "execution_count": 108,
     "metadata": {},
     "output_type": "execute_result"
    }
   ],
   "source": [
    "donald4_W2V.most_similar('news')"
   ]
  },
  {
   "cell_type": "code",
   "execution_count": 109,
   "metadata": {},
   "outputs": [
    {
     "data": {
      "text/plain": [
       "[('fake', 0.958344578742981),\n",
       " ('source', 0.9509509205818176),\n",
       " ('video', 0.9501924514770508),\n",
       " ('twitter', 0.9485650658607483),\n",
       " ('article', 0.9461296796798706),\n",
       " ('specialist', 0.9417068958282471),\n",
       " ('compilation', 0.9410412311553955),\n",
       " ('tweet', 0.9401676058769226),\n",
       " ('obscure', 0.9395379424095154),\n",
       " ('pizza', 0.9386619925498962)]"
      ]
     },
     "execution_count": 109,
     "metadata": {},
     "output_type": "execute_result"
    }
   ],
   "source": [
    "donald8_W2V.most_similar('news')"
   ]
  },
  {
   "cell_type": "code",
   "execution_count": 118,
   "metadata": {},
   "outputs": [
    {
     "data": {
      "text/plain": [
       "[('country', 0.9601031541824341),\n",
       " ('want', 0.9358538389205933),\n",
       " ('make', 0.9235935807228088),\n",
       " ('great', 0.9232475161552429),\n",
       " ('well', 0.9201866388320923),\n",
       " ('love', 0.920025646686554),\n",
       " ('feel', 0.9188270568847656),\n",
       " ('people', 0.9188000559806824),\n",
       " ('way', 0.9133871793746948),\n",
       " ('good', 0.9114383459091187)]"
      ]
     },
     "execution_count": 118,
     "metadata": {},
     "output_type": "execute_result"
    }
   ],
   "source": [
    "donald8_W2V.most_similar('america')"
   ]
  },
  {
   "cell_type": "code",
   "execution_count": 119,
   "metadata": {},
   "outputs": [
    {
     "data": {
      "text/plain": [
       "[('country', 0.9098458886146545),\n",
       " ('objectively', 0.8831343650817871),\n",
       " ('make', 0.8768491148948669),\n",
       " ('want', 0.8319543600082397),\n",
       " ('world', 0.8229115009307861),\n",
       " ('nation', 0.8031808733940125),\n",
       " ('great', 0.7991867065429688),\n",
       " ('fervent', 0.7935578227043152),\n",
       " ('man', 0.7887927293777466),\n",
       " ('bless', 0.7801814675331116)]"
      ]
     },
     "execution_count": 119,
     "metadata": {},
     "output_type": "execute_result"
    }
   ],
   "source": [
    "donald4_W2V.most_similar('america')"
   ]
  },
  {
   "cell_type": "code",
   "execution_count": 124,
   "metadata": {},
   "outputs": [
    {
     "data": {
      "text/plain": [
       "[('racist', 0.995869517326355),\n",
       " ('stand', 0.995624303817749),\n",
       " ('choice', 0.9955204129219055),\n",
       " ('corrupt', 0.9954726099967957),\n",
       " ('pro', 0.9951475858688354),\n",
       " ('policy', 0.9949957728385925),\n",
       " ('accept', 0.9948590993881226),\n",
       " ('courage', 0.9947192072868347),\n",
       " ('daddy', 0.9945763945579529),\n",
       " ('family', 0.994556725025177)]"
      ]
     },
     "execution_count": 124,
     "metadata": {},
     "output_type": "execute_result"
    }
   ],
   "source": [
    "donald8_W2V.most_similar('woman')"
   ]
  },
  {
   "cell_type": "code",
   "execution_count": 123,
   "metadata": {},
   "outputs": [
    {
     "data": {
      "text/plain": [
       "[('care', 0.9855266809463501),\n",
       " ('money', 0.9820683598518372),\n",
       " ('war', 0.9786428809165955),\n",
       " ('problem', 0.9776806831359863),\n",
       " ('europe', 0.9766192436218262),\n",
       " ('million', 0.9762384295463562),\n",
       " ('politician', 0.9738833904266357),\n",
       " ('black', 0.9736466407775879),\n",
       " ('political', 0.9725786447525024),\n",
       " ('isis', 0.9717080593109131)]"
      ]
     },
     "execution_count": 123,
     "metadata": {},
     "output_type": "execute_result"
    }
   ],
   "source": [
    "donald4_W2V.most_similar('woman')"
   ]
  },
  {
   "cell_type": "code",
   "execution_count": 117,
   "metadata": {},
   "outputs": [
    {
     "data": {
      "image/png": "[encoded data removed]",
      "text/plain": [
       "<Figure size 720x432 with 1 Axes>"
      ]
     },
     "metadata": {},
     "output_type": "display_data"
    }
   ],
   "source": [
    "numWords = 100\n",
    "targetWords_d8 = donald8_W2V.wv.index2word[:numWords]\n",
    "\n",
    "wordsSubMatrix_d8 = []\n",
    "for word in targetWords_d8:\n",
    "    wordsSubMatrix_d8.append(donald8_W2V[word])\n",
    "wordsSubMatrix_d8 = np.array(wordsSubMatrix_d8)\n",
    "\n",
    "pcaWords_d8 = sklearn.decomposition.PCA(n_components = 50).fit(wordsSubMatrix_d8)\n",
    "reducedPCA_data_d8 = pcaWords.transform(wordsSubMatrix_d8)\n",
    "#T-SNE is theoretically better, but you should experiment\n",
    "tsneWords_d8 = sklearn.manifold.TSNE(n_components = 2).fit_transform(reducedPCA_data_d8)\n",
    "\n",
    "fig = plt.figure(figsize = (10,6))\n",
    "ax = fig.add_subplot(111)\n",
    "ax.set_frame_on(False)\n",
    "plt.scatter(tsneWords_d8[:, 0], tsneWords_d8[:, 1], alpha = 0)#Making the points invisible \n",
    "for i, word in enumerate(targetWords):\n",
    "    ax.annotate(word, (tsneWords_d8[:, 0][i],tsneWords_d8[:, 1][i]), size =  20 * (numWords - i) / numWords)\n",
    "plt.xticks(())\n",
    "plt.yticks(())\n",
    "plt.show()"
   ]
  },
  {
   "cell_type": "code",
   "execution_count": 125,
   "metadata": {},
   "outputs": [
    {
     "data": {
      "image/png": "[encoded data removed]",
      "text/plain": [
       "<Figure size 720x432 with 1 Axes>"
      ]
     },
     "metadata": {},
     "output_type": "display_data"
    }
   ],
   "source": [
    "numWords = 100\n",
    "targetWords_d4 = donald4_W2V.wv.index2word[:numWords]\n",
    "\n",
    "wordsSubMatrix_d4 = []\n",
    "for word in targetWords_d4:\n",
    "    wordsSubMatrix_d4.append(donald4_W2V[word])\n",
    "wordsSubMatrix_d4 = np.array(wordsSubMatrix_d4)\n",
    "\n",
    "pcaWords_d4 = sklearn.decomposition.PCA(n_components = 50).fit(wordsSubMatrix_d4)\n",
    "reducedPCA_data_d4 = pcaWords.transform(wordsSubMatrix_d4)\n",
    "#T-SNE is theoretically better, but you should experiment\n",
    "tsneWords_d4 = sklearn.manifold.TSNE(n_components = 2).fit_transform(reducedPCA_data_d4)\n",
    "\n",
    "fig = plt.figure(figsize = (10,6))\n",
    "ax = fig.add_subplot(111)\n",
    "ax.set_frame_on(False)\n",
    "plt.scatter(tsneWords_d4[:, 0], tsneWords_d4[:, 1], alpha = 0)#Making the points invisible \n",
    "for i, word in enumerate(targetWords):\n",
    "    ax.annotate(word, (tsneWords_d4[:, 0][i],tsneWords_d4[:, 1][i]), size =  20 * (numWords - i) / numWords)\n",
    "plt.xticks(())\n",
    "plt.yticks(())\n",
    "plt.show()"
   ]
  },
  {
   "cell_type": "markdown",
   "metadata": {},
   "source": [
    "## Exercise 4 - Scores"
   ]
  },
  {
   "cell_type": "code",
   "execution_count": 130,
   "metadata": {},
   "outputs": [],
   "source": [
    "def adprob(ad, model):\n",
    "    sen_scores = model.score(ad, len(ad))\n",
    "    ad_score = sen_scores.mean()\n",
    "    return ad_score"
   ]
  },
  {
   "cell_type": "code",
   "execution_count": 133,
   "metadata": {},
   "outputs": [],
   "source": [
    "donald8_W2Vsoft = gensim.models.word2vec.Word2Vec(reddit_submissions_min8['normalized_sents'].sum(), hs = 1, negative = 0)\n",
    "donald4_W2Vsoft = gensim.models.word2vec.Word2Vec(reddit_submissions_min4['normalized_sents'].sum(), hs = 1, negative = 0)"
   ]
  },
  {
   "cell_type": "code",
   "execution_count": 137,
   "metadata": {},
   "outputs": [
    {
     "name": "stderr",
     "output_type": "stream",
     "text": [
      "/software/Anaconda3-5.3.0-el7-x86_64/lib/python3.6/site-packages/ipykernel_launcher.py:1: SettingWithCopyWarning: \n",
      "A value is trying to be set on a copy of a slice from a DataFrame.\n",
      "Try using .loc[row_indexer,col_indexer] = value instead\n",
      "\n",
      "See the caveats in the documentation: http://pandas.pydata.org/pandas-docs/stable/indexing.html#indexing-view-versus-copy\n",
      "  \"\"\"Entry point for launching an IPython kernel.\n",
      "/software/Anaconda3-5.3.0-el7-x86_64/lib/python3.6/site-packages/ipykernel_launcher.py:2: SettingWithCopyWarning: \n",
      "A value is trying to be set on a copy of a slice from a DataFrame.\n",
      "Try using .loc[row_indexer,col_indexer] = value instead\n",
      "\n",
      "See the caveats in the documentation: http://pandas.pydata.org/pandas-docs/stable/indexing.html#indexing-view-versus-copy\n",
      "  \n"
     ]
    }
   ],
   "source": [
    "reddit_submissions_incels['likelihood_d8'] = reddit_submissions_incels['normalized_sents'].apply(lambda x: adprob(x, donald8_W2Vsoft))\n",
    "reddit_submissions_incels['likelihood_d4'] = reddit_submissions_incels['normalized_sents'].apply(lambda x: adprob(x, donald4_W2Vsoft))"
   ]
  },
  {
   "cell_type": "code",
   "execution_count": 140,
   "metadata": {},
   "outputs": [
    {
     "name": "stdout",
     "output_type": "stream",
     "text": [
      "Who are your favourite and least favourite incels my favourite: alia harkonnen\n",
      "\n",
      "least favourite: gambler\n",
      "\n",
      "\n",
      "\n",
      "---------------\n",
      "\n",
      "\n",
      "\n",
      "#MeTooTeehee xD xD xD\n",
      "\n",
      "\n",
      "---------------\n",
      "\n",
      "\n",
      "\n",
      "REE REE REE REE REE! REEEEEEE\n",
      "\n",
      "\n",
      "---------------\n",
      "\n",
      "\n",
      "\n",
      "How virgin are you? I am a\n",
      "\n",
      "1. Kissless\n",
      "2. Hugless\n",
      "3. Handholdless\n",
      "4. Touchless\n",
      "5. Dateless\n",
      "6. Complimentless\n",
      "7. Smileless\n",
      "8. Phonecallless\n",
      "9. Textless\n",
      "10. Friendless\n",
      "\n",
      "virgin.\n",
      "\n",
      "EDIT: Added 5, 6, 7\n",
      "\n",
      "\n",
      "---------------\n",
      "\n",
      "\n",
      "\n",
      "If you have no jaw and or chin IT'S OVER It's FUCKING OVER FOR ME. I have a subhuman jaw and chin.\n",
      "\n",
      "\n",
      "---------------\n",
      "\n",
      "\n",
      "\n",
      "Men How Many Of These Attractive Traits Do You Have https://www.youtube.com/watch?v=EFnJMPQow7A\n",
      "17:58-22:15\n",
      "\n",
      "\n",
      "\n",
      "\n",
      "---------------\n",
      "\n",
      "\n",
      "\n",
      "Chad. Are Chads exclusively white? Do they have to be muscular or...? What are their traits? \n",
      "\n",
      "\n",
      "---------------\n",
      "\n",
      "\n",
      "\n",
      "What kind of -cel are you? I'm:\n",
      "\n",
      "* Gymcel\n",
      "* Suicel\n",
      "* Acnecel\n",
      "* Narcissist-cel\n",
      "\n",
      "\n",
      "---------------\n",
      "\n",
      "\n",
      "\n",
      "˙ʇı ןןɐɔ noʎ ɹǝʌǝʇɐɥʍ ɹo ,ɐʇǝq, pǝɹǝpısuoɔ buıǝq ɟo ʞɔıs ɯ,ı ˙ʇı ʇnoqɐ ʎɹɔ oʇ ǝɯ oʇ ʞןɐʇ ʎןuo puɐ ‘ʇıɥs ǝʞıן ɯǝɥʇ ʇɐǝɹʇ oɥʍ sʎnb bɐqǝɥɔnop ɹǝʇɟɐ ob sʎɐʍןɐ sןɹıb ǝsǝɥʇ puǝ ǝɥʇ uı ˙ʎpɐן,ɯ ɹoɟ buıɥʇʎuɐ op pןnoʍ puɐ ‘qoظ ǝɔıu ɐ ʞɹoʍ ‘ʎnb ǝɔıu ɐ ɯ,ı ˙ǝuoz puǝıɹɟ ǝɥʇ uı ʇnd buıǝq sʎɐʍןɐ ı ɯɐ ʎɥʍ only truecels can read this\n",
      "\n",
      "\n",
      "---------------\n",
      "\n",
      "\n",
      "\n",
      "I Have an STD and I'm a Virgin Genital wart. A virgin with STDs. Doesn't get worse than this, boyos. It's over.\n",
      "\n",
      "\n",
      "---------------\n",
      "\n",
      "\n",
      "\n"
     ]
    }
   ],
   "source": [
    "for post in reddit_submissions_incels.sort_values(by = 'likelihood_d8', ascending = False)['post_text'][:10]:\n",
    "    print (post + '\\n\\n\\n' + '---------------' +'\\n\\n\\n')"
   ]
  },
  {
   "cell_type": "code",
   "execution_count": 141,
   "metadata": {},
   "outputs": [
    {
     "name": "stdout",
     "output_type": "stream",
     "text": [
      "#MeTooTeehee xD xD xD\n",
      "\n",
      "\n",
      "---------------\n",
      "\n",
      "\n",
      "\n",
      "REE REE REE REE REE! REEEEEEE\n",
      "\n",
      "\n",
      "---------------\n",
      "\n",
      "\n",
      "\n",
      "How virgin are you? I am a\n",
      "\n",
      "1. Kissless\n",
      "2. Hugless\n",
      "3. Handholdless\n",
      "4. Touchless\n",
      "5. Dateless\n",
      "6. Complimentless\n",
      "7. Smileless\n",
      "8. Phonecallless\n",
      "9. Textless\n",
      "10. Friendless\n",
      "\n",
      "virgin.\n",
      "\n",
      "EDIT: Added 5, 6, 7\n",
      "\n",
      "\n",
      "---------------\n",
      "\n",
      "\n",
      "\n",
      "If you have no jaw and or chin IT'S OVER It's FUCKING OVER FOR ME. I have a subhuman jaw and chin.\n",
      "\n",
      "\n",
      "---------------\n",
      "\n",
      "\n",
      "\n",
      "What kind of -cel are you? I'm:\n",
      "\n",
      "* Gymcel\n",
      "* Suicel\n",
      "* Acnecel\n",
      "* Narcissist-cel\n",
      "\n",
      "\n",
      "---------------\n",
      "\n",
      "\n",
      "\n",
      "Fill in the blank It's all about the ___________ .\n",
      "\n",
      "\n",
      "---------------\n",
      "\n",
      "\n",
      "\n",
      "˙ʇı ןןɐɔ noʎ ɹǝʌǝʇɐɥʍ ɹo ,ɐʇǝq, pǝɹǝpısuoɔ buıǝq ɟo ʞɔıs ɯ,ı ˙ʇı ʇnoqɐ ʎɹɔ oʇ ǝɯ oʇ ʞןɐʇ ʎןuo puɐ ‘ʇıɥs ǝʞıן ɯǝɥʇ ʇɐǝɹʇ oɥʍ sʎnb bɐqǝɥɔnop ɹǝʇɟɐ ob sʎɐʍןɐ sןɹıb ǝsǝɥʇ puǝ ǝɥʇ uı ˙ʎpɐן,ɯ ɹoɟ buıɥʇʎuɐ op pןnoʍ puɐ ‘qoظ ǝɔıu ɐ ʞɹoʍ ‘ʎnb ǝɔıu ɐ ɯ,ı ˙ǝuoz puǝıɹɟ ǝɥʇ uı ʇnd buıǝq sʎɐʍןɐ ı ɯɐ ʎɥʍ only truecels can read this\n",
      "\n",
      "\n",
      "---------------\n",
      "\n",
      "\n",
      "\n",
      "I Have an STD and I'm a Virgin Genital wart. A virgin with STDs. Doesn't get worse than this, boyos. It's over.\n",
      "\n",
      "\n",
      "---------------\n",
      "\n",
      "\n",
      "\n",
      "How many of you incels are overweight? And because of it, do you consider yourself incel or volcel?\n",
      "\n",
      "5'10 215 lbs, here\n",
      "\n",
      "\n",
      "---------------\n",
      "\n",
      "\n",
      "\n",
      "Anyone else like this? Kissless Touchless Handholdless Complimentless Talkless Hugless Dateless incel virgin\n",
      "\n",
      "\n",
      "---------------\n",
      "\n",
      "\n",
      "\n"
     ]
    }
   ],
   "source": [
    "for post in reddit_submissions_incels.sort_values(by = 'likelihood_d4', ascending = False)['post_text'][:10]:\n",
    "    print (post + '\\n\\n\\n' + '---------------' +'\\n\\n\\n')"
   ]
  },
  {
   "cell_type": "code",
   "execution_count": 144,
   "metadata": {},
   "outputs": [
    {
     "name": "stderr",
     "output_type": "stream",
     "text": [
      "/software/Anaconda3-5.3.0-el7-x86_64/lib/python3.6/site-packages/ipykernel_launcher.py:1: SettingWithCopyWarning: \n",
      "A value is trying to be set on a copy of a slice from a DataFrame.\n",
      "Try using .loc[row_indexer,col_indexer] = value instead\n",
      "\n",
      "See the caveats in the documentation: http://pandas.pydata.org/pandas-docs/stable/indexing.html#indexing-view-versus-copy\n",
      "  \"\"\"Entry point for launching an IPython kernel.\n",
      "/software/Anaconda3-5.3.0-el7-x86_64/lib/python3.6/site-packages/ipykernel_launcher.py:2: SettingWithCopyWarning: \n",
      "A value is trying to be set on a copy of a slice from a DataFrame.\n",
      "Try using .loc[row_indexer,col_indexer] = value instead\n",
      "\n",
      "See the caveats in the documentation: http://pandas.pydata.org/pandas-docs/stable/indexing.html#indexing-view-versus-copy\n",
      "  \n"
     ]
    }
   ],
   "source": [
    "reddit_submissions_altright['likelihood_d8'] = reddit_submissions_altright['normalized_sents'].apply(lambda x: adprob(x, donald8_W2Vsoft))\n",
    "reddit_submissions_altright['likelihood_d4'] = reddit_submissions_altright['normalized_sents'].apply(lambda x: adprob(x, donald4_W2Vsoft))"
   ]
  },
  {
   "cell_type": "code",
   "execution_count": 145,
   "metadata": {},
   "outputs": [
    {
     "name": "stdout",
     "output_type": "stream",
     "text": [
      "Why is the Irish IQ so low? https://iq-research.info/en/page/average-iq-by-country/ie-ireland\n",
      "\n",
      "90-92.\n",
      "\n",
      "Are the Irish an impediment on us Anglos and Germanics?\n",
      "\n",
      "\n",
      "---------------\n",
      "\n",
      "\n",
      "\n",
      "Why even call yourselves alt-right? [removed]\n",
      "\n",
      "\n",
      "---------------\n",
      "\n",
      "\n",
      "\n",
      "Is anyone here a former SJW but now Alt-Right? Is anyone here a former SJW but now Alt-Right?  If so, how'd that occur?\n",
      "\n",
      "\n",
      "---------------\n",
      "\n",
      "\n",
      "\n",
      "What is so great about Homogenization? [removed]\n",
      "\n",
      "\n",
      "---------------\n",
      "\n",
      "\n",
      "\n",
      "Can we make a list of pundits, celebrities, etc. who changed their name to hide the fact that they are Jewish? Comments down below with be added:\n",
      "\n",
      "(((Larry King))) - Lawrence Zeiger\n",
      "\n",
      "(((Ayn Rand))) - Alisa Rosenbaum\n",
      "\n",
      "(((Sumner Redstone))) - Sumner Rothstein\n",
      "\n",
      "(((Woody Allen))) - Allen Konigsberg\n",
      "\n",
      "(((Mel Brooks))) - Melvin Kaminsky\n",
      "\n",
      "(((Bob Dylan))) - Robert Zimmerman\n",
      "\n",
      "(((Rodney Dangerfield))) - Jacob Cohen\n",
      "\n",
      "(((Jerry Lewis))) - Joseph Levitch\n",
      "\n",
      "(((Joan Rlvers))) - Joan Molinsky\n",
      "\n",
      "(((Jon Stewart))) - Jonathan Leibowitz\n",
      "\n",
      "\n",
      "---------------\n",
      "\n",
      "\n",
      "\n",
      "Why are there so few antisemites? Because if it was possible to talk about (((them))) there would be so much more.\n",
      "\n",
      "\n",
      "---------------\n",
      "\n",
      "\n",
      "\n",
      "What does everyone think about Anders Breivik? [](https://i.guim.co.uk/img/static/sys-images/Guardian/Pix/pictures/2012/8/24/1345800207399/Anders-Behring-Breivik-sm-010.jpg?w=700&amp;q=55&amp;auto=format&amp;usm=12&amp;fit=max&amp;s=dc508ea668111d96a5826e57a0deec99)\n",
      "\n",
      "\n",
      "---------------\n",
      "\n",
      "\n",
      "\n",
      "JUST A TEST... THINK I GOT SHADOW-BANNED... CAN YA'LL SEE/READ THIS? Please let me know. Thanks, you fashy goys! ;)\n",
      "\n",
      "\n",
      "---------------\n",
      "\n",
      "\n",
      "\n",
      "HUGE LIST OF HATE FACTS (Can we get a sticky of hate facts?) ---------------------------**RACE HATE FACTS**---------------------------\n",
      "\n",
      "**Humans can be genetically categorized into five racial groups, corresponding to traditional races.**\n",
      "http://pritchardlab.stanford.edu/publications/pdfs/RosenbergEtAl02.pdf\n",
      "\n",
      "**Genetic analysis “supports the traditional racial groups classification.”**\n",
      "http://psychology.uwo.ca/faculty/rushtonpdfs/PPPL1.pdf\n",
      "\n",
      "**“Human genetic variation is geographically structured” and corresponds with race**.\n",
      "http://www.ncbi.nlm.nih.gov/pubmed/15508000\n",
      "\n",
      "**Race can be determined via genetics with certainty for &gt;99.8% of individuals.**\n",
      "http://www.ncbi.nlm.nih.gov/pubmed/15625622\n",
      "\n",
      "**Oral bacteria can be used to determine race.**\n",
      "http://medicalxpress.com/news/2013-10-oral-bacteria-fingerprint-mouth.html\n",
      "\n",
      "**Race can be determined via brain scans.**\n",
      "http://www.cell.com/current-biology/abstract/S0960-9822(15)00671-5\n",
      "\n",
      "**96-97% of whites have no African ancestry.**\n",
      "http://www.theroot.com/articles/history/2013/02/how_mixed_are_african_americans.3.html\n",
      "\n",
      "**97% of Whites have no black ancestry whatsoever.**\n",
      "http://www.unz.com/isteve/nyt-white-black-a-murky-distinction-grows-still-murkier/\n",
      "\n",
      "**There was “minimal gene flow” between archaic Europeans and Asians.**\n",
      "http://www.nytimes.com/2010/07/20/science/20adapt.html\n",
      "\n",
      "**Common-sense racial categories have biological meaning.**\n",
      "http://www.ln.edu.hk/philoso/staff/sesardic/Race2.pdf\n",
      "\n",
      "**Human intelligence is highly heritable.**\n",
      "http://www.nature.com/mp/journal/v16/n10/abs/mp201185a.html\n",
      "\n",
      "**Scientific consensus is that IQ tests are not racially biased.**\n",
      "http://www.sciencedirect.com/science/article/pii/S0160289608000305\n",
      "\n",
      "**Very poor Whites are comparably intelligent to very wealthy blacks.**\n",
      "http://www.jbhe.com/features/49_college_admissions-test.html\n",
      "\n",
      "**Privately, intelligence experts hold more hereditarian views than they express in public.**\n",
      "http://www.udel.edu/educ/gottfredson/reprints/1994egalitarianfiction.pdf\n",
      "\n",
      "**Black children raised in White households have similar IQs to black children in black households.**\n",
      "http://psycnet.apa.org/psycinfo/1977-07996-001\n",
      "\n",
      "**The average African IQ is estimated at 79.**\n",
      "http://www.sciencedirect.com/science/article/pii/S0191886912003741\n",
      "\n",
      "**The average African-American IQ is 85, compared to the average White IQ of 100.**\n",
      "http://www.udel.edu/educ/gottfredson/reprints/1997mainstream.pdf\n",
      "\n",
      "**The white-black gap in SAT scores, a proxy for IQ, is increasing.**\n",
      "http://www.jbhe.com/features/49_college_admissions-test.html\n",
      "\n",
      "**Genes for large brains, linked to high IQ, are common everywhere except Africa.**\n",
      "http://www.wsj.com/articles/SB115040765329081636\n",
      "\n",
      "**Intelligence has a 40-50% genetic basis.**\n",
      "http://articles.latimes.com/2011/aug/10/news/la-heb-genetic-study-intelligence-20110809\n",
      "\n",
      "**IQ scores are the best predictor of success in Western society.**\n",
      "http://psychology.uwo.ca/faculty/rushtonpdfs/PPPL1.pdf\n",
      "\n",
      "**IQ is 75% heritable among Whites.**\n",
      "http://psychology.uwo.ca/faculty/rushtonpdfs/PPPL1.pdf\n",
      "\n",
      "**92% of Mulatto (black man, white women) children are born out of wedlock.**\n",
      "http://papers.ssrn.com/sol3/papers.cfm?abstract_id=2625893\n",
      "\n",
      "**Gentile whites are the most underrepresented group in top colleges.**\n",
      "http://www.theamericanconservative.com/articles/the-myth-of-american-meritocracy/\n",
      "\n",
      "**Sweden is the rape capital of the West, likely due to immigration**.\n",
      "http://www.gatestoneinstitute.org/5195/sweden-rape\n",
      "\n",
      "**Asian women find White men more attractive than Asian men.**\n",
      "http://sf.oxfordjournals.org/content/89/3/807.abstract\n",
      "\n",
      "**White men are pound-for-pound stronger than black men.**\n",
      "http://www.biomedcentral.com/content/pdf/1471-2458-10-508.pdf\n",
      "\n",
      "**Germanic/Nordic people have lower time preference than any other group.**\n",
      "http://papers.ssrn.com/sol3/papers.cfm?abstract_id=1481443\n",
      "\n",
      "**Human evolution is not merely ongoing but is in fact accelerating.**\n",
      "http://discovermagazine.com/2009/mar/09-they-dont-make-homo-sapiens-like-they-used-to\n",
      "\n",
      "**Human races are diverging into separate species, not mixing into one.**\n",
      "http://discovermagazine.com/2009/mar/09-they-dont-make-homo-sapiens-like-they-used-to\n",
      "\n",
      "**Blacks are seven times more likely than whites to commit murder.**\n",
      "http://www.colorofcrime.com/2005/10/the-color-of-crime-2005/\n",
      "\n",
      "**The percentage of Blacks and Hispanics, not poverty, is the best predictor of crime.**\n",
      "http://www.colorofcrime.com/2005/10/the-color-of-crime-2005/\n",
      "\n",
      "**90% of gang members are non-white.**\n",
      "http://www.colorofcrime.com/2005/10/the-color-of-crime-2005/\n",
      "\n",
      "**Asians are nine times more likely than whites to be members of gangs.**\n",
      "http://www.colorofcrime.com/2005/10/the-color-of-crime-2005/\n",
      "\n",
      "**The average H-1B immigrant is less intelligent and qualified than the average American.**\n",
      "http://heather.cs.ucdavis.edu/h1b10min.html\n",
      "\n",
      "**Race is a better predictor of crime than poverty.**\n",
      "http://www.colorofcrime.com/2005/10/the-color-of-crime-2005/\n",
      "\n",
      "**White immigrants on net improve government revenue, while non-white immigrants cost money.**\n",
      "http://www.spiegel.de/international/europe/putting-a-price-on-foreigners-strict-immigration-laws-save-denmark-billions-a-759716.html\n",
      "\n",
      "**Blacks are overrepresented in serial killings.**\n",
      "http://maamodt.asp.radford.edu/Serial Killer Information Center/Serial Killer Statistics.pdf\n",
      "\n",
      "**Blacks are overrepresented among child abuse and pedophilia, and this isn’t due to biased reporting.**\n",
      "http://www.theroot.com/articles/culture/2011/03/black_childabuse_statistics_report_debunks_bias_assumptions.html\n",
      "\n",
      "**White-Asian children are twice as likely as Asians to have mental illness.**\n",
      "http://www.eurekalert.org/pub_releases/2008-08/uoc–baa081108.php\n",
      "\n",
      "**Black-white children are more likely than both black and whites to make poor decisions.**\n",
      "http://www.nber.org/papers/w14192\n",
      "\n",
      "**Racial bias against miscegenation is likely biological in origin.**\n",
      "http://www.ncbi.nlm.nih.gov/pubmed/19422626\n",
      "\n",
      "**Interracial marriages have a 23.5% chance of divorce, compared to 13% for same-race couples.**\n",
      "http://www.jstor.org/stable/4145377\n",
      "\n",
      "**Mixed race kids suffer from low self-esteem, social isolation, and poor family dynamics.**\n",
      "http://www.ncbi.nlm.nih.gov/pmc/articles/PMC1448064/\n",
      "\n",
      "**Mixed race children are more likely to have health problems, high stress, smoke, and drink.**\n",
      "http://www.ncbi.nlm.nih.gov/pmc/articles/PMC1448064/\n",
      "\n",
      "**The percentage of Blacks in a city, not poverty, is the best predictor of crime.**\n",
      "http://www.unz.com/article/race-and-crime-in-america/\n",
      "\n",
      "**Blacks are 600% more likely than non-blacks to commit murder.**\n",
      "http://www.unz.com/article/race-and-crime-in-america/\n",
      "\n",
      "**The purpose of section 8 housing is to move blacks from elite urban areas to middle class suburbs.**\n",
      "http://www.unz.com/article/race-and-crime-in-america/\n",
      "\n",
      "**Hispanics receive shorter prison sentences than Whites for the same crimes.**\n",
      "http://people.terry.uga.edu/mustard/sentencing.pdf\n",
      "\n",
      "**Police hesitate longer to shoot black suspects than White suspects.**\n",
      "http://spokane.wsu.edu/admissions/Criminal-Justice/faculty-staff/Racial&amp;EthnicBiasDFJDMStrongerLens_ExperimentalCriminology_JamesKlingerVila2014.pdf\n",
      "\n",
      "**Race-mixers may give less parental support to their children because of greater genetic distance.**\n",
      "http://www.humanbiologicaldiversity.com/articles/Rushton%2C\n",
      "\n",
      "J. Phillipe. “Inclusive fitness in human relationships.” Biological Journal of the Linnean Society 96 (2009).pdf\n",
      "http://onlinelibrary.wiley.com/doi/10.1111/j.1095-8312.2008.01110.x/abstract\n",
      "\n",
      "**15% of the human genome has been under selective pressures since the races separated.**\n",
      "http://www.amazon.com/Troublesome-Inheritance-Genes-Human-History/dp/1594204462\n",
      "\n",
      "**Scientific discussion of race has increased since 1946 onwards.**\n",
      "http://www.ln.edu.hk/philoso/staff/sesardic/Race.pdf\n",
      "\n",
      "**Over 100 White women are raped by blacks every day in the United States.**\n",
      "http://archive.frontpagemag.com/readArticle.aspx?ARTID=26368\n",
      "\n",
      "**Melanin concentration may directly correlate with aggression.**\n",
      "http://www.sciencedirect.com/science/article/pii/S0191886912000840\n",
      "\n",
      "**Africans have higher rates of a gene associated with violence.**\n",
      "http://www.ncbi.nlm.nih.gov/pmc/articles/PMC1913922/pdf/1744-9081-3-30.pdf\n",
      "\n",
      "**Europeans and Asians are subject to more recent evolution than Africans.**\n",
      "http://www.nytimes.com/2010/07/20/science/20adapt.html\n",
      "\n",
      "**64% of Hispanics have IQs too low to enter the military.**\n",
      "http://takimag.com/article/frequently_asked_questions_about_the_jason_richwine_brouhaha_steve_sailer/print#ixzz2TPXmpNgG\n",
      "\n",
      "**Mexican-Americans have higher disability rates than other races.**\n",
      "http://www.sciencedaily.com/releases/2015/03/150326162658.htm\n",
      "\n",
      "**Europeans and Asians are subject to more recent evolution than Africans.**\n",
      "http://www.nytimes.com/2010/07/20/science/20adapt.html\n",
      ".\n",
      "\n",
      ".\n",
      "\n",
      ".\n",
      "\n",
      "----------------**Diversity and Ethnocentrism Hate Facts**------------------\n",
      "\n",
      "\n",
      "**More diverse neighborhoods have lower social cohesion.**\n",
      "http://www.citylab.com/housing/2013/11/paradox-diverse-communities/7614/\n",
      "\n",
      "**Diversity increases psychotic experiences.**\n",
      "http://bjp.rcpsych.org/content/201/4/282.abstract?etoc\n",
      "\n",
      "**Diversity increases social adversity.**\n",
      "http://bjp.rcpsych.org/content/201/4/282.abstract?etoc\n",
      "\n",
      "**A 10% increase in diversity doubles the chance of psychotic episodes.**\n",
      "http://bjp.rcpsych.org/content/201/4/282.abstract?etoc\n",
      "\n",
      "**Diversity reduces voter registration, political efficacy, charity, and number of friendships.**\n",
      "http://onlinelibrary.wiley.com/doi/10.1111/j.1467-9477.2007.00176.x/abstract;jsessionid=279C92A7EB0946BBA63D62937FC832A9.f04t03\n",
      "\n",
      "**Ethnic diversity reduces happiness and quality of life.**\n",
      "http://onlinelibrary.wiley.com/doi/10.1111/j.1467-9477.2007.00176.x/abstract;jsessionid=279C92A7EB0946BBA63D62937FC832A9.f04t03\n",
      "\n",
      "**Diversity reduces trust, civic participation, and civic health.**\n",
      "http://www.boston.com/news/globe/ideas/articles/2007/08/05/the_downside_of_diversity/?page=full\n",
      "\n",
      "**Ethnocentrism is rational, biological, and genetic in origin.**\n",
      "http://www.pnas.org/content/108/4/1262.abstract\n",
      "\n",
      "**Ethnic diversity harms health for hispanics and blacks.**\n",
      "http://ajph.aphapublications.org/doi/abs/10.2105/AJPH.2012.300787\n",
      "\n",
      "**Babies demostrate ethnocentrism before exposure to non-whites.**\n",
      "http://onlinelibrary.wiley.com/doi/10.1111/j.1467-7687.2012.01138.x/full\n",
      "\n",
      "**Ethnocentrism is universal and likely evolved in origin.**\n",
      "http://www-personal.umich.edu/~axe/research/AxHamm_Ethno.pdf\n",
      "\n",
      "**Diversity primarily hurts the dominant ethnic group.**\n",
      "http://www.theindependentaustralian.com.au/node/57\n",
      "\n",
      "**Ethnic diversity reduces concern for the environment.**\n",
      "http://link.springer.com/article/10.1007%2Fs10640-012-9619-6\n",
      "\n",
      "**Ethnic diversity within 80 meters of a person reduces social trust.**\n",
      "http://curis.ku.dk/ws/files/130251172/Dinesen_S_nderskov_Ethnic_Diversity_and_Social_Trust_Forthcoming_ASR.pdf\n",
      "\n",
      "**Ethnic diversity directly reduces strong communities.**\n",
      "https://www.msu.edu/~zpneal/publications/neal-diversitysoc.pdf\n",
      "\n",
      "**Ethnically homogenous neighborhoods are beneficial for health.**\n",
      "https://www.mailman.columbia.edu/public-health-now/news/living-ethnically-homogenous-area-boosts-health-minority-seniors\n",
      "\n",
      "**Diversity in American cities correlates with segregation.**\n",
      "http://fivethirtyeight.com/features/the-most-diverse-cities-are-often-the-most-segregated/\n",
      "\n",
      "**Races are extended families. Ethnocentrism is genetically rational.**\n",
      "http://www.amazon.com/The-Ethnic-Phenomenon-Pierre-Berghe/dp/0275927091\n",
      "\n",
      "**It is evolutionary rational to be friends with someone genetically similar to you.**\n",
      "http://www.livescience.com/46791-friends-share-genes.html\n",
      "\n",
      "**Racism and nationalism are rational and evolutionary advantageous strategies.**\n",
      "http://jasss.soc.surrey.ac.uk/16/3/7.html\n",
      "\n",
      "**Homogeneous polities have less crime, less civil war, and more altruism.**\n",
      "http://www.theindependentaustralian.com.au/node/57\n",
      "\n",
      "**States with little diversity have more democracy, less corruption, and less inequality.**\n",
      "http://www.theindependentaustralian.com.au/node/57\n",
      "\n",
      "**There is extensive evidence people prefer others who are genetically similar.**\n",
      "http://psychology.uwo.ca/faculty/rushtonpdfs/n&amp;n 2005-1.pdf\n",
      "\n",
      ".\n",
      "\n",
      ".\n",
      "\n",
      ".\n",
      "\n",
      "-----------------------**Gender and Sexuality Hate Facts**-----------------------\n",
      "\n",
      "**Gay men are 60x more likely to have HIV than straight men.**\n",
      "http://www.ncbi.nlm.nih.gov/pmc/articles/PMC3462414/\n",
      "\n",
      "**Women with more sexual partners are more likely to divorce.**\n",
      "http://s3.amazonaws.com/thf_media/2003/pdf/Bookofcharts.pdf\n",
      "\n",
      "**Women with more than 20 sexual partners have an 80% chance of divorce.**\n",
      "http://s3.amazonaws.com/thf_media/2003/pdf/Bookofcharts.pdf\n",
      "\n",
      "**White and Asian women have more successful marriages than black or Hispanic women.**\n",
      "http://www.cdc.gov/nchs/data/nhsr/nhsr049.pdf\n",
      "\n",
      "**Gay people are 2-3x more likely to abuse alcohol than straight people.**\n",
      "http://www.amazon.com/Unequal-Opportunity-Disparities-Affecting-Bisexual/dp/0195301536\n",
      "\n",
      "**A women’s number of sex partners is linearly linked to alcohol and drug abuse.**\n",
      "http://www.ncbi.nlm.nih.gov/pmc/articles/PMC3752789/\n",
      "\n",
      "**Gay men are six times more likely to commit suicide than straight men.**\n",
      "http://www.amazon.com/Unequal-Opportunity-Disparities-Affecting-Bisexual/dp/0195301536\n",
      "\n",
      "**Gay men are 12x more likely to use amphetamines than straight men.**\n",
      "http://www.amazon.com/Unequal-Opportunity-Disparities-Affecting-Bisexual/dp/0195301536\n",
      "\n",
      "**Gay men are 10x more likely to use heroin than straight men.**\n",
      "http://www.amazon.com/Unequal-Opportunity-Disparities-Affecting-Bisexual/dp/0195301536\n",
      "\n",
      "**Liberal arguments in favor of homosexuality are based on logical fallacies.**\n",
      "http://hrcak.srce.hr/index.php?show=clanak&amp;id_clanak_jezik=19028&amp;lang=en\n",
      "\n",
      "**Transsexuals who undergo sex reassignment surgery are more likely to commit suicide.**\n",
      "http://www.ncbi.nlm.nih.gov/pubmed/21364939\n",
      "\n",
      "**College majors with a greater proportion of women have lower average IQ’s among their students.**\n",
      "http://www.randalolson.com/2014/06/25/average-iq-of-students-by-college-major-and-gender-ratio/\n",
      "\n",
      "**Less attractive women are more likely to want careers.**\n",
      "http://www.dailymail.co.uk/news/article-2129456/Do-girls-want-career-attract-man-Provocative-study-casts-high-fliers-new-light.html\n",
      "\n",
      ".\n",
      "\n",
      ".\n",
      "\n",
      ".\n",
      "\n",
      "--------------------------------**ISLAM HATE FACTS**--------------------------\n",
      "\n",
      "**35% of Palestinians have a favorable opinion of Al Qeada.**\n",
      "http://www.pewglobal.org/files/2013/09/Pew-Global-Attitudes-Project-Extremism-Report-Final-9-10-135.pdf\n",
      "\n",
      "**40% of British Muslims want Shariah law.**\n",
      "http://www.telegraph.co.uk/news/uknews/1510866/Poll-reveals-40pc-of-Muslims-want-sharia-law-in-UK.html\n",
      "\n",
      "**1 in eight Muslims worldwide has a favorable view of al Quaeda.**\n",
      "http://www.pewglobal.org/files/2013/09/Pew-Global-Attitudes-Project-Extremism-Report-Final-9-10-135.pdf\n",
      "\n",
      "**1 in 3 Muslims favorably views Hamas, a known terrorist organization.**\n",
      "http://www.pewglobal.org/files/2013/09/Pew-Global-Attitudes-Project-Extremism-Report-Final-9-10-135.pdf\n",
      "\n",
      "**25% of Egyptian Muslims support terrorist attacks to enforce Shariah law.**\n",
      "http://www.pewglobal.org/files/2013/09/Pew-Global-Attitudes-Project-Extremism-Report-Final-9-10-135.pdf\n",
      "\n",
      "**1/5 British Muslims sympathize with the 7/7 terrorist attack.**\n",
      "http://www.telegraph.co.uk/news/uknews/1510866/Poll-reveals-40pc-of-Muslims-want-sharia-law-in-UK.html\n",
      "\n",
      "**65% of European Muslims believe that Shariah law is more important than the law of the country they reside in.**\n",
      "https://www.wzb.eu/sites/default/files/u6/koopmans_englisch_ed.pdf\n",
      "\n",
      "**European Muslims are 7.5x more likely to be fundamentalists than Christians.**\n",
      "https://www.wzb.eu/sites/default/files/u6/koopmans_englisch_ed.pdf\n",
      "\n",
      "**45% of European Muslims believe that Jews cannot be trusted.**\n",
      "https://www.wzb.eu/sites/default/files/u6/koopmans_englisch_ed.pdf\n",
      "\n",
      "**60% of European Muslims are explicitly homphobic. This is not due to poverty or education.**\n",
      "https://www.wzb.eu/sites/default/files/u6/koopmans_englisch_ed.pdf\n",
      "\n",
      "**40% of Palestinians support attacks on US civilians in America.**\n",
      "http://www.worldpublicopinion.org/pipa/pdf/feb09/STARTII_Feb09_rpt.pdf\n",
      "\n",
      "**87% of Egyptians agree with Al Qaeda’s goals.**\n",
      "http://www.worldpublicopinion.org/pipa/pdf/feb09/STARTII_Feb09_rpt.pdf\n",
      "\n",
      "**78% of Egyptians support attacks on US soldiers in the Middle East.**\n",
      "http://www.worldpublicopinion.org/pipa/pdf/feb09/STARTII_Feb09_rpt.pdf\n",
      "\n",
      "**62% of Palestinians support the use of suicide bombings.**\n",
      "http://www.pewglobal.org/files/2013/09/Pew-Global-Attitudes-Project-Extremism-Report-Final-9-10-135.pdf\n",
      "\n",
      "**28% of British Muslims would like for Britain to become a fundamentalist Islamic state.**\n",
      "http://www.cbsnews.com/news/many-british-muslims-put-islam-first/\n",
      "\n",
      "**68% of British Muslims support criminalizing criticism of Islam.**\n",
      "http://www.cbsnews.com/news/many-british-muslims-put-islam-first/\n",
      "\n",
      "**3 out of 4 British Muslims support criminalizing drawings of Mohammed.**\n",
      "http://www.cbsnews.com/news/many-british-muslims-put-islam-first/\n",
      "\n",
      "**9% of British Muslims define themselves as “hardcore Islamists”.**\n",
      "http://www.cbsnews.com/news/many-british-muslims-put-islam-first/\n",
      "\n",
      "**Only 3% of British Muslims support free speech.**\n",
      "http://www.cbsnews.com/news/many-british-muslims-put-islam-first/\n",
      "\n",
      "**0/500 British Muslims believe that homosexuality is morally acceptable.**\n",
      "http://www.theguardian.com/uk/2009/may/07/muslims-britain-france-germany-homosexuality\n",
      "\n",
      "**38% of Muslims believe 9/11 was partially or wholly justified.**\n",
      "http://www.washingtoninstitute.org/policy-analysis/view/just-like-us-really\n",
      "\n",
      "**62% of Canadian Muslims want Shariah law.**\n",
      "http://www.torontosun.com/2011/11/01/strong-support-for-shariah-in-canada\n",
      "\n",
      "**More than 1 in 3 Canadian Muslims refuses to repudiate Al Qaeda.**\n",
      "http://www.torontosun.com/2011/11/01/strong-support-for-shariah-in-canada\n",
      "\n",
      "**Britain will become a Muslim country by 2050 if demographic trends continue.**\n",
      "http://www.thecommentator.com/article/3770/the_islamic_future_of_britain\n",
      "\n",
      "**At least 85 legally binding Sharia courts operate in Britain.**\n",
      "http://www.civitas.org.uk/pdf/ShariaLawOrOneLawForAll.pdf\n",
      "\n",
      "**85% of rapists in Sweden were non-Swedish immigrants.**\n",
      "http://www.gatestoneinstitute.org/5195/sweden-rape\n",
      "\n",
      "**North African migrants to Sweden are 23 times more likely to rape than native Swedes.**\n",
      "http://www.gatestoneinstitute.org/5195/sweden-rape\n",
      "\n",
      "**African migrants to Sweden are 16 times more likely to rape than ethnic Swedes.**\n",
      "http://www.gatestoneinstitute.org/5195/sweden-rape\n",
      "\n",
      "**Iraqi migrants to Sweden are 2000% more likely to rape than real Swedes.**\n",
      "http://www.gatestoneinstitute.org/5195/sweden-rape\n",
      "\n",
      "**More than 1/2 of rapists in Denmark are immigrants.**\n",
      "http://www.gatestoneinstitute.org/5195/sweden-rape\n",
      "\n",
      "\n",
      "---------------\n",
      "\n",
      "\n",
      "\n",
      "Why is the alt right so homophobic? [removed]\n",
      "\n",
      "\n",
      "---------------\n",
      "\n",
      "\n",
      "\n"
     ]
    }
   ],
   "source": [
    "for post in reddit_submissions_altright.sort_values(by = 'likelihood_d8', ascending = False)['post_text'][:10]:\n",
    "    print (post + '\\n\\n\\n' + '---------------' +'\\n\\n\\n')"
   ]
  },
  {
   "cell_type": "code",
   "execution_count": 146,
   "metadata": {},
   "outputs": [
    {
     "name": "stdout",
     "output_type": "stream",
     "text": [
      "What does everyone think about Anders Breivik? [](https://i.guim.co.uk/img/static/sys-images/Guardian/Pix/pictures/2012/8/24/1345800207399/Anders-Behring-Breivik-sm-010.jpg?w=700&amp;q=55&amp;auto=format&amp;usm=12&amp;fit=max&amp;s=dc508ea668111d96a5826e57a0deec99)\n",
      "\n",
      "\n",
      "---------------\n",
      "\n",
      "\n",
      "\n",
      "Can we make a list of pundits, celebrities, etc. who changed their name to hide the fact that they are Jewish? Comments down below with be added:\n",
      "\n",
      "(((Larry King))) - Lawrence Zeiger\n",
      "\n",
      "(((Ayn Rand))) - Alisa Rosenbaum\n",
      "\n",
      "(((Sumner Redstone))) - Sumner Rothstein\n",
      "\n",
      "(((Woody Allen))) - Allen Konigsberg\n",
      "\n",
      "(((Mel Brooks))) - Melvin Kaminsky\n",
      "\n",
      "(((Bob Dylan))) - Robert Zimmerman\n",
      "\n",
      "(((Rodney Dangerfield))) - Jacob Cohen\n",
      "\n",
      "(((Jerry Lewis))) - Joseph Levitch\n",
      "\n",
      "(((Joan Rlvers))) - Joan Molinsky\n",
      "\n",
      "(((Jon Stewart))) - Jonathan Leibowitz\n",
      "\n",
      "\n",
      "---------------\n",
      "\n",
      "\n",
      "\n",
      "What is so great about Homogenization? [removed]\n",
      "\n",
      "\n",
      "---------------\n",
      "\n",
      "\n",
      "\n",
      "Is anyone here a former SJW but now Alt-Right? Is anyone here a former SJW but now Alt-Right?  If so, how'd that occur?\n",
      "\n",
      "\n",
      "---------------\n",
      "\n",
      "\n",
      "\n",
      "Harry S. Truman was a White Nationalist and founder of the Alt-right https://pbs.twimg.com/media/C0ev--FXgAMFZXJ.jpg:large\n",
      "\n",
      "https://pbs.twimg.com/media/C0exqW9XAAA8_rx.jpg:large\n",
      "\n",
      "https://pbs.twimg.com/media/C0e2qGSW8AAgUKy.jpg:large\n",
      "\n",
      "https://pbs.twimg.com/media/C0e72xSWIAEqlP7.jpg:large\n",
      "\n",
      "cc: https://twitter.com/JohnRiversX4\n",
      "\n",
      "\n",
      "---------------\n",
      "\n",
      "\n",
      "\n",
      "Why are there so few antisemites? Because if it was possible to talk about (((them))) there would be so much more.\n",
      "\n",
      "\n",
      "---------------\n",
      "\n",
      "\n",
      "\n",
      "HUGE LIST OF HATE FACTS (Can we get a sticky of hate facts?) ---------------------------**RACE HATE FACTS**---------------------------\n",
      "\n",
      "**Humans can be genetically categorized into five racial groups, corresponding to traditional races.**\n",
      "http://pritchardlab.stanford.edu/publications/pdfs/RosenbergEtAl02.pdf\n",
      "\n",
      "**Genetic analysis “supports the traditional racial groups classification.”**\n",
      "http://psychology.uwo.ca/faculty/rushtonpdfs/PPPL1.pdf\n",
      "\n",
      "**“Human genetic variation is geographically structured” and corresponds with race**.\n",
      "http://www.ncbi.nlm.nih.gov/pubmed/15508000\n",
      "\n",
      "**Race can be determined via genetics with certainty for &gt;99.8% of individuals.**\n",
      "http://www.ncbi.nlm.nih.gov/pubmed/15625622\n",
      "\n",
      "**Oral bacteria can be used to determine race.**\n",
      "http://medicalxpress.com/news/2013-10-oral-bacteria-fingerprint-mouth.html\n",
      "\n",
      "**Race can be determined via brain scans.**\n",
      "http://www.cell.com/current-biology/abstract/S0960-9822(15)00671-5\n",
      "\n",
      "**96-97% of whites have no African ancestry.**\n",
      "http://www.theroot.com/articles/history/2013/02/how_mixed_are_african_americans.3.html\n",
      "\n",
      "**97% of Whites have no black ancestry whatsoever.**\n",
      "http://www.unz.com/isteve/nyt-white-black-a-murky-distinction-grows-still-murkier/\n",
      "\n",
      "**There was “minimal gene flow” between archaic Europeans and Asians.**\n",
      "http://www.nytimes.com/2010/07/20/science/20adapt.html\n",
      "\n",
      "**Common-sense racial categories have biological meaning.**\n",
      "http://www.ln.edu.hk/philoso/staff/sesardic/Race2.pdf\n",
      "\n",
      "**Human intelligence is highly heritable.**\n",
      "http://www.nature.com/mp/journal/v16/n10/abs/mp201185a.html\n",
      "\n",
      "**Scientific consensus is that IQ tests are not racially biased.**\n",
      "http://www.sciencedirect.com/science/article/pii/S0160289608000305\n",
      "\n",
      "**Very poor Whites are comparably intelligent to very wealthy blacks.**\n",
      "http://www.jbhe.com/features/49_college_admissions-test.html\n",
      "\n",
      "**Privately, intelligence experts hold more hereditarian views than they express in public.**\n",
      "http://www.udel.edu/educ/gottfredson/reprints/1994egalitarianfiction.pdf\n",
      "\n",
      "**Black children raised in White households have similar IQs to black children in black households.**\n",
      "http://psycnet.apa.org/psycinfo/1977-07996-001\n",
      "\n",
      "**The average African IQ is estimated at 79.**\n",
      "http://www.sciencedirect.com/science/article/pii/S0191886912003741\n",
      "\n",
      "**The average African-American IQ is 85, compared to the average White IQ of 100.**\n",
      "http://www.udel.edu/educ/gottfredson/reprints/1997mainstream.pdf\n",
      "\n",
      "**The white-black gap in SAT scores, a proxy for IQ, is increasing.**\n",
      "http://www.jbhe.com/features/49_college_admissions-test.html\n",
      "\n",
      "**Genes for large brains, linked to high IQ, are common everywhere except Africa.**\n",
      "http://www.wsj.com/articles/SB115040765329081636\n",
      "\n",
      "**Intelligence has a 40-50% genetic basis.**\n",
      "http://articles.latimes.com/2011/aug/10/news/la-heb-genetic-study-intelligence-20110809\n",
      "\n",
      "**IQ scores are the best predictor of success in Western society.**\n",
      "http://psychology.uwo.ca/faculty/rushtonpdfs/PPPL1.pdf\n",
      "\n",
      "**IQ is 75% heritable among Whites.**\n",
      "http://psychology.uwo.ca/faculty/rushtonpdfs/PPPL1.pdf\n",
      "\n",
      "**92% of Mulatto (black man, white women) children are born out of wedlock.**\n",
      "http://papers.ssrn.com/sol3/papers.cfm?abstract_id=2625893\n",
      "\n",
      "**Gentile whites are the most underrepresented group in top colleges.**\n",
      "http://www.theamericanconservative.com/articles/the-myth-of-american-meritocracy/\n",
      "\n",
      "**Sweden is the rape capital of the West, likely due to immigration**.\n",
      "http://www.gatestoneinstitute.org/5195/sweden-rape\n",
      "\n",
      "**Asian women find White men more attractive than Asian men.**\n",
      "http://sf.oxfordjournals.org/content/89/3/807.abstract\n",
      "\n",
      "**White men are pound-for-pound stronger than black men.**\n",
      "http://www.biomedcentral.com/content/pdf/1471-2458-10-508.pdf\n",
      "\n",
      "**Germanic/Nordic people have lower time preference than any other group.**\n",
      "http://papers.ssrn.com/sol3/papers.cfm?abstract_id=1481443\n",
      "\n",
      "**Human evolution is not merely ongoing but is in fact accelerating.**\n",
      "http://discovermagazine.com/2009/mar/09-they-dont-make-homo-sapiens-like-they-used-to\n",
      "\n",
      "**Human races are diverging into separate species, not mixing into one.**\n",
      "http://discovermagazine.com/2009/mar/09-they-dont-make-homo-sapiens-like-they-used-to\n",
      "\n",
      "**Blacks are seven times more likely than whites to commit murder.**\n",
      "http://www.colorofcrime.com/2005/10/the-color-of-crime-2005/\n",
      "\n",
      "**The percentage of Blacks and Hispanics, not poverty, is the best predictor of crime.**\n",
      "http://www.colorofcrime.com/2005/10/the-color-of-crime-2005/\n",
      "\n",
      "**90% of gang members are non-white.**\n",
      "http://www.colorofcrime.com/2005/10/the-color-of-crime-2005/\n",
      "\n",
      "**Asians are nine times more likely than whites to be members of gangs.**\n",
      "http://www.colorofcrime.com/2005/10/the-color-of-crime-2005/\n",
      "\n",
      "**The average H-1B immigrant is less intelligent and qualified than the average American.**\n",
      "http://heather.cs.ucdavis.edu/h1b10min.html\n",
      "\n",
      "**Race is a better predictor of crime than poverty.**\n",
      "http://www.colorofcrime.com/2005/10/the-color-of-crime-2005/\n",
      "\n",
      "**White immigrants on net improve government revenue, while non-white immigrants cost money.**\n",
      "http://www.spiegel.de/international/europe/putting-a-price-on-foreigners-strict-immigration-laws-save-denmark-billions-a-759716.html\n",
      "\n",
      "**Blacks are overrepresented in serial killings.**\n",
      "http://maamodt.asp.radford.edu/Serial Killer Information Center/Serial Killer Statistics.pdf\n",
      "\n",
      "**Blacks are overrepresented among child abuse and pedophilia, and this isn’t due to biased reporting.**\n",
      "http://www.theroot.com/articles/culture/2011/03/black_childabuse_statistics_report_debunks_bias_assumptions.html\n",
      "\n",
      "**White-Asian children are twice as likely as Asians to have mental illness.**\n",
      "http://www.eurekalert.org/pub_releases/2008-08/uoc–baa081108.php\n",
      "\n",
      "**Black-white children are more likely than both black and whites to make poor decisions.**\n",
      "http://www.nber.org/papers/w14192\n",
      "\n",
      "**Racial bias against miscegenation is likely biological in origin.**\n",
      "http://www.ncbi.nlm.nih.gov/pubmed/19422626\n",
      "\n",
      "**Interracial marriages have a 23.5% chance of divorce, compared to 13% for same-race couples.**\n",
      "http://www.jstor.org/stable/4145377\n",
      "\n",
      "**Mixed race kids suffer from low self-esteem, social isolation, and poor family dynamics.**\n",
      "http://www.ncbi.nlm.nih.gov/pmc/articles/PMC1448064/\n",
      "\n",
      "**Mixed race children are more likely to have health problems, high stress, smoke, and drink.**\n",
      "http://www.ncbi.nlm.nih.gov/pmc/articles/PMC1448064/\n",
      "\n",
      "**The percentage of Blacks in a city, not poverty, is the best predictor of crime.**\n",
      "http://www.unz.com/article/race-and-crime-in-america/\n",
      "\n",
      "**Blacks are 600% more likely than non-blacks to commit murder.**\n",
      "http://www.unz.com/article/race-and-crime-in-america/\n",
      "\n",
      "**The purpose of section 8 housing is to move blacks from elite urban areas to middle class suburbs.**\n",
      "http://www.unz.com/article/race-and-crime-in-america/\n",
      "\n",
      "**Hispanics receive shorter prison sentences than Whites for the same crimes.**\n",
      "http://people.terry.uga.edu/mustard/sentencing.pdf\n",
      "\n",
      "**Police hesitate longer to shoot black suspects than White suspects.**\n",
      "http://spokane.wsu.edu/admissions/Criminal-Justice/faculty-staff/Racial&amp;EthnicBiasDFJDMStrongerLens_ExperimentalCriminology_JamesKlingerVila2014.pdf\n",
      "\n",
      "**Race-mixers may give less parental support to their children because of greater genetic distance.**\n",
      "http://www.humanbiologicaldiversity.com/articles/Rushton%2C\n",
      "\n",
      "J. Phillipe. “Inclusive fitness in human relationships.” Biological Journal of the Linnean Society 96 (2009).pdf\n",
      "http://onlinelibrary.wiley.com/doi/10.1111/j.1095-8312.2008.01110.x/abstract\n",
      "\n",
      "**15% of the human genome has been under selective pressures since the races separated.**\n",
      "http://www.amazon.com/Troublesome-Inheritance-Genes-Human-History/dp/1594204462\n",
      "\n",
      "**Scientific discussion of race has increased since 1946 onwards.**\n",
      "http://www.ln.edu.hk/philoso/staff/sesardic/Race.pdf\n",
      "\n",
      "**Over 100 White women are raped by blacks every day in the United States.**\n",
      "http://archive.frontpagemag.com/readArticle.aspx?ARTID=26368\n",
      "\n",
      "**Melanin concentration may directly correlate with aggression.**\n",
      "http://www.sciencedirect.com/science/article/pii/S0191886912000840\n",
      "\n",
      "**Africans have higher rates of a gene associated with violence.**\n",
      "http://www.ncbi.nlm.nih.gov/pmc/articles/PMC1913922/pdf/1744-9081-3-30.pdf\n",
      "\n",
      "**Europeans and Asians are subject to more recent evolution than Africans.**\n",
      "http://www.nytimes.com/2010/07/20/science/20adapt.html\n",
      "\n",
      "**64% of Hispanics have IQs too low to enter the military.**\n",
      "http://takimag.com/article/frequently_asked_questions_about_the_jason_richwine_brouhaha_steve_sailer/print#ixzz2TPXmpNgG\n",
      "\n",
      "**Mexican-Americans have higher disability rates than other races.**\n",
      "http://www.sciencedaily.com/releases/2015/03/150326162658.htm\n",
      "\n",
      "**Europeans and Asians are subject to more recent evolution than Africans.**\n",
      "http://www.nytimes.com/2010/07/20/science/20adapt.html\n",
      ".\n",
      "\n",
      ".\n",
      "\n",
      ".\n",
      "\n",
      "----------------**Diversity and Ethnocentrism Hate Facts**------------------\n",
      "\n",
      "\n",
      "**More diverse neighborhoods have lower social cohesion.**\n",
      "http://www.citylab.com/housing/2013/11/paradox-diverse-communities/7614/\n",
      "\n",
      "**Diversity increases psychotic experiences.**\n",
      "http://bjp.rcpsych.org/content/201/4/282.abstract?etoc\n",
      "\n",
      "**Diversity increases social adversity.**\n",
      "http://bjp.rcpsych.org/content/201/4/282.abstract?etoc\n",
      "\n",
      "**A 10% increase in diversity doubles the chance of psychotic episodes.**\n",
      "http://bjp.rcpsych.org/content/201/4/282.abstract?etoc\n",
      "\n",
      "**Diversity reduces voter registration, political efficacy, charity, and number of friendships.**\n",
      "http://onlinelibrary.wiley.com/doi/10.1111/j.1467-9477.2007.00176.x/abstract;jsessionid=279C92A7EB0946BBA63D62937FC832A9.f04t03\n",
      "\n",
      "**Ethnic diversity reduces happiness and quality of life.**\n",
      "http://onlinelibrary.wiley.com/doi/10.1111/j.1467-9477.2007.00176.x/abstract;jsessionid=279C92A7EB0946BBA63D62937FC832A9.f04t03\n",
      "\n",
      "**Diversity reduces trust, civic participation, and civic health.**\n",
      "http://www.boston.com/news/globe/ideas/articles/2007/08/05/the_downside_of_diversity/?page=full\n",
      "\n",
      "**Ethnocentrism is rational, biological, and genetic in origin.**\n",
      "http://www.pnas.org/content/108/4/1262.abstract\n",
      "\n",
      "**Ethnic diversity harms health for hispanics and blacks.**\n",
      "http://ajph.aphapublications.org/doi/abs/10.2105/AJPH.2012.300787\n",
      "\n",
      "**Babies demostrate ethnocentrism before exposure to non-whites.**\n",
      "http://onlinelibrary.wiley.com/doi/10.1111/j.1467-7687.2012.01138.x/full\n",
      "\n",
      "**Ethnocentrism is universal and likely evolved in origin.**\n",
      "http://www-personal.umich.edu/~axe/research/AxHamm_Ethno.pdf\n",
      "\n",
      "**Diversity primarily hurts the dominant ethnic group.**\n",
      "http://www.theindependentaustralian.com.au/node/57\n",
      "\n",
      "**Ethnic diversity reduces concern for the environment.**\n",
      "http://link.springer.com/article/10.1007%2Fs10640-012-9619-6\n",
      "\n",
      "**Ethnic diversity within 80 meters of a person reduces social trust.**\n",
      "http://curis.ku.dk/ws/files/130251172/Dinesen_S_nderskov_Ethnic_Diversity_and_Social_Trust_Forthcoming_ASR.pdf\n",
      "\n",
      "**Ethnic diversity directly reduces strong communities.**\n",
      "https://www.msu.edu/~zpneal/publications/neal-diversitysoc.pdf\n",
      "\n",
      "**Ethnically homogenous neighborhoods are beneficial for health.**\n",
      "https://www.mailman.columbia.edu/public-health-now/news/living-ethnically-homogenous-area-boosts-health-minority-seniors\n",
      "\n",
      "**Diversity in American cities correlates with segregation.**\n",
      "http://fivethirtyeight.com/features/the-most-diverse-cities-are-often-the-most-segregated/\n",
      "\n",
      "**Races are extended families. Ethnocentrism is genetically rational.**\n",
      "http://www.amazon.com/The-Ethnic-Phenomenon-Pierre-Berghe/dp/0275927091\n",
      "\n",
      "**It is evolutionary rational to be friends with someone genetically similar to you.**\n",
      "http://www.livescience.com/46791-friends-share-genes.html\n",
      "\n",
      "**Racism and nationalism are rational and evolutionary advantageous strategies.**\n",
      "http://jasss.soc.surrey.ac.uk/16/3/7.html\n",
      "\n",
      "**Homogeneous polities have less crime, less civil war, and more altruism.**\n",
      "http://www.theindependentaustralian.com.au/node/57\n",
      "\n",
      "**States with little diversity have more democracy, less corruption, and less inequality.**\n",
      "http://www.theindependentaustralian.com.au/node/57\n",
      "\n",
      "**There is extensive evidence people prefer others who are genetically similar.**\n",
      "http://psychology.uwo.ca/faculty/rushtonpdfs/n&amp;n 2005-1.pdf\n",
      "\n",
      ".\n",
      "\n",
      ".\n",
      "\n",
      ".\n",
      "\n",
      "-----------------------**Gender and Sexuality Hate Facts**-----------------------\n",
      "\n",
      "**Gay men are 60x more likely to have HIV than straight men.**\n",
      "http://www.ncbi.nlm.nih.gov/pmc/articles/PMC3462414/\n",
      "\n",
      "**Women with more sexual partners are more likely to divorce.**\n",
      "http://s3.amazonaws.com/thf_media/2003/pdf/Bookofcharts.pdf\n",
      "\n",
      "**Women with more than 20 sexual partners have an 80% chance of divorce.**\n",
      "http://s3.amazonaws.com/thf_media/2003/pdf/Bookofcharts.pdf\n",
      "\n",
      "**White and Asian women have more successful marriages than black or Hispanic women.**\n",
      "http://www.cdc.gov/nchs/data/nhsr/nhsr049.pdf\n",
      "\n",
      "**Gay people are 2-3x more likely to abuse alcohol than straight people.**\n",
      "http://www.amazon.com/Unequal-Opportunity-Disparities-Affecting-Bisexual/dp/0195301536\n",
      "\n",
      "**A women’s number of sex partners is linearly linked to alcohol and drug abuse.**\n",
      "http://www.ncbi.nlm.nih.gov/pmc/articles/PMC3752789/\n",
      "\n",
      "**Gay men are six times more likely to commit suicide than straight men.**\n",
      "http://www.amazon.com/Unequal-Opportunity-Disparities-Affecting-Bisexual/dp/0195301536\n",
      "\n",
      "**Gay men are 12x more likely to use amphetamines than straight men.**\n",
      "http://www.amazon.com/Unequal-Opportunity-Disparities-Affecting-Bisexual/dp/0195301536\n",
      "\n",
      "**Gay men are 10x more likely to use heroin than straight men.**\n",
      "http://www.amazon.com/Unequal-Opportunity-Disparities-Affecting-Bisexual/dp/0195301536\n",
      "\n",
      "**Liberal arguments in favor of homosexuality are based on logical fallacies.**\n",
      "http://hrcak.srce.hr/index.php?show=clanak&amp;id_clanak_jezik=19028&amp;lang=en\n",
      "\n",
      "**Transsexuals who undergo sex reassignment surgery are more likely to commit suicide.**\n",
      "http://www.ncbi.nlm.nih.gov/pubmed/21364939\n",
      "\n",
      "**College majors with a greater proportion of women have lower average IQ’s among their students.**\n",
      "http://www.randalolson.com/2014/06/25/average-iq-of-students-by-college-major-and-gender-ratio/\n",
      "\n",
      "**Less attractive women are more likely to want careers.**\n",
      "http://www.dailymail.co.uk/news/article-2129456/Do-girls-want-career-attract-man-Provocative-study-casts-high-fliers-new-light.html\n",
      "\n",
      ".\n",
      "\n",
      ".\n",
      "\n",
      ".\n",
      "\n",
      "--------------------------------**ISLAM HATE FACTS**--------------------------\n",
      "\n",
      "**35% of Palestinians have a favorable opinion of Al Qeada.**\n",
      "http://www.pewglobal.org/files/2013/09/Pew-Global-Attitudes-Project-Extremism-Report-Final-9-10-135.pdf\n",
      "\n",
      "**40% of British Muslims want Shariah law.**\n",
      "http://www.telegraph.co.uk/news/uknews/1510866/Poll-reveals-40pc-of-Muslims-want-sharia-law-in-UK.html\n",
      "\n",
      "**1 in eight Muslims worldwide has a favorable view of al Quaeda.**\n",
      "http://www.pewglobal.org/files/2013/09/Pew-Global-Attitudes-Project-Extremism-Report-Final-9-10-135.pdf\n",
      "\n",
      "**1 in 3 Muslims favorably views Hamas, a known terrorist organization.**\n",
      "http://www.pewglobal.org/files/2013/09/Pew-Global-Attitudes-Project-Extremism-Report-Final-9-10-135.pdf\n",
      "\n",
      "**25% of Egyptian Muslims support terrorist attacks to enforce Shariah law.**\n",
      "http://www.pewglobal.org/files/2013/09/Pew-Global-Attitudes-Project-Extremism-Report-Final-9-10-135.pdf\n",
      "\n",
      "**1/5 British Muslims sympathize with the 7/7 terrorist attack.**\n",
      "http://www.telegraph.co.uk/news/uknews/1510866/Poll-reveals-40pc-of-Muslims-want-sharia-law-in-UK.html\n",
      "\n",
      "**65% of European Muslims believe that Shariah law is more important than the law of the country they reside in.**\n",
      "https://www.wzb.eu/sites/default/files/u6/koopmans_englisch_ed.pdf\n",
      "\n",
      "**European Muslims are 7.5x more likely to be fundamentalists than Christians.**\n",
      "https://www.wzb.eu/sites/default/files/u6/koopmans_englisch_ed.pdf\n",
      "\n",
      "**45% of European Muslims believe that Jews cannot be trusted.**\n",
      "https://www.wzb.eu/sites/default/files/u6/koopmans_englisch_ed.pdf\n",
      "\n",
      "**60% of European Muslims are explicitly homphobic. This is not due to poverty or education.**\n",
      "https://www.wzb.eu/sites/default/files/u6/koopmans_englisch_ed.pdf\n",
      "\n",
      "**40% of Palestinians support attacks on US civilians in America.**\n",
      "http://www.worldpublicopinion.org/pipa/pdf/feb09/STARTII_Feb09_rpt.pdf\n",
      "\n",
      "**87% of Egyptians agree with Al Qaeda’s goals.**\n",
      "http://www.worldpublicopinion.org/pipa/pdf/feb09/STARTII_Feb09_rpt.pdf\n",
      "\n",
      "**78% of Egyptians support attacks on US soldiers in the Middle East.**\n",
      "http://www.worldpublicopinion.org/pipa/pdf/feb09/STARTII_Feb09_rpt.pdf\n",
      "\n",
      "**62% of Palestinians support the use of suicide bombings.**\n",
      "http://www.pewglobal.org/files/2013/09/Pew-Global-Attitudes-Project-Extremism-Report-Final-9-10-135.pdf\n",
      "\n",
      "**28% of British Muslims would like for Britain to become a fundamentalist Islamic state.**\n",
      "http://www.cbsnews.com/news/many-british-muslims-put-islam-first/\n",
      "\n",
      "**68% of British Muslims support criminalizing criticism of Islam.**\n",
      "http://www.cbsnews.com/news/many-british-muslims-put-islam-first/\n",
      "\n",
      "**3 out of 4 British Muslims support criminalizing drawings of Mohammed.**\n",
      "http://www.cbsnews.com/news/many-british-muslims-put-islam-first/\n",
      "\n",
      "**9% of British Muslims define themselves as “hardcore Islamists”.**\n",
      "http://www.cbsnews.com/news/many-british-muslims-put-islam-first/\n",
      "\n",
      "**Only 3% of British Muslims support free speech.**\n",
      "http://www.cbsnews.com/news/many-british-muslims-put-islam-first/\n",
      "\n",
      "**0/500 British Muslims believe that homosexuality is morally acceptable.**\n",
      "http://www.theguardian.com/uk/2009/may/07/muslims-britain-france-germany-homosexuality\n",
      "\n",
      "**38% of Muslims believe 9/11 was partially or wholly justified.**\n",
      "http://www.washingtoninstitute.org/policy-analysis/view/just-like-us-really\n",
      "\n",
      "**62% of Canadian Muslims want Shariah law.**\n",
      "http://www.torontosun.com/2011/11/01/strong-support-for-shariah-in-canada\n",
      "\n",
      "**More than 1 in 3 Canadian Muslims refuses to repudiate Al Qaeda.**\n",
      "http://www.torontosun.com/2011/11/01/strong-support-for-shariah-in-canada\n",
      "\n",
      "**Britain will become a Muslim country by 2050 if demographic trends continue.**\n",
      "http://www.thecommentator.com/article/3770/the_islamic_future_of_britain\n",
      "\n",
      "**At least 85 legally binding Sharia courts operate in Britain.**\n",
      "http://www.civitas.org.uk/pdf/ShariaLawOrOneLawForAll.pdf\n",
      "\n",
      "**85% of rapists in Sweden were non-Swedish immigrants.**\n",
      "http://www.gatestoneinstitute.org/5195/sweden-rape\n",
      "\n",
      "**North African migrants to Sweden are 23 times more likely to rape than native Swedes.**\n",
      "http://www.gatestoneinstitute.org/5195/sweden-rape\n",
      "\n",
      "**African migrants to Sweden are 16 times more likely to rape than ethnic Swedes.**\n",
      "http://www.gatestoneinstitute.org/5195/sweden-rape\n",
      "\n",
      "**Iraqi migrants to Sweden are 2000% more likely to rape than real Swedes.**\n",
      "http://www.gatestoneinstitute.org/5195/sweden-rape\n",
      "\n",
      "**More than 1/2 of rapists in Denmark are immigrants.**\n",
      "http://www.gatestoneinstitute.org/5195/sweden-rape\n",
      "\n",
      "\n",
      "---------------\n",
      "\n",
      "\n",
      "\n",
      "Why are white people so hated? Honestly, why? I don't get it.\n",
      "\n",
      "\n",
      "---------------\n",
      "\n",
      "\n",
      "\n",
      "I am Jared Taylor of http://www.amren.com/ Ask me anything. &lt;blockquote class=\"twitter-tweet\" data-lang=\"en\"&gt;&lt;p lang=\"en\" dir=\"ltr\"&gt;I am doing an AMA at subreddit alt right now!&lt;a href=\"https://t.co/0LJcAeOPzJ\"&gt;https://t.co/0LJcAeOPzJ&lt;/a&gt;&lt;/p&gt;&amp;mdash; Jared Taylor (@jartaylor) &lt;a href=\"https://twitter.com/jartaylor/status/757968884066426880\"&gt;July 26, 2016&lt;/a&gt;&lt;/blockquote&gt;\n",
      "&lt;script async src=\"//platform.twitter.com/widgets.js\" charset=\"utf-8\"&gt;&lt;/script&gt;\n",
      "\n",
      "\n",
      "---------------\n",
      "\n",
      "\n",
      "\n",
      "JUST A TEST... THINK I GOT SHADOW-BANNED... CAN YA'LL SEE/READ THIS? Please let me know. Thanks, you fashy goys! ;)\n",
      "\n",
      "\n",
      "---------------\n",
      "\n",
      "\n",
      "\n"
     ]
    }
   ],
   "source": [
    "for post in reddit_submissions_altright.sort_values(by = 'likelihood_d4', ascending = False)['post_text'][:10]:\n",
    "    print (post + '\\n\\n\\n' + '---------------' +'\\n\\n\\n')"
   ]
  },
  {
   "cell_type": "code",
   "execution_count": 147,
   "metadata": {},
   "outputs": [
    {
     "data": {
      "text/html": [
       "<div>\n",
       "<style scoped>\n",
       "    .dataframe tbody tr th:only-of-type {\n",
       "        vertical-align: middle;\n",
       "    }\n",
       "\n",
       "    .dataframe tbody tr th {\n",
       "        vertical-align: top;\n",
       "    }\n",
       "\n",
       "    .dataframe thead th {\n",
       "        text-align: right;\n",
       "    }\n",
       "</style>\n",
       "<table border=\"1\" class=\"dataframe\">\n",
       "  <thead>\n",
       "    <tr style=\"text-align: right;\">\n",
       "      <th></th>\n",
       "      <th>author</th>\n",
       "      <th>created_utc</th>\n",
       "      <th>subreddit</th>\n",
       "      <th>title</th>\n",
       "      <th>selftext</th>\n",
       "      <th>distinguished</th>\n",
       "      <th>created_datetime</th>\n",
       "      <th>created_tranche</th>\n",
       "      <th>post_text</th>\n",
       "      <th>tokenized_sents</th>\n",
       "      <th>normalized_sents</th>\n",
       "      <th>likelihood_d8</th>\n",
       "      <th>likelihood_d4</th>\n",
       "    </tr>\n",
       "    <tr>\n",
       "      <th>id</th>\n",
       "      <th></th>\n",
       "      <th></th>\n",
       "      <th></th>\n",
       "      <th></th>\n",
       "      <th></th>\n",
       "      <th></th>\n",
       "      <th></th>\n",
       "      <th></th>\n",
       "      <th></th>\n",
       "      <th></th>\n",
       "      <th></th>\n",
       "      <th></th>\n",
       "      <th></th>\n",
       "    </tr>\n",
       "  </thead>\n",
       "  <tbody>\n",
       "    <tr>\n",
       "      <th>4dgf5j</th>\n",
       "      <td>avian_buddha</td>\n",
       "      <td>1459863156</td>\n",
       "      <td>altright</td>\n",
       "      <td>List of Alt Right Websites</td>\n",
       "      <td>Let's get a list going so that anybody can com...</td>\n",
       "      <td>moderator</td>\n",
       "      <td>2016-04-05 13:32:36</td>\n",
       "      <td>4</td>\n",
       "      <td>List of Alt Right Websites Let's get a list go...</td>\n",
       "      <td>[[List, of, Alt], [Right, Websites, Let, 's, g...</td>\n",
       "      <td>[[list, alt], [right, website, let, list, go, ...</td>\n",
       "      <td>-10.893825</td>\n",
       "      <td>-11.331831</td>\n",
       "    </tr>\n",
       "    <tr>\n",
       "      <th>4rj06j</th>\n",
       "      <td>AugustJRush</td>\n",
       "      <td>1467818739</td>\n",
       "      <td>altright</td>\n",
       "      <td>What type of content do you guys like to see?</td>\n",
       "      <td>Would you folk like to see more news stories, ...</td>\n",
       "      <td>NaN</td>\n",
       "      <td>2016-07-06 15:25:39</td>\n",
       "      <td>6</td>\n",
       "      <td>What type of content do you guys like to see? ...</td>\n",
       "      <td>[[What, type, of, content, do, you, guys, like...</td>\n",
       "      <td>[[type, content, guy, like], [folk, like, news...</td>\n",
       "      <td>-40.145859</td>\n",
       "      <td>-42.458706</td>\n",
       "    </tr>\n",
       "    <tr>\n",
       "      <th>4s2m7h</th>\n",
       "      <td>LetThereBeWhite</td>\n",
       "      <td>1468103206</td>\n",
       "      <td>altright</td>\n",
       "      <td>Damn, 250 subscribers to 450 in less than a we...</td>\n",
       "      <td>_____________\\n\\n-\\n\\n# For once in its cuck l...</td>\n",
       "      <td>moderator</td>\n",
       "      <td>2016-07-09 22:26:46</td>\n",
       "      <td>6</td>\n",
       "      <td>Damn, 250 subscribers to 450 in less than a we...</td>\n",
       "      <td>[[Damn, 250, subscribers, to, 450, in, less, t...</td>\n",
       "      <td>[[damn, subscriber, week], [time], [time, red,...</td>\n",
       "      <td>-24.340067</td>\n",
       "      <td>-24.601299</td>\n",
       "    </tr>\n",
       "    <tr>\n",
       "      <th>4s39s6</th>\n",
       "      <td>AugustJRush</td>\n",
       "      <td>1468113131</td>\n",
       "      <td>altright</td>\n",
       "      <td>How do you describe your political leanings to...</td>\n",
       "      <td>I usually just go with \"Far-Right\", which is g...</td>\n",
       "      <td>NaN</td>\n",
       "      <td>2016-07-10 01:12:11</td>\n",
       "      <td>6</td>\n",
       "      <td>How do you describe your political leanings to...</td>\n",
       "      <td>[[How, do, you, describe, your, political, lea...</td>\n",
       "      <td>[[describe, political, leaning, normies], [usu...</td>\n",
       "      <td>-19.518883</td>\n",
       "      <td>-17.469717</td>\n",
       "    </tr>\n",
       "    <tr>\n",
       "      <th>4s63m0</th>\n",
       "      <td>YukonAurelius</td>\n",
       "      <td>1468167550</td>\n",
       "      <td>altright</td>\n",
       "      <td>Any interest in alt-right reading group?</td>\n",
       "      <td>I was thinking of digging into Spengler's \"Dec...</td>\n",
       "      <td>NaN</td>\n",
       "      <td>2016-07-10 16:19:10</td>\n",
       "      <td>6</td>\n",
       "      <td>Any interest in alt-right reading group? I was...</td>\n",
       "      <td>[[Any, interest, in, alt, right, reading, grou...</td>\n",
       "      <td>[[interest, alt, right, read, group], [think, ...</td>\n",
       "      <td>-41.660336</td>\n",
       "      <td>-43.229820</td>\n",
       "    </tr>\n",
       "  </tbody>\n",
       "</table>\n",
       "</div>"
      ],
      "text/plain": [
       "                 author  created_utc subreddit  \\\n",
       "id                                               \n",
       "4dgf5j     avian_buddha   1459863156  altright   \n",
       "4rj06j      AugustJRush   1467818739  altright   \n",
       "4s2m7h  LetThereBeWhite   1468103206  altright   \n",
       "4s39s6      AugustJRush   1468113131  altright   \n",
       "4s63m0    YukonAurelius   1468167550  altright   \n",
       "\n",
       "                                                    title  \\\n",
       "id                                                          \n",
       "4dgf5j                         List of Alt Right Websites   \n",
       "4rj06j      What type of content do you guys like to see?   \n",
       "4s2m7h  Damn, 250 subscribers to 450 in less than a we...   \n",
       "4s39s6  How do you describe your political leanings to...   \n",
       "4s63m0           Any interest in alt-right reading group?   \n",
       "\n",
       "                                                 selftext distinguished  \\\n",
       "id                                                                        \n",
       "4dgf5j  Let's get a list going so that anybody can com...     moderator   \n",
       "4rj06j  Would you folk like to see more news stories, ...           NaN   \n",
       "4s2m7h  _____________\\n\\n-\\n\\n# For once in its cuck l...     moderator   \n",
       "4s39s6  I usually just go with \"Far-Right\", which is g...           NaN   \n",
       "4s63m0  I was thinking of digging into Spengler's \"Dec...           NaN   \n",
       "\n",
       "          created_datetime created_tranche  \\\n",
       "id                                           \n",
       "4dgf5j 2016-04-05 13:32:36               4   \n",
       "4rj06j 2016-07-06 15:25:39               6   \n",
       "4s2m7h 2016-07-09 22:26:46               6   \n",
       "4s39s6 2016-07-10 01:12:11               6   \n",
       "4s63m0 2016-07-10 16:19:10               6   \n",
       "\n",
       "                                                post_text  \\\n",
       "id                                                          \n",
       "4dgf5j  List of Alt Right Websites Let's get a list go...   \n",
       "4rj06j  What type of content do you guys like to see? ...   \n",
       "4s2m7h  Damn, 250 subscribers to 450 in less than a we...   \n",
       "4s39s6  How do you describe your political leanings to...   \n",
       "4s63m0  Any interest in alt-right reading group? I was...   \n",
       "\n",
       "                                          tokenized_sents  \\\n",
       "id                                                          \n",
       "4dgf5j  [[List, of, Alt], [Right, Websites, Let, 's, g...   \n",
       "4rj06j  [[What, type, of, content, do, you, guys, like...   \n",
       "4s2m7h  [[Damn, 250, subscribers, to, 450, in, less, t...   \n",
       "4s39s6  [[How, do, you, describe, your, political, lea...   \n",
       "4s63m0  [[Any, interest, in, alt, right, reading, grou...   \n",
       "\n",
       "                                         normalized_sents  likelihood_d8  \\\n",
       "id                                                                         \n",
       "4dgf5j  [[list, alt], [right, website, let, list, go, ...     -10.893825   \n",
       "4rj06j  [[type, content, guy, like], [folk, like, news...     -40.145859   \n",
       "4s2m7h  [[damn, subscriber, week], [time], [time, red,...     -24.340067   \n",
       "4s39s6  [[describe, political, leaning, normies], [usu...     -19.518883   \n",
       "4s63m0  [[interest, alt, right, read, group], [think, ...     -41.660336   \n",
       "\n",
       "        likelihood_d4  \n",
       "id                     \n",
       "4dgf5j     -11.331831  \n",
       "4rj06j     -42.458706  \n",
       "4s2m7h     -24.601299  \n",
       "4s39s6     -17.469717  \n",
       "4s63m0     -43.229820  "
      ]
     },
     "execution_count": 147,
     "metadata": {},
     "output_type": "execute_result"
    }
   ],
   "source": [
    "reddit_submissions_altright.head()"
   ]
  },
  {
   "cell_type": "code",
   "execution_count": 150,
   "metadata": {},
   "outputs": [
    {
     "name": "stderr",
     "output_type": "stream",
     "text": [
      "/software/Anaconda3-5.3.0-el7-x86_64/lib/python3.6/site-packages/ipykernel_launcher.py:1: SettingWithCopyWarning: \n",
      "A value is trying to be set on a copy of a slice from a DataFrame.\n",
      "Try using .loc[row_indexer,col_indexer] = value instead\n",
      "\n",
      "See the caveats in the documentation: http://pandas.pydata.org/pandas-docs/stable/indexing.html#indexing-view-versus-copy\n",
      "  \"\"\"Entry point for launching an IPython kernel.\n",
      "/software/Anaconda3-5.3.0-el7-x86_64/lib/python3.6/site-packages/ipykernel_launcher.py:2: SettingWithCopyWarning: \n",
      "A value is trying to be set on a copy of a slice from a DataFrame.\n",
      "Try using .loc[row_indexer,col_indexer] = value instead\n",
      "\n",
      "See the caveats in the documentation: http://pandas.pydata.org/pandas-docs/stable/indexing.html#indexing-view-versus-copy\n",
      "  \n"
     ]
    }
   ],
   "source": [
    "reddit_submissions_con['likelihood_d8'] = reddit_submissions_con['normalized_sents'].apply(lambda x: adprob(x, donald8_W2Vsoft))\n",
    "reddit_submissions_con['likelihood_d4'] = reddit_submissions_con['normalized_sents'].apply(lambda x: adprob(x, donald4_W2Vsoft))"
   ]
  },
  {
   "cell_type": "code",
   "execution_count": 151,
   "metadata": {},
   "outputs": [
    {
     "data": {
      "text/html": [
       "<div>\n",
       "<style scoped>\n",
       "    .dataframe tbody tr th:only-of-type {\n",
       "        vertical-align: middle;\n",
       "    }\n",
       "\n",
       "    .dataframe tbody tr th {\n",
       "        vertical-align: top;\n",
       "    }\n",
       "\n",
       "    .dataframe thead th {\n",
       "        text-align: right;\n",
       "    }\n",
       "</style>\n",
       "<table border=\"1\" class=\"dataframe\">\n",
       "  <thead>\n",
       "    <tr style=\"text-align: right;\">\n",
       "      <th></th>\n",
       "      <th>author</th>\n",
       "      <th>created_utc</th>\n",
       "      <th>subreddit</th>\n",
       "      <th>title</th>\n",
       "      <th>selftext</th>\n",
       "      <th>distinguished</th>\n",
       "      <th>created_datetime</th>\n",
       "      <th>created_tranche</th>\n",
       "      <th>post_text</th>\n",
       "      <th>tokenized_sents</th>\n",
       "      <th>normalized_sents</th>\n",
       "      <th>likelihood_d8</th>\n",
       "      <th>likelihood_d4</th>\n",
       "    </tr>\n",
       "    <tr>\n",
       "      <th>id</th>\n",
       "      <th></th>\n",
       "      <th></th>\n",
       "      <th></th>\n",
       "      <th></th>\n",
       "      <th></th>\n",
       "      <th></th>\n",
       "      <th></th>\n",
       "      <th></th>\n",
       "      <th></th>\n",
       "      <th></th>\n",
       "      <th></th>\n",
       "      <th></th>\n",
       "      <th></th>\n",
       "    </tr>\n",
       "  </thead>\n",
       "  <tbody>\n",
       "    <tr>\n",
       "      <th>39tbk2</th>\n",
       "      <td>nicksvr4</td>\n",
       "      <td>1434297481</td>\n",
       "      <td>Conservative</td>\n",
       "      <td>TIL the US has greater purchasing power, and m...</td>\n",
       "      <td>[Greater purchasing power](https://en.wikipedi...</td>\n",
       "      <td>NaN</td>\n",
       "      <td>2015-06-14 15:58:01</td>\n",
       "      <td>0</td>\n",
       "      <td>TIL the US has greater purchasing power, and m...</td>\n",
       "      <td>[[TIL, the, US, has, greater, purchasing, powe...</td>\n",
       "      <td>[[til, great, purchase, power, median, income,...</td>\n",
       "      <td>-38.261856</td>\n",
       "      <td>-36.791939</td>\n",
       "    </tr>\n",
       "    <tr>\n",
       "      <th>3ajpuq</th>\n",
       "      <td>CherryCokeNixon</td>\n",
       "      <td>1434836077</td>\n",
       "      <td>Conservative</td>\n",
       "      <td>Social Justice Question</td>\n",
       "      <td>So I came to the (obvious) realization that mo...</td>\n",
       "      <td>NaN</td>\n",
       "      <td>2015-06-20 21:34:37</td>\n",
       "      <td>0</td>\n",
       "      <td>Social Justice Question So I came to the (obvi...</td>\n",
       "      <td>[[Social, Justice, Question], [So, I, came, to...</td>\n",
       "      <td>[[social, justice, question], [come, obvious, ...</td>\n",
       "      <td>-68.008835</td>\n",
       "      <td>-60.837463</td>\n",
       "    </tr>\n",
       "    <tr>\n",
       "      <th>3avdye</th>\n",
       "      <td>PetitGarou</td>\n",
       "      <td>1435091303</td>\n",
       "      <td>Conservative</td>\n",
       "      <td>You've got to love all of the morons obsessing...</td>\n",
       "      <td>Manipulative Media + the useful idiots on the ...</td>\n",
       "      <td>NaN</td>\n",
       "      <td>2015-06-23 20:28:23</td>\n",
       "      <td>0</td>\n",
       "      <td>You've got to love all of the morons obsessing...</td>\n",
       "      <td>[[You, 've, got, to, love, all, of, the, moron...</td>\n",
       "      <td>[[have, get, love, moron, obsess, flag, respon...</td>\n",
       "      <td>-35.860771</td>\n",
       "      <td>-29.583855</td>\n",
       "    </tr>\n",
       "    <tr>\n",
       "      <th>3b31nn</th>\n",
       "      <td>Mispelling</td>\n",
       "      <td>1435247307</td>\n",
       "      <td>Conservative</td>\n",
       "      <td>What is your prediction for the votes in the s...</td>\n",
       "      <td>Do you think it will be 5-4?  6-3?  9-0?</td>\n",
       "      <td>NaN</td>\n",
       "      <td>2015-06-25 15:48:27</td>\n",
       "      <td>0</td>\n",
       "      <td>What is your prediction for the votes in the s...</td>\n",
       "      <td>[[What, is, your, prediction, for, the, votes,...</td>\n",
       "      <td>[[prediction, vote, sex, marriage, scotus, cas...</td>\n",
       "      <td>-21.279634</td>\n",
       "      <td>-20.450972</td>\n",
       "    </tr>\n",
       "    <tr>\n",
       "      <th>3b89ek</th>\n",
       "      <td>Yosoff</td>\n",
       "      <td>1435347577</td>\n",
       "      <td>Conservative</td>\n",
       "      <td>\"Today's decision shows that decades of attemp...</td>\n",
       "      <td>This thread is ONLY for Social and/or Constitu...</td>\n",
       "      <td>moderator</td>\n",
       "      <td>2015-06-26 19:39:37</td>\n",
       "      <td>0</td>\n",
       "      <td>\"Today's decision shows that decades of attemp...</td>\n",
       "      <td>[[Today, 's, decision, shows, that, decades, o...</td>\n",
       "      <td>[[today, decision, show, decade, attempt, rest...</td>\n",
       "      <td>-22.359842</td>\n",
       "      <td>-22.088705</td>\n",
       "    </tr>\n",
       "  </tbody>\n",
       "</table>\n",
       "</div>"
      ],
      "text/plain": [
       "                 author  created_utc     subreddit  \\\n",
       "id                                                   \n",
       "39tbk2         nicksvr4   1434297481  Conservative   \n",
       "3ajpuq  CherryCokeNixon   1434836077  Conservative   \n",
       "3avdye       PetitGarou   1435091303  Conservative   \n",
       "3b31nn       Mispelling   1435247307  Conservative   \n",
       "3b89ek           Yosoff   1435347577  Conservative   \n",
       "\n",
       "                                                    title  \\\n",
       "id                                                          \n",
       "39tbk2  TIL the US has greater purchasing power, and m...   \n",
       "3ajpuq                            Social Justice Question   \n",
       "3avdye  You've got to love all of the morons obsessing...   \n",
       "3b31nn  What is your prediction for the votes in the s...   \n",
       "3b89ek  \"Today's decision shows that decades of attemp...   \n",
       "\n",
       "                                                 selftext distinguished  \\\n",
       "id                                                                        \n",
       "39tbk2  [Greater purchasing power](https://en.wikipedi...           NaN   \n",
       "3ajpuq  So I came to the (obvious) realization that mo...           NaN   \n",
       "3avdye  Manipulative Media + the useful idiots on the ...           NaN   \n",
       "3b31nn           Do you think it will be 5-4?  6-3?  9-0?           NaN   \n",
       "3b89ek  This thread is ONLY for Social and/or Constitu...     moderator   \n",
       "\n",
       "          created_datetime created_tranche  \\\n",
       "id                                           \n",
       "39tbk2 2015-06-14 15:58:01               0   \n",
       "3ajpuq 2015-06-20 21:34:37               0   \n",
       "3avdye 2015-06-23 20:28:23               0   \n",
       "3b31nn 2015-06-25 15:48:27               0   \n",
       "3b89ek 2015-06-26 19:39:37               0   \n",
       "\n",
       "                                                post_text  \\\n",
       "id                                                          \n",
       "39tbk2  TIL the US has greater purchasing power, and m...   \n",
       "3ajpuq  Social Justice Question So I came to the (obvi...   \n",
       "3avdye  You've got to love all of the morons obsessing...   \n",
       "3b31nn  What is your prediction for the votes in the s...   \n",
       "3b89ek  \"Today's decision shows that decades of attemp...   \n",
       "\n",
       "                                          tokenized_sents  \\\n",
       "id                                                          \n",
       "39tbk2  [[TIL, the, US, has, greater, purchasing, powe...   \n",
       "3ajpuq  [[Social, Justice, Question], [So, I, came, to...   \n",
       "3avdye  [[You, 've, got, to, love, all, of, the, moron...   \n",
       "3b31nn  [[What, is, your, prediction, for, the, votes,...   \n",
       "3b89ek  [[Today, 's, decision, shows, that, decades, o...   \n",
       "\n",
       "                                         normalized_sents  likelihood_d8  \\\n",
       "id                                                                         \n",
       "39tbk2  [[til, great, purchase, power, median, income,...     -38.261856   \n",
       "3ajpuq  [[social, justice, question], [come, obvious, ...     -68.008835   \n",
       "3avdye  [[have, get, love, moron, obsess, flag, respon...     -35.860771   \n",
       "3b31nn  [[prediction, vote, sex, marriage, scotus, cas...     -21.279634   \n",
       "3b89ek  [[today, decision, show, decade, attempt, rest...     -22.359842   \n",
       "\n",
       "        likelihood_d4  \n",
       "id                     \n",
       "39tbk2     -36.791939  \n",
       "3ajpuq     -60.837463  \n",
       "3avdye     -29.583855  \n",
       "3b31nn     -20.450972  \n",
       "3b89ek     -22.088705  "
      ]
     },
     "execution_count": 151,
     "metadata": {},
     "output_type": "execute_result"
    }
   ],
   "source": [
    "reddit_submissions_con.head()"
   ]
  },
  {
   "cell_type": "code",
   "execution_count": 152,
   "metadata": {},
   "outputs": [
    {
     "name": "stdout",
     "output_type": "stream",
     "text": [
      "Pre-Debate Thread - Republican Debate on CNN - 8:30pm EST **[Ted Cruz](https://tedcruz.org)** ............. **/r/TedCruzForPresident**\n",
      "\n",
      "**[John Kasich](https://johnkasich.com)** ........ **/r/KasichForPresident**\n",
      "\n",
      "**[Marco Rubio](https://marcorubio.com)** ....... **/r/Marco_Rubio**\n",
      "\n",
      "**[Donald Trump](https://www.donaldjtrump.com/)** .... **/r/The_Donald**\n",
      "\n",
      "----\n",
      "\n",
      "http://www.cnn.com/2016/03/10/politics/republican-debate/index.html\n",
      "\n",
      "\n",
      "---------------\n",
      "\n",
      "\n",
      "\n",
      "Post-Debate Discussion Thread **Prime-time Debate Candidates (9pm Eastern Time):**  \n",
      "  \n",
      "* **[Jeb Bush](https://jeb2016.com)**\n",
      "  \n",
      "* **[Ben Carson](https://www.bencarson.com)**\n",
      "  \n",
      "* **[Chris Christie](https://www.chrischristie.com)**\n",
      "  \n",
      "* **[Ted Cruz](https://tedcruz.org)**\n",
      "  \n",
      "* **[John Kasich](https://johnkasich.com)**\n",
      "  \n",
      "* **[Marco Rubio](https://marcorubio.com)**\n",
      "  \n",
      "* **[Donald Trump](https://www.donaldjtrump.com/)**\n",
      "\n",
      "\n",
      "\n",
      "---------------\n",
      "\n",
      "\n",
      "\n",
      "Fox News Republican Main Debate Open Thread ***If you haven't registered to vote, [you may do so here.](https://registertovote.org)***\n",
      "  \n",
      "http://www.foxnews.com/live-coverage/fox-news-google-gop-debate\n",
      "  \n",
      "\n",
      "----  \n",
      "  \n",
      "**Prime-time Debate Candidates (9pm Eastern Time):**  \n",
      "  \n",
      "* **[Jeb Bush](https://jeb2016.com)**\n",
      "  \n",
      "* **[Ben Carson](https://www.bencarson.com)**\n",
      "  \n",
      "* **[Chris Christie](https://www.chrischristie.com)**\n",
      "  \n",
      "* **[Ted Cruz](https://tedcruz.org)**\n",
      "  \n",
      "* **[John Kasich](https://johnkasich.com)**\n",
      "  \n",
      "* **[Rand Paul](https://www.randpaul.com)**   \n",
      "  \n",
      "* **[Marco Rubio](https://marcorubio.com)**\n",
      "  \n",
      "----  \n",
      "\n",
      "\n",
      "\n",
      "---------------\n",
      "\n",
      "\n",
      "\n",
      "Fox News Republican Post-Debate Open Thread ***If you haven't registered to vote, [you may do so here.](https://registertovote.org)***\n",
      "  \n",
      "http://www.foxnews.com/live-coverage/fox-news-google-gop-debate\n",
      "  \n",
      "\n",
      "----  \n",
      "  \n",
      "**Prime-time Debate Candidates (9pm Eastern Time):**  \n",
      "  \n",
      "* **[Jeb Bush](https://jeb2016.com)**\n",
      "  \n",
      "* **[Ben Carson](https://www.bencarson.com)**\n",
      "  \n",
      "* **[Chris Christie](https://www.chrischristie.com)**\n",
      "  \n",
      "* **[Ted Cruz](https://tedcruz.org)**\n",
      "  \n",
      "* **[John Kasich](https://johnkasich.com)**\n",
      "  \n",
      "* **[Rand Paul](https://www.randpaul.com)**   \n",
      "  \n",
      "* **[Marco Rubio](https://marcorubio.com)**\n",
      "  \n",
      "----  \n",
      "\n",
      "\n",
      "\n",
      "---------------\n",
      "\n",
      "\n",
      "\n",
      "Post-Debate Thread - Fox Business Network &amp; Wall Street Journal Republican Party Debate **Early Debate Candidates:**  \n",
      "  \n",
      "* **[Chris Christie](https://www.chrischristie.com)**\n",
      "  \n",
      "* **[Mike Huckabee](https://mikehuckabee.com)**\n",
      "  \n",
      "* **[Bobby Jindal](https://www.bobbyjindal.com)**\n",
      "  \n",
      "* **[Rick Santorum](https://ricksantorum.com)**\n",
      "  \n",
      "**[Jim Gilmore](http://www.gilmoreforamerica.com/),** **[Lindsey Graham](http://www.lindseygraham.com/),** and **[George Pataki](http://www.georgepataki.com)** did not qualify for the debate.   \n",
      "  \n",
      "----  \n",
      "  \n",
      "**Prime-time Debate Candidates:**  \n",
      "  \n",
      "* **[Jeb Bush](https://jeb2016.com)**\n",
      "  \n",
      "* **[Ben Carson](https://www.bencarson.com)**\n",
      "  \n",
      "* **[Ted Cruz](https://tedcruz.org)**\n",
      "  \n",
      "* **[Carly Fiorina](https://carlyforamerica.com)**\n",
      "  \n",
      "* **[John Kasich](https://johnkasich.com)**\n",
      "  \n",
      "* **[Rand Paul](https://www.randpaul.com)**\n",
      "  \n",
      "* **[Marco Rubio](https://marcorubio.com)**\n",
      "  \n",
      "* **[Donald Trump](https://www.donaldjtrump.com/)**\n",
      "\n",
      "\n",
      "---------------\n",
      "\n",
      "\n",
      "\n"
     ]
    }
   ],
   "source": [
    "for post in reddit_submissions_con.sort_values(by = 'likelihood_d4', ascending = False)['post_text'][:5]:\n",
    "    print (post + '\\n\\n\\n' + '---------------' +'\\n\\n\\n')"
   ]
  },
  {
   "cell_type": "code",
   "execution_count": 153,
   "metadata": {},
   "outputs": [
    {
     "name": "stdout",
     "output_type": "stream",
     "text": [
      "Pre-Debate Thread - Republican Debate on CNN - 8:30pm EST **[Ted Cruz](https://tedcruz.org)** ............. **/r/TedCruzForPresident**\n",
      "\n",
      "**[John Kasich](https://johnkasich.com)** ........ **/r/KasichForPresident**\n",
      "\n",
      "**[Marco Rubio](https://marcorubio.com)** ....... **/r/Marco_Rubio**\n",
      "\n",
      "**[Donald Trump](https://www.donaldjtrump.com/)** .... **/r/The_Donald**\n",
      "\n",
      "----\n",
      "\n",
      "http://www.cnn.com/2016/03/10/politics/republican-debate/index.html\n",
      "\n",
      "\n",
      "---------------\n",
      "\n",
      "\n",
      "\n",
      "Post-Debate Thread - Fox Business Network &amp; Wall Street Journal Republican Party Debate **Early Debate Candidates:**  \n",
      "  \n",
      "* **[Chris Christie](https://www.chrischristie.com)**\n",
      "  \n",
      "* **[Mike Huckabee](https://mikehuckabee.com)**\n",
      "  \n",
      "* **[Bobby Jindal](https://www.bobbyjindal.com)**\n",
      "  \n",
      "* **[Rick Santorum](https://ricksantorum.com)**\n",
      "  \n",
      "**[Jim Gilmore](http://www.gilmoreforamerica.com/),** **[Lindsey Graham](http://www.lindseygraham.com/),** and **[George Pataki](http://www.georgepataki.com)** did not qualify for the debate.   \n",
      "  \n",
      "----  \n",
      "  \n",
      "**Prime-time Debate Candidates:**  \n",
      "  \n",
      "* **[Jeb Bush](https://jeb2016.com)**\n",
      "  \n",
      "* **[Ben Carson](https://www.bencarson.com)**\n",
      "  \n",
      "* **[Ted Cruz](https://tedcruz.org)**\n",
      "  \n",
      "* **[Carly Fiorina](https://carlyforamerica.com)**\n",
      "  \n",
      "* **[John Kasich](https://johnkasich.com)**\n",
      "  \n",
      "* **[Rand Paul](https://www.randpaul.com)**\n",
      "  \n",
      "* **[Marco Rubio](https://marcorubio.com)**\n",
      "  \n",
      "* **[Donald Trump](https://www.donaldjtrump.com/)**\n",
      "\n",
      "\n",
      "---------------\n",
      "\n",
      "\n",
      "\n",
      "Post-Debate Discussion Thread **Prime-time Debate Candidates (9pm Eastern Time):**  \n",
      "  \n",
      "* **[Jeb Bush](https://jeb2016.com)**\n",
      "  \n",
      "* **[Ben Carson](https://www.bencarson.com)**\n",
      "  \n",
      "* **[Chris Christie](https://www.chrischristie.com)**\n",
      "  \n",
      "* **[Ted Cruz](https://tedcruz.org)**\n",
      "  \n",
      "* **[John Kasich](https://johnkasich.com)**\n",
      "  \n",
      "* **[Marco Rubio](https://marcorubio.com)**\n",
      "  \n",
      "* **[Donald Trump](https://www.donaldjtrump.com/)**\n",
      "\n",
      "\n",
      "\n",
      "---------------\n",
      "\n",
      "\n",
      "\n",
      "Fox News Republican Main Debate Open Thread ***If you haven't registered to vote, [you may do so here.](https://registertovote.org)***\n",
      "  \n",
      "http://www.foxnews.com/live-coverage/fox-news-google-gop-debate\n",
      "  \n",
      "\n",
      "----  \n",
      "  \n",
      "**Prime-time Debate Candidates (9pm Eastern Time):**  \n",
      "  \n",
      "* **[Jeb Bush](https://jeb2016.com)**\n",
      "  \n",
      "* **[Ben Carson](https://www.bencarson.com)**\n",
      "  \n",
      "* **[Chris Christie](https://www.chrischristie.com)**\n",
      "  \n",
      "* **[Ted Cruz](https://tedcruz.org)**\n",
      "  \n",
      "* **[John Kasich](https://johnkasich.com)**\n",
      "  \n",
      "* **[Rand Paul](https://www.randpaul.com)**   \n",
      "  \n",
      "* **[Marco Rubio](https://marcorubio.com)**\n",
      "  \n",
      "----  \n",
      "\n",
      "\n",
      "\n",
      "---------------\n",
      "\n",
      "\n",
      "\n",
      "Fox News Republican Post-Debate Open Thread ***If you haven't registered to vote, [you may do so here.](https://registertovote.org)***\n",
      "  \n",
      "http://www.foxnews.com/live-coverage/fox-news-google-gop-debate\n",
      "  \n",
      "\n",
      "----  \n",
      "  \n",
      "**Prime-time Debate Candidates (9pm Eastern Time):**  \n",
      "  \n",
      "* **[Jeb Bush](https://jeb2016.com)**\n",
      "  \n",
      "* **[Ben Carson](https://www.bencarson.com)**\n",
      "  \n",
      "* **[Chris Christie](https://www.chrischristie.com)**\n",
      "  \n",
      "* **[Ted Cruz](https://tedcruz.org)**\n",
      "  \n",
      "* **[John Kasich](https://johnkasich.com)**\n",
      "  \n",
      "* **[Rand Paul](https://www.randpaul.com)**   \n",
      "  \n",
      "* **[Marco Rubio](https://marcorubio.com)**\n",
      "  \n",
      "----  \n",
      "\n",
      "\n",
      "\n",
      "---------------\n",
      "\n",
      "\n",
      "\n"
     ]
    }
   ],
   "source": [
    "for post in reddit_submissions_con.sort_values(by = 'likelihood_d8', ascending = False)['post_text'][:5]:\n",
    "    print (post + '\\n\\n\\n' + '---------------' +'\\n\\n\\n')"
   ]
  },
  {
   "cell_type": "code",
   "execution_count": 10,
   "metadata": {},
   "outputs": [],
   "source": [
    "def calc_syn0norm(model):\n",
    "    \"\"\"since syn0norm is now depricated\"\"\"\n",
    "    return (model.wv.syn0 / np.sqrt((model.wv.syn0 ** 2).sum(-1))[..., np.newaxis]).astype(np.float32)\n",
    "\n",
    "def smart_procrustes_align_gensim(base_embed, other_embed, words=None):\n",
    "    \"\"\"Procrustes align two gensim word2vec models (to allow for comparison between same word across models).\n",
    "    Code ported from HistWords <https://github.com/williamleif/histwords> by William Hamilton <wleif@stanford.edu>.\n",
    "    (With help from William. Thank you!)\n",
    "    First, intersect the vocabularies (see `intersection_align_gensim` documentation).\n",
    "    Then do the alignment on the other_embed model.\n",
    "    Replace the other_embed model's syn0 and syn0norm numpy matrices with the aligned version.\n",
    "    Return other_embed.\n",
    "    If `words` is set, intersect the two models' vocabulary with the vocabulary in words (see `intersection_align_gensim` documentation).\n",
    "    \"\"\"\n",
    "    base_embed = copy.copy(base_embed)\n",
    "    other_embed = copy.copy(other_embed)\n",
    "    # make sure vocabulary and indices are aligned\n",
    "    in_base_embed, in_other_embed = intersection_align_gensim(base_embed, other_embed, words=words)\n",
    "\n",
    "    # get the embedding matrices\n",
    "    base_vecs = calc_syn0norm(in_base_embed)\n",
    "    other_vecs = calc_syn0norm(in_other_embed)\n",
    "\n",
    "    # just a matrix dot product with numpy\n",
    "    m = other_vecs.T.dot(base_vecs) \n",
    "    # SVD method from numpy\n",
    "    u, _, v = np.linalg.svd(m)\n",
    "    # another matrix operation\n",
    "    ortho = u.dot(v) \n",
    "    # Replace original array with modified one\n",
    "    # i.e. multiplying the embedding matrix (syn0norm)by \"ortho\"\n",
    "    other_embed.wv.syn0norm = other_embed.wv.syn0 = (calc_syn0norm(other_embed)).dot(ortho)\n",
    "    return other_embed\n",
    "    \n",
    "def intersection_align_gensim(m1,m2, words=None):\n",
    "    \"\"\"\n",
    "    Intersect two gensim word2vec models, m1 and m2.\n",
    "    Only the shared vocabulary between them is kept.\n",
    "    If 'words' is set (as list or set), then the vocabulary is intersected with this list as well.\n",
    "    Indices are re-organized from 0..N in order of descending frequency (=sum of counts from both m1 and m2).\n",
    "    These indices correspond to the new syn0 and syn0norm objects in both gensim models:\n",
    "        -- so that Row 0 of m1.syn0 will be for the same word as Row 0 of m2.syn0\n",
    "        -- you can find the index of any word on the .index2word list: model.index2word.index(word) => 2\n",
    "    The .vocab dictionary is also updated for each model, preserving the count but updating the index.\n",
    "    \"\"\"\n",
    "\n",
    "    # Get the vocab for each model\n",
    "    vocab_m1 = set(m1.wv.vocab.keys())\n",
    "    vocab_m2 = set(m2.wv.vocab.keys())\n",
    "\n",
    "    # Find the common vocabulary\n",
    "    common_vocab = vocab_m1&vocab_m2\n",
    "    if words: common_vocab&=set(words)\n",
    "\n",
    "    # If no alignment necessary because vocab is identical...\n",
    "    if not vocab_m1-common_vocab and not vocab_m2-common_vocab:\n",
    "        return (m1,m2)\n",
    "\n",
    "    # Otherwise sort by frequency (summed for both)\n",
    "    common_vocab = list(common_vocab)\n",
    "    common_vocab.sort(key=lambda w: m1.wv.vocab[w].count + m2.wv.vocab[w].count,reverse=True)\n",
    "\n",
    "    # Then for each model...\n",
    "    for m in [m1,m2]:\n",
    "        # Replace old syn0norm array with new one (with common vocab)\n",
    "        indices = [m.wv.vocab[w].index for w in common_vocab]\n",
    "        old_arr = calc_syn0norm(m)\n",
    "        new_arr = np.array([old_arr[index] for index in indices])\n",
    "        m.wv.syn0norm = m.wv.syn0 = new_arr\n",
    "\n",
    "        # Replace old vocab dictionary with new one (with common vocab)\n",
    "        # and old index2word with new one\n",
    "        m.index2word = common_vocab\n",
    "        old_vocab = m.wv.vocab\n",
    "        new_vocab = {}\n",
    "        for new_index,word in enumerate(common_vocab):\n",
    "            old_vocab_obj=old_vocab[word]\n",
    "            new_vocab[word] = gensim.models.word2vec.Vocab(index=new_index, count=old_vocab_obj.count)\n",
    "        m.wv.vocab = new_vocab\n",
    "\n",
    "    return (m1,m2)\n",
    "\n",
    "def compareModels(df, category, sort = True):\n",
    "    \"\"\"If you are using time as your category sorting is important\"\"\"\n",
    "    embeddings_raw = {}\n",
    "    cats = sorted(set(df[category]))\n",
    "    for cat in cats:\n",
    "        #This can take a while\n",
    "        print(\"Embedding {}\".format(cat), end = '\\r')\n",
    "        subsetDF = df[df[category] == cat]\n",
    "        #You might want to change the W2V parameters\n",
    "        embeddings_raw[cat] = gensim.models.word2vec.Word2Vec(subsetDF['normalized_sents'].sum())\n",
    "    #These are much quicker\n",
    "    embeddings_aligned = {}\n",
    "    for catOuter in cats:\n",
    "        embeddings_aligned[catOuter] = [embeddings_raw[catOuter]]\n",
    "        for catInner in cats:\n",
    "            embeddings_aligned[catOuter].append(smart_procrustes_align_gensim(embeddings_aligned[catOuter][-1], embeddings_raw[catInner]))\n",
    "    return embeddings_raw, embeddings_aligned\n",
    "\n",
    "def getDivergenceDF(word, embeddingsDict):\n",
    "    dists = []\n",
    "    cats = sorted(set(embeddingsDict.keys()))\n",
    "    dists = {}\n",
    "    print(word)\n",
    "    for cat in cats:\n",
    "        dists[cat] = []\n",
    "        for embed in embeddingsDict[cat][1:]:\n",
    "            dists[cat].append(np.abs(1 - sklearn.metrics.pairwise.cosine_similarity(np.expand_dims(embeddingsDict[cat][0][word], axis = 0),\n",
    "                                                                             np.expand_dims(embed[word], axis = 0))[0,0]))\n",
    "    return pandas.DataFrame(dists, index = cats)"
   ]
  },
  {
   "cell_type": "code",
   "execution_count": 11,
   "metadata": {},
   "outputs": [
    {
     "name": "stderr",
     "output_type": "stream",
     "text": [
      "/software/Anaconda3-5.3.0-el7-x86_64/lib/python3.6/site-packages/ipykernel_launcher.py:2: SettingWithCopyWarning: \n",
      "A value is trying to be set on a copy of a slice from a DataFrame.\n",
      "Try using .loc[row_indexer,col_indexer] = value instead\n",
      "\n",
      "See the caveats in the documentation: http://pandas.pydata.org/pandas-docs/stable/indexing.html#indexing-view-versus-copy\n",
      "  \n",
      "/software/Anaconda3-5.3.0-el7-x86_64/lib/python3.6/site-packages/ipykernel_launcher.py:3: SettingWithCopyWarning: \n",
      "A value is trying to be set on a copy of a slice from a DataFrame.\n",
      "Try using .loc[row_indexer,col_indexer] = value instead\n",
      "\n",
      "See the caveats in the documentation: http://pandas.pydata.org/pandas-docs/stable/indexing.html#indexing-view-versus-copy\n",
      "  This is separate from the ipykernel package so we can avoid doing imports until\n",
      "/software/Anaconda3-5.3.0-el7-x86_64/lib/python3.6/site-packages/ipykernel_launcher.py:4: SettingWithCopyWarning: \n",
      "A value is trying to be set on a copy of a slice from a DataFrame.\n",
      "Try using .loc[row_indexer,col_indexer] = value instead\n",
      "\n",
      "See the caveats in the documentation: http://pandas.pydata.org/pandas-docs/stable/indexing.html#indexing-view-versus-copy\n",
      "  after removing the cwd from sys.path.\n"
     ]
    }
   ],
   "source": [
    "reddit_submissions_trump = reddit_submissions_min[(reddit_submissions_min['subreddit'] == 'The_Donald')]\n",
    "reddit_submissions_trump['post_text'] = reddit_submissions_trump['title'] + \" \" + reddit_submissions_trump['selftext']\n",
    "reddit_submissions_trump['tokenized_sents'] = reddit_submissions_trump['post_text'].apply(lambda x: [lucem_illud_2020.word_tokenize(s) for s in lucem_illud_2020.sent_tokenize(x)])\n",
    "reddit_submissions_trump['normalized_sents'] = reddit_submissions_trump['tokenized_sents'].apply(lambda x: [lucem_illud_2020.normalizeTokens(s) for s in x])"
   ]
  },
  {
   "cell_type": "code",
   "execution_count": 25,
   "metadata": {},
   "outputs": [
    {
     "name": "stdout",
     "output_type": "stream",
     "text": [
      "Embedding 17\r"
     ]
    }
   ],
   "source": [
    "rawEmbeddings, comparedEmbeddings = compareModels(reddit_submissions_trump[reddit_submissions_trump['created_tranche'].isin(range(4,18))], 'created_tranche')"
   ]
  },
  {
   "cell_type": "code",
   "execution_count": 41,
   "metadata": {},
   "outputs": [
    {
     "name": "stdout",
     "output_type": "stream",
     "text": [
      "fox\n"
     ]
    },
    {
     "data": {
      "image/png": "[encoded data removed]",
      "text/plain": [
       "<Figure size 720x504 with 2 Axes>"
      ]
     },
     "metadata": {
      "needs_background": "light"
     },
     "output_type": "display_data"
    }
   ],
   "source": [
    "targetWord = 'fox' #elite, america, news, \n",
    "\n",
    "pltDF = getDivergenceDF(targetWord, comparedEmbeddings)\n",
    "fig, ax = plt.subplots(figsize = (10, 7))\n",
    "seaborn.heatmap(pltDF, ax = ax, annot = False) #set annot True for a lot more information\n",
    "ax.set_xlabel(\"Starting tranche\")\n",
    "ax.set_ylabel(\"Final tranche\")\n",
    "ax.set_ylabel(\"Final tranche\")\n",
    "ax.set_title(\"T-o-T linguistic change for: '{}'\".format(targetWord))\n",
    "plt.show()"
   ]
  },
  {
   "cell_type": "code",
   "execution_count": 20,
   "metadata": {},
   "outputs": [
    {
     "data": {
      "text/plain": [
       "0        0\n",
       "1        9\n",
       "2       64\n",
       "3      740\n",
       "4     5724\n",
       "5     2858\n",
       "6     3033\n",
       "7     3410\n",
       "8     4870\n",
       "9     3457\n",
       "10    3357\n",
       "11    3051\n",
       "12    3026\n",
       "13    2729\n",
       "14    2867\n",
       "15    3147\n",
       "16    1809\n",
       "17    2118\n",
       "18     797\n",
       "19    1026\n",
       "Name: created_tranche, dtype: int64"
      ]
     },
     "execution_count": 20,
     "metadata": {},
     "output_type": "execute_result"
    }
   ],
   "source": [
    "reddit_submissions_trump['created_tranche'].value_counts(sort = False)"
   ]
  },
  {
   "cell_type": "code",
   "execution_count": 51,
   "metadata": {},
   "outputs": [
    {
     "data": {
      "text/plain": [
       "2018-01    1512\n",
       "2018-02    1469\n",
       "2018-03    1175\n",
       "2016-02    1908\n",
       "2016-03    3378\n",
       "2016-04    1719\n",
       "2016-05    1196\n",
       "2016-06    1305\n",
       "2016-07    1645\n",
       "2016-08    1316\n",
       "2016-09    1457\n",
       "2016-10    2564\n",
       "2016-11    2499\n",
       "2016-12    1820\n",
       "2017-01    1707\n",
       "2017-02    1601\n",
       "2017-03    1615\n",
       "2017-04    1577\n",
       "2017-05    1764\n",
       "2017-06    1202\n",
       "2017-07    1310\n",
       "2017-08    1715\n",
       "2017-09    1249\n",
       "2017-10    1382\n",
       "2017-11    1354\n",
       "2017-12    1463\n",
       "Freq: M, Name: created_myear, dtype: int64"
      ]
     },
     "execution_count": 51,
     "metadata": {},
     "output_type": "execute_result"
    }
   ],
   "source": [
    "reddit_submissions_trump2['created_myear'].value_counts(sort = False)"
   ]
  },
  {
   "cell_type": "code",
   "execution_count": 50,
   "metadata": {},
   "outputs": [
    {
     "name": "stderr",
     "output_type": "stream",
     "text": [
      "/software/Anaconda3-5.3.0-el7-x86_64/lib/python3.6/site-packages/ipykernel_launcher.py:2: SettingWithCopyWarning: \n",
      "A value is trying to be set on a copy of a slice from a DataFrame.\n",
      "Try using .loc[row_indexer,col_indexer] = value instead\n",
      "\n",
      "See the caveats in the documentation: http://pandas.pydata.org/pandas-docs/stable/indexing.html#indexing-view-versus-copy\n",
      "  \n"
     ]
    }
   ],
   "source": [
    "reddit_submissions_trump2 = reddit_submissions_trump[reddit_submissions_trump['created_utc'].isin(range(1454284800,1522540800))]\n",
    "reddit_submissions_trump2['created_myear'] = pandas.to_datetime(reddit_submissions_trump2['created_datetime']).dt.to_period('M')"
   ]
  },
  {
   "cell_type": "code",
   "execution_count": 52,
   "metadata": {},
   "outputs": [
    {
     "name": "stdout",
     "output_type": "stream",
     "text": [
      "Embedding 2018-03\r"
     ]
    }
   ],
   "source": [
    "rawEmbeddings2, comparedEmbeddings2 = compareModels(reddit_submissions_trump2, 'created_myear')"
   ]
  },
  {
   "cell_type": "code",
   "execution_count": 63,
   "metadata": {},
   "outputs": [
    {
     "name": "stdout",
     "output_type": "stream",
     "text": [
      "military\n"
     ]
    },
    {
     "data": {
      "image/png": "[encoded data removed]",
      "text/plain": [
       "<Figure size 720x504 with 2 Axes>"
      ]
     },
     "metadata": {
      "needs_background": "light"
     },
     "output_type": "display_data"
    }
   ],
   "source": [
    "targetWord = 'military' #elite, america, news, \n",
    "\n",
    "pltDF = getDivergenceDF(targetWord, comparedEmbeddings2)\n",
    "fig, ax = plt.subplots(figsize = (10, 7))\n",
    "seaborn.heatmap(pltDF, ax = ax, annot = False) #set annot True for a lot more information\n",
    "ax.set_xlabel(\"Starting m-year\")\n",
    "ax.set_ylabel(\"Final m-year\")\n",
    "ax.set_ylabel(\"Final m-year\")\n",
    "ax.set_title(\"Monthly linguistic change for: '{}'\".format(targetWord))\n",
    "plt.show()"
   ]
  },
  {
   "cell_type": "code",
   "execution_count": 78,
   "metadata": {},
   "outputs": [
    {
     "name": "stdout",
     "output_type": "stream",
     "text": [
      "email\n"
     ]
    },
    {
     "data": {
      "image/png": "[encoded data removed]",
      "text/plain": [
       "<Figure size 720x504 with 2 Axes>"
      ]
     },
     "metadata": {
      "needs_background": "light"
     },
     "output_type": "display_data"
    }
   ],
   "source": [
    "targetWord = 'email' #elite, america, news, \n",
    "\n",
    "pltDF = getDivergenceDF(targetWord, comparedEmbeddings2)\n",
    "fig, ax = plt.subplots(figsize = (10, 7))\n",
    "seaborn.heatmap(pltDF, ax = ax, annot = False) #set annot True for a lot more information\n",
    "ax.set_xlabel(\"Starting m-year\")\n",
    "ax.set_ylabel(\"Final m-year\")\n",
    "ax.set_ylabel(\"Final m-year\")\n",
    "ax.set_title(\"Monthly linguistic change for: '{}'\".format(targetWord))\n",
    "plt.show()"
   ]
  },
  {
   "cell_type": "code",
   "execution_count": 80,
   "metadata": {},
   "outputs": [
    {
     "name": "stdout",
     "output_type": "stream",
     "text": [
      "white\n"
     ]
    },
    {
     "data": {
      "image/png": "[encoded data removed]",
      "text/plain": [
       "<Figure size 720x504 with 2 Axes>"
      ]
     },
     "metadata": {
      "needs_background": "light"
     },
     "output_type": "display_data"
    }
   ],
   "source": [
    "targetWord = 'white' #elite, america, news, \n",
    "\n",
    "pltDF = getDivergenceDF(targetWord, comparedEmbeddings2)\n",
    "fig, ax = plt.subplots(figsize = (10, 7))\n",
    "seaborn.heatmap(pltDF, ax = ax, annot = False) #set annot True for a lot more information\n",
    "ax.set_xlabel(\"Starting m-year\")\n",
    "ax.set_ylabel(\"Final m-year\")\n",
    "ax.set_ylabel(\"Final m-year\")\n",
    "ax.set_title(\"Monthly linguistic change for: '{}'\".format(targetWord))\n",
    "plt.show()"
   ]
  },
  {
   "cell_type": "code",
   "execution_count": 83,
   "metadata": {},
   "outputs": [
    {
     "name": "stdout",
     "output_type": "stream",
     "text": [
      "hack\n"
     ]
    },
    {
     "data": {
      "image/png": "[encoded data removed]",
      "text/plain": [
       "<Figure size 720x504 with 2 Axes>"
      ]
     },
     "metadata": {
      "needs_background": "light"
     },
     "output_type": "display_data"
    }
   ],
   "source": [
    "targetWord = 'hack' #elite, america, news, \n",
    "\n",
    "pltDF = getDivergenceDF(targetWord, comparedEmbeddings2)\n",
    "fig, ax = plt.subplots(figsize = (10, 7))\n",
    "seaborn.heatmap(pltDF, ax = ax, annot = False) #set annot True for a lot more information\n",
    "ax.set_xlabel(\"Starting m-year\")\n",
    "ax.set_ylabel(\"Final m-year\")\n",
    "ax.set_ylabel(\"Final m-year\")\n",
    "ax.set_title(\"Monthly linguistic change for: '{}'\".format(targetWord))\n",
    "plt.show()"
   ]
  },
  {
   "cell_type": "code",
   "execution_count": 84,
   "metadata": {},
   "outputs": [
    {
     "name": "stdout",
     "output_type": "stream",
     "text": [
      "russia\n"
     ]
    },
    {
     "data": {
      "image/png": "[encoded data removed]",
      "text/plain": [
       "<Figure size 720x504 with 2 Axes>"
      ]
     },
     "metadata": {
      "needs_background": "light"
     },
     "output_type": "display_data"
    }
   ],
   "source": [
    "targetWord = 'russia' #elite, america, news, \n",
    "\n",
    "pltDF = getDivergenceDF(targetWord, comparedEmbeddings2)\n",
    "fig, ax = plt.subplots(figsize = (10, 7))\n",
    "seaborn.heatmap(pltDF, ax = ax, annot = False) #set annot True for a lot more information\n",
    "ax.set_xlabel(\"Starting m-year\")\n",
    "ax.set_ylabel(\"Final m-year\")\n",
    "ax.set_ylabel(\"Final m-year\")\n",
    "ax.set_title(\"Monthly linguistic change for: '{}'\".format(targetWord))\n",
    "plt.show()"
   ]
  },
  {
   "cell_type": "code",
   "execution_count": 103,
   "metadata": {},
   "outputs": [
    {
     "name": "stdout",
     "output_type": "stream",
     "text": [
      "republicans\n"
     ]
    },
    {
     "data": {
      "image/png": "[encoded data removed]",
      "text/plain": [
       "<Figure size 720x504 with 2 Axes>"
      ]
     },
     "metadata": {
      "needs_background": "light"
     },
     "output_type": "display_data"
    }
   ],
   "source": [
    "targetWord = 'republicans' #elite, america, news, \n",
    "\n",
    "pltDF = getDivergenceDF(targetWord, comparedEmbeddings2)\n",
    "fig, ax = plt.subplots(figsize = (10, 7))\n",
    "seaborn.heatmap(pltDF, ax = ax, annot = False) #set annot True for a lot more information\n",
    "ax.set_xlabel(\"Starting m-year\")\n",
    "ax.set_ylabel(\"Final m-year\")\n",
    "ax.set_ylabel(\"Final m-year\")\n",
    "ax.set_title(\"Monthly linguistic change for: '{}'\".format(targetWord))\n",
    "plt.show()"
   ]
  },
  {
   "cell_type": "code",
   "execution_count": 88,
   "metadata": {},
   "outputs": [
    {
     "name": "stdout",
     "output_type": "stream",
     "text": [
      "fbi\n"
     ]
    },
    {
     "data": {
      "image/png": "[encoded data removed]",
      "text/plain": [
       "<Figure size 720x504 with 2 Axes>"
      ]
     },
     "metadata": {
      "needs_background": "light"
     },
     "output_type": "display_data"
    }
   ],
   "source": [
    "targetWord = 'fbi' #elite, america, news, \n",
    "\n",
    "pltDF = getDivergenceDF(targetWord, comparedEmbeddings2)\n",
    "fig, ax = plt.subplots(figsize = (10, 7))\n",
    "seaborn.heatmap(pltDF, ax = ax, annot = False) #set annot True for a lot more information\n",
    "ax.set_xlabel(\"Starting m-year\")\n",
    "ax.set_ylabel(\"Final m-year\")\n",
    "ax.set_ylabel(\"Final m-year\")\n",
    "ax.set_title(\"Monthly linguistic change for: '{}'\".format(targetWord))\n",
    "plt.show()"
   ]
  },
  {
   "cell_type": "code",
   "execution_count": 115,
   "metadata": {},
   "outputs": [
    {
     "name": "stdout",
     "output_type": "stream",
     "text": [
      "tweet\n"
     ]
    },
    {
     "data": {
      "image/png": "[encoded data removed]",
      "text/plain": [
       "<Figure size 720x504 with 2 Axes>"
      ]
     },
     "metadata": {
      "needs_background": "light"
     },
     "output_type": "display_data"
    }
   ],
   "source": [
    "targetWord = 'tweet' #elite, america, news, \n",
    "\n",
    "pltDF = getDivergenceDF(targetWord, comparedEmbeddings2)\n",
    "fig, ax = plt.subplots(figsize = (10, 7))\n",
    "seaborn.heatmap(pltDF, ax = ax, annot = False) #set annot True for a lot more information\n",
    "ax.set_xlabel(\"Starting m-year\")\n",
    "ax.set_ylabel(\"Final m-year\")\n",
    "ax.set_ylabel(\"Final m-year\")\n",
    "ax.set_title(\"Monthly linguistic change for: '{}'\".format(targetWord))\n",
    "plt.show()"
   ]
  },
  {
   "cell_type": "code",
   "execution_count": 116,
   "metadata": {},
   "outputs": [
    {
     "name": "stdout",
     "output_type": "stream",
     "text": [
      "facebook\n"
     ]
    },
    {
     "data": {
      "image/png": "[encoded data removed]",
      "text/plain": [
       "<Figure size 720x504 with 2 Axes>"
      ]
     },
     "metadata": {
      "needs_background": "light"
     },
     "output_type": "display_data"
    }
   ],
   "source": [
    "targetWord = 'facebook' #elite, america, news, \n",
    "\n",
    "pltDF = getDivergenceDF(targetWord, comparedEmbeddings2)\n",
    "fig, ax = plt.subplots(figsize = (10, 7))\n",
    "seaborn.heatmap(pltDF, ax = ax, annot = False) #set annot True for a lot more information\n",
    "ax.set_xlabel(\"Starting m-year\")\n",
    "ax.set_ylabel(\"Final m-year\")\n",
    "ax.set_ylabel(\"Final m-year\")\n",
    "ax.set_title(\"Monthly linguistic change for: '{}'\".format(targetWord))\n",
    "plt.show()"
   ]
  },
  {
   "cell_type": "code",
   "execution_count": 117,
   "metadata": {},
   "outputs": [
    {
     "name": "stdout",
     "output_type": "stream",
     "text": [
      "twitter\n"
     ]
    },
    {
     "data": {
      "image/png": "[encoded data removed]",
      "text/plain": [
       "<Figure size 720x504 with 2 Axes>"
      ]
     },
     "metadata": {
      "needs_background": "light"
     },
     "output_type": "display_data"
    }
   ],
   "source": [
    "targetWord = 'twitter' #elite, america, news, \n",
    "\n",
    "pltDF = getDivergenceDF(targetWord, comparedEmbeddings2)\n",
    "fig, ax = plt.subplots(figsize = (10, 7))\n",
    "seaborn.heatmap(pltDF, ax = ax, annot = False) #set annot True for a lot more information\n",
    "ax.set_xlabel(\"Starting m-year\")\n",
    "ax.set_ylabel(\"Final m-year\")\n",
    "ax.set_ylabel(\"Final m-year\")\n",
    "ax.set_title(\"Monthly linguistic change for: '{}'\".format(targetWord))\n",
    "plt.show()"
   ]
  },
  {
   "cell_type": "code",
   "execution_count": 119,
   "metadata": {},
   "outputs": [
    {
     "name": "stdout",
     "output_type": "stream",
     "text": [
      "hack\n"
     ]
    },
    {
     "data": {
      "image/png": "[encoded data removed]",
      "text/plain": [
       "<Figure size 720x504 with 2 Axes>"
      ]
     },
     "metadata": {
      "needs_background": "light"
     },
     "output_type": "display_data"
    }
   ],
   "source": [
    "targetWord = 'hack' #elite, america, news, \n",
    "\n",
    "pltDF = getDivergenceDF(targetWord, comparedEmbeddings2)\n",
    "fig, ax = plt.subplots(figsize = (10, 7))\n",
    "seaborn.heatmap(pltDF, ax = ax, annot = False) #set annot True for a lot more information\n",
    "ax.set_xlabel(\"Starting m-year\")\n",
    "ax.set_ylabel(\"Final m-year\")\n",
    "ax.set_ylabel(\"Final m-year\")\n",
    "ax.set_title(\"Monthly linguistic change for: '{}'\".format(targetWord))\n",
    "plt.show()"
   ]
  },
  {
   "cell_type": "code",
   "execution_count": 104,
   "metadata": {},
   "outputs": [],
   "source": [
    "def findDiverence(word, embeddingsDict):\n",
    "    cats = sorted(set(embeddingsDict.keys()))\n",
    "    \n",
    "    dists = []\n",
    "    for embed in embeddingsDict[cats[0]][1:]:\n",
    "        dists.append(1 - sklearn.metrics.pairwise.cosine_similarity(np.expand_dims(embeddingsDict[cats[0]][0][word], axis = 0), np.expand_dims(embed[word], axis = 0))[0,0])\n",
    "    return sum(dists)\n",
    "\n",
    "def findMostDivergent(embeddingsDict):\n",
    "    words = []\n",
    "    for embeds in embeddingsDict.values():\n",
    "        for embed in embeds:\n",
    "            words += list(embed.wv.vocab.keys())\n",
    "    words = set(words)\n",
    "    print(\"Found {} words to compare\".format(len(words)))\n",
    "    return sorted([(w, findDiverence(w, embeddingsDict)) for w in words], key = lambda x: x[1], reverse=True)"
   ]
  },
  {
   "cell_type": "code",
   "execution_count": 107,
   "metadata": {},
   "outputs": [
    {
     "name": "stdout",
     "output_type": "stream",
     "text": [
      "Found 924 words to compare\n"
     ]
    }
   ],
   "source": [
    "wordDivergences2 = findMostDivergent(comparedEmbeddings2)"
   ]
  },
  {
   "cell_type": "code",
   "execution_count": 108,
   "metadata": {},
   "outputs": [
    {
     "data": {
      "text/plain": [
       "[('trump', 3.6462849974632263),\n",
       " ('energy', 1.5242259502410889),\n",
       " ('r', 1.4161617755889893),\n",
       " ('=', 1.1861382126808167),\n",
       " ('the_donald', 1.1294597387313843),\n",
       " ('high', 1.0608083605766296),\n",
       " ('+', 0.8129616975784302),\n",
       " ('donald', 0.37994641065597534),\n",
       " ('low', 0.37201088666915894),\n",
       " ('tweet', 0.3593115210533142),\n",
       " ('watch?v', 0.3535594940185547),\n",
       " ('j.', 0.32857269048690796),\n",
       " ('/r', 0.3285374641418457),\n",
       " ('america', 0.32346367835998535),\n",
       " ('maga', 0.3039381504058838),\n",
       " ('politic', 0.30357444286346436),\n",
       " ('usa', 0.2781744599342346),\n",
       " ('email', 0.2737985849380493),\n",
       " ('great', 0.25517117977142334),\n",
       " ('current', 0.23132556676864624),\n",
       " ('president', 0.21925830841064453),\n",
       " ('theory', 0.21279025077819824),\n",
       " ('wtf', 0.19579297304153442),\n",
       " ('supporter', 0.18486595153808594),\n",
       " ('vote', 0.16519176959991455)]"
      ]
     },
     "execution_count": 108,
     "metadata": {},
     "output_type": "execute_result"
    }
   ],
   "source": [
    "wordDivergences2[:25]"
   ]
  },
  {
   "cell_type": "code",
   "execution_count": 111,
   "metadata": {},
   "outputs": [
    {
     "data": {
      "text/plain": [
       "[('hold', 0.004893362522125244),\n",
       " ('force', 0.004736363887786865),\n",
       " ('use', 0.004646182060241699),\n",
       " ('little', 0.00458604097366333),\n",
       " ('public', 0.004486501216888428),\n",
       " ('end', 0.004378080368041992),\n",
       " ('order', 0.004345953464508057),\n",
       " ('turn', 0.004045367240905762),\n",
       " ('allow', 0.003776073455810547),\n",
       " ('base', 0.0030490756034851074)]"
      ]
     },
     "execution_count": 111,
     "metadata": {},
     "output_type": "execute_result"
    }
   ],
   "source": [
    "wordDivergences2[-10:]"
   ]
  },
  {
   "cell_type": "code",
   "execution_count": 125,
   "metadata": {},
   "outputs": [
    {
     "name": "stdout",
     "output_type": "stream",
     "text": [
      "vote\n"
     ]
    },
    {
     "data": {
      "image/png": "[encoded data removed]",
      "text/plain": [
       "<Figure size 720x504 with 2 Axes>"
      ]
     },
     "metadata": {
      "needs_background": "light"
     },
     "output_type": "display_data"
    }
   ],
   "source": [
    "targetWord = wordDivergences2[24][0]\n",
    "\n",
    "pltDF = getDivergenceDF(targetWord, comparedEmbeddings2)\n",
    "fig, ax = plt.subplots(figsize = (10, 7))\n",
    "seaborn.heatmap(pltDF, ax = ax, annot = False) #set annot True for a lot more information\n",
    "ax.set_xlabel(\"Starting m-year\")\n",
    "ax.set_ylabel(\"Final m-year\")\n",
    "ax.set_ylabel(\"Final m-year\")\n",
    "ax.set_title(\"Monthly linguistic change for: '{}'\".format(targetWord))\n",
    "plt.show()"
   ]
  }
 ],
 "metadata": {
  "kernelspec": {
   "display_name": "Python 3",
   "language": "python",
   "name": "python3"
  },
  "language_info": {
   "codemirror_mode": {
    "name": "ipython",
    "version": 3
   },
   "file_extension": ".py",
   "mimetype": "text/x-python",
   "name": "python",
   "nbconvert_exporter": "python",
   "pygments_lexer": "ipython3",
   "version": "3.6.9"
  }
 },
 "nbformat": 4,
 "nbformat_minor": 2
}
