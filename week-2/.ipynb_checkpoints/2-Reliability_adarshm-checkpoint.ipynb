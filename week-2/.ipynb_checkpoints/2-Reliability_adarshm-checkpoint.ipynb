{
 "cells": [
  {
   "cell_type": "markdown",
   "metadata": {},
   "source": [
    "# Week 2 - Sampling & Reliability\n",
    "\n",
    "Up until this week, we have assumed that the corpus you have used for analysis assignments represented a *meaningful* assemblage of texts from which reasonable inferences could be drawn about the social game, social world and social actors that produced it. \n",
    "\n",
    "This week, we ask you to build a corpus for preliminary analysis and articulate what your sample represents in context of your final project. We begin by exploring how we can get *human* readings of content at scale. We want to gather and utilize human responses for several reasons. First, we may want to use crowdsourced human scores as the primary method of coding, extracting or organizing content (as it was in two of the assigned readings). Second, we may want to validate or tune a computational algorithm we may have developed in terms of how it is associated with human meanings or experience. Finally, we may want to use human coding on a sample of data as the basis for training a model or algorithm to then extrapolate *human-like* annotations to the entire population. Here intelligent sampling is critical to maximize effective maching training. \n",
    "\n",
    "For this notebook we will be using the following packages"
   ]
  },
  {
   "cell_type": "code",
   "execution_count": 2,
   "metadata": {},
   "outputs": [],
   "source": [
    "#Special module written for this class\n",
    "#This provides access to data and to helper functions from previous weeks\n",
    "#Make sure you update it before starting this notebook\n",
    "import lucem_illud_2020 #pip install -U git+git://github.com/Computational-Content-Analysis-2020/lucem_illud_2020.git\n",
    "\n",
    "#All these packages need to be installed from pip\n",
    "import numpy as np #For arrays\n",
    "import scipy as sp #For some stats\n",
    "import pandas #Gives us DataFrames\n",
    "import matplotlib.pyplot as plt #For graphics\n",
    "import seaborn #Makes the graphics look nicer\n",
    "import pyanno #On python3 make sure to pip install pyanno3\n",
    "\n",
    "#We need to import these this way due to how pyanno is setup\n",
    "from pyanno.measures import pairwise_matrix, agreement, cohens_kappa, cohens_weighted_kappa, fleiss_kappa, krippendorffs_alpha, pearsons_rho, scotts_pi, spearmans_rho\n",
    "from pyanno.annotations import AnnotationsContainer\n",
    "from pyanno.models import ModelA, ModelBt, ModelB\n",
    "\n",
    "from functools import reduce\n",
    "from itertools import permutations\n",
    "import math\n",
    "\n",
    "\n",
    "#This 'magic' command makes the plots work better\n",
    "#in the notebook, don't use it outside of a notebook.\n",
    "#Also you can ignore the warning\n",
    "%matplotlib inline\n",
    "\n",
    "import os #For looking through files\n",
    "import os.path #For managing file paths"
   ]
  },
  {
   "cell_type": "markdown",
   "metadata": {},
   "source": [
    "## <span style=\"color:red\">*Pitch the Domain of your Project*</span>\n",
    "\n",
    "<span style=\"color:red\">In the two cells immediately following, describe **WHAT** you are planning to analyze for your final project (i.e., texts, contexts and the social game, world and actors you intend to learn about through your analysis) (<200 words) and **WHY** you are going to do it (i.e., why would theory and/or the average person benefit from knowing the results of your investigation) (<200 words)? [**Note**: your individual or collective project can change over the course of the quarter if new data and/or analysis opportunities arise or if old ones fade away.]"
   ]
  },
  {
   "cell_type": "markdown",
   "metadata": {},
   "source": [
    "## ***What?*** \n",
    "<200 words"
   ]
  },
  {
   "cell_type": "markdown",
   "metadata": {},
   "source": [
    "## ***Why?***\n",
    "<200 words"
   ]
  },
  {
   "cell_type": "markdown",
   "metadata": {},
   "source": [
    "## <span style=\"color:red\">*Pitch Your Sample*</span>\n",
    "\n",
    "<span style=\"color:red\">In the cell immediately following, describe the rationale behind your proposed sample design for your final project. What is the social game, social work, or social actors about whom you are seeking to make inferences? What are its virtues with respect to your research questions? What are its limitations? What are alternatives? What would be a reasonable path to \"scale up\" your sample for further analysis (i.e., high-profile publication)? (<200 words)."
   ]
  },
  {
   "cell_type": "markdown",
   "metadata": {},
   "source": [
    "# Example Annotation Dataset"
   ]
  },
  {
   "cell_type": "markdown",
   "metadata": {},
   "source": [
    "Load Rzhetsky et al (2009)'s sample dataset, which can be found [here](https://github.com/enthought/uchicago-pyanno/tree/master/data). This data is the result of a content analytic / content extraction study in which Andrey Rzhetsky and colleagues from the National Library of Medicine, published [here](http://journals.plos.org/ploscompbiol/article?id=10.1371/journal.pcbi.1000391) in [PLOS Computational Biology](http://journals.plos.org/ploscompbiol/), gave eight annotators 10,000 sentence chunks from biomedical text in biomedical abstracts and articles, then asked them, in a loop design schematically illustrated below that provided 3 independent codings for each document. The sampling strategy pursued diversity by drawing from PubMed abstracts (1000) and full-text articles (9000: 20% from abstracts, 10% from introductions, 20% from methods, 25% from results, and 25% from discussions.) The dataset extract here involves respondents codes for sentences in terms of their *Evidence*: {0, 1, 2, 3, -1} where 0 is the complete lack of evidence, 3 is direct evidence present within the sentence, and -1 is didn't respond. (They also crowdsourced and analyzed *polarity*, *certainty*, and *number*). For example, consider the following two abutting sentence chunks: *\"Because null mutations in toxR and toxT abolish CT and TcpA expression in the El Tor biotype and also attenuate virulence...\"* [i.e., average certainty = 0], *\"...it is likely that the ToxR regulon has functional similarities between the two biotypes despite the clear differences in the inducing parameters observed in vitro\"* [i.e., average certainty = 1].\""
   ]
  },
  {
   "cell_type": "code",
   "execution_count": 3,
   "metadata": {},
   "outputs": [
    {
     "data": {
      "text/html": [
       "<img source=\"loopdesign.png\">\n"
      ],
      "text/plain": [
       "<IPython.core.display.HTML object>"
      ]
     },
     "metadata": {},
     "output_type": "display_data"
    }
   ],
   "source": [
    "%%html\n",
    "<img source=\"loopdesign.png\">"
   ]
  },
  {
   "cell_type": "markdown",
   "metadata": {},
   "source": [
    "[Click here for loop design](loopdesign.png)"
   ]
  },
  {
   "cell_type": "code",
   "execution_count": 4,
   "metadata": {},
   "outputs": [],
   "source": [
    "x = np.loadtxt(\"../data/pyAnno/testdata_numerical.txt\")\n",
    "anno = AnnotationsContainer.from_array(x, missing_values=[-1])"
   ]
  },
  {
   "cell_type": "code",
   "execution_count": 47,
   "metadata": {},
   "outputs": [
    {
     "data": {
      "text/plain": [
       "8"
      ]
     },
     "execution_count": 47,
     "metadata": {},
     "output_type": "execute_result"
    }
   ],
   "source": [
    "len(x[1])"
   ]
  },
  {
   "cell_type": "markdown",
   "metadata": {},
   "source": [
    "Interrogate the AnnotationsContainer object."
   ]
  },
  {
   "cell_type": "code",
   "execution_count": 5,
   "metadata": {},
   "outputs": [
    {
     "data": {
      "text/plain": [
       "array([[ 1,  2,  3, ..., -1, -1, -1],\n",
       "       [ 0,  0,  0, ..., -1, -1, -1],\n",
       "       [ 2,  2,  1, ..., -1, -1, -1],\n",
       "       ...,\n",
       "       [ 2,  2, -1, ..., -1, -1,  1],\n",
       "       [ 2,  2, -1, ..., -1, -1,  3],\n",
       "       [ 1,  1, -1, ..., -1, -1,  0]])"
      ]
     },
     "execution_count": 5,
     "metadata": {},
     "output_type": "execute_result"
    }
   ],
   "source": [
    "anno.annotations"
   ]
  },
  {
   "cell_type": "code",
   "execution_count": 6,
   "metadata": {},
   "outputs": [
    {
     "data": {
      "text/plain": [
       "[1.0, 2.0, 3.0, 4.0]"
      ]
     },
     "execution_count": 6,
     "metadata": {},
     "output_type": "execute_result"
    }
   ],
   "source": [
    "anno.labels"
   ]
  },
  {
   "cell_type": "code",
   "execution_count": 7,
   "metadata": {},
   "outputs": [
    {
     "data": {
      "text/plain": [
       "[-1]"
      ]
     },
     "execution_count": 7,
     "metadata": {},
     "output_type": "execute_result"
    }
   ],
   "source": [
    "anno.missing_values"
   ]
  },
  {
   "cell_type": "markdown",
   "metadata": {},
   "source": [
    "# Annotation Statistics"
   ]
  },
  {
   "cell_type": "markdown",
   "metadata": {},
   "source": [
    "First, we assume categorical codes...that each code is qualitatively distinct from each other. Two measures are primarily used for this: Scott's $\\pi$, Cohen's $\\kappa$, and Krippendorff's $\\alpha$ which each measure the extent of agreement between two annotators, but take into account the possibility of the agreement occurring by chance in slightly different ways. Any agreement measure begins with the frequency of codes:"
   ]
  },
  {
   "cell_type": "code",
   "execution_count": 8,
   "metadata": {},
   "outputs": [
    {
     "data": {
      "text/plain": [
       "array([0.11666667, 0.245     , 0.34083333, 0.2975    ])"
      ]
     },
     "execution_count": 8,
     "metadata": {},
     "output_type": "execute_result"
    }
   ],
   "source": [
    "pyanno.measures.agreement.labels_frequency(anno.annotations,4)"
   ]
  },
  {
   "cell_type": "markdown",
   "metadata": {},
   "source": [
    "Now consider the \"confusion matrix\" or matrix of coded agreements between any two coders:"
   ]
  },
  {
   "cell_type": "code",
   "execution_count": 9,
   "metadata": {},
   "outputs": [
    {
     "name": "stdout",
     "output_type": "stream",
     "text": [
      "[[ 8.  7.  3.  2.]\n",
      " [ 9. 30. 13.  3.]\n",
      " [ 2.  9. 42. 11.]\n",
      " [ 1.  7. 14. 39.]]\n"
     ]
    },
    {
     "data": {
      "image/png": "[encoded data removed]",
      "text/plain": [
       "<Figure size 432x288 with 2 Axes>"
      ]
     },
     "metadata": {
      "needs_background": "light"
     },
     "output_type": "display_data"
    }
   ],
   "source": [
    "c = pyanno.measures.agreement.confusion_matrix(anno.annotations[:,0], anno.annotations[:,1],4)\n",
    "print(c)\n",
    "ac = seaborn.heatmap(c)\n",
    "plt.show()"
   ]
  },
  {
   "cell_type": "markdown",
   "metadata": {},
   "source": [
    "Scott's $\\pi$ is computed as:\n",
    "\n",
    "$\\pi = \\frac{\\text{Pr}(a)-\\text{Pr}(e)}{1-\\text{Pr}(e)}$\n",
    "\n",
    "Where Pr($a$) is relative observed agreement, and Pr($e$) is expected agreement using joint proportions calculated from the confusion matrix or matrix of coded agreements between any two coders:"
   ]
  },
  {
   "cell_type": "code",
   "execution_count": 10,
   "metadata": {},
   "outputs": [
    {
     "data": {
      "text/plain": [
       "0.4386478265891502"
      ]
     },
     "execution_count": 10,
     "metadata": {},
     "output_type": "execute_result"
    }
   ],
   "source": [
    "scotts_pi(anno.annotations[:,0], anno.annotations[:,1])"
   ]
  },
  {
   "cell_type": "markdown",
   "metadata": {},
   "source": [
    "The generalization of Scott's $\\pi$ to $n$ coders is Fleiss' $\\kappa$ (Fleiss called it $\\kappa$ because he thought he was generalizing Cohen's $\\kappa$)"
   ]
  },
  {
   "cell_type": "code",
   "execution_count": 11,
   "metadata": {},
   "outputs": [
    {
     "data": {
      "text/plain": [
       "0.40417653771912765"
      ]
     },
     "execution_count": 11,
     "metadata": {},
     "output_type": "execute_result"
    }
   ],
   "source": [
    "fleiss_kappa(anno.annotations[::])"
   ]
  },
  {
   "cell_type": "markdown",
   "metadata": {},
   "source": [
    "Krippendorff's $\\alpha$ generalizes of Fleiss' $\\kappa$ to $n$ coders and takes into account the fact that annotations here are not categorically different, but ordinal, by adding a weight matrix in which off-diagonal cells contain weights indicating the seriousness of the disagreement between each score. When produced with no arguments, it simply produces an arithmetic distance (e.g., 3-1=2), such that cells one off the diagonal are weighted 1, two off 2, etc."
   ]
  },
  {
   "cell_type": "code",
   "execution_count": 12,
   "metadata": {},
   "outputs": [
    {
     "data": {
      "text/plain": [
       "0.6472588223831547"
      ]
     },
     "execution_count": 12,
     "metadata": {},
     "output_type": "execute_result"
    }
   ],
   "source": [
    "krippendorffs_alpha(anno.annotations[::])"
   ]
  },
  {
   "cell_type": "markdown",
   "metadata": {},
   "source": [
    "Like Scott's $\\pi$, Cohen's $\\kappa$ also takes into account the possibility of the agreement occurring by chance, but in the following way:\n",
    "\n",
    "$\\kappa = \\frac{p_o-p_e}{1-p_e}=1-\\frac{1-p_o}{p_e}$\n",
    "\n",
    "where $p_o$ is the relative observed agreement among raters, and $p_e$ is the hypothetical probability of chance agreement, using the observed data to calculate the probabilities of each observer randomly saying each category. If the raters are in complete agreement then $\\kappa = 1$. If there is no agreement among the raters other than what would be expected by chance (as given by $p_e$), $\\kappa ≤ 0 $. Here, Cohen's $\\kappa$ statistic for the first two annotators is computed. This is probably the most common metric of agreement."
   ]
  },
  {
   "cell_type": "code",
   "execution_count": 14,
   "metadata": {},
   "outputs": [
    {
     "data": {
      "text/plain": [
       "0.43917037219392857"
      ]
     },
     "execution_count": 14,
     "metadata": {},
     "output_type": "execute_result"
    }
   ],
   "source": [
    "cohens_kappa(anno.annotations[:,0], anno.annotations[:,1])"
   ]
  },
  {
   "cell_type": "code",
   "execution_count": 15,
   "metadata": {},
   "outputs": [
    {
     "name": "stdout",
     "output_type": "stream",
     "text": [
      "[[1.         0.43917037 0.47677621        nan        nan        nan\n",
      "  0.45819119 0.43381462]\n",
      " [0.43917037 1.         0.38432922 0.41344423        nan        nan\n",
      "         nan 0.33643611]\n",
      " [0.47677621 0.38432922 1.         0.39583333 0.51704894        nan\n",
      "         nan        nan]\n",
      " [       nan 0.41344423 0.39583333 1.         0.34597068 0.4446844\n",
      "         nan        nan]\n",
      " [       nan        nan 0.51704894 0.34597068 1.         0.37938644\n",
      "  0.43039733        nan]\n",
      " [       nan        nan        nan 0.4446844  0.37938644 1.\n",
      "  0.38341929 0.31214748]\n",
      " [0.45819119        nan        nan        nan 0.43039733 0.38341929\n",
      "  1.         0.394806  ]\n",
      " [0.43381462 0.33643611        nan        nan        nan 0.31214748\n",
      "  0.394806   1.        ]]\n"
     ]
    }
   ],
   "source": [
    "m = pairwise_matrix(cohens_kappa, anno.annotations)\n",
    "print(m)"
   ]
  },
  {
   "cell_type": "code",
   "execution_count": 16,
   "metadata": {},
   "outputs": [
    {
     "data": {
      "image/png": "[encoded data removed]",
      "text/plain": [
       "<Figure size 432x288 with 2 Axes>"
      ]
     },
     "metadata": {
      "needs_background": "light"
     },
     "output_type": "display_data"
    }
   ],
   "source": [
    "ax = seaborn.heatmap(m)\n",
    "plt.show()"
   ]
  },
  {
   "cell_type": "markdown",
   "metadata": {},
   "source": [
    "You can see that this 8 by 3 loop design will be less stable than an 8 choose 3 combinatorial design, because each codes with more others. "
   ]
  },
  {
   "cell_type": "markdown",
   "metadata": {},
   "source": [
    "One can also assess the average Cohen's $\\kappa$ for all pairs of coders that have coded against one another:"
   ]
  },
  {
   "cell_type": "code",
   "execution_count": 17,
   "metadata": {},
   "outputs": [
    {
     "data": {
      "text/plain": [
       "0.40911598940065674"
      ]
     },
     "execution_count": 17,
     "metadata": {},
     "output_type": "execute_result"
    }
   ],
   "source": [
    "def pairwise_metric_average(metric, array):\n",
    "    \"\"\"Calculate the pairwise metric average for the real elements of metric function run on an array of annotations\"\"\"\n",
    "    p = permutations(range(array[0,:].size),2)\n",
    "    m = [metric(array[:,x[0]], array[:,x[1]]) for x in p]\n",
    "    clean_m = [c for c in m if not math.isnan(c)]\n",
    "    return reduce(lambda a, b: a + b, clean_m)/len(clean_m)    \n",
    " \n",
    "pairwise_metric_average(cohens_kappa, anno.annotations)"
   ]
  },
  {
   "cell_type": "markdown",
   "metadata": {},
   "source": [
    "As recognized with Krippendorff's flexible $\\alpha$, our scores are *not* categorical, but rather ordered and her considered metric. Weighted $\\kappa$ allows you to count disagreements differently and is useful when codes are ordered as they are here. Here a weight matrix is added to the calculation, in which off-diagonal cells contain weights indicating the seriousness of the disagreement between each score. When automatically produced, it simply produces an arithmetic distance (e.g., 3-1=2), such that cells one off the diagonal are weighted 1, two off 2, etc. Here\n",
    "\n",
    "$\\kappa = 1-\\frac{\\sum^k_{i=1}\\sum^k_{j=1}w_{ij}x_{ij}}{\\sum^k_{i=1}\\sum^k_{j=1}w_{ij}m_{ij}}$\n",
    "\n",
    "where $\\kappa$ = $n$ codes and $w_{ij}$,$x_{ij}$, and $m_{ij}$ represent elements in the weight, observed, and expected matrices, respectively. (Obviously, when diagonal cells contain weights of 0 and off-diagonal cells weights of 1, this equals $\\kappa$)."
   ]
  },
  {
   "cell_type": "code",
   "execution_count": 18,
   "metadata": {},
   "outputs": [
    {
     "data": {
      "text/plain": [
       "0.5330240507874497"
      ]
     },
     "execution_count": 18,
     "metadata": {},
     "output_type": "execute_result"
    }
   ],
   "source": [
    "cohens_weighted_kappa(anno.annotations[:,0], anno.annotations[:,1])"
   ]
  },
  {
   "cell_type": "markdown",
   "metadata": {},
   "source": [
    "Or averaged over the total:"
   ]
  },
  {
   "cell_type": "code",
   "execution_count": 19,
   "metadata": {},
   "outputs": [
    {
     "data": {
      "text/plain": [
       "0.5299113458717166"
      ]
     },
     "execution_count": 19,
     "metadata": {},
     "output_type": "execute_result"
    }
   ],
   "source": [
    "pairwise_metric_average(cohens_weighted_kappa,anno.annotations)"
   ]
  },
  {
   "cell_type": "markdown",
   "metadata": {},
   "source": [
    "Alternatively, if the annontation data can be understood as indicating real values, we can assess not agreement, but rather the correlation of values (Pearson's $\\rho$) or correlation of ranks (Spearman's $\\rho$) for pairs of coders:"
   ]
  },
  {
   "cell_type": "code",
   "execution_count": 20,
   "metadata": {},
   "outputs": [
    {
     "data": {
      "image/png": "[encoded data removed]",
      "text/plain": [
       "<Figure size 432x288 with 2 Axes>"
      ]
     },
     "metadata": {
      "needs_background": "light"
     },
     "output_type": "display_data"
    },
    {
     "data": {
      "image/png": "[encoded data removed]",
      "text/plain": [
       "<Figure size 432x288 with 2 Axes>"
      ]
     },
     "metadata": {
      "needs_background": "light"
     },
     "output_type": "display_data"
    }
   ],
   "source": [
    "n = pairwise_matrix(pearsons_rho, anno.annotations)\n",
    "m = pairwise_matrix(spearmans_rho, anno.annotations)\n",
    "an = seaborn.heatmap(n)\n",
    "plt.show()\n",
    "am = seaborn.heatmap(m)\n",
    "plt.show()"
   ]
  },
  {
   "cell_type": "markdown",
   "metadata": {},
   "source": [
    "Or averaged over all comparable pairs:"
   ]
  },
  {
   "cell_type": "code",
   "execution_count": 21,
   "metadata": {},
   "outputs": [
    {
     "name": "stdout",
     "output_type": "stream",
     "text": [
      "0.6517219321175077 0.63808488688039\n"
     ]
    }
   ],
   "source": [
    "print(pairwise_metric_average(pearsons_rho,anno.annotations), pairwise_metric_average(spearmans_rho,anno.annotations))"
   ]
  },
  {
   "cell_type": "markdown",
   "metadata": {},
   "source": [
    "## <span style=\"color:red\">*Your turn*</span>\n",
    "\n",
    "<span style=\"color:red\">Perform a content annotation survey of some kind in which at least 3 people evaluate and code each piece of content, using Amazon Mechanical Turk as described in the MTurk slides in the Assignment link on Canvas, or by hand with friends.  With the resulting data, calculate, visualize and discuss inter-coder agreement or covariation with appropriate metrics. What does this means for the reliability of human assessments regarding content in your domain?"
   ]
  },
  {
   "cell_type": "code",
   "execution_count": 66,
   "metadata": {},
   "outputs": [
    {
     "data": {
      "text/plain": [
       "array([[ 0,  5,  4,  0,  0,  0,  1, -1,  0],\n",
       "       [ 2,  2,  2,  2,  2,  2, -1,  2,  5],\n",
       "       [ 3,  3,  2,  1,  0,  3,  3,  1,  0],\n",
       "       [ 0,  1,  1,  1,  1,  1, -1,  0,  0],\n",
       "       [ 2,  5, -1,  4,  4,  4,  3,  1,  4],\n",
       "       [ 0, -1, -1,  0,  0,  0,  0,  4,  0],\n",
       "       [ 2, -1,  4,  4,  4,  4, -1,  2, -1],\n",
       "       [ 0, -1,  0,  0,  0,  0, -1,  0,  2],\n",
       "       [ 0, -1,  0,  4,  4,  4, -1, -1,  4],\n",
       "       [ 2, -1,  2,  4,  4,  2, -1,  2,  2],\n",
       "       [ 1, -1,  1,  2,  4,  1, -1,  0,  0]])"
      ]
     },
     "execution_count": 66,
     "metadata": {},
     "output_type": "execute_result"
    }
   ],
   "source": [
    "x_incels = np.genfromtxt(\"../week-2/survey_responses_clean.csv\", delimiter = ',').transpose()\n",
    "anno_incels = AnnotationsContainer.from_array(x_incels, missing_values=[-1])\n",
    "anno_incels.annotations"
   ]
  },
  {
   "cell_type": "code",
   "execution_count": 69,
   "metadata": {},
   "outputs": [
    {
     "data": {
      "text/plain": [
       "array([0.32098765, 0.14814815, 0.22222222, 0.0617284 , 0.20987654,\n",
       "       0.03703704])"
      ]
     },
     "execution_count": 69,
     "metadata": {},
     "output_type": "execute_result"
    }
   ],
   "source": [
    "anno_incels.labels\n",
    "pyanno.measures.agreement.labels_frequency(anno_incels.annotations,6)"
   ]
  },
  {
   "cell_type": "code",
   "execution_count": 70,
   "metadata": {},
   "outputs": [
    {
     "name": "stdout",
     "output_type": "stream",
     "text": [
      "[[ 1.          0.32653061  0.41333333  0.19791667  0.19791667  0.53684211\n",
      "   0.38888889  0.37142857  0.14285714]\n",
      " [ 0.32653061  1.          0.4375      0.35294118  0.37735849  0.56\n",
      "   0.21568627  0.15625    -0.08695652]\n",
      " [ 0.41333333  0.4375      1.          0.26666667  0.27631579  0.57142857\n",
      "  -0.125       0.22857143 -0.125     ]\n",
      " [ 0.19791667  0.35294118  0.26666667  1.          0.74117647  0.64130435\n",
      "   0.15384615  0.13157895  0.20481928]\n",
      " [ 0.19791667  0.37735849  0.27631579  0.74117647  1.          0.63333333\n",
      "   0.15384615  0.          0.29487179]\n",
      " [ 0.53684211  0.56        0.57142857  0.64130435  0.63333333  1.\n",
      "   0.40540541  0.14285714  0.35294118]\n",
      " [ 0.38888889  0.21568627 -0.125       0.15384615  0.15384615  0.40540541\n",
      "   1.         -0.16129032  0.14285714]\n",
      " [ 0.37142857  0.15625     0.22857143  0.13157895  0.          0.14285714\n",
      "  -0.16129032  1.          0.16044776]\n",
      " [ 0.14285714 -0.08695652 -0.125       0.20481928  0.29487179  0.35294118\n",
      "   0.14285714  0.16044776  1.        ]]\n"
     ]
    }
   ],
   "source": [
    "m_incels = pairwise_matrix(cohens_kappa, anno_incels.annotations)\n",
    "print(m_incels)"
   ]
  },
  {
   "cell_type": "code",
   "execution_count": 71,
   "metadata": {},
   "outputs": [
    {
     "data": {
      "image/png": "[encoded data removed]",
      "text/plain": [
       "<Figure size 432x288 with 2 Axes>"
      ]
     },
     "metadata": {
      "needs_background": "light"
     },
     "output_type": "display_data"
    }
   ],
   "source": [
    "ax_incels = seaborn.heatmap(m_incels)\n",
    "plt.show()"
   ]
  },
  {
   "cell_type": "code",
   "execution_count": 72,
   "metadata": {},
   "outputs": [
    {
     "data": {
      "text/plain": [
       "0.2688741846747014"
      ]
     },
     "execution_count": 72,
     "metadata": {},
     "output_type": "execute_result"
    }
   ],
   "source": [
    "pairwise_metric_average(cohens_kappa, anno_incels.annotations)"
   ]
  },
  {
   "cell_type": "code",
   "execution_count": 73,
   "metadata": {},
   "outputs": [
    {
     "data": {
      "text/plain": [
       "0.2866174800865167"
      ]
     },
     "execution_count": 73,
     "metadata": {},
     "output_type": "execute_result"
    }
   ],
   "source": [
    "pairwise_metric_average(cohens_weighted_kappa, anno_incels.annotations)"
   ]
  },
  {
   "cell_type": "markdown",
   "metadata": {},
   "source": [
    "# Models"
   ]
  },
  {
   "cell_type": "markdown",
   "metadata": {},
   "source": [
    "However, what if some coders are better than others. The prior measures all rely on the assumption that all coders are equally good. What if some are worse than others? Now we use Rzhetsky et al (2009) and Dawid & Skene's models to make inference about true label classes by downweighting bad or deviant coders. Pyanno provides three relevant models: ModelA, ModelB, and ModelBt. Model A can only be currently run on a balanced 8-coder design, but assesses accuracy purely based on agreement. Model B with $\\theta$s models the relationship between each coder and code. Model B is the Dawid & Skene model from the reading. The following image schematically suggests the relationship between the models. <img src=\"../data/models.png\">"
   ]
  },
  {
   "cell_type": "markdown",
   "metadata": {},
   "source": [
    "The models should provide similar results. To estimate the parameters for any models, we first need to create a new model. "
   ]
  },
  {
   "cell_type": "code",
   "execution_count": 53,
   "metadata": {},
   "outputs": [
    {
     "data": {
      "text/plain": [
       "8"
      ]
     },
     "execution_count": 53,
     "metadata": {},
     "output_type": "execute_result"
    }
   ],
   "source": [
    "anno.annotations\n",
    "len(anno.annotations[3])"
   ]
  },
  {
   "cell_type": "code",
   "execution_count": 48,
   "metadata": {},
   "outputs": [
    {
     "name": "stdout",
     "output_type": "stream",
     "text": [
      "[[[0.60145909 0.16268296 0.19822025 0.0376377 ]\n",
      "  [0.1679693  0.51432678 0.25855488 0.05914904]\n",
      "  [0.04989295 0.16107181 0.72215234 0.06688289]\n",
      "  [0.00632556 0.10841869 0.1822133  0.70304245]]\n",
      "\n",
      " [[0.63905214 0.32982881 0.02489627 0.00622278]\n",
      "  [0.08109974 0.78159047 0.05159761 0.08571218]\n",
      "  [0.0846317  0.03876709 0.63263828 0.24396293]\n",
      "  [0.01096582 0.08339035 0.18579161 0.71985222]]\n",
      "\n",
      " [[0.572144   0.23878003 0.06206662 0.12700934]\n",
      "  [0.22016754 0.52784006 0.17587553 0.07611687]\n",
      "  [0.01829167 0.127178   0.76989974 0.08463059]\n",
      "  [0.0520802  0.0702947  0.17171155 0.70591355]]\n",
      "\n",
      " [[0.81476026 0.14556598 0.03089691 0.00877685]\n",
      "  [0.13507474 0.76630886 0.0421     0.0565164 ]\n",
      "  [0.03892154 0.07131959 0.62691595 0.26284291]\n",
      "  [0.10926    0.08472258 0.32659587 0.47942156]]\n",
      "\n",
      " [[0.78324825 0.18178408 0.02037958 0.0145881 ]\n",
      "  [0.12867708 0.55999017 0.21066433 0.10066843]\n",
      "  [0.05067729 0.23436841 0.67385055 0.04110374]\n",
      "  [0.01544882 0.1202654  0.21102361 0.65326218]]\n",
      "\n",
      " [[0.61463416 0.2087212  0.14700202 0.02964261]\n",
      "  [0.21114798 0.6737345  0.09368595 0.02143156]\n",
      "  [0.04918161 0.23150942 0.66004243 0.05926654]\n",
      "  [0.01839023 0.06084854 0.1832867  0.73747452]]\n",
      "\n",
      " [[0.69897482 0.16332289 0.0480328  0.08966949]\n",
      "  [0.11482058 0.65764868 0.14740237 0.08012837]\n",
      "  [0.07517388 0.15137772 0.68659946 0.08684894]\n",
      "  [0.15620453 0.02069079 0.12919438 0.69391031]]\n",
      "\n",
      " [[0.66385446 0.19479034 0.03429588 0.10705932]\n",
      "  [0.16614907 0.54106873 0.20071492 0.09206729]\n",
      "  [0.13152934 0.17761178 0.57770106 0.11315781]\n",
      "  [0.02676281 0.0265633  0.29288915 0.65378474]]]\n",
      "-2852.1721393490275\n"
     ]
    }
   ],
   "source": [
    "# create a new instance of model A, with 4 label classes\n",
    "model = ModelB.create_initial_state(4, 8)\n",
    "# other model parameters are initialized from the model prior\n",
    "print(model.theta)\n",
    "print(model.log_likelihood(anno.annotations))"
   ]
  },
  {
   "cell_type": "code",
   "execution_count": 24,
   "metadata": {},
   "outputs": [],
   "source": [
    "samples = model.sample_posterior_over_accuracy(anno.annotations, 200, burn_in_samples=100, thin_samples=3)"
   ]
  },
  {
   "cell_type": "markdown",
   "metadata": {},
   "source": [
    "Pyanno allows one to use either MLE (maximum likelihood estimation) or MAP (maximum a posteriori estimation) to estimate model parameters. Note that the parameters here correspond to our estimation of the accuracy of each annotator."
   ]
  },
  {
   "cell_type": "code",
   "execution_count": 25,
   "metadata": {},
   "outputs": [
    {
     "name": "stdout",
     "output_type": "stream",
     "text": [
      "[[[7.73398728e-01 2.01020245e-01 2.55810269e-02 1.20101219e-26]\n",
      "  [1.47832659e-01 7.11503767e-01 7.66499157e-02 6.40136580e-02]\n",
      "  [1.97431020e-02 1.48708709e-01 6.96639326e-01 1.34908863e-01]\n",
      "  [2.52463780e-18 2.13647377e-02 8.51550428e-02 8.93480220e-01]]\n",
      "\n",
      " [[7.19395465e-01 2.01828761e-01 7.87757734e-02 1.55486964e-13]\n",
      "  [1.33941799e-01 7.07223261e-01 1.10418200e-01 4.84167403e-02]\n",
      "  [2.72093282e-02 1.65178369e-01 6.71232700e-01 1.36379603e-01]\n",
      "  [2.15358721e-30 5.38211823e-02 1.21871740e-01 8.24307077e-01]]\n",
      "\n",
      " [[8.50073137e-01 1.22955501e-01 2.69713621e-02 3.64395738e-42]\n",
      "  [8.93514251e-02 7.89280333e-01 8.93429608e-02 3.20252811e-02]\n",
      "  [6.11638366e-02 1.29121422e-01 7.03992731e-01 1.05722011e-01]\n",
      "  [6.53666390e-03 5.12606512e-02 2.10869595e-01 7.31333090e-01]]\n",
      "\n",
      " [[6.99612801e-01 2.70976969e-01 2.94102301e-02 8.57899704e-52]\n",
      "  [9.67171336e-02 7.62615701e-01 1.09523823e-01 3.11433425e-02]\n",
      "  [1.81150586e-02 1.45472330e-01 6.85587954e-01 1.50824657e-01]\n",
      "  [2.71897111e-47 2.98511124e-02 2.28749569e-01 7.41399319e-01]]\n",
      "\n",
      " [[8.11803144e-01 1.19373545e-01 6.88233110e-02 9.13991546e-49]\n",
      "  [1.24726986e-01 6.93211818e-01 1.47008725e-01 3.50524714e-02]\n",
      "  [1.10580622e-02 2.13907919e-01 6.46719976e-01 1.28314044e-01]\n",
      "  [6.58948915e-52 5.98095047e-02 1.82979139e-01 7.57211357e-01]]\n",
      "\n",
      " [[7.71186748e-01 2.05349662e-01 2.34635900e-02 1.87519848e-51]\n",
      "  [1.10920303e-01 6.98703449e-01 1.62586425e-01 2.77898237e-02]\n",
      "  [2.69432947e-02 1.74971748e-01 6.58688648e-01 1.39396309e-01]\n",
      "  [1.04070689e-20 8.19488668e-02 1.50728042e-01 7.67323091e-01]]\n",
      "\n",
      " [[7.77751875e-01 1.41612394e-01 8.06357307e-02 7.49343463e-22]\n",
      "  [1.14108703e-01 6.72056519e-01 1.68346177e-01 4.54886006e-02]\n",
      "  [1.60943993e-02 1.18997632e-01 7.24591200e-01 1.40316769e-01]\n",
      "  [9.41957786e-52 4.72911966e-02 1.30538454e-01 8.22170350e-01]]\n",
      "\n",
      " [[8.52754118e-01 1.18087361e-01 2.91585215e-02 1.95577162e-42]\n",
      "  [1.29319568e-01 6.36012446e-01 1.95669325e-01 3.89986612e-02]\n",
      "  [2.96631200e-02 1.67273811e-01 6.42736730e-01 1.60326339e-01]\n",
      "  [1.03418107e-24 4.32627993e-02 1.13010804e-01 8.43726397e-01]]]\n",
      "-2625.8850676193924\n"
     ]
    }
   ],
   "source": [
    "model.map(anno.annotations)\n",
    "print(model.theta)\n",
    "print(model.log_likelihood(anno.annotations))"
   ]
  },
  {
   "cell_type": "code",
   "execution_count": 26,
   "metadata": {},
   "outputs": [
    {
     "name": "stdout",
     "output_type": "stream",
     "text": [
      "[[[7.73398728e-01 2.01020245e-01 2.55810269e-02 1.20101219e-26]\n",
      "  [1.47832659e-01 7.11503767e-01 7.66499157e-02 6.40136580e-02]\n",
      "  [1.97431020e-02 1.48708709e-01 6.96639326e-01 1.34908863e-01]\n",
      "  [2.52463780e-18 2.13647377e-02 8.51550428e-02 8.93480220e-01]]\n",
      "\n",
      " [[7.19395465e-01 2.01828761e-01 7.87757734e-02 1.55486964e-13]\n",
      "  [1.33941799e-01 7.07223261e-01 1.10418200e-01 4.84167403e-02]\n",
      "  [2.72093282e-02 1.65178369e-01 6.71232700e-01 1.36379603e-01]\n",
      "  [2.15358721e-30 5.38211823e-02 1.21871740e-01 8.24307077e-01]]\n",
      "\n",
      " [[8.50073137e-01 1.22955501e-01 2.69713621e-02 3.64395738e-42]\n",
      "  [8.93514251e-02 7.89280333e-01 8.93429608e-02 3.20252811e-02]\n",
      "  [6.11638366e-02 1.29121422e-01 7.03992731e-01 1.05722011e-01]\n",
      "  [6.53666390e-03 5.12606512e-02 2.10869595e-01 7.31333090e-01]]\n",
      "\n",
      " [[6.99612801e-01 2.70976969e-01 2.94102301e-02 8.57899704e-52]\n",
      "  [9.67171336e-02 7.62615701e-01 1.09523823e-01 3.11433425e-02]\n",
      "  [1.81150586e-02 1.45472330e-01 6.85587954e-01 1.50824657e-01]\n",
      "  [2.71897111e-47 2.98511124e-02 2.28749569e-01 7.41399319e-01]]\n",
      "\n",
      " [[8.11803144e-01 1.19373545e-01 6.88233110e-02 9.13991546e-49]\n",
      "  [1.24726986e-01 6.93211818e-01 1.47008725e-01 3.50524714e-02]\n",
      "  [1.10580622e-02 2.13907919e-01 6.46719976e-01 1.28314044e-01]\n",
      "  [6.58948915e-52 5.98095047e-02 1.82979139e-01 7.57211357e-01]]\n",
      "\n",
      " [[7.71186748e-01 2.05349662e-01 2.34635900e-02 1.87519848e-51]\n",
      "  [1.10920303e-01 6.98703449e-01 1.62586425e-01 2.77898237e-02]\n",
      "  [2.69432947e-02 1.74971748e-01 6.58688648e-01 1.39396309e-01]\n",
      "  [1.04070689e-20 8.19488668e-02 1.50728042e-01 7.67323091e-01]]\n",
      "\n",
      " [[7.77751875e-01 1.41612394e-01 8.06357307e-02 7.49343463e-22]\n",
      "  [1.14108703e-01 6.72056519e-01 1.68346177e-01 4.54886006e-02]\n",
      "  [1.60943993e-02 1.18997632e-01 7.24591200e-01 1.40316769e-01]\n",
      "  [9.41957786e-52 4.72911966e-02 1.30538454e-01 8.22170350e-01]]\n",
      "\n",
      " [[8.52754118e-01 1.18087361e-01 2.91585215e-02 1.95577162e-42]\n",
      "  [1.29319568e-01 6.36012446e-01 1.95669325e-01 3.89986612e-02]\n",
      "  [2.96631200e-02 1.67273811e-01 6.42736730e-01 1.60326339e-01]\n",
      "  [1.03418107e-24 4.32627993e-02 1.13010804e-01 8.43726397e-01]]]\n",
      "-2625.8850676193924\n"
     ]
    }
   ],
   "source": [
    "model = ModelB.create_initial_state(4, 8)\n",
    "model.map(anno.annotations)\n",
    "print(model.theta)\n",
    "print(model.log_likelihood(anno.annotations))"
   ]
  },
  {
   "cell_type": "markdown",
   "metadata": {},
   "source": [
    "Once we have model parameters estimated, we can now make inferences about the true label classes. We can calculate the posterior distribution over the true label classes."
   ]
  },
  {
   "cell_type": "code",
   "execution_count": 27,
   "metadata": {},
   "outputs": [
    {
     "name": "stdout",
     "output_type": "stream",
     "text": [
      "[[1.20741380e-42 1.00240780e-01 7.90821679e-01 1.08937540e-01]\n",
      " [9.92682453e-01 7.07056554e-03 2.46981317e-04 2.03944498e-49]\n",
      " [1.07420297e-03 5.51435353e-02 9.37476514e-01 6.30574822e-03]\n",
      " ...\n",
      " [8.15378491e-04 3.51193436e-02 9.59859130e-01 4.20614824e-03]\n",
      " [1.34481992e-44 2.14447325e-03 9.16166870e-01 8.16886569e-02]\n",
      " [2.14745550e-01 7.69057353e-01 1.61970966e-02 2.01807019e-26]]\n"
     ]
    }
   ],
   "source": [
    "posterior = model.infer_labels(anno.annotations)\n",
    "print(posterior)"
   ]
  },
  {
   "cell_type": "markdown",
   "metadata": {},
   "source": [
    "Let's turn the posterior of the first 100 samples into a heatmap."
   ]
  },
  {
   "cell_type": "code",
   "execution_count": 28,
   "metadata": {},
   "outputs": [],
   "source": [
    "votes = []\n",
    "for r in anno.annotations:\n",
    "    v = [0] * len(anno.labels)\n",
    "    votes.append(v)\n",
    "    for a in r:\n",
    "        if a > -1:\n",
    "            v[a] += 1\n",
    "votes_array = np.array(votes)"
   ]
  },
  {
   "cell_type": "code",
   "execution_count": 29,
   "metadata": {},
   "outputs": [
    {
     "data": {
      "image/png": "[encoded data removed]",
      "text/plain": [
       "<Figure size 1080x720 with 4 Axes>"
      ]
     },
     "metadata": {
      "needs_background": "light"
     },
     "output_type": "display_data"
    }
   ],
   "source": [
    "fig, (ax1, ax2) = plt.subplots(ncols=2, figsize = (15, 10), sharey=True)\n",
    "num_questions = 20\n",
    "\n",
    "seaborn.heatmap(votes_array[:num_questions], annot = True, ax=ax2)\n",
    "seaborn.heatmap(posterior[:num_questions], annot=True, ax =ax1)\n",
    "ax1.set_title(\"Model\")\n",
    "ax2.set_title(\"Votes\")\n",
    "plt.show()"
   ]
  },
  {
   "cell_type": "markdown",
   "metadata": {},
   "source": [
    "This differs markedly from taking annotator scores at face value (Add comparison of average values)"
   ]
  },
  {
   "cell_type": "code",
   "execution_count": 30,
   "metadata": {},
   "outputs": [],
   "source": [
    "samples = model.sample_posterior_over_accuracy(anno.annotations, 200, burn_in_samples=100, thin_samples=3)"
   ]
  },
  {
   "cell_type": "code",
   "execution_count": 31,
   "metadata": {},
   "outputs": [
    {
     "name": "stdout",
     "output_type": "stream",
     "text": [
      "[[[0.73147232 0.20252897 0.04539374 0.02060496]\n",
      "  [0.14136387 0.68846244 0.09548751 0.07468618]\n",
      "  [0.02707091 0.1546092  0.6791142  0.13920569]\n",
      "  [0.01310918 0.03152736 0.09919235 0.85617111]]\n",
      "\n",
      " [[0.67561498 0.20414675 0.09025238 0.02998589]\n",
      "  [0.1297414  0.69654312 0.12320782 0.05050766]\n",
      "  [0.03299544 0.16530267 0.67125228 0.13044961]\n",
      "  [0.01029091 0.06308978 0.13017219 0.79644711]]\n",
      "\n",
      " [[0.78559969 0.14611458 0.04800934 0.02027639]\n",
      "  [0.10448281 0.75350084 0.101363   0.04065335]\n",
      "  [0.06603512 0.13255097 0.69465338 0.10676053]\n",
      "  [0.0161371  0.05890487 0.21933229 0.70562574]]\n",
      "\n",
      " [[0.65285519 0.27345104 0.0531645  0.02052927]\n",
      "  [0.1028074  0.73700393 0.1177388  0.04244988]\n",
      "  [0.02607479 0.15230122 0.66919155 0.15243244]\n",
      "  [0.00809484 0.04135547 0.23157282 0.71897686]]\n",
      "\n",
      " [[0.76690533 0.13458166 0.07919125 0.01932176]\n",
      "  [0.12544798 0.67963412 0.15042969 0.0444882 ]\n",
      "  [0.02017715 0.21376751 0.63861987 0.12743547]\n",
      "  [0.00771629 0.06799313 0.18940764 0.73488294]]\n",
      "\n",
      " [[0.72952991 0.20787393 0.04642364 0.01617252]\n",
      "  [0.1144102  0.675033   0.16867931 0.04187749]\n",
      "  [0.03068602 0.18051479 0.65068015 0.13811903]\n",
      "  [0.01077514 0.08547141 0.16816028 0.73559318]]\n",
      "\n",
      " [[0.72731544 0.15960582 0.0919699  0.02110884]\n",
      "  [0.12151123 0.64813677 0.17742047 0.05293153]\n",
      "  [0.02482251 0.1236177  0.71097942 0.14058038]\n",
      "  [0.00926299 0.05718941 0.14515942 0.78838819]]\n",
      "\n",
      " [[0.78129553 0.14342952 0.05527393 0.02000103]\n",
      "  [0.14093933 0.61357406 0.19453394 0.05095267]\n",
      "  [0.03272149 0.17342142 0.63372512 0.16013196]\n",
      "  [0.01085056 0.0610667  0.12712513 0.80095761]]]\n",
      "[[[0.0667686  0.06191714 0.03214909 0.01813345]\n",
      "  [0.04482636 0.06053481 0.03794138 0.03671465]\n",
      "  [0.01515062 0.04044749 0.0491981  0.04085756]\n",
      "  [0.01258782 0.0185237  0.03589235 0.04164416]]\n",
      "\n",
      " [[0.07370853 0.06228056 0.04289926 0.02498242]\n",
      "  [0.03920606 0.05411233 0.04113513 0.03075546]\n",
      "  [0.01813261 0.03455095 0.04274149 0.03242641]\n",
      "  [0.00907512 0.02691055 0.04161711 0.04789852]]\n",
      "\n",
      " [[0.06578774 0.05591248 0.0324252  0.01890393]\n",
      "  [0.04499808 0.05552726 0.03917906 0.02074907]\n",
      "  [0.02364194 0.03673332 0.04464615 0.03059798]\n",
      "  [0.01141302 0.02612709 0.04661585 0.05082166]]\n",
      "\n",
      " [[0.07025354 0.06868458 0.03393132 0.02152179]\n",
      "  [0.03402784 0.05054572 0.04117452 0.02620114]\n",
      "  [0.01464969 0.0392405  0.0497358  0.04140564]\n",
      "  [0.0078755  0.01898374 0.04458923 0.04567769]]\n",
      "\n",
      " [[0.05910511 0.04810067 0.03462168 0.0183661 ]\n",
      "  [0.04340188 0.06434088 0.0519475  0.0258682 ]\n",
      "  [0.01306596 0.04242983 0.05432359 0.03982493]\n",
      "  [0.00714144 0.03152751 0.04341068 0.04845173]]\n",
      "\n",
      " [[0.06715581 0.06166508 0.02995103 0.01533247]\n",
      "  [0.03854435 0.06264641 0.05298702 0.02455618]\n",
      "  [0.01742875 0.04103752 0.0514443  0.03802652]\n",
      "  [0.0099911  0.02832522 0.04391494 0.04962956]]\n",
      "\n",
      " [[0.06235002 0.05579663 0.03641452 0.02002791]\n",
      "  [0.04759677 0.06405562 0.05628523 0.03151974]\n",
      "  [0.01499123 0.03576263 0.04790318 0.03708626]\n",
      "  [0.00877343 0.0268303  0.04511556 0.0475095 ]]\n",
      "\n",
      " [[0.06474155 0.05408752 0.03475251 0.02005924]\n",
      "  [0.04331059 0.06244059 0.05558472 0.02711712]\n",
      "  [0.01584851 0.03904844 0.04962231 0.03863196]\n",
      "  [0.01117562 0.02776545 0.04183789 0.047204  ]]]\n"
     ]
    }
   ],
   "source": [
    "print(samples[0].mean(axis=0))\n",
    "print(samples[0].std(axis=0))"
   ]
  },
  {
   "cell_type": "markdown",
   "metadata": {},
   "source": [
    "Let's try everything again with ModelBt"
   ]
  },
  {
   "cell_type": "code",
   "execution_count": 32,
   "metadata": {},
   "outputs": [
    {
     "name": "stdout",
     "output_type": "stream",
     "text": [
      "[0.63524378 0.8880342  0.65008765 0.93789947 0.69451101 0.82956732\n",
      " 0.65349189 0.77420221]\n",
      "-2935.7745693292054\n"
     ]
    }
   ],
   "source": [
    "# create a new instance of model B, with 4 label classes and 8 annotators.\n",
    "model = ModelBt.create_initial_state(4, 8)\n",
    "print(model.theta)\n",
    "print(model.log_likelihood(anno.annotations))"
   ]
  },
  {
   "cell_type": "code",
   "execution_count": 33,
   "metadata": {},
   "outputs": [
    {
     "name": "stdout",
     "output_type": "stream",
     "text": [
      "[0.79127241 0.7406511  0.76223135 0.72519347 0.71645917 0.71863484\n",
      " 0.77315908 0.71671524]\n",
      "-2811.946147568571\n"
     ]
    }
   ],
   "source": [
    "model.map(anno.annotations)\n",
    "print(model.theta)\n",
    "print(model.log_likelihood(anno.annotations))"
   ]
  },
  {
   "cell_type": "code",
   "execution_count": 34,
   "metadata": {},
   "outputs": [
    {
     "name": "stdout",
     "output_type": "stream",
     "text": [
      "[[0.01110897 0.28932263 0.36485327 0.33471513]\n",
      " [0.99021855 0.00241992 0.00405092 0.00331061]\n",
      " [0.00250203 0.05510456 0.93455476 0.00783864]\n",
      " ...\n",
      " [0.00253144 0.04400002 0.94553777 0.00793077]\n",
      " [0.00249633 0.00571668 0.93242675 0.05936024]\n",
      " [0.03193295 0.93875794 0.01612829 0.01318082]]\n"
     ]
    }
   ],
   "source": [
    "posterior = model.infer_labels(anno.annotations)\n",
    "print(posterior)"
   ]
  },
  {
   "cell_type": "markdown",
   "metadata": {},
   "source": [
    "Let's visualize the posterior of the first 10 samples according to ModelBt."
   ]
  },
  {
   "cell_type": "code",
   "execution_count": 35,
   "metadata": {},
   "outputs": [
    {
     "data": {
      "image/png": "[encoded data removed]",
      "text/plain": [
       "<Figure size 432x288 with 2 Axes>"
      ]
     },
     "metadata": {
      "needs_background": "light"
     },
     "output_type": "display_data"
    }
   ],
   "source": [
    "ax = seaborn.heatmap(posterior[:10,])\n",
    "plt.show()"
   ]
  },
  {
   "cell_type": "markdown",
   "metadata": {},
   "source": [
    "The property of these scores is that they enable us to identify the most likely code assuming coders of unequal quality, which also allows us to break ties when we know coder identity. For some analyses, we may simply use the posterior themselves rather than the most probably code outcome."
   ]
  },
  {
   "cell_type": "markdown",
   "metadata": {},
   "source": [
    "# Generating Annotations"
   ]
  },
  {
   "cell_type": "markdown",
   "metadata": {},
   "source": [
    "Pyanno also allows one to generate artificial data from a model."
   ]
  },
  {
   "cell_type": "code",
   "execution_count": 36,
   "metadata": {},
   "outputs": [
    {
     "data": {
      "text/plain": [
       "array([[1, 3, 0],\n",
       "       [3, 3, 1],\n",
       "       [2, 2, 2],\n",
       "       [0, 0, 1],\n",
       "       [0, 0, 1],\n",
       "       [2, 2, 0],\n",
       "       [3, 2, 1],\n",
       "       [0, 0, 0],\n",
       "       [3, 3, 1],\n",
       "       [3, 3, 3],\n",
       "       [3, 2, 0],\n",
       "       [0, 0, 0],\n",
       "       [3, 3, 0],\n",
       "       [3, 3, 1],\n",
       "       [3, 3, 0],\n",
       "       [3, 3, 0],\n",
       "       [0, 0, 2],\n",
       "       [1, 2, 2],\n",
       "       [0, 0, 3],\n",
       "       [0, 0, 1]])"
      ]
     },
     "execution_count": 36,
     "metadata": {},
     "output_type": "execute_result"
    }
   ],
   "source": [
    "model = ModelBt.create_initial_state(4, 3, theta=[0.99,0.75,0.25])\n",
    "#randome generate annotations with 4 label classes and 3 annotators. The accuracy of the three annotators are 0.99, 0.75, and 0.25 respectively.\n",
    "model.generate_annotations(20)"
   ]
  },
  {
   "cell_type": "markdown",
   "metadata": {},
   "source": [
    "## Visualizing coder accuracy"
   ]
  },
  {
   "cell_type": "markdown",
   "metadata": {},
   "source": [
    "Pyanno provides a [graphical user interface](http://docs.enthought.com/uchicago-pyanno/user_guide.html) for making plots. However, it is not compatible with ipython notebooks. Nevertheless, nothing prevents us from making plots using matplotlib. Let's make a plot of the accuracy of each annotator inferred from ModelA."
   ]
  },
  {
   "cell_type": "code",
   "execution_count": 37,
   "metadata": {},
   "outputs": [],
   "source": [
    "model = ModelBt.create_initial_state(4, 8)\n",
    "model.mle(anno.annotations)\n",
    "samples = model.sample_posterior_over_accuracy(anno.annotations, 200, burn_in_samples=100, thin_samples=3)\n",
    "y =  samples.mean(axis=0)#.mean(axis = 1).mean(axis = 1)\n",
    "y_ci = samples.std(axis=0)#.mean(axis = 1).mean(axis = 1)"
   ]
  },
  {
   "cell_type": "code",
   "execution_count": 38,
   "metadata": {},
   "outputs": [
    {
     "data": {
      "image/png": "[encoded data removed]",
      "text/plain": [
       "<Figure size 432x288 with 1 Axes>"
      ]
     },
     "metadata": {
      "needs_background": "light"
     },
     "output_type": "display_data"
    }
   ],
   "source": [
    "plt.figure()\n",
    "plt.errorbar(range(8),y, yerr = y_ci)\n",
    "plt.show()"
   ]
  },
  {
   "cell_type": "markdown",
   "metadata": {},
   "source": [
    "# Example with articles that use the General Social Survey"
   ]
  },
  {
   "cell_type": "markdown",
   "metadata": {},
   "source": [
    "I performed a recent study in which the variables from thousands of articles were associated with those used in the General Social Survey, a widely used population sample, in order to interrogate how social science analyses are performed. Each article was reread and coded by a balanced set of three student coders using a 6 choose 3 design, such that all possible 3-coder-subsets (20) coded an equal number of articles. Coding was performed through a website that allowed students access to the digital article. To evaluate the validity of the student codes, we also recruited a sample of authors associated with 97 of our published articles to fill out the same online survey. \n",
    "\n",
    "Because not all coders coded items with equal accuracy, and because “don’t know” was an optional answer, leading to potential ties, we used a generative, probabilistic model to estimate the maximum a posteriori probability (MAP) prediction that an item’s code is true, which integrates over the estimated accuracy of coders, assuming only that the entire population of coders is slightly more often right than wrong. The model (“Model B”) is based on a simple underlying generation process that directly accounts for the probability that coded values are correct (Rzhetsky et al. 2009). For each coded value j, a set of parameters, denoted γj, represents the probability that each coded value is correct. For the ith coder (i = 1, 2, …, 6), we introduce a matrix of probabilities, denoted λ(i)x|y, that defines the probability that she assigns code x (e.g., Dependent variable) to a GSS variable with correct annotation y. For a perfect coder, the matrix λ(i)x|y would equal the identity matrix and her vote would count most toward the total. For a coder that always codes incorrectly—a “troll”—her matrix λ(i)x|y will have all its value off the diagonal and will only minimally influence the posterior. We co-authored the open source pyanno software that implements this model."
   ]
  },
  {
   "cell_type": "markdown",
   "metadata": {},
   "source": [
    "Getting the data for each content analysis survey regarding how GSS variables were used in a large population of social science articles."
   ]
  },
  {
   "cell_type": "code",
   "execution_count": 39,
   "metadata": {},
   "outputs": [],
   "source": [
    "#anno_vdep = AnnotationsContainer.from_file(missing_values=[-1], filename=\"GSSvariable_testSdependent.csv\")\n",
    "dev = np.loadtxt(fname=\"../data/dataforgssstudy/n7GSSvariable_testSdependent.csv\", dtype=int, delimiter=\",\")\n",
    "anno_dv = AnnotationsContainer.from_array(dev)\n",
    "\n",
    "ind = np.loadtxt(fname=\"../data/dataforgssstudy/n7GSSvariable_testSindependent.csv\", dtype=int, delimiter=\",\")\n",
    "anno_iv = AnnotationsContainer.from_array(ind)\n",
    "\n",
    "cent = np.loadtxt(fname=\"../data/dataforgssstudy/n7GSSvariable_testScentral.csv\", dtype=int, delimiter=\",\")\n",
    "anno_cv = AnnotationsContainer.from_array(cent)\n",
    "\n",
    "cont = np.loadtxt(fname=\"../data/dataforgssstudy/n7GSSvariable_testScontrol.csv\", dtype=int, delimiter=\",\")\n",
    "anno_ctv = AnnotationsContainer.from_array(cont)\n",
    "\n",
    "test = np.loadtxt(fname=\"../data/dataforgssstudy/testH.csv\", dtype=int, delimiter=\",\")\n",
    "anno_test = AnnotationsContainer.from_array(test)"
   ]
  },
  {
   "cell_type": "markdown",
   "metadata": {},
   "source": [
    "Let's examine the data structure."
   ]
  },
  {
   "cell_type": "code",
   "execution_count": null,
   "metadata": {},
   "outputs": [],
   "source": [
    "dev.shape"
   ]
  },
  {
   "cell_type": "code",
   "execution_count": null,
   "metadata": {},
   "outputs": [],
   "source": [
    "anno_dv.labels"
   ]
  },
  {
   "cell_type": "code",
   "execution_count": null,
   "metadata": {},
   "outputs": [],
   "source": [
    "anno_dv.missing_values"
   ]
  },
  {
   "cell_type": "code",
   "execution_count": null,
   "metadata": {},
   "outputs": [],
   "source": [
    "anno_dv.annotations.shape"
   ]
  },
  {
   "cell_type": "markdown",
   "metadata": {},
   "source": [
    "First, let's use Cohen's $\\kappa$ to measure agreement between coders..."
   ]
  },
  {
   "cell_type": "code",
   "execution_count": null,
   "metadata": {},
   "outputs": [],
   "source": [
    "m = pairwise_matrix(cohens_kappa, anno_dv.annotations)\n",
    "print(m)"
   ]
  },
  {
   "cell_type": "markdown",
   "metadata": {},
   "source": [
    "Let's visualize that..."
   ]
  },
  {
   "cell_type": "code",
   "execution_count": null,
   "metadata": {},
   "outputs": [],
   "source": [
    "ax = seaborn.heatmap(m)\n",
    "plt.show()"
   ]
  },
  {
   "cell_type": "code",
   "execution_count": null,
   "metadata": {},
   "outputs": [],
   "source": [
    "pairwise_metric_average(cohens_kappa, anno_dv.annotations)"
   ]
  },
  {
   "cell_type": "markdown",
   "metadata": {},
   "source": [
    "Let's compute the statistics on each of the datasets and with Pearson's $\\rho$. "
   ]
  },
  {
   "cell_type": "code",
   "execution_count": null,
   "metadata": {},
   "outputs": [],
   "source": [
    "datasets = [anno_dv.annotations, anno_iv.annotations, anno_cv.annotations, anno_ctv.annotations]\n",
    "ck = [pairwise_matrix(cohens_kappa, anno) for anno in datasets]\n",
    "pr = [pairwise_matrix(pearsons_rho, anno) for anno in datasets]\n",
    "titles = ['DV', 'IV', 'Central Variable', \"Control Variable\"]"
   ]
  },
  {
   "cell_type": "code",
   "execution_count": null,
   "metadata": {},
   "outputs": [],
   "source": [
    "fig, axs = plt.subplots(2,4)\n",
    "fig.set_size_inches(18, 7)\n",
    "for k, ax, title in zip(ck,axs[0], titles):\n",
    "    seaborn.heatmap(k, ax = ax)\n",
    "    ax.set_title(title)\n",
    "    ax.set_xticks(())\n",
    "    ax.set_yticks(())\n",
    "for r, ax in zip(pr,axs[1]):\n",
    "    seaborn.heatmap(r, ax = ax)\n",
    "    ax.set_xticks(())\n",
    "    ax.set_yticks(())\n",
    "plt.show()"
   ]
  },
  {
   "cell_type": "markdown",
   "metadata": {},
   "source": [
    "Now we will compare the student coders."
   ]
  },
  {
   "cell_type": "code",
   "execution_count": null,
   "metadata": {},
   "outputs": [],
   "source": [
    "nondiag = (np.eye(6)-np.ones(6))*-1.0"
   ]
  },
  {
   "cell_type": "code",
   "execution_count": null,
   "metadata": {},
   "outputs": [],
   "source": [
    "xdevck = pairwise_matrix(cohens_kappa, anno_dv.annotations)\n",
    "xdevpr = pairwise_matrix(pearsons_rho, anno_dv.annotations)\n",
    "\n",
    "xindck = pairwise_matrix(cohens_kappa, anno_iv.annotations)\n",
    "xindpr = pairwise_matrix(pearsons_rho, anno_iv.annotations)\n",
    "\n",
    "xcenck = pairwise_matrix(cohens_kappa, anno_cv.annotations)\n",
    "xcenpr = pairwise_matrix(pearsons_rho, anno_cv.annotations)\n",
    "\n",
    "xconck = pairwise_matrix(cohens_kappa, anno_ctv.annotations)\n",
    "xconpr = pairwise_matrix(pearsons_rho, anno_ctv.annotations)\n",
    "\n",
    "print(np.average(xdevck, weights=nondiag))\n",
    "print(np.average(xdevpr, weights=nondiag))\n",
    "print(np.average(xindck, weights=nondiag))\n",
    "print(np.average(xindpr, weights=nondiag))\n",
    "print(np.average(xcenck, weights=nondiag))\n",
    "print(np.average(xcenpr, weights=nondiag))\n",
    "print(np.average(xconck, weights=nondiag))\n",
    "print(np.average(xconpr, weights=nondiag))"
   ]
  },
  {
   "cell_type": "markdown",
   "metadata": {},
   "source": [
    "Now we are going to bring in \"gold standard\" data. In this case, this is where we asked authors of the articles to code their own article's variables and compare with our student coders."
   ]
  },
  {
   "cell_type": "code",
   "execution_count": null,
   "metadata": {},
   "outputs": [],
   "source": [
    "mergedata = np.loadtxt(fname=\"../data/dataforgssstudy/gss_mergedataC.txt\", dtype=int, delimiter=\"\\t\")"
   ]
  },
  {
   "cell_type": "code",
   "execution_count": null,
   "metadata": {},
   "outputs": [],
   "source": [
    "anno_merge_dep = AnnotationsContainer.from_array(mergedata[:,0:2])\n",
    "anno_merge_ind = AnnotationsContainer.from_array(mergedata[:,2:4])\n",
    "anno_merge_cen = AnnotationsContainer.from_array(mergedata[:,4:6])\n",
    "anno_merge_con = AnnotationsContainer.from_array(mergedata[:,6:8])\n",
    "anno_merge_dkn = AnnotationsContainer.from_array(mergedata[:,8:10])"
   ]
  },
  {
   "cell_type": "code",
   "execution_count": null,
   "metadata": {},
   "outputs": [],
   "source": [
    "print(\"\"\"Dependent variable -- kappa & rho\"\"\")\n",
    "print(cohens_kappa(anno_merge_dep.annotations[:,0], anno_merge_dep.annotations[:,1]))\n",
    "print(pearsons_rho(anno_merge_dep.annotations[:,0], anno_merge_dep.annotations[:,1]))\n",
    "\n",
    "print(\"\\nIndependent variable\")\n",
    "print(cohens_kappa(anno_merge_ind.annotations[:,0], anno_merge_ind.annotations[:,1]))\n",
    "print(pearsons_rho(anno_merge_ind.annotations[:,0], anno_merge_ind.annotations[:,1]))\n",
    "\n",
    "print(\"\\nCentral variable\")\n",
    "print(cohens_kappa(anno_merge_cen.annotations[:,0], anno_merge_cen.annotations[:,1]))\n",
    "print(pearsons_rho(anno_merge_cen.annotations[:,0], anno_merge_cen.annotations[:,1]))\n",
    "\n",
    "print(\"\\nControl variable\")\n",
    "print(cohens_kappa(anno_merge_con.annotations[:,0], anno_merge_con.annotations[:,1]))\n",
    "print(pearsons_rho(anno_merge_con.annotations[:,0], anno_merge_con.annotations[:,1]))"
   ]
  },
  {
   "cell_type": "markdown",
   "metadata": {},
   "source": [
    "Whoah! Student coders and authors viewed articles that were \"central\" or critical to the published argument as fundamentally different (exhibiting negative agreement and correlation). Why? Likely because that researchers recalled what they had _intended_ as their central variables before analysis, but those that _worked out_ became central in the text."
   ]
  },
  {
   "cell_type": "markdown",
   "metadata": {},
   "source": [
    "Now for the assessment of the relative values of authors, then student coders."
   ]
  },
  {
   "cell_type": "code",
   "execution_count": null,
   "metadata": {},
   "outputs": [],
   "source": [
    "print(\"Dependent\")\n",
    "print(np.average(anno_merge_dep.annotations[:,0]))\n",
    "print(np.average(anno_merge_dep.annotations[:,1]))\n",
    "\n",
    "print(\"\\nIndependent\")\n",
    "print(np.average(anno_merge_ind.annotations[:,0]))\n",
    "print(np.average(anno_merge_ind.annotations[:,1]))\n",
    "\n",
    "print(\"\\nCentral\")\n",
    "print(np.average(anno_merge_cen.annotations[:,0]))\n",
    "print(np.average(anno_merge_cen.annotations[:,1]))\n",
    "\n",
    "print(\"\\nControl\")\n",
    "print(np.average(anno_merge_con.annotations[:,0]))\n",
    "print(np.average(anno_merge_con.annotations[:,1]))"
   ]
  },
  {
   "cell_type": "markdown",
   "metadata": {},
   "source": [
    "## Now we are going to use models to predict the correct annotations\n",
    "\n",
    "Recall that Model A is built for 8 coders, but we have 6. We're going to *hack* it by adding two blank columns."
   ]
  },
  {
   "cell_type": "code",
   "execution_count": null,
   "metadata": {},
   "outputs": [],
   "source": [
    "dev.shape"
   ]
  },
  {
   "cell_type": "code",
   "execution_count": null,
   "metadata": {},
   "outputs": [],
   "source": [
    "negs2 = np.ones((21461, 2), dtype=np.int)*(-1)\n",
    "devA = np.concatenate((dev, negs2), axis=1)\n",
    "devA"
   ]
  },
  {
   "cell_type": "code",
   "execution_count": null,
   "metadata": {},
   "outputs": [],
   "source": [
    "anno_dvA = AnnotationsContainer.from_array(devA)\n",
    "model_devA = ModelA.create_initial_state(2)\n",
    "model_devA.theta"
   ]
  },
  {
   "cell_type": "code",
   "execution_count": null,
   "metadata": {},
   "outputs": [],
   "source": [
    "model_dvB = ModelB.create_initial_state(2, 6)\n",
    "print(model_dvB.pi)\n",
    "print(model_dvB.log_likelihood(anno_dv.annotations))"
   ]
  },
  {
   "cell_type": "code",
   "execution_count": null,
   "metadata": {},
   "outputs": [],
   "source": [
    "model_dvB.map(anno_dv.annotations)\n",
    "print(model_dvB.pi)\n",
    "print(model_dvB.log_likelihood(anno_dv.annotations))"
   ]
  },
  {
   "cell_type": "code",
   "execution_count": null,
   "metadata": {},
   "outputs": [],
   "source": [
    "# compute the posterior distribution over true annotations\n",
    "posterior_dvB = model_dvB.infer_labels(anno_dv.annotations)\n",
    "# each row show the probability of each label class for the\n",
    "# corresponding item\n",
    "print(posterior)"
   ]
  },
  {
   "cell_type": "code",
   "execution_count": null,
   "metadata": {},
   "outputs": [],
   "source": [
    "samples_dvB = model_dvB.sample_posterior_over_accuracy(anno_dv.annotations, 200, burn_in_samples=100, thin_samples=3)"
   ]
  },
  {
   "cell_type": "code",
   "execution_count": null,
   "metadata": {},
   "outputs": [],
   "source": [
    "# we can then compute a credible interval for the parameters:\n",
    "ci_dv_mean = samples_dvB[0].mean(axis=0)\n",
    "print(\"Mean\")\n",
    "print(ci_dv_mean)\n",
    "\n",
    "ci_dv_stdev = samples_dvB[0].std(axis=0)\n",
    "print(\"\\nSTD\")\n",
    "print(ci_dv_stdev)\n"
   ]
  },
  {
   "cell_type": "markdown",
   "metadata": {},
   "source": [
    "We will use Model B estimates for other variable assessments."
   ]
  },
  {
   "cell_type": "code",
   "execution_count": null,
   "metadata": {},
   "outputs": [],
   "source": [
    "#test\n",
    "model_testB = ModelB.create_initial_state(2, 6)\n",
    "print(model_testB.log_likelihood(anno_test.annotations))\n",
    "model_testB.map(anno_test.annotations)\n",
    "print(model_testB.pi)\n",
    "print(model_testB.log_likelihood(anno_test.annotations))\n",
    "print(anno_test.annotations.shape)\n",
    "posterior_testB = model_testB.infer_labels(anno_test.annotations)\n",
    "print(posterior_testB.shape)\n",
    "samples_testB = model_testB.sample_posterior_over_accuracy(anno_test.annotations, 200, burn_in_samples=100, thin_samples=3)\n",
    "ci_test_mean = samples_testB[0].mean(axis=0)\n",
    "print(ci_test_mean)"
   ]
  },
  {
   "cell_type": "code",
   "execution_count": null,
   "metadata": {},
   "outputs": [],
   "source": [
    "#indepedent variables\n",
    "model_ivB = ModelB.create_initial_state(2, 6)\n",
    "print(model_ivB.log_likelihood(anno_iv.annotations))\n",
    "model_ivB.map(anno_iv.annotations)\n",
    "print(model_ivB.pi)\n",
    "print(model_ivB.log_likelihood(anno_iv.annotations))\n",
    "print(anno_iv.annotations.shape)\n",
    "posterior_ivB = model_ivB.infer_labels(anno_iv.annotations)\n",
    "print(posterior_ivB.shape)\n",
    "samples_ivB = model_ivB.sample_posterior_over_accuracy(anno_iv.annotations, 200, burn_in_samples=100, thin_samples=3)\n",
    "ci_iv_mean = samples_ivB[0].mean(axis=0)\n",
    "print(ci_iv_mean)\n",
    "\n",
    "#central variables\n",
    "model_cvB = ModelB.create_initial_state(2, 6)\n",
    "print(model_cvB.log_likelihood(anno_cv.annotations))\n",
    "model_cvB.map(anno_cv.annotations)\n",
    "print(model_cvB.pi)\n",
    "print(model_cvB.log_likelihood(anno_cv.annotations))\n",
    "print(anno_cv.annotations.shape)\n",
    "posterior_cvB = model_cvB.infer_labels(anno_cv.annotations)\n",
    "print(posterior_cvB.shape)\n",
    "samples_cvB = model_cvB.sample_posterior_over_accuracy(anno_cv.annotations, 200, burn_in_samples=100, thin_samples=3)\n",
    "ci_cv_mean = samples_cvB[0].mean(axis=0)\n",
    "print(ci_cv_mean)\n",
    "\n",
    "#control variables\n",
    "model_ctvB = ModelB.create_initial_state(2, 6)\n",
    "print(model_ctvB.log_likelihood(anno_ctv.annotations))\n",
    "model_ctvB.map(anno_ctv.annotations)\n",
    "print(model_ctvB.pi)\n",
    "print(model_ctvB.log_likelihood(anno_ctv.annotations))\n",
    "print(anno_ctv.annotations.shape)\n",
    "posterior_ctvB = model_ctvB.infer_labels(anno_ctv.annotations)\n",
    "print(posterior_ctvB.shape)\n",
    "samples_ctvB = model_ctvB.sample_posterior_over_accuracy(anno_iv.annotations, 200, burn_in_samples=100, thin_samples=3)\n",
    "ci_ctv_mean = samples_ctvB[0].mean(axis=0)\n",
    "print(ci_ctv_mean)"
   ]
  },
  {
   "cell_type": "markdown",
   "metadata": {},
   "source": [
    "Now we will package up the predicted data into a format we can use for other, subsequent analysis:"
   ]
  },
  {
   "cell_type": "code",
   "execution_count": null,
   "metadata": {},
   "outputs": [],
   "source": [
    "print(posterior_dvB.shape)\n",
    "print(posterior_ivB.shape)\n",
    "print(posterior_cvB.shape)\n",
    "print(posterior_ctvB.shape)"
   ]
  },
  {
   "cell_type": "code",
   "execution_count": null,
   "metadata": {},
   "outputs": [],
   "source": [
    "predicted_annotations = np.concatenate((posterior_dvB, posterior_ivB, posterior_cvB, posterior_ctvB), axis=1) # posterior_dvBt, posterior_ivBt, posterior_cvBt, posterior_ctvBt), axis=1)"
   ]
  },
  {
   "cell_type": "code",
   "execution_count": null,
   "metadata": {},
   "outputs": [],
   "source": [
    "predicted_annotations.shape"
   ]
  },
  {
   "cell_type": "markdown",
   "metadata": {},
   "source": [
    "These annotations allowed us to uncover the degree to which social scientists alter their models to achieve a better fit...undocumented data mining. The answer was that social scientists did mine their data, but that it likely improved their analysis because change in the social world was the result of greater distortion than undocumented data mining."
   ]
  },
  {
   "cell_type": "markdown",
   "metadata": {},
   "source": [
    "## Another example analysis looks at a different data set of Hotel Reviews by a variety of patrons."
   ]
  },
  {
   "cell_type": "code",
   "execution_count": null,
   "metadata": {},
   "outputs": [],
   "source": [
    "df_hotels = pandas.read_csv('../data/hot_Reviews.csv', index_col=0)\n",
    "df_hotels[:5]"
   ]
  },
  {
   "cell_type": "markdown",
   "metadata": {},
   "source": [
    "Here a rank of 0 is a missing value and to simplify things more we will convert from a 1-10 scale to a 1-5 scale, with 0 as missing"
   ]
  },
  {
   "cell_type": "code",
   "execution_count": null,
   "metadata": {},
   "outputs": [],
   "source": [
    "df_hotels = df_hotels.apply(lambda x: x // 2) #integer divide by 2 rounds all values"
   ]
  },
  {
   "cell_type": "markdown",
   "metadata": {},
   "source": [
    "And we can visualize all the reviews as a heatmap with the missing values greyed out"
   ]
  },
  {
   "cell_type": "code",
   "execution_count": null,
   "metadata": {},
   "outputs": [],
   "source": [
    "fig, ax = plt.subplots(figsize = (20,20))\n",
    "seaborn.heatmap(df_hotels, cmap='rainbow', ax = ax)\n",
    "plt.show()"
   ]
  },
  {
   "cell_type": "markdown",
   "metadata": {},
   "source": [
    "To give the dataframe to pyanno we need to convert to np array and change the nans to intergers, lets use -1"
   ]
  },
  {
   "cell_type": "code",
   "execution_count": null,
   "metadata": {},
   "outputs": [],
   "source": [
    "hot_mat = np.array(df_hotels.fillna(-1).as_matrix())\n",
    "anno_hot = AnnotationsContainer.from_array(hot_mat, missing_values=[-1])"
   ]
  },
  {
   "cell_type": "code",
   "execution_count": null,
   "metadata": {},
   "outputs": [],
   "source": [
    "anno_hot.annotations"
   ]
  },
  {
   "cell_type": "code",
   "execution_count": null,
   "metadata": {},
   "outputs": [],
   "source": [
    "anno_hot.labels"
   ]
  },
  {
   "cell_type": "code",
   "execution_count": null,
   "metadata": {},
   "outputs": [],
   "source": [
    "anno_hot.missing_values"
   ]
  },
  {
   "cell_type": "markdown",
   "metadata": {},
   "source": [
    "Look at coder agreement"
   ]
  },
  {
   "cell_type": "code",
   "execution_count": null,
   "metadata": {},
   "outputs": [],
   "source": [
    "pyanno.measures.agreement.labels_frequency(anno_hot.annotations, 6)#6 possible catagories"
   ]
  },
  {
   "cell_type": "code",
   "execution_count": null,
   "metadata": {},
   "outputs": [],
   "source": [
    "c = pyanno.measures.agreement.confusion_matrix(anno_hot.annotations[:,0], anno_hot.annotations[:,1], 6) #6 possible catagories\n",
    "print(c)\n",
    "ac = seaborn.heatmap(c)\n",
    "plt.show()"
   ]
  },
  {
   "cell_type": "markdown",
   "metadata": {},
   "source": [
    "Most agreement is on 2 i.e. an average hotel and there's little agreement as rating go higher, likely due to scarcity in the sample"
   ]
  },
  {
   "cell_type": "code",
   "execution_count": null,
   "metadata": {},
   "outputs": [],
   "source": [
    "scotts_pi(anno_hot.annotations[:,0], anno_hot.annotations[:,1])"
   ]
  },
  {
   "cell_type": "code",
   "execution_count": null,
   "metadata": {},
   "outputs": [],
   "source": [
    "krippendorffs_alpha(anno_hot.annotations[::])"
   ]
  },
  {
   "cell_type": "code",
   "execution_count": null,
   "metadata": {},
   "outputs": [],
   "source": [
    "cohens_kappa(anno_hot.annotations[:,0], anno_hot.annotations[:,1])"
   ]
  },
  {
   "cell_type": "code",
   "execution_count": null,
   "metadata": {},
   "outputs": [],
   "source": [
    "m = pairwise_matrix(cohens_kappa, anno_hot.annotations)\n",
    "fig, ax = plt.subplots(figsize = (15, 15))\n",
    "seaborn.heatmap(m, ax =ax)"
   ]
  },
  {
   "cell_type": "code",
   "execution_count": null,
   "metadata": {},
   "outputs": [],
   "source": [
    "model_hot = ModelBt.create_initial_state(6, 49)\n",
    "model_hot.mle(anno_hot.annotations)\n",
    "print(model.theta)\n",
    "print(model_hot.log_likelihood(anno_hot.annotations))"
   ]
  },
  {
   "cell_type": "code",
   "execution_count": null,
   "metadata": {},
   "outputs": [],
   "source": [
    "def makeQuestionComparison(model, anno_target, num_questions = 20):\n",
    "    votes = []\n",
    "    for r in anno_target.annotations:\n",
    "        v = [0] * len(anno_target.labels)\n",
    "        votes.append(v)\n",
    "        for a in r:\n",
    "            if a > -1:\n",
    "                v[a] += 1\n",
    "    votes_array = np.array(votes)\n",
    "    posterior = model.infer_labels(anno_target.annotations)\n",
    "    fig, (ax1, ax2) = plt.subplots(ncols=2, figsize = (15, 10), sharey=True)\n",
    "\n",
    "    seaborn.heatmap(votes_array[:num_questions], annot = True, ax=ax2)\n",
    "    seaborn.heatmap(np.nan_to_num(posterior,0)[:num_questions], annot=True, ax =ax1)\n",
    "    ax1.set_title(\"Model\")\n",
    "    ax2.set_title(\"Votes\")\n",
    "    return fig, (ax1, ax2)"
   ]
  },
  {
   "cell_type": "code",
   "execution_count": null,
   "metadata": {},
   "outputs": [],
   "source": [
    "makeQuestionComparison(model_hot, anno_hot)"
   ]
  },
  {
   "cell_type": "markdown",
   "metadata": {},
   "source": [
    "## <span style=\"color:red\">*Your turn*</span>\n",
    "\n",
    "<span style=\"color:red\">In the cells immediately following, use the results of your content annotation survey to predict high and low-quality analysts, then predict MAP estimates for your codes in question. What do these estimates suggest about the distribution of skill among your coders? How different are these estimates from a majority vote?"
   ]
  },
  {
   "cell_type": "code",
   "execution_count": null,
   "metadata": {},
   "outputs": [],
   "source": []
  }
 ],
 "metadata": {
  "anaconda-cloud": {},
  "kernelspec": {
   "display_name": "Python 3",
   "language": "python",
   "name": "python3"
  },
  "language_info": {
   "codemirror_mode": {
    "name": "ipython",
    "version": 3
   },
   "file_extension": ".py",
   "mimetype": "text/x-python",
   "name": "python",
   "nbconvert_exporter": "python",
   "pygments_lexer": "ipython3",
   "version": "3.7.4"
  }
 },
 "nbformat": 4,
 "nbformat_minor": 1
}
