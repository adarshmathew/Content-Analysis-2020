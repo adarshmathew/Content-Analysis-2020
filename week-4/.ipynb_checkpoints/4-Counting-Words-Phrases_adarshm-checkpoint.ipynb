{
 "cells": [
  {
   "cell_type": "markdown",
   "metadata": {},
   "source": [
    "# Week 4 -- Counting Words & Phrases"
   ]
  },
  {
   "cell_type": "code",
   "execution_count": 56,
   "metadata": {},
   "outputs": [],
   "source": [
    "#Special module written for this class\n",
    "#This provides access to data and to helper functions from previous weeks\n",
    "import lucem_illud_2020 #pip install git+git://github.com/Computational-Content-Analysis-2020/lucem_illud_2020.git\n",
    "\n",
    "#All these packages need to be installed from pip\n",
    "import requests #for http requests\n",
    "import pandas #gives us DataFrames\n",
    "import matplotlib.pyplot as plt #For graphics\n",
    "import wordcloud #Makes word clouds\n",
    "import numpy as np #For divergences/distances\n",
    "import scipy #For divergences/distances\n",
    "import seaborn as sns #makes our plots look nicer\n",
    "import sklearn.manifold #For a manifold plot\n",
    "import json #For API responses\n",
    "import urllib.parse #For joining urls\n",
    "import pickle\n",
    "\n",
    "# comp-linguistics\n",
    "import spacy\n",
    "\n",
    "# nltk-import\n",
    "import nltk\n",
    "\n",
    "#Displays the graphs\n",
    "import graphviz #You also need to install the command line graphviz\n",
    "\n",
    "#These are from the standard library\n",
    "import os.path\n",
    "import zipfile\n",
    "import subprocess\n",
    "import io\n",
    "import tempfile\n",
    "\n",
    "#This 'magic' command makes the plots work better\n",
    "#in the notebook, don't use it outside of a notebook\n",
    "%matplotlib inline"
   ]
  },
  {
   "cell_type": "code",
   "execution_count": 57,
   "metadata": {},
   "outputs": [],
   "source": [
    "nlp = spacy.load(\"en\")"
   ]
  },
  {
   "cell_type": "markdown",
   "metadata": {},
   "source": [
    "## Loading the Corpora"
   ]
  },
  {
   "cell_type": "code",
   "execution_count": null,
   "metadata": {},
   "outputs": [],
   "source": [
    "# SKIP ALL CELLS BELOW IF YOU JUST WANT TO LOAD THE PICKLED DF\n",
    "with open('reddit_submissions_min_tkns_w4.pkl', 'rb') as f:\n",
    "    reddit_submissions_min = pickle.load(f)"
   ]
  },
  {
   "cell_type": "code",
   "execution_count": 3,
   "metadata": {},
   "outputs": [
    {
     "name": "stderr",
     "output_type": "stream",
     "text": [
      "/software/Anaconda3-5.3.0-el7-x86_64/lib/python3.6/site-packages/IPython/core/interactiveshell.py:3018: DtypeWarning: Columns (8) have mixed types. Specify dtype option on import or set low_memory=False.\n",
      "  interactivity=interactivity, compiler=compiler, result=result)\n"
     ]
    },
    {
     "data": {
      "text/plain": [
       "78905"
      ]
     },
     "execution_count": 3,
     "metadata": {},
     "output_type": "execute_result"
    }
   ],
   "source": [
    "reddit_submissions_raw = pandas.read_csv('../project_data/reddit_submissions_2015_18.csv', index_col=6)\n",
    "reddit_submissions_min = reddit_submissions_raw[['author', 'created_utc', 'subreddit', 'title', 'selftext', 'distinguished']]\n",
    "len(reddit_submissions_min)"
   ]
  },
  {
   "cell_type": "code",
   "execution_count": 4,
   "metadata": {},
   "outputs": [
    {
     "data": {
      "text/html": [
       "<div>\n",
       "<style scoped>\n",
       "    .dataframe tbody tr th:only-of-type {\n",
       "        vertical-align: middle;\n",
       "    }\n",
       "\n",
       "    .dataframe tbody tr th {\n",
       "        vertical-align: top;\n",
       "    }\n",
       "\n",
       "    .dataframe thead th {\n",
       "        text-align: right;\n",
       "    }\n",
       "</style>\n",
       "<table border=\"1\" class=\"dataframe\">\n",
       "  <thead>\n",
       "    <tr style=\"text-align: right;\">\n",
       "      <th></th>\n",
       "      <th>author</th>\n",
       "      <th>created_utc</th>\n",
       "      <th>subreddit</th>\n",
       "      <th>title</th>\n",
       "      <th>selftext</th>\n",
       "      <th>distinguished</th>\n",
       "    </tr>\n",
       "    <tr>\n",
       "      <th>id</th>\n",
       "      <th></th>\n",
       "      <th></th>\n",
       "      <th></th>\n",
       "      <th></th>\n",
       "      <th></th>\n",
       "      <th></th>\n",
       "    </tr>\n",
       "  </thead>\n",
       "  <tbody>\n",
       "    <tr>\n",
       "      <th>4dgf5j</th>\n",
       "      <td>avian_buddha</td>\n",
       "      <td>1459863156</td>\n",
       "      <td>altright</td>\n",
       "      <td>List of Alt Right Websites</td>\n",
       "      <td>Let's get a list going so that anybody can com...</td>\n",
       "      <td>moderator</td>\n",
       "    </tr>\n",
       "    <tr>\n",
       "      <th>4rj06j</th>\n",
       "      <td>AugustJRush</td>\n",
       "      <td>1467818739</td>\n",
       "      <td>altright</td>\n",
       "      <td>What type of content do you guys like to see?</td>\n",
       "      <td>Would you folk like to see more news stories, ...</td>\n",
       "      <td>NaN</td>\n",
       "    </tr>\n",
       "    <tr>\n",
       "      <th>4s2m7h</th>\n",
       "      <td>LetThereBeWhite</td>\n",
       "      <td>1468103206</td>\n",
       "      <td>altright</td>\n",
       "      <td>Damn, 250 subscribers to 450 in less than a we...</td>\n",
       "      <td>_____________\\n\\n-\\n\\n# For once in its cuck l...</td>\n",
       "      <td>moderator</td>\n",
       "    </tr>\n",
       "    <tr>\n",
       "      <th>4s39s6</th>\n",
       "      <td>AugustJRush</td>\n",
       "      <td>1468113131</td>\n",
       "      <td>altright</td>\n",
       "      <td>How do you describe your political leanings to...</td>\n",
       "      <td>I usually just go with \"Far-Right\", which is g...</td>\n",
       "      <td>NaN</td>\n",
       "    </tr>\n",
       "    <tr>\n",
       "      <th>4s63m0</th>\n",
       "      <td>YukonAurelius</td>\n",
       "      <td>1468167550</td>\n",
       "      <td>altright</td>\n",
       "      <td>Any interest in alt-right reading group?</td>\n",
       "      <td>I was thinking of digging into Spengler's \"Dec...</td>\n",
       "      <td>NaN</td>\n",
       "    </tr>\n",
       "  </tbody>\n",
       "</table>\n",
       "</div>"
      ],
      "text/plain": [
       "                 author  created_utc subreddit  \\\n",
       "id                                               \n",
       "4dgf5j     avian_buddha   1459863156  altright   \n",
       "4rj06j      AugustJRush   1467818739  altright   \n",
       "4s2m7h  LetThereBeWhite   1468103206  altright   \n",
       "4s39s6      AugustJRush   1468113131  altright   \n",
       "4s63m0    YukonAurelius   1468167550  altright   \n",
       "\n",
       "                                                    title  \\\n",
       "id                                                          \n",
       "4dgf5j                         List of Alt Right Websites   \n",
       "4rj06j      What type of content do you guys like to see?   \n",
       "4s2m7h  Damn, 250 subscribers to 450 in less than a we...   \n",
       "4s39s6  How do you describe your political leanings to...   \n",
       "4s63m0           Any interest in alt-right reading group?   \n",
       "\n",
       "                                                 selftext distinguished  \n",
       "id                                                                       \n",
       "4dgf5j  Let's get a list going so that anybody can com...     moderator  \n",
       "4rj06j  Would you folk like to see more news stories, ...           NaN  \n",
       "4s2m7h  _____________\\n\\n-\\n\\n# For once in its cuck l...     moderator  \n",
       "4s39s6  I usually just go with \"Far-Right\", which is g...           NaN  \n",
       "4s63m0  I was thinking of digging into Spengler's \"Dec...           NaN  "
      ]
     },
     "execution_count": 4,
     "metadata": {},
     "output_type": "execute_result"
    }
   ],
   "source": [
    "reddit_submissions_min.head()"
   ]
  },
  {
   "cell_type": "code",
   "execution_count": 6,
   "metadata": {
    "scrolled": true
   },
   "outputs": [
    {
     "name": "stderr",
     "output_type": "stream",
     "text": [
      "/software/Anaconda3-5.3.0-el7-x86_64/lib/python3.6/site-packages/ipykernel_launcher.py:1: SettingWithCopyWarning: \n",
      "A value is trying to be set on a copy of a slice from a DataFrame.\n",
      "Try using .loc[row_indexer,col_indexer] = value instead\n",
      "\n",
      "See the caveats in the documentation: http://pandas.pydata.org/pandas-docs/stable/indexing.html#indexing-view-versus-copy\n",
      "  \"\"\"Entry point for launching an IPython kernel.\n",
      "/software/Anaconda3-5.3.0-el7-x86_64/lib/python3.6/site-packages/ipykernel_launcher.py:2: SettingWithCopyWarning: \n",
      "A value is trying to be set on a copy of a slice from a DataFrame.\n",
      "Try using .loc[row_indexer,col_indexer] = value instead\n",
      "\n",
      "See the caveats in the documentation: http://pandas.pydata.org/pandas-docs/stable/indexing.html#indexing-view-versus-copy\n",
      "  \n",
      "/software/Anaconda3-5.3.0-el7-x86_64/lib/python3.6/site-packages/ipykernel_launcher.py:3: SettingWithCopyWarning: \n",
      "A value is trying to be set on a copy of a slice from a DataFrame.\n",
      "Try using .loc[row_indexer,col_indexer] = value instead\n",
      "\n",
      "See the caveats in the documentation: http://pandas.pydata.org/pandas-docs/stable/indexing.html#indexing-view-versus-copy\n",
      "  This is separate from the ipykernel package so we can avoid doing imports until\n"
     ]
    }
   ],
   "source": [
    "reddit_submissions_min['post_text'] = reddit_submissions_min['title'] + \" \" + reddit_submissions_min['selftext']\n",
    "reddit_submissions_min['tokenized_text'] = reddit_submissions_min['post_text'].apply(lambda x: lucem_illud_2020.word_tokenize(x))\n",
    "reddit_submissions_min['normalized_text'] = reddit_submissions_min['tokenized_text'].apply(lambda x: lucem_illud_2020.normalizeTokens(x))"
   ]
  },
  {
   "cell_type": "code",
   "execution_count": 7,
   "metadata": {},
   "outputs": [],
   "source": [
    "with open('reddit_submissions_min_tkns_w4.pkl', 'wb') as f:\n",
    "    pickle.dump(reddit_submissions_min, f)"
   ]
  },
  {
   "cell_type": "markdown",
   "metadata": {},
   "source": [
    "## Exercise 1\n",
    "\n",
    "Tasks:\n",
    "- Convert to an `nltk` object. \n",
    "- Tokenize the text.\n",
    "- Count words.\n",
    "- Check for Zipf's law.\n",
    "- Make a Dispersion plot."
   ]
  },
  {
   "cell_type": "markdown",
   "metadata": {},
   "source": [
    "### Counting words"
   ]
  },
  {
   "cell_type": "code",
   "execution_count": null,
   "metadata": {},
   "outputs": [],
   "source": [
    "# SKIP NEXT TWO CELLS IF YOU JUST WANT TO LOAD THE PICKLED DF\n",
    "with open('reddit_submissions_wlist_w4.pkl', 'rb') as f:\n",
    "    reddit_submissions_subred = pickle.load(f)"
   ]
  },
  {
   "cell_type": "code",
   "execution_count": 93,
   "metadata": {},
   "outputs": [],
   "source": [
    "def wordCounter(subred_name, wordLst):\n",
    "    wordCounts = {}\n",
    "    for word in wordLst:\n",
    "        #We usually need to normalize the case\n",
    "        wLower = word.lower()\n",
    "        if wLower in wordCounts:\n",
    "            wordCounts[wLower] += 1\n",
    "        else:\n",
    "            wordCounts[wLower] = 1\n",
    "    #convert to DataFrame\n",
    "    countsForFrame = {'subreddit' : [], 'word' : [], 'count' : []}\n",
    "    for w, c in wordCounts.items():\n",
    "        countsForFrame['subreddit'].append(subred_name)\n",
    "        countsForFrame['word'].append(w)\n",
    "        countsForFrame['count'].append(c)\n",
    "    final_df = pandas.DataFrame(countsForFrame)\n",
    "    return final_df"
   ]
  },
  {
   "cell_type": "code",
   "execution_count": null,
   "metadata": {},
   "outputs": [],
   "source": [
    "reddit_submissions_subred = reddit_submissions_min.groupby(('subreddit'))['tokenized_text'].apply(sum)\n",
    "reddit_submissions_subred"
   ]
  },
  {
   "cell_type": "code",
   "execution_count": 60,
   "metadata": {},
   "outputs": [
    {
     "data": {
      "text/plain": [
       "6"
      ]
     },
     "execution_count": 60,
     "metadata": {},
     "output_type": "execute_result"
    }
   ],
   "source": [
    "len(reddit_submissions_subred)"
   ]
  },
  {
   "cell_type": "code",
   "execution_count": 160,
   "metadata": {},
   "outputs": [],
   "source": [
    "with open('reddit_submissions_wlist_w4.pkl', 'wb') as f:\n",
    "    pickle.dump(reddit_submissions_subred, f)"
   ]
  },
  {
   "cell_type": "code",
   "execution_count": 105,
   "metadata": {},
   "outputs": [
    {
     "data": {
      "text/html": [
       "<div>\n",
       "<style scoped>\n",
       "    .dataframe tbody tr th:only-of-type {\n",
       "        vertical-align: middle;\n",
       "    }\n",
       "\n",
       "    .dataframe tbody tr th {\n",
       "        vertical-align: top;\n",
       "    }\n",
       "\n",
       "    .dataframe thead th {\n",
       "        text-align: right;\n",
       "    }\n",
       "</style>\n",
       "<table border=\"1\" class=\"dataframe\">\n",
       "  <thead>\n",
       "    <tr style=\"text-align: right;\">\n",
       "      <th></th>\n",
       "      <th>subreddit</th>\n",
       "      <th>word</th>\n",
       "      <th>count</th>\n",
       "    </tr>\n",
       "  </thead>\n",
       "  <tbody>\n",
       "    <tr>\n",
       "      <th>1</th>\n",
       "      <td>Conservative</td>\n",
       "      <td>the</td>\n",
       "      <td>11037</td>\n",
       "    </tr>\n",
       "    <tr>\n",
       "      <th>29</th>\n",
       "      <td>Conservative</td>\n",
       "      <td>to</td>\n",
       "      <td>7269</td>\n",
       "    </tr>\n",
       "    <tr>\n",
       "      <th>7</th>\n",
       "      <td>Conservative</td>\n",
       "      <td>and</td>\n",
       "      <td>6072</td>\n",
       "    </tr>\n",
       "    <tr>\n",
       "      <th>12</th>\n",
       "      <td>Conservative</td>\n",
       "      <td>of</td>\n",
       "      <td>5424</td>\n",
       "    </tr>\n",
       "    <tr>\n",
       "      <th>36</th>\n",
       "      <td>Conservative</td>\n",
       "      <td>i</td>\n",
       "      <td>5406</td>\n",
       "    </tr>\n",
       "  </tbody>\n",
       "</table>\n",
       "</div>"
      ],
      "text/plain": [
       "       subreddit word  count\n",
       "1   Conservative  the  11037\n",
       "29  Conservative   to   7269\n",
       "7   Conservative  and   6072\n",
       "12  Conservative   of   5424\n",
       "36  Conservative    i   5406"
      ]
     },
     "execution_count": 105,
     "metadata": {},
     "output_type": "execute_result"
    }
   ],
   "source": [
    "for i in range(len(reddit_submissions_subred)):\n",
    "    keyword = reddit_submissions_subred.index[i]\n",
    "    if i == 0:\n",
    "        submissions_subred_wcount = wordCounter(keyword, reddit_submissions_subred[keyword])\n",
    "        submissions_subred_wcount.sort_values(by = ['count'], ascending = False, inplace = True)\n",
    "    else:\n",
    "        xx = wordCounter(keyword, reddit_submissions_subred[keyword])\n",
    "        xx.sort_values(by = ['count'], ascending = False, inplace = True)\n",
    "        submissions_subred_wcount = submissions_subred_wcount.append(xx)"
   ]
  },
  {
   "cell_type": "markdown",
   "metadata": {},
   "source": [
    "### Zipf's Law"
   ]
  },
  {
   "cell_type": "code",
   "execution_count": 118,
   "metadata": {},
   "outputs": [
    {
     "data": {
      "image/png": "[encoded data removed]",
      "text/plain": [
       "<Figure size 648x432 with 6 Axes>"
      ]
     },
     "metadata": {
      "needs_background": "light"
     },
     "output_type": "display_data"
    }
   ],
   "source": [
    "submissions_subred_wcount[\"subred_rank\"] = submissions_subred_wcount.groupby(\"subreddit\")[\"count\"].rank(\"dense\", ascending=False)\n",
    "\n",
    "g_zipf = sns.FacetGrid(submissions_subred_wcount, col=\"subreddit\", col_wrap = 3)\n",
    "g_zipf = g_zipf.map(plt.plot, \"subred_rank\",\"count\")"
   ]
  },
  {
   "cell_type": "code",
   "execution_count": 126,
   "metadata": {},
   "outputs": [
    {
     "data": {
      "image/png": "[encoded data removed]",
      "text/plain": [
       "<Figure size 648x432 with 6 Axes>"
      ]
     },
     "metadata": {
      "needs_background": "light"
     },
     "output_type": "display_data"
    }
   ],
   "source": [
    "#ax.set(xscale=\"log\", yscale=\"log\")\n",
    "g_zipf_log = sns.FacetGrid(submissions_subred_wcount, col=\"subreddit\", col_wrap = 3)\n",
    "g_zipf_log = g_zipf_log.map(plt.plot, \"subred_rank\",\"count\")\n",
    "g_zipf_log = g_zipf_log.set(xscale=\"log\", yscale=\"log\")"
   ]
  },
  {
   "cell_type": "code",
   "execution_count": null,
   "metadata": {},
   "outputs": [],
   "source": []
  },
  {
   "cell_type": "markdown",
   "metadata": {},
   "source": [
    "### Lexical Dispersion"
   ]
  },
  {
   "cell_type": "code",
   "execution_count": 156,
   "metadata": {},
   "outputs": [
    {
     "data": {
      "text/plain": [
       "dict_keys(['Conservative', 'Incels', 'KotakuInAction', 'Republican', 'The_Donald', 'altright'])"
      ]
     },
     "execution_count": 156,
     "metadata": {},
     "output_type": "execute_result"
    }
   ],
   "source": [
    "nltk_dict = {}\n",
    "for i in range(len(reddit_submissions_subred)):\n",
    "    keyword = reddit_submissions_subred.index[i]\n",
    "    nltk_dict[keyword] = reddit_submissions_subred[keyword]\n",
    "\n",
    "nltk_dict.keys()"
   ]
  },
  {
   "cell_type": "code",
   "execution_count": 157,
   "metadata": {},
   "outputs": [
    {
     "name": "stdout",
     "output_type": "stream",
     "text": [
      "Displaying 25 of 25 matches:\n",
      "y dad Oh god this man is the greatest cuck to ever exist I would n't surprised i\n",
      "hen she told me this Just lmao at the cuck that will one day marry this used up \n",
      "him and another man making the Chad a cuck or beta buck Most modern music is abo\n",
      "you beta provide to her she is gon na cuck u if she has the chance When a woman \n",
      "anned from r foreveralone The fucking cuck mods of that sub banned me for tellin\n",
      " to feed you your own raw organs nice cuck white knight patrol i hope you kill y\n",
      "ved Homosexual men How much of a beta cuck must you be to get fucked by a Chad w\n",
      "cked him in their engagement and will cuck him in their marriage She rode the co\n",
      "ll having a stable safety net AKA the cuck If the younger Chad esque man they ar\n",
      " character is a socially awkward beta cuck or a muscular alpha chad Why are ther\n",
      "ing the only thing that a blue pilled cuck like him would do accepts the widow A\n",
      "erved it for being a blue pilled beta cuck The lesson to be learned from this is\n",
      " they can justify it Go on any of the cuck subreddits 95 of the time it 's the w\n",
      "ype of relationship And then the poor cuck husband bf thinks he 's is being so p\n",
      "s lt;20 5 Take a sip every time words cuck or beta provider get used on this sub\n",
      "se you 'd call her male best friend a cuck and tell her he 's jerking off thinki\n",
      "rsation If you use words like Chad or cuck in real life conversations you 're go\n",
      " Most Females will stay loyal and not cuck you in a relationship especially if y\n",
      "h special treatment You 're a fucking cuck if you treat a girl any better than y\n",
      "there 's going to be a numale orbiter cuck who brings her flowers and pretends t\n",
      "aking fun of us they have their SO 's cuck them and they spend the rest of their\n",
      "nority women Why U Viralimpulse was a cuck removed How can I get sex removed Soc\n",
      "s a nearly 3 in 4 chance you 'll be a cuck How are people like that You have to \n",
      "e at which point they seek out a beta cuck to settle down with for financial sec\n",
      "te and all I fucking see is repulsive cuck porn I feel disgusted by it so I go t\n"
     ]
    }
   ],
   "source": [
    "incels_text = nltk.Text(nltk_dict['Incels'])\n",
    "incels_text_concord = nltk.text.ConcordanceIndex(incels_text)\n",
    "incels_text_concord.print_concordance('cuck')"
   ]
  },
  {
   "cell_type": "code",
   "execution_count": 158,
   "metadata": {},
   "outputs": [
    {
     "data": {
      "text/plain": [
       "292"
      ]
     },
     "execution_count": 158,
     "metadata": {},
     "output_type": "execute_result"
    }
   ],
   "source": [
    "incels_text.count('cuck')"
   ]
  },
  {
   "cell_type": "code",
   "execution_count": 152,
   "metadata": {},
   "outputs": [
    {
     "name": "stderr",
     "output_type": "stream",
     "text": [
      "/software/Anaconda3-5.3.0-el7-x86_64/lib/python3.6/site-packages/matplotlib/__init__.py:855: MatplotlibDeprecationWarning: \n",
      "examples.directory is deprecated; in the future, examples will be found relative to the 'datapath' directory.\n",
      "  \"found relative to the 'datapath' directory.\".format(key))\n",
      "/software/Anaconda3-5.3.0-el7-x86_64/lib/python3.6/site-packages/matplotlib/__init__.py:846: MatplotlibDeprecationWarning: \n",
      "The text.latex.unicode rcparam was deprecated in Matplotlib 2.2 and will be removed in 3.1.\n",
      "  \"2.2\", name=key, obj_type=\"rcparam\", addendum=addendum)\n"
     ]
    },
    {
     "data": {
      "image/png": "[encoded data removed]",
      "text/plain": [
       "<Figure size 640x480 with 1 Axes>"
      ]
     },
     "metadata": {},
     "output_type": "display_data"
    }
   ],
   "source": [
    "sns.reset_orig() #Seaborn messes with this plot, disabling it\n",
    "incels_text.dispersion_plot(['incel', 'Chad','Stacy', 'feminist', 'SJW' ,'cuck', 'beta', 'rope', 'lonely', 'sex', 'affection'])\n",
    "sns.set() #Re-enabling seaborn"
   ]
  },
  {
   "cell_type": "code",
   "execution_count": null,
   "metadata": {},
   "outputs": [],
   "source": []
  },
  {
   "cell_type": "markdown",
   "metadata": {},
   "source": [
    "## Exercise 3 -- PoS Tagging"
   ]
  },
  {
   "cell_type": "code",
   "execution_count": 162,
   "metadata": {},
   "outputs": [],
   "source": [
    "def word_tokenize(word_list):\n",
    "    tokenized = []\n",
    "    # pass word list through language model.\n",
    "    doc = nlp(word_list)\n",
    "    for token in doc:\n",
    "        if not token.is_punct and len(token.text.strip()) > 0:\n",
    "            tokenized.append(token.text)\n",
    "    return tokenized\n",
    "\n",
    "def sent_tokenize(word_list):\n",
    "    doc = nlp(word_list)\n",
    "    sentences = [sent.string.strip() for sent in doc.sents]\n",
    "    return sentences\n",
    "\n",
    "def tag_sents_pos(sentences):\n",
    "    \"\"\"\n",
    "    function which replicates NLTK pos tagging on sentences.\n",
    "    \"\"\"\n",
    "    new_sents = []\n",
    "    for sentence in sentences:\n",
    "        new_sent = ' '.join(sentence)\n",
    "        new_sents.append(new_sent)\n",
    "    final_string = ' '.join(new_sents)\n",
    "    doc = nlp(final_string)\n",
    "    \n",
    "    pos_sents = []\n",
    "    for sent in doc.sents:\n",
    "        pos_sent = []\n",
    "        for token in sent:\n",
    "            pos_sent.append((token.text, token.tag_))\n",
    "        pos_sents.append(pos_sent)\n",
    "    \n",
    "    return pos_sents"
   ]
  },
  {
   "cell_type": "code",
   "execution_count": null,
   "metadata": {},
   "outputs": [],
   "source": [
    "reddit_submissions_min['sentences'] = reddit_submissions_min['post_text'].apply(lambda x: [word_tokenize(s) for s in sent_tokenize(x)])\n",
    "reddit_submissions_min.index = range(len(reddit_submissions_min) - 1, -1,-1) #Reindex to make things nice in the future\n",
    "reddit_submissions_min"
   ]
  },
  {
   "cell_type": "code",
   "execution_count": null,
   "metadata": {},
   "outputs": [],
   "source": [
    "redditTopScores['POS_sents'] = redditTopScores['sentences'].apply(lambda x: tag_sents_pos(x))"
   ]
  }
 ],
 "metadata": {
  "kernelspec": {
   "display_name": "Python 3",
   "language": "python",
   "name": "python3"
  }
 },
 "nbformat": 4,
 "nbformat_minor": 4
}
