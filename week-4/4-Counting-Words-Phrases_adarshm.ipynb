{
 "cells": [
  {
   "cell_type": "markdown",
   "metadata": {},
   "source": [
    "# Week 4 -- Counting Words & Phrases"
   ]
  },
  {
   "cell_type": "code",
   "execution_count": 1,
   "metadata": {},
   "outputs": [],
   "source": [
    "#Special module written for this class\n",
    "#This provides access to data and to helper functions from previous weeks\n",
    "import lucem_illud_2020 #pip install git+git://github.com/Computational-Content-Analysis-2020/lucem_illud_2020.git\n",
    "\n",
    "#All these packages need to be installed from pip\n",
    "import requests #for http requests\n",
    "import pandas #gives us DataFrames\n",
    "import matplotlib.pyplot as plt #For graphics\n",
    "import wordcloud #Makes word clouds\n",
    "import numpy as np #For divergences/distances\n",
    "import scipy #For divergences/distances\n",
    "import seaborn as sns #makes our plots look nicer\n",
    "import sklearn.manifold #For a manifold plot\n",
    "import json #For API responses\n",
    "import urllib.parse #For joining urls\n",
    "import pickle\n",
    "\n",
    "# comp-linguistics\n",
    "import spacy\n",
    "\n",
    "# nltk-import\n",
    "import nltk\n",
    "\n",
    "#Displays the graphs\n",
    "import graphviz #You also need to install the command line graphviz\n",
    "\n",
    "#These are from the standard library\n",
    "import os.path\n",
    "import zipfile\n",
    "import subprocess\n",
    "import io\n",
    "import tempfile\n",
    "\n",
    "#This 'magic' command makes the plots work better\n",
    "#in the notebook, don't use it outside of a notebook\n",
    "%matplotlib inline"
   ]
  },
  {
   "cell_type": "code",
   "execution_count": 2,
   "metadata": {},
   "outputs": [],
   "source": [
    "nlp = spacy.load(\"en\")"
   ]
  },
  {
   "cell_type": "markdown",
   "metadata": {},
   "source": [
    "## Loading the Corpora"
   ]
  },
  {
   "cell_type": "code",
   "execution_count": 3,
   "metadata": {},
   "outputs": [],
   "source": [
    "# SKIP ALL CELLS BELOW IF YOU JUST WANT TO SKIP MASSIVE PROCESSING TIMES AND JUST LOAD THE PICKLED DF\n",
    "with open('reddit_submissions_min_tkns_w4.pkl', 'rb') as f:\n",
    "    reddit_submissions_min = pickle.load(f)"
   ]
  },
  {
   "cell_type": "code",
   "execution_count": 3,
   "metadata": {},
   "outputs": [
    {
     "name": "stderr",
     "output_type": "stream",
     "text": [
      "/software/Anaconda3-5.3.0-el7-x86_64/lib/python3.6/site-packages/IPython/core/interactiveshell.py:3018: DtypeWarning: Columns (8) have mixed types. Specify dtype option on import or set low_memory=False.\n",
      "  interactivity=interactivity, compiler=compiler, result=result)\n"
     ]
    },
    {
     "data": {
      "text/plain": [
       "78905"
      ]
     },
     "execution_count": 3,
     "metadata": {},
     "output_type": "execute_result"
    }
   ],
   "source": [
    "reddit_submissions_raw = pandas.read_csv('../project_data/reddit_submissions_2015_18.csv', index_col=6)\n",
    "reddit_submissions_min = reddit_submissions_raw[['author', 'created_utc', 'subreddit', 'title', 'selftext', 'distinguished']]\n",
    "len(reddit_submissions_min)"
   ]
  },
  {
   "cell_type": "code",
   "execution_count": 4,
   "metadata": {},
   "outputs": [
    {
     "data": {
      "text/html": [
       "<div>\n",
       "<style scoped>\n",
       "    .dataframe tbody tr th:only-of-type {\n",
       "        vertical-align: middle;\n",
       "    }\n",
       "\n",
       "    .dataframe tbody tr th {\n",
       "        vertical-align: top;\n",
       "    }\n",
       "\n",
       "    .dataframe thead th {\n",
       "        text-align: right;\n",
       "    }\n",
       "</style>\n",
       "<table border=\"1\" class=\"dataframe\">\n",
       "  <thead>\n",
       "    <tr style=\"text-align: right;\">\n",
       "      <th></th>\n",
       "      <th>author</th>\n",
       "      <th>created_utc</th>\n",
       "      <th>subreddit</th>\n",
       "      <th>title</th>\n",
       "      <th>selftext</th>\n",
       "      <th>distinguished</th>\n",
       "    </tr>\n",
       "    <tr>\n",
       "      <th>id</th>\n",
       "      <th></th>\n",
       "      <th></th>\n",
       "      <th></th>\n",
       "      <th></th>\n",
       "      <th></th>\n",
       "      <th></th>\n",
       "    </tr>\n",
       "  </thead>\n",
       "  <tbody>\n",
       "    <tr>\n",
       "      <th>4dgf5j</th>\n",
       "      <td>avian_buddha</td>\n",
       "      <td>1459863156</td>\n",
       "      <td>altright</td>\n",
       "      <td>List of Alt Right Websites</td>\n",
       "      <td>Let's get a list going so that anybody can com...</td>\n",
       "      <td>moderator</td>\n",
       "    </tr>\n",
       "    <tr>\n",
       "      <th>4rj06j</th>\n",
       "      <td>AugustJRush</td>\n",
       "      <td>1467818739</td>\n",
       "      <td>altright</td>\n",
       "      <td>What type of content do you guys like to see?</td>\n",
       "      <td>Would you folk like to see more news stories, ...</td>\n",
       "      <td>NaN</td>\n",
       "    </tr>\n",
       "    <tr>\n",
       "      <th>4s2m7h</th>\n",
       "      <td>LetThereBeWhite</td>\n",
       "      <td>1468103206</td>\n",
       "      <td>altright</td>\n",
       "      <td>Damn, 250 subscribers to 450 in less than a we...</td>\n",
       "      <td>_____________\\n\\n-\\n\\n# For once in its cuck l...</td>\n",
       "      <td>moderator</td>\n",
       "    </tr>\n",
       "    <tr>\n",
       "      <th>4s39s6</th>\n",
       "      <td>AugustJRush</td>\n",
       "      <td>1468113131</td>\n",
       "      <td>altright</td>\n",
       "      <td>How do you describe your political leanings to...</td>\n",
       "      <td>I usually just go with \"Far-Right\", which is g...</td>\n",
       "      <td>NaN</td>\n",
       "    </tr>\n",
       "    <tr>\n",
       "      <th>4s63m0</th>\n",
       "      <td>YukonAurelius</td>\n",
       "      <td>1468167550</td>\n",
       "      <td>altright</td>\n",
       "      <td>Any interest in alt-right reading group?</td>\n",
       "      <td>I was thinking of digging into Spengler's \"Dec...</td>\n",
       "      <td>NaN</td>\n",
       "    </tr>\n",
       "  </tbody>\n",
       "</table>\n",
       "</div>"
      ],
      "text/plain": [
       "                 author  created_utc subreddit  \\\n",
       "id                                               \n",
       "4dgf5j     avian_buddha   1459863156  altright   \n",
       "4rj06j      AugustJRush   1467818739  altright   \n",
       "4s2m7h  LetThereBeWhite   1468103206  altright   \n",
       "4s39s6      AugustJRush   1468113131  altright   \n",
       "4s63m0    YukonAurelius   1468167550  altright   \n",
       "\n",
       "                                                    title  \\\n",
       "id                                                          \n",
       "4dgf5j                         List of Alt Right Websites   \n",
       "4rj06j      What type of content do you guys like to see?   \n",
       "4s2m7h  Damn, 250 subscribers to 450 in less than a we...   \n",
       "4s39s6  How do you describe your political leanings to...   \n",
       "4s63m0           Any interest in alt-right reading group?   \n",
       "\n",
       "                                                 selftext distinguished  \n",
       "id                                                                       \n",
       "4dgf5j  Let's get a list going so that anybody can com...     moderator  \n",
       "4rj06j  Would you folk like to see more news stories, ...           NaN  \n",
       "4s2m7h  _____________\\n\\n-\\n\\n# For once in its cuck l...     moderator  \n",
       "4s39s6  I usually just go with \"Far-Right\", which is g...           NaN  \n",
       "4s63m0  I was thinking of digging into Spengler's \"Dec...           NaN  "
      ]
     },
     "execution_count": 4,
     "metadata": {},
     "output_type": "execute_result"
    }
   ],
   "source": [
    "reddit_submissions_min.head()"
   ]
  },
  {
   "cell_type": "code",
   "execution_count": 6,
   "metadata": {
    "scrolled": true
   },
   "outputs": [
    {
     "name": "stderr",
     "output_type": "stream",
     "text": [
      "/software/Anaconda3-5.3.0-el7-x86_64/lib/python3.6/site-packages/ipykernel_launcher.py:1: SettingWithCopyWarning: \n",
      "A value is trying to be set on a copy of a slice from a DataFrame.\n",
      "Try using .loc[row_indexer,col_indexer] = value instead\n",
      "\n",
      "See the caveats in the documentation: http://pandas.pydata.org/pandas-docs/stable/indexing.html#indexing-view-versus-copy\n",
      "  \"\"\"Entry point for launching an IPython kernel.\n",
      "/software/Anaconda3-5.3.0-el7-x86_64/lib/python3.6/site-packages/ipykernel_launcher.py:2: SettingWithCopyWarning: \n",
      "A value is trying to be set on a copy of a slice from a DataFrame.\n",
      "Try using .loc[row_indexer,col_indexer] = value instead\n",
      "\n",
      "See the caveats in the documentation: http://pandas.pydata.org/pandas-docs/stable/indexing.html#indexing-view-versus-copy\n",
      "  \n",
      "/software/Anaconda3-5.3.0-el7-x86_64/lib/python3.6/site-packages/ipykernel_launcher.py:3: SettingWithCopyWarning: \n",
      "A value is trying to be set on a copy of a slice from a DataFrame.\n",
      "Try using .loc[row_indexer,col_indexer] = value instead\n",
      "\n",
      "See the caveats in the documentation: http://pandas.pydata.org/pandas-docs/stable/indexing.html#indexing-view-versus-copy\n",
      "  This is separate from the ipykernel package so we can avoid doing imports until\n"
     ]
    }
   ],
   "source": [
    "reddit_submissions_min['post_text'] = reddit_submissions_min['title'] + \" \" + reddit_submissions_min['selftext']\n",
    "reddit_submissions_min['tokenized_text'] = reddit_submissions_min['post_text'].apply(lambda x: lucem_illud_2020.word_tokenize(x))\n",
    "reddit_submissions_min['normalized_text'] = reddit_submissions_min['tokenized_text'].apply(lambda x: lucem_illud_2020.normalizeTokens(x))"
   ]
  },
  {
   "cell_type": "code",
   "execution_count": 7,
   "metadata": {},
   "outputs": [],
   "source": [
    "with open('reddit_submissions_min_tkns_w4.pkl', 'wb') as f:\n",
    "    pickle.dump(reddit_submissions_min, f)"
   ]
  },
  {
   "cell_type": "markdown",
   "metadata": {},
   "source": [
    "## Exercise 1\n",
    "\n",
    "Tasks:\n",
    "- Convert to an `nltk` object. \n",
    "- Tokenize the text.\n",
    "- Count words.\n",
    "- Check for Zipf's law.\n",
    "- Make a Dispersion plot."
   ]
  },
  {
   "cell_type": "markdown",
   "metadata": {},
   "source": [
    "### Counting words"
   ]
  },
  {
   "cell_type": "code",
   "execution_count": 65,
   "metadata": {},
   "outputs": [],
   "source": [
    "# SKIP NEXT TWO CELLS IF YOU JUST WANT TO LOAD THE PICKLED DF\n",
    "with open('reddit_submissions_wlist_w4.pkl', 'rb') as f:\n",
    "    reddit_submissions_subred = pickle.load(f)"
   ]
  },
  {
   "cell_type": "code",
   "execution_count": 93,
   "metadata": {},
   "outputs": [],
   "source": [
    "def wordCounter(subred_name, wordLst):\n",
    "    wordCounts = {}\n",
    "    for word in wordLst:\n",
    "        #We usually need to normalize the case\n",
    "        wLower = word.lower()\n",
    "        if wLower in wordCounts:\n",
    "            wordCounts[wLower] += 1\n",
    "        else:\n",
    "            wordCounts[wLower] = 1\n",
    "    #convert to DataFrame\n",
    "    countsForFrame = {'subreddit' : [], 'word' : [], 'count' : []}\n",
    "    for w, c in wordCounts.items():\n",
    "        countsForFrame['subreddit'].append(subred_name)\n",
    "        countsForFrame['word'].append(w)\n",
    "        countsForFrame['count'].append(c)\n",
    "    final_df = pandas.DataFrame(countsForFrame)\n",
    "    return final_df"
   ]
  },
  {
   "cell_type": "code",
   "execution_count": null,
   "metadata": {},
   "outputs": [],
   "source": [
    "reddit_submissions_subred = reddit_submissions_min.groupby(('subreddit'))['tokenized_text'].apply(sum)\n",
    "reddit_submissions_subred"
   ]
  },
  {
   "cell_type": "code",
   "execution_count": 60,
   "metadata": {},
   "outputs": [
    {
     "data": {
      "text/plain": [
       "6"
      ]
     },
     "execution_count": 60,
     "metadata": {},
     "output_type": "execute_result"
    }
   ],
   "source": [
    "len(reddit_submissions_subred)"
   ]
  },
  {
   "cell_type": "code",
   "execution_count": 160,
   "metadata": {},
   "outputs": [],
   "source": [
    "with open('reddit_submissions_wlist_w4.pkl', 'wb') as f:\n",
    "    pickle.dump(reddit_submissions_subred, f)"
   ]
  },
  {
   "cell_type": "code",
   "execution_count": 105,
   "metadata": {},
   "outputs": [
    {
     "data": {
      "text/html": [
       "<div>\n",
       "<style scoped>\n",
       "    .dataframe tbody tr th:only-of-type {\n",
       "        vertical-align: middle;\n",
       "    }\n",
       "\n",
       "    .dataframe tbody tr th {\n",
       "        vertical-align: top;\n",
       "    }\n",
       "\n",
       "    .dataframe thead th {\n",
       "        text-align: right;\n",
       "    }\n",
       "</style>\n",
       "<table border=\"1\" class=\"dataframe\">\n",
       "  <thead>\n",
       "    <tr style=\"text-align: right;\">\n",
       "      <th></th>\n",
       "      <th>subreddit</th>\n",
       "      <th>word</th>\n",
       "      <th>count</th>\n",
       "    </tr>\n",
       "  </thead>\n",
       "  <tbody>\n",
       "    <tr>\n",
       "      <th>1</th>\n",
       "      <td>Conservative</td>\n",
       "      <td>the</td>\n",
       "      <td>11037</td>\n",
       "    </tr>\n",
       "    <tr>\n",
       "      <th>29</th>\n",
       "      <td>Conservative</td>\n",
       "      <td>to</td>\n",
       "      <td>7269</td>\n",
       "    </tr>\n",
       "    <tr>\n",
       "      <th>7</th>\n",
       "      <td>Conservative</td>\n",
       "      <td>and</td>\n",
       "      <td>6072</td>\n",
       "    </tr>\n",
       "    <tr>\n",
       "      <th>12</th>\n",
       "      <td>Conservative</td>\n",
       "      <td>of</td>\n",
       "      <td>5424</td>\n",
       "    </tr>\n",
       "    <tr>\n",
       "      <th>36</th>\n",
       "      <td>Conservative</td>\n",
       "      <td>i</td>\n",
       "      <td>5406</td>\n",
       "    </tr>\n",
       "  </tbody>\n",
       "</table>\n",
       "</div>"
      ],
      "text/plain": [
       "       subreddit word  count\n",
       "1   Conservative  the  11037\n",
       "29  Conservative   to   7269\n",
       "7   Conservative  and   6072\n",
       "12  Conservative   of   5424\n",
       "36  Conservative    i   5406"
      ]
     },
     "execution_count": 105,
     "metadata": {},
     "output_type": "execute_result"
    }
   ],
   "source": [
    "for i in range(len(reddit_submissions_subred)):\n",
    "    keyword = reddit_submissions_subred.index[i]\n",
    "    if i == 0:\n",
    "        submissions_subred_wcount = wordCounter(keyword, reddit_submissions_subred[keyword])\n",
    "        submissions_subred_wcount.sort_values(by = ['count'], ascending = False, inplace = True)\n",
    "    else:\n",
    "        xx = wordCounter(keyword, reddit_submissions_subred[keyword])\n",
    "        xx.sort_values(by = ['count'], ascending = False, inplace = True)\n",
    "        submissions_subred_wcount = submissions_subred_wcount.append(xx)"
   ]
  },
  {
   "cell_type": "markdown",
   "metadata": {},
   "source": [
    "### Zipf's Law"
   ]
  },
  {
   "cell_type": "code",
   "execution_count": 118,
   "metadata": {},
   "outputs": [
    {
     "data": {
      "image/png": "[encoded data removed]",
      "text/plain": [
       "<Figure size 648x432 with 6 Axes>"
      ]
     },
     "metadata": {
      "needs_background": "light"
     },
     "output_type": "display_data"
    }
   ],
   "source": [
    "submissions_subred_wcount[\"subred_rank\"] = submissions_subred_wcount.groupby(\"subreddit\")[\"count\"].rank(\"dense\", ascending=False)\n",
    "\n",
    "g_zipf = sns.FacetGrid(submissions_subred_wcount, col=\"subreddit\", col_wrap = 3)\n",
    "g_zipf = g_zipf.map(plt.plot, \"subred_rank\",\"count\")"
   ]
  },
  {
   "cell_type": "code",
   "execution_count": 126,
   "metadata": {},
   "outputs": [
    {
     "data": {
      "image/png": "[encoded data removed]",
      "text/plain": [
       "<Figure size 648x432 with 6 Axes>"
      ]
     },
     "metadata": {
      "needs_background": "light"
     },
     "output_type": "display_data"
    }
   ],
   "source": [
    "#ax.set(xscale=\"log\", yscale=\"log\")\n",
    "g_zipf_log = sns.FacetGrid(submissions_subred_wcount, col=\"subreddit\", col_wrap = 3)\n",
    "g_zipf_log = g_zipf_log.map(plt.plot, \"subred_rank\",\"count\")\n",
    "g_zipf_log = g_zipf_log.set(xscale=\"log\", yscale=\"log\")"
   ]
  },
  {
   "cell_type": "code",
   "execution_count": null,
   "metadata": {},
   "outputs": [],
   "source": []
  },
  {
   "cell_type": "markdown",
   "metadata": {},
   "source": [
    "### Lexical Dispersion"
   ]
  },
  {
   "cell_type": "code",
   "execution_count": 66,
   "metadata": {},
   "outputs": [
    {
     "data": {
      "text/plain": [
       "dict_keys(['Conservative', 'Incels', 'KotakuInAction', 'Republican', 'The_Donald', 'altright'])"
      ]
     },
     "execution_count": 66,
     "metadata": {},
     "output_type": "execute_result"
    }
   ],
   "source": [
    "nltk_dict = {}\n",
    "for i in range(len(reddit_submissions_subred)):\n",
    "    keyword = reddit_submissions_subred.index[i]\n",
    "    nltk_dict[keyword] = nltk.Text(reddit_submissions_subred[keyword])\n",
    "\n",
    "nltk_dict.keys()"
   ]
  },
  {
   "cell_type": "code",
   "execution_count": 67,
   "metadata": {},
   "outputs": [
    {
     "name": "stdout",
     "output_type": "stream",
     "text": [
      "Displaying 25 of 25 matches:\n",
      "y dad Oh god this man is the greatest cuck to ever exist I would n't surprised i\n",
      "hen she told me this Just lmao at the cuck that will one day marry this used up \n",
      "him and another man making the Chad a cuck or beta buck Most modern music is abo\n",
      "you beta provide to her she is gon na cuck u if she has the chance When a woman \n",
      "anned from r foreveralone The fucking cuck mods of that sub banned me for tellin\n",
      " to feed you your own raw organs nice cuck white knight patrol i hope you kill y\n",
      "ved Homosexual men How much of a beta cuck must you be to get fucked by a Chad w\n",
      "cked him in their engagement and will cuck him in their marriage She rode the co\n",
      "ll having a stable safety net AKA the cuck If the younger Chad esque man they ar\n",
      " character is a socially awkward beta cuck or a muscular alpha chad Why are ther\n",
      "ing the only thing that a blue pilled cuck like him would do accepts the widow A\n",
      "erved it for being a blue pilled beta cuck The lesson to be learned from this is\n",
      " they can justify it Go on any of the cuck subreddits 95 of the time it 's the w\n",
      "ype of relationship And then the poor cuck husband bf thinks he 's is being so p\n",
      "s lt;20 5 Take a sip every time words cuck or beta provider get used on this sub\n",
      "se you 'd call her male best friend a cuck and tell her he 's jerking off thinki\n",
      "rsation If you use words like Chad or cuck in real life conversations you 're go\n",
      " Most Females will stay loyal and not cuck you in a relationship especially if y\n",
      "h special treatment You 're a fucking cuck if you treat a girl any better than y\n",
      "there 's going to be a numale orbiter cuck who brings her flowers and pretends t\n",
      "aking fun of us they have their SO 's cuck them and they spend the rest of their\n",
      "nority women Why U Viralimpulse was a cuck removed How can I get sex removed Soc\n",
      "s a nearly 3 in 4 chance you 'll be a cuck How are people like that You have to \n",
      "e at which point they seek out a beta cuck to settle down with for financial sec\n",
      "te and all I fucking see is repulsive cuck porn I feel disgusted by it so I go t\n"
     ]
    }
   ],
   "source": [
    "incels_text_concord = nltk.text.ConcordanceIndex(nltk_dict['Incels'])\n",
    "incels_text_concord.print_concordance('cuck')"
   ]
  },
  {
   "cell_type": "code",
   "execution_count": 68,
   "metadata": {},
   "outputs": [
    {
     "data": {
      "text/plain": [
       "292"
      ]
     },
     "execution_count": 68,
     "metadata": {},
     "output_type": "execute_result"
    }
   ],
   "source": [
    "nltk_dict['Incels'].count('cuck')"
   ]
  },
  {
   "cell_type": "code",
   "execution_count": 69,
   "metadata": {},
   "outputs": [
    {
     "name": "stderr",
     "output_type": "stream",
     "text": [
      "/software/Anaconda3-5.3.0-el7-x86_64/lib/python3.6/site-packages/matplotlib/__init__.py:855: MatplotlibDeprecationWarning: \n",
      "examples.directory is deprecated; in the future, examples will be found relative to the 'datapath' directory.\n",
      "  \"found relative to the 'datapath' directory.\".format(key))\n",
      "/software/Anaconda3-5.3.0-el7-x86_64/lib/python3.6/site-packages/matplotlib/__init__.py:846: MatplotlibDeprecationWarning: \n",
      "The text.latex.unicode rcparam was deprecated in Matplotlib 2.2 and will be removed in 3.1.\n",
      "  \"2.2\", name=key, obj_type=\"rcparam\", addendum=addendum)\n"
     ]
    },
    {
     "data": {
      "image/png": "[encoded data removed]",
      "text/plain": [
       "<Figure size 640x480 with 1 Axes>"
      ]
     },
     "metadata": {},
     "output_type": "display_data"
    }
   ],
   "source": [
    "sns.reset_orig() #Seaborn messes with this plot, disabling it\n",
    "nltk_dict['Incels'].dispersion_plot(['incel', 'Chad','Stacy', 'feminist', 'SJW' ,'cuck', 'beta', 'rope', 'lonely', 'sex', 'affection'])\n",
    "sns.set() #Re-enabling seaborn"
   ]
  },
  {
   "cell_type": "code",
   "execution_count": null,
   "metadata": {},
   "outputs": [],
   "source": []
  },
  {
   "cell_type": "markdown",
   "metadata": {},
   "source": [
    "## Exercise 3 -- PoS Tagging"
   ]
  },
  {
   "cell_type": "code",
   "execution_count": 4,
   "metadata": {},
   "outputs": [],
   "source": [
    "def word_tokenize(word_list):\n",
    "    tokenized = []\n",
    "    # pass word list through language model.\n",
    "    doc = nlp(word_list)\n",
    "    for token in doc:\n",
    "        if not token.is_punct and len(token.text.strip()) > 0:\n",
    "            tokenized.append(token.text)\n",
    "    return tokenized\n",
    "\n",
    "def sent_tokenize(word_list):\n",
    "    doc = nlp(word_list)\n",
    "    sentences = [sent.string.strip() for sent in doc.sents]\n",
    "    return sentences\n",
    "\n",
    "def tag_sents_pos(sentences):\n",
    "    \"\"\"\n",
    "    function which replicates NLTK pos tagging on sentences.\n",
    "    \"\"\"\n",
    "    new_sents = []\n",
    "    for sentence in sentences:\n",
    "        new_sent = ' '.join(sentence)\n",
    "        new_sents.append(new_sent)\n",
    "    final_string = ' '.join(new_sents)\n",
    "    doc = nlp(final_string)\n",
    "    \n",
    "    pos_sents = []\n",
    "    for sent in doc.sents:\n",
    "        pos_sent = []\n",
    "        for token in sent:\n",
    "            pos_sent.append((token.text, token.tag_))\n",
    "        pos_sents.append(pos_sent)\n",
    "    \n",
    "    return pos_sents"
   ]
  },
  {
   "cell_type": "code",
   "execution_count": null,
   "metadata": {},
   "outputs": [],
   "source": [
    "reddit_submissions_min_sample = reddit_submissions_min.sample(frac = 0.05)\n",
    "reddit_submissions_min_sample['sentences'] = reddit_submissions_min_sample['post_text'].apply(lambda x: [word_tokenize(s) for s in sent_tokenize(x)])\n",
    "reddit_submissions_min_sample.index = range(len(reddit_submissions_min_sample) - 1, -1,-1) #Reindex to make things nice in the future\n",
    "reddit_submissions_min_sample"
   ]
  },
  {
   "cell_type": "code",
   "execution_count": 10,
   "metadata": {},
   "outputs": [],
   "source": [
    "reddit_submissions_min_sample['POS_sents'] = reddit_submissions_min_sample['sentences'].apply(lambda x: tag_sents_pos(x))"
   ]
  },
  {
   "cell_type": "code",
   "execution_count": 12,
   "metadata": {},
   "outputs": [
    {
     "data": {
      "text/plain": [
       "3944    [[(If, IN), (Moore, NNP), (had, VBD), (dropped...\n",
       "3943    [[(Facebook, NNP), (Twitter, NNP), (and, CC), ...\n",
       "3942    [[(Trump, NNP), (was, VBD), (JUST, RB), (attac...\n",
       "3941    [[(Flynn, NNP), (gave, VBD), (something, NN), ...\n",
       "3940    [[(This, DT), (is, VBZ), (what, WP), (you, PRP...\n",
       "Name: POS_sents, dtype: object"
      ]
     },
     "execution_count": 12,
     "metadata": {},
     "output_type": "execute_result"
    }
   ],
   "source": [
    "reddit_submissions_min_sample['POS_sents'].head()"
   ]
  },
  {
   "cell_type": "code",
   "execution_count": 13,
   "metadata": {},
   "outputs": [],
   "source": [
    "with open('reddit_submissions_min_tkns_sample_w4.pkl', 'wb') as f:\n",
    "    pickle.dump(reddit_submissions_min_sample, f)"
   ]
  },
  {
   "cell_type": "code",
   "execution_count": 83,
   "metadata": {},
   "outputs": [],
   "source": [
    "def sorted_pos(target_pos, input_df):\n",
    "    targetCounts = {}\n",
    "    for entry in input_df['POS_sents']:\n",
    "        for sentence in entry:\n",
    "            for ent, kind in sentence:\n",
    "                if kind != target_pos:\n",
    "                    continue\n",
    "                elif ent in targetCounts:\n",
    "                    targetCounts[ent] += 1\n",
    "                else:\n",
    "                    targetCounts[ent] = 1\n",
    "    sortedTargets = sorted(targetCounts.items(), key = lambda x: x[1], reverse = True)\n",
    "    return sortedTargets"
   ]
  },
  {
   "cell_type": "code",
   "execution_count": 85,
   "metadata": {},
   "outputs": [
    {
     "data": {
      "text/plain": [
       "[('m', 1261),\n",
       " ('time', 835),\n",
       " ('way', 543),\n",
       " ('game', 477),\n",
       " ('something', 463),\n",
       " ('life', 431),\n",
       " ('thing', 415),\n",
       " ('day', 395),\n",
       " ('someone', 391),\n",
       " ('lot', 384),\n",
       " ('anyone', 372),\n",
       " ('shit', 351),\n",
       " ('person', 337),\n",
       " ('anything', 336),\n",
       " ('world', 329),\n",
       " ('year', 311),\n",
       " ('video', 311),\n",
       " ('everyone', 310),\n",
       " ('news', 307),\n",
       " ('post', 306),\n",
       " ('state', 299),\n",
       " ('r', 298),\n",
       " ('one', 295),\n",
       " ('point', 293),\n",
       " ('sub', 292)]"
      ]
     },
     "execution_count": 85,
     "metadata": {},
     "output_type": "execute_result"
    }
   ],
   "source": [
    "sorted_pos('NN', reddit_submissions_min_sample)[:25]"
   ]
  },
  {
   "cell_type": "code",
   "execution_count": 88,
   "metadata": {},
   "outputs": [
    {
     "data": {
      "text/plain": [
       "[('be', 3416),\n",
       " ('have', 1110),\n",
       " ('get', 909),\n",
       " ('do', 834),\n",
       " ('make', 576),\n",
       " ('see', 463),\n",
       " ('go', 439),\n",
       " ('know', 438),\n",
       " ('say', 382),\n",
       " ('think', 378),\n",
       " ('take', 347),\n",
       " ('want', 279),\n",
       " ('find', 242),\n",
       " ('let', 239),\n",
       " ('help', 236),\n",
       " ('give', 229),\n",
       " ('like', 224),\n",
       " ('look', 196),\n",
       " ('feel', 195),\n",
       " ('keep', 191),\n",
       " ('vote', 182),\n",
       " ('come', 180),\n",
       " ('believe', 180),\n",
       " ('use', 177),\n",
       " ('work', 175)]"
      ]
     },
     "execution_count": 88,
     "metadata": {},
     "output_type": "execute_result"
    }
   ],
   "source": [
    "sorted_pos('VB', reddit_submissions_min_sample)[:25]"
   ]
  },
  {
   "cell_type": "code",
   "execution_count": 87,
   "metadata": {},
   "outputs": [
    {
     "data": {
      "text/plain": [
       "[('I', 11080),\n",
       " ('it', 5278),\n",
       " ('you', 4684),\n",
       " ('they', 3076),\n",
       " ('we', 2259),\n",
       " ('me', 1868),\n",
       " ('he', 1689),\n",
       " ('them', 1500),\n",
       " ('It', 1175),\n",
       " ('she', 1004),\n",
       " ('We', 864),\n",
       " ('They', 763),\n",
       " ('us', 756),\n",
       " ('him', 728),\n",
       " ('You', 629),\n",
       " ('He', 552),\n",
       " ('i', 509),\n",
       " ('her', 483),\n",
       " ('She', 328),\n",
       " ('myself', 208),\n",
       " (\"'s\", 191),\n",
       " ('themselves', 185),\n",
       " ('YOU', 125),\n",
       " ('yourself', 109),\n",
       " ('itself', 85)]"
      ]
     },
     "execution_count": 87,
     "metadata": {},
     "output_type": "execute_result"
    }
   ],
   "source": [
    "sorted_pos('PRP', reddit_submissions_min_sample)[:25]"
   ]
  },
  {
   "cell_type": "markdown",
   "metadata": {},
   "source": [
    "#### Adjectives around Nouns"
   ]
  },
  {
   "cell_type": "code",
   "execution_count": 43,
   "metadata": {
    "scrolled": true
   },
   "outputs": [],
   "source": [
    "from collections import defaultdict\n",
    "\n",
    "def word_assoc_gen(target_pos, word_list):\n",
    "    NResults_dict = defaultdict(set)\n",
    "    for Word in word_list:\n",
    "        for entry in reddit_submissions_min_sample['POS_sents']:\n",
    "            for sentence in entry:\n",
    "                for (ent1, kind1),(ent2,kind2) in zip(sentence[:-1], sentence[1:]):\n",
    "                    if (kind1,ent2.lower())==(target_pos,Word):\n",
    "                        NResults_dict[Word].add(ent1)\n",
    "                    else:\n",
    "                        continue\n",
    "    return NResults_dict"
   ]
  },
  {
   "cell_type": "code",
   "execution_count": 44,
   "metadata": {},
   "outputs": [],
   "source": [
    "noun_adj_assoc_dict = word_assoc_gen('JJ', ['trump', 'feminist', 'clinton', 'white', 'incel', 'pride'])"
   ]
  },
  {
   "cell_type": "code",
   "execution_count": 45,
   "metadata": {},
   "outputs": [
    {
     "data": {
      "text/plain": [
       "{'Liberal',\n",
       " 'Real',\n",
       " 'actual',\n",
       " 'anti',\n",
       " 'big',\n",
       " 'certain',\n",
       " 'female',\n",
       " 'intersectional',\n",
       " 'male',\n",
       " 'negative',\n",
       " 'new',\n",
       " 'non',\n",
       " 'obese',\n",
       " 'other',\n",
       " 'prominent',\n",
       " 'radical',\n",
       " 'sectional',\n",
       " 'stray',\n",
       " 'super'}"
      ]
     },
     "execution_count": 45,
     "metadata": {},
     "output_type": "execute_result"
    }
   ],
   "source": [
    "noun_adj_assoc_dict['feminist']"
   ]
  },
  {
   "cell_type": "code",
   "execution_count": 46,
   "metadata": {},
   "outputs": [
    {
     "data": {
      "text/plain": [
       "{'Former',\n",
       " 'anti',\n",
       " 'blown',\n",
       " 'depressed',\n",
       " 'experienced',\n",
       " 'fake',\n",
       " 'former',\n",
       " 'last',\n",
       " 'male',\n",
       " 'many',\n",
       " 'mock',\n",
       " 'other',\n",
       " 'own',\n",
       " 'positive',\n",
       " 'real',\n",
       " 'relatable',\n",
       " 'true',\n",
       " 'typical',\n",
       " 'ugly',\n",
       " 'uncensored',\n",
       " 'voluntary'}"
      ]
     },
     "execution_count": 46,
     "metadata": {},
     "output_type": "execute_result"
    }
   ],
   "source": [
    "noun_adj_assoc_dict['incel']"
   ]
  },
  {
   "cell_type": "code",
   "execution_count": 47,
   "metadata": {
    "scrolled": false
   },
   "outputs": [
    {
     "data": {
      "text/plain": [
       "{'American',\n",
       " 'actual',\n",
       " 'black',\n",
       " 'great',\n",
       " 'much',\n",
       " 'national',\n",
       " 'nationalistic',\n",
       " 'racial',\n",
       " 'white'}"
      ]
     },
     "execution_count": 47,
     "metadata": {},
     "output_type": "execute_result"
    }
   ],
   "source": [
    "noun_adj_assoc_dict['pride']"
   ]
  },
  {
   "cell_type": "markdown",
   "metadata": {},
   "source": [
    "#### Adverbs around Verbs"
   ]
  },
  {
   "cell_type": "code",
   "execution_count": 93,
   "metadata": {
    "scrolled": true
   },
   "outputs": [],
   "source": [
    "verb_adverb_assoc_dict = word_assoc_gen('RB', ['believe', 'feel', 'vote', 'attack'])"
   ]
  },
  {
   "cell_type": "code",
   "execution_count": 94,
   "metadata": {},
   "outputs": [
    {
     "data": {
      "text/plain": [
       "{'NOT',\n",
       " 'actually',\n",
       " 'also',\n",
       " 'better',\n",
       " 'easily',\n",
       " 'even',\n",
       " 'firmly',\n",
       " 'fully',\n",
       " 'gt;I',\n",
       " 'here',\n",
       " 'honestly',\n",
       " 'just',\n",
       " 'literally',\n",
       " \"n't\",\n",
       " 'not',\n",
       " 'nt',\n",
       " 'n’t',\n",
       " 'personally',\n",
       " 'possibly',\n",
       " 'really',\n",
       " 'sadly',\n",
       " 'simply',\n",
       " 'still',\n",
       " 'strongly',\n",
       " 'truly'}"
      ]
     },
     "execution_count": 94,
     "metadata": {},
     "output_type": "execute_result"
    }
   ],
   "source": [
    "verb_adverb_assoc_dict['believe']"
   ]
  },
  {
   "cell_type": "code",
   "execution_count": 95,
   "metadata": {},
   "outputs": [
    {
     "data": {
      "text/plain": [
       "{'Honestly',\n",
       " 'NOT',\n",
       " 'actually',\n",
       " 'also',\n",
       " 'always',\n",
       " 'better',\n",
       " 'else',\n",
       " 'here',\n",
       " 'honestly',\n",
       " 'just',\n",
       " \"n't\",\n",
       " 'never',\n",
       " 'not',\n",
       " 'nt',\n",
       " 'n’t',\n",
       " 'obviously',\n",
       " 'personally',\n",
       " 'really',\n",
       " 'seriously',\n",
       " 'still'}"
      ]
     },
     "execution_count": 95,
     "metadata": {},
     "output_type": "execute_result"
    }
   ],
   "source": [
    "verb_adverb_assoc_dict['feel']"
   ]
  },
  {
   "cell_type": "code",
   "execution_count": 96,
   "metadata": {
    "scrolled": true
   },
   "outputs": [
    {
     "data": {
      "text/plain": [
       "{'NOT',\n",
       " 'STILL',\n",
       " 'actually',\n",
       " 'again',\n",
       " 'always',\n",
       " 'even',\n",
       " 'happily',\n",
       " 'just',\n",
       " 'longer',\n",
       " 'mostly',\n",
       " \"n't\",\n",
       " 'never',\n",
       " 'not',\n",
       " 'nt',\n",
       " 'originally',\n",
       " 'still'}"
      ]
     },
     "execution_count": 96,
     "metadata": {},
     "output_type": "execute_result"
    }
   ],
   "source": [
    "verb_adverb_assoc_dict['vote']"
   ]
  },
  {
   "cell_type": "markdown",
   "metadata": {},
   "source": [
    "### Exercise 4: Collocations"
   ]
  },
  {
   "cell_type": "code",
   "execution_count": 107,
   "metadata": {},
   "outputs": [],
   "source": [
    "redBigrams = nltk.collocations.BigramCollocationFinder.from_words(reddit_submissions_min_sample['normalized_text'].sum())\n",
    "redTrigrams = nltk.collocations.TrigramCollocationFinder.from_words(reddit_submissions_min_sample['normalized_text'].sum())\n",
    "redQuadgrams = nltk.collocations.QuadgramCollocationFinder.from_words(reddit_submissions_min_sample['normalized_text'].sum())\n",
    "redNgrams = nltk.collocations.ngrams(reddit_submissions_min_sample['normalized_text'].sum(), 10)\n",
    "redSkipgrams = nltk.collocations.BigramCollocationFinder.from_words(reddit_submissions_min_sample['normalized_text'].sum(),\n",
    "                                                                    window_size = 20)"
   ]
  },
  {
   "cell_type": "code",
   "execution_count": 108,
   "metadata": {},
   "outputs": [
    {
     "name": "stdout",
     "output_type": "stream",
     "text": [
      "There are 267027 bigrams in the finder\n",
      "There are 267027 trigrams in the finder\n",
      "There are 267027 quadgrams in the finder\n"
     ]
    }
   ],
   "source": [
    "print(\"There are {} bigrams in the finder\".format(redBigrams.N))\n",
    "print(\"There are {} trigrams in the finder\".format(redTrigrams.N))\n",
    "print(\"There are {} quadgrams in the finder\".format(redQuadgrams.N))"
   ]
  },
  {
   "cell_type": "code",
   "execution_count": 116,
   "metadata": {},
   "outputs": [],
   "source": [
    "def bigramScoring(count, wordsTuple, total):\n",
    "    return count\n",
    "\n",
    "bigram_measures = nltk.collocations.BigramAssocMeasures()\n",
    "trigram_measures = nltk.collocations.TrigramAssocMeasures()"
   ]
  },
  {
   "cell_type": "markdown",
   "metadata": {},
   "source": [
    "#### Bigrams"
   ]
  },
  {
   "cell_type": "code",
   "execution_count": 117,
   "metadata": {},
   "outputs": [
    {
     "data": {
      "text/plain": [
       "[(('r', 'the_donald'), 3032.121594252563),\n",
       " (('watch?v', '='), 2212.575637759083),\n",
       " (('🇺', '🇸'), 1965.9128022515845),\n",
       " (('united', 'states'), 1498.4321779943857),\n",
       " (('🐍', '🐍'), 1339.0102463091705),\n",
       " (('🇸', '🇺'), 1333.19271512478),\n",
       " (('gon', 'na'), 1275.3367218337721),\n",
       " (('social', 'justice'), 1055.1112006783026),\n",
       " (('donald', 'trump'), 1038.7831741830403),\n",
       " (('hillary', 'clinton'), 910.652863566781),\n",
       " (('himtoo', 'himtoo'), 904.3599826137871),\n",
       " (('free', 'speech'), 874.3680881259963),\n",
       " (('video', 'game'), 862.4902959034191),\n",
       " (('hour', 'review'), 855.9002074176691),\n",
       " (('▬', '▬'), 821.645872554659),\n",
       " (('high', 'energy'), 807.8810385608003),\n",
       " (('trump', 'supporter'), 786.3075967893811),\n",
       " (('donald', 'j.'), 777.6162171470091),\n",
       " (('alt', 'right'), 764.2735159505451),\n",
       " (('ve', 'see'), 718.5345019848676),\n",
       " (('year', 'old'), 704.5288151623035),\n",
       " (('america', 'great'), 689.270843717331),\n",
       " (('president', 'trump'), 682.7936150541727),\n",
       " (('new', 'york'), 675.9990776985337),\n",
       " (('gt', 'gt'), 671.2060744779297)]"
      ]
     },
     "execution_count": 117,
     "metadata": {},
     "output_type": "execute_result"
    }
   ],
   "source": [
    "redBigrams.score_ngrams(bigram_measures.likelihood_ratio)[:25]\n",
    "# other options include student_t, chi_sq, likelihood_ratio, pmi"
   ]
  },
  {
   "cell_type": "code",
   "execution_count": 110,
   "metadata": {},
   "outputs": [
    {
     "data": {
      "text/plain": [
       "[(('r', 'the_donald'), 16.324692124286184),\n",
       " (('watch?v', '='), 12.825365370274259),\n",
       " (('donald', 'trump'), 12.365877226565331),\n",
       " (('president', 'trump'), 11.136819198984504),\n",
       " (('trump', 'supporter'), 10.944467110458179),\n",
       " (('video', 'game'), 10.897017430872022),\n",
       " (('feel', 'like'), 10.630133418581778),\n",
       " (('🇺', '🇸'), 10.578566380071006),\n",
       " (('hillary', 'clinton'), 10.227805232522895),\n",
       " (('ve', 'see'), 10.184813124141547),\n",
       " (('look', 'like'), 9.949325367650621),\n",
       " (('social', 'justice'), 9.673225026386596),\n",
       " (('m', 'sure'), 9.619223926012712),\n",
       " (('united', 'states'), 9.587222216773991),\n",
       " (('hour', 'review'), 9.495120394592858),\n",
       " (('year', 'old'), 9.349428053738174),\n",
       " (('🇸', '🇺'), 9.322342641176533),\n",
       " (('gt', 'gt'), 9.188910080847574),\n",
       " (('america', 'great'), 9.044108962722227),\n",
       " (('free', 'speech'), 8.977433409771713),\n",
       " (('social', 'medium'), 8.811453906118158),\n",
       " (('high', 'energy'), 8.749573380128938),\n",
       " (('m', 'go'), 8.697792960687584),\n",
       " (('hour', 'hour'), 8.617167590980985),\n",
       " (('🐍', '🐍'), 8.59987647733996)]"
      ]
     },
     "execution_count": 110,
     "metadata": {},
     "output_type": "execute_result"
    }
   ],
   "source": [
    "redBigrams.score_ngrams(bigram_measures.student_t)[:25]"
   ]
  },
  {
   "cell_type": "code",
   "execution_count": 109,
   "metadata": {},
   "outputs": [
    {
     "data": {
      "text/plain": [
       "[(('-------&gt;[meme', 'dump](https://sli.mg'), 1.0),\n",
       " (('-----source', 'http://www.freerepublic.com/focus/f-bloggers/2128336/post'),\n",
       "  1.0),\n",
       " (('--|:--|:--|:--|:---', '|avatar'), 1.0),\n",
       " (('-andrew', 'streisand'), 1.0),\n",
       " (('-blood', 'flow-'), 1.0),\n",
       " (('-ist', '-phobes'), 1.0),\n",
       " (('-jason', 'schei'), 1.0),\n",
       " (('-jonathan', 'gruber'), 1.0),\n",
       " (('-meghan', 'trainor'), 1.0),\n",
       " (('.\"uhhh', 'buhhh'), 1.0),\n",
       " (('/&gt',\n",
       "   'https://slate.com/arts/2018/01/the-last-jedi-is-a-star-wars-movie-about-fandom-and-the-lure-of-myth.html'),\n",
       "  1.0),\n",
       " (('/10',\n",
       "   'https://www.google.com/search?q=adam+lanza&amp;safe=off&amp;tbm=isch&amp;imgil=yoovibjys5f1dm%253a%253byln4euwjdw3tbm%253bhttp%25253a%25252f%25252fwww.biography.com%25252fpeople%25252fadam-lanza-21068899&amp;source=iu&amp;pf=m&amp;fir=yoovibjys5f1dm%253a%252cyln4euwjdw3tbm%252c_&amp;usg=__urfoelknoiq0rrlguncpro9lcj4%3d&amp;biw=960&amp;bih=712&amp;dpr=0.9&amp;ved=0ahukewjk1tdxt9lqahvlllqkhzxxdkmqyjciiae&amp;ei=gmw_wmqwimus0gkv47uyba#imgrc=yoovibjys5f1dm%3a'),\n",
       "  1.0),\n",
       " (('/kotakuinaction', 'comments/4arguh'), 1.0),\n",
       " (('/pol/](http://sli.mg', 'abtvce'), 1.0),\n",
       " (('03](https://www.youtube.com', 'watch?v=-gkibxwr0dy'), 1.0),\n",
       " (('04/08/17', 'cbn'), 1.0),\n",
       " (('06/12/2018', '09:15'), 1.0),\n",
       " (('07/5/17', 'crude'), 1.0),\n",
       " (('09:15', 'dept:011'), 1.0),\n",
       " (('0:0', '-gamergate'), 1.0),\n",
       " (('0:2', '-pineapple'), 1.0),\n",
       " (('0cdf-4a29', '969a'), 1.0),\n",
       " (('1.4.0](https://archive.is', 'e0b0a'), 1.0),\n",
       " (('100-legged', 'arthropod'), 1.0),\n",
       " (('100|[032759', '101|[throwawary45327'), 1.0)]"
      ]
     },
     "execution_count": 109,
     "metadata": {},
     "output_type": "execute_result"
    }
   ],
   "source": [
    "redBigrams.score_ngrams(bigram_measures.jaccard)[:25]"
   ]
  },
  {
   "cell_type": "markdown",
   "metadata": {},
   "source": [
    "#### Trigrams"
   ]
  },
  {
   "cell_type": "code",
   "execution_count": 118,
   "metadata": {},
   "outputs": [
    {
     "data": {
      "text/plain": [
       "[(('🇸', '🇺', '🇸'), 4948.658276064471),\n",
       " (('🇺', '🇸', '🇺'), 4948.658276064471),\n",
       " (('here](https://www.reddit.com', 'r', 'the_donald'), 4781.805615284403),\n",
       " (('r', 'the_donald', 'comments/9843'), 4776.704307630052),\n",
       " (('https://www.reddit.com', 'r', 'the_donald'), 4685.290502596653),\n",
       " (('post](https://www.reddit.com', 'r', 'the_donald'), 4661.6644750734085),\n",
       " (('r', 'the_donald', 'r'), 4627.043728551965),\n",
       " (('anything)](https://www.reddit.com', 'r', 'the_donald'), 4589.629521321615),\n",
       " (('r', 'the_donald', 'comments/5cafd5'), 4589.629521321615),\n",
       " (('russia!](https://www.reddit.com', 'r', 'the_donald'), 4589.629521321615),\n",
       " (('time.](https://www.reddit.com', 'r', 'the_donald'), 4589.629521321615),\n",
       " (('two](https://www.reddit.com', 'r', 'the_donald'), 4589.629521321615),\n",
       " (('1](https://www.reddit.com', 'r', 'the_donald'), 4585.9851345676625),\n",
       " (('one](https://www.reddit.com', 'r', 'the_donald'), 4585.9851345676625),\n",
       " (('racism](https://www.reddit.com', 'r', 'the_donald'), 4585.9851345676625),\n",
       " (('week](https://www.reddit.com', 'r', 'the_donald'), 4585.9851345676625),\n",
       " (('r', 'the_donald', 'wiki'), 4569.815779177304),\n",
       " (('r', 'the_donald', 'remove'), 4569.103989449729),\n",
       " (('--hillary](https://www.reddit.com', 'r', 'the_donald'), 4568.900343976855),\n",
       " (('1)](https://www.reddit.com', 'r', 'the_donald'), 4568.900343976855),\n",
       " (('10.1](https://www.reddit.com', 'r', 'the_donald'), 4568.900343976855),\n",
       " (('10.2](https://www.reddit.com', 'r', 'the_donald'), 4568.900343976855),\n",
       " (('11](https://www.reddit.com', 'r', 'the_donald'), 4568.900343976855),\n",
       " (('12](https://www.reddit.com', 'r', 'the_donald'), 4568.900343976855),\n",
       " (('13](https://www.reddit.com', 'r', 'the_donald'), 4568.900343976855)]"
      ]
     },
     "execution_count": 118,
     "metadata": {},
     "output_type": "execute_result"
    }
   ],
   "source": [
    "redTrigrams.score_ngrams(trigram_measures.likelihood_ratio)[:25]\n",
    "# Way too many links. Should I just save them elsewhere? And there's a lot of hypelinking here."
   ]
  },
  {
   "cell_type": "code",
   "execution_count": 119,
   "metadata": {},
   "outputs": [
    {
     "data": {
      "text/plain": [
       "[(('-------&gt;[meme', 'dump](https://sli.mg', 'yoreoc)&lt;-------'),\n",
       "  71303418679.15823),\n",
       " (('/10',\n",
       "   'https://www.google.com/search?q=adam+lanza&amp;safe=off&amp;tbm=isch&amp;imgil=yoovibjys5f1dm%253a%253byln4euwjdw3tbm%253bhttp%25253a%25252f%25252fwww.biography.com%25252fpeople%25252fadam-lanza-21068899&amp;source=iu&amp;pf=m&amp;fir=yoovibjys5f1dm%253a%252cyln4euwjdw3tbm%252c_&amp;usg=__urfoelknoiq0rrlguncpro9lcj4%3d&amp;biw=960&amp;bih=712&amp;dpr=0.9&amp;ved=0ahukewjk1tdxt9lqahvlllqkhzxxdkmqyjciiae&amp;ei=gmw_wmqwimus0gkv47uyba#imgrc=yoovibjys5f1dm%3a',\n",
       "   'https://www.google.com/search?q=adam+lanza&amp;safe=off&amp;tbm=isch&amp;imgil=yoovibjys5f1dm%253a%253byln4euwjdw3tbm%253bhttp%25253a%25252f%25252fwww.biography.com%25252fpeople%25252fadam-lanza-21068899&amp;source=iu&amp;pf=m&amp;fir=yoovibjys5f1dm%253a%252cyln4euwjdw3tbm%252c_&amp;usg=__urfoelknoiq0rrlguncpro9lcj4%3d&amp;biw=960&amp;bih=712&amp;dpr=0.9&amp;ved=0ahukewjk1tdxt9lqahvlllqkhzxxdkmqyjciiae&amp;ei=gmw_wmqwimus0gkv47uyba#imgrc=qqaxyngngkznzm%3a'),\n",
       "  71303418679.15823),\n",
       " (('/kotakuinaction',\n",
       "   'comments/4arguh',\n",
       "   'the_wu_segment_from_syfy_holy_shit/'),\n",
       "  71303418679.15823),\n",
       " (('06/12/2018', '09:15', 'dept:011'), 71303418679.15823),\n",
       " (('09:15', 'dept:011', 'pretrial'), 71303418679.15823),\n",
       " (('0cdf-4a29', '969a', 'c8fd6fbd02a7&amp;utm_medium'), 71303418679.15823),\n",
       " (('1.4.0](https://archive.is', 'e0b0a', 'states](https://archive.is'),\n",
       "  71303418679.15823),\n",
       " (('100|[032759', '101|[throwawary45327', '102|[fratstache'),\n",
       "  71303418679.15823),\n",
       " (('100|[empty]|tbd', '101|[empty]|tbd', '102|[empty]|tbd'),\n",
       "  71303418679.15823),\n",
       " (('101|[empty]|tbd', '102|[empty]|tbd', '103|[empty]|tbd'),\n",
       "  71303418679.15823),\n",
       " (('101|[throwawary45327', '102|[fratstache', '103|[deplorablespanishguy'),\n",
       "  71303418679.15823),\n",
       " (('105|[empty]|tbd', '106|[empty]|tbd', '107|[empty]|tbd'),\n",
       "  71303418679.15823),\n",
       " (('105|[griffen88]|http://pastebin.com', 'effy1bqn', 'griffen'),\n",
       "  71303418679.15823),\n",
       " (('106k', 'https://sli.mg/don9ah', '95k'), 71303418679.15823),\n",
       " (('106|[empty]|tbd', '107|[empty]|tbd', '108|[empty]|tbd'),\n",
       "  71303418679.15823),\n",
       " (('106|[nmshhhh', '107|[nocorners4dorner', '108|[nobledigger'),\n",
       "  71303418679.15823),\n",
       " (('10|[empty]|tbd', '11|[empty]|tbd', '12|[empty]|tbd'), 71303418679.15823),\n",
       " (('10|[rbn_sd', '11|[discobob1', '12|[timmy12688'), 71303418679.15823),\n",
       " (('110|[empty]|tbd', '111|[empty]|tbd', '112|[empty]|tbd'),\n",
       "  71303418679.15823),\n",
       " (('110|[greatoctober', '111|[18472', '112|[angrysnails'), 71303418679.15823),\n",
       " (('111|[18472', '112|[angrysnails', '113|[vinelodge'), 71303418679.15823),\n",
       " (('111|[empty]|tbd', '112|[empty]|tbd', '113|[empty]|tbd'),\n",
       "  71303418679.15823),\n",
       " (('112|[angrysnails', '113|[vinelodge', '114|[empty]tdm'), 71303418679.15823),\n",
       " (('112|[empty]|tbd', '113|[empty]|tbd', '114|[empty]|tbd'),\n",
       "  71303418679.15823),\n",
       " (('113|[empty]|tbd', '114|[empty]|tbd', '115|[empty]|tbd'),\n",
       "  71303418679.15823)]"
      ]
     },
     "execution_count": 119,
     "metadata": {},
     "output_type": "execute_result"
    }
   ],
   "source": [
    "redTrigrams.score_ngrams(trigram_measures.chi_sq)[:25]\n",
    "## THE SECOND RESULT IS THE SANDY HOOK SHOOTER!!"
   ]
  },
  {
   "cell_type": "markdown",
   "metadata": {},
   "source": [
    "## Exercise 4 -- Named Entity Recognition"
   ]
  },
  {
   "cell_type": "code",
   "execution_count": 138,
   "metadata": {},
   "outputs": [],
   "source": [
    "def tag_sents_ner(sentences):\n",
    "    \"\"\"\n",
    "    function which replicates NLTK ner tagging on sentences.\n",
    "    \"\"\"\n",
    "    new_sents = []\n",
    "    for sentence in sentences:\n",
    "        new_sent = ' '.join(sentence)\n",
    "        new_sents.append(new_sent)\n",
    "    final_string = ' '.join(new_sents)\n",
    "    doc = nlp(final_string)\n",
    "    \n",
    "    pos_sents = []\n",
    "    for sent in doc.sents:\n",
    "        pos_sent = []\n",
    "        for ent in sent.ents:\n",
    "            pos_sent.append((ent.text, ent.label_))\n",
    "        pos_sents.append(pos_sent)\n",
    "    \n",
    "    return pos_sents\n",
    "\n",
    "def entity_counter(input_df):\n",
    "    entityCounts = {}\n",
    "    for entry in input_df['classified_sents']:\n",
    "        for sentence in entry:\n",
    "            for ent, kind in sentence:\n",
    "                if ent in entityCounts:\n",
    "                    entityCounts[ent] += 1\n",
    "                else:\n",
    "                    entityCounts[ent] = 1\n",
    "    sortedEntities = sorted(entityCounts.items(), key = lambda x: x[1], reverse = True)\n",
    "    return sortedEntities\n",
    "\n",
    "def kind_counter(input_df):\n",
    "    kindCounts = {}\n",
    "    for entry in input_df['classified_sents']:\n",
    "        for sentence in entry:\n",
    "            for ent, kind in sentence:\n",
    "                if kind in kindCounts:\n",
    "                    kindCounts[kind] += 1\n",
    "                else:\n",
    "                    kindCounts[kind] = 1\n",
    "    sortedKinds = sorted(kindCounts.items(), key = lambda x: x[1], reverse = True)\n",
    "    return sortedKinds\n",
    "\n",
    "def ner_Counter(input_df): ##WIP\n",
    "    ner_Counts = {}\n",
    "    \n",
    "    for entry in input_df['classified_sents']:\n",
    "        for sentence in entry:\n",
    "            for ent, kind in sentence:\n",
    "                if kind in kindCounts:\n",
    "                    kindCounts[kind] += 1\n",
    "                else:\n",
    "                    kindCounts[kind] = 1\n",
    "    sortedKinds = sorted(kindCounts.items(), key = lambda x: x[1], reverse = True)\n",
    "    return sortedKinds\n",
    "    \n",
    "    for word in wordLst:\n",
    "        #We usually need to normalize the case\n",
    "        wLower = word.lower()\n",
    "        if wLower in wordCounts:\n",
    "            wordCounts[wLower] += 1\n",
    "        else:\n",
    "            wordCounts[wLower] = 1\n",
    "    #convert to DataFrame\n",
    "    countsForFrame = {'subreddit' : [], 'word' : [], 'count' : []}\n",
    "    for w, c in wordCounts.items():\n",
    "        countsForFrame['subreddit'].append(subred_name)\n",
    "        countsForFrame['word'].append(w)\n",
    "        countsForFrame['count'].append(c)\n",
    "    final_df = pandas.DataFrame(countsForFrame)\n",
    "    return final_df"
   ]
  },
  {
   "cell_type": "code",
   "execution_count": null,
   "metadata": {},
   "outputs": [],
   "source": [
    "reddit_submissions_min_sample['classified_sents'] = reddit_submissions_min_sample['sentences'].apply(lambda x: tag_sents_ner(x))"
   ]
  },
  {
   "cell_type": "code",
   "execution_count": 127,
   "metadata": {},
   "outputs": [
    {
     "data": {
      "text/plain": [
       "3944           [[(Moore, PERSON), (Luther Strange, ORG)]]\n",
       "3943    [[(Facebook Twitter, PERSON), (Youtube, PERSON...\n",
       "3942    [[(Trump, PERSON), (Dayton, ORG)], [], [], [],...\n",
       "3941                                  [[(Flynn, PERSON)]]\n",
       "3940    [[(2017, DATE)], [(Clear Skin, ORG)], [], [(Or...\n",
       "Name: classified_sents, dtype: object"
      ]
     },
     "execution_count": 127,
     "metadata": {},
     "output_type": "execute_result"
    }
   ],
   "source": [
    "reddit_submissions_min_sample['classified_sents'].head()"
   ]
  },
  {
   "cell_type": "code",
   "execution_count": 126,
   "metadata": {},
   "outputs": [
    {
     "data": {
      "text/plain": [
       "[('Trump', 1493),\n",
       " ('one', 532),\n",
       " ('first', 394),\n",
       " ('Hillary', 263),\n",
       " ('two', 230),\n",
       " ('today', 211),\n",
       " ('America', 205),\n",
       " ('American', 205),\n",
       " ('US', 196),\n",
       " ('2', 184),\n",
       " ('Clinton', 173),\n",
       " ('1', 171),\n",
       " ('GamerGate', 166),\n",
       " ('3', 154),\n",
       " ('GG', 153),\n",
       " ('SJW', 150),\n",
       " ('Obama', 141),\n",
       " ('Bernie', 139),\n",
       " ('FBI', 128),\n",
       " ('Americans', 124),\n",
       " ('Donald Trump', 120),\n",
       " ('Chad', 120),\n",
       " ('Muslim', 112),\n",
       " ('4', 104),\n",
       " ('Russia', 103)]"
      ]
     },
     "execution_count": 126,
     "metadata": {},
     "output_type": "execute_result"
    }
   ],
   "source": [
    "redSortedEntities_count = entity_counter(reddit_submissions_min_sample)\n",
    "redSortedEntities_count[:25]"
   ]
  },
  {
   "cell_type": "code",
   "execution_count": 140,
   "metadata": {},
   "outputs": [
    {
     "data": {
      "text/plain": [
       "[('PERSON', 7288),\n",
       " ('ORG', 6871),\n",
       " ('CARDINAL', 4484),\n",
       " ('DATE', 3424),\n",
       " ('GPE', 3138),\n",
       " ('NORP', 2719),\n",
       " ('PRODUCT', 1227),\n",
       " ('TIME', 947),\n",
       " ('ORDINAL', 820),\n",
       " ('LOC', 620),\n",
       " ('WORK_OF_ART', 365),\n",
       " ('MONEY', 301),\n",
       " ('FAC', 265),\n",
       " ('LAW', 160),\n",
       " ('EVENT', 134),\n",
       " ('QUANTITY', 123),\n",
       " ('LANGUAGE', 54),\n",
       " ('PERCENT', 40)]"
      ]
     },
     "execution_count": 140,
     "metadata": {},
     "output_type": "execute_result"
    }
   ],
   "source": [
    "redEntityKinds = kind_counter(reddit_submissions_min_sample)\n",
    "redEntityKinds"
   ]
  }
 ],
 "metadata": {
  "kernelspec": {
   "display_name": "Python 3",
   "language": "python",
   "name": "python3"
  },
  "language_info": {
   "codemirror_mode": {
    "name": "ipython",
    "version": 3
   },
   "file_extension": ".py",
   "mimetype": "text/x-python",
   "name": "python",
   "nbconvert_exporter": "python",
   "pygments_lexer": "ipython3",
   "version": "3.7.6"
  }
 },
 "nbformat": 4,
 "nbformat_minor": 4
}
