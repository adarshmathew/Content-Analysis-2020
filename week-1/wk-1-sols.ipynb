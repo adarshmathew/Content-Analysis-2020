{
 "cells": [
  {
   "cell_type": "markdown",
   "metadata": {},
   "source": [
    "# <span style=\"color:red\">Section 1</span>\n",
    "<span style=\"color:red\">Construct cells immediately below this that describe and download webcontent relating to your anticipated final project. Use beautiful soup and at least five regular expressions to extract relevant, nontrivial *chunks* of that content (e.g., cleaned sentences, paragraphs, etc.) to a pandas `Dataframe`.</span>"
   ]
  },
  {
   "cell_type": "code",
   "execution_count": 1,
   "metadata": {},
   "outputs": [],
   "source": [
    "# Loading libraries\n",
    "\n",
    "#Special module written for this class\n",
    "#This provides access to data and to helper functions from previous weeks\n",
    "import lucem_illud_2020 #pip install git+git://github.com/Computational-Content-Analysis-2020/lucem_illud_2020.git\n",
    "\n",
    "#All these packages need to be installed from pip\n",
    "import requests #for http requests\n",
    "import bs4 #called `beautifulsoup4`, an html parser\n",
    "import pandas #gives us DataFrames\n",
    "import docx #reading MS doc files, install as `python-docx`\n",
    "\n",
    "#Stuff for pdfs\n",
    "#Install as `pdfminer2`\n",
    "import pdfminer.pdfinterp\n",
    "import pdfminer.converter\n",
    "import pdfminer.layout\n",
    "import pdfminer.pdfpage\n",
    "\n",
    "#These come with Python\n",
    "import re #for regexs\n",
    "import urllib.parse #For joining urls\n",
    "import io #for making http requests look like files\n",
    "import json #For Tumblr API responses\n",
    "import os.path #For checking if files exist\n",
    "import os #For making directories"
   ]
  },
  {
   "cell_type": "code",
   "execution_count": 2,
   "metadata": {},
   "outputs": [
    {
     "name": "stdout",
     "output_type": "stream",
     "text": [
      "\n",
      "\n",
      "\n",
      "\n",
      "Alt-right - Wikipedia\n",
      "document.documentElement.className=\"client-js\";RLCONF={\"wgBreakFrames\":!1,\"wgSeparatorTransformTable\":[\"\",\"\"],\"wgDigitTransformTable\":[\"\",\"\"],\"wgDefaultDateFormat\":\"dmy\",\"wgM\n"
     ]
    }
   ],
   "source": [
    "altright_wikipage = 'https://en.wikipedia.org/wiki/Alt-right'\n",
    "altright_wikiContentRequest = requests.get(altright_wikipage)\n",
    "altright_wikiContentSoup = bs4.BeautifulSoup(altright_wikiContentRequest.text, 'html.parser')\n",
    "print(altright_wikiContentSoup.text[:200])"
   ]
  },
  {
   "cell_type": "code",
   "execution_count": 3,
   "metadata": {},
   "outputs": [],
   "source": [
    "altright_content_analysis_save = 'wikipedia_content_analysis.html'\n",
    "\n",
    "with open(altright_content_analysis_save, mode='w', encoding='utf-8') as f:\n",
    "    f.write(altright_wikiContentSoup.text)\n",
    "    \n",
    "altright_contentPTags = altright_wikiContentSoup.body.findAll('p')"
   ]
  },
  {
   "cell_type": "code",
   "execution_count": 4,
   "metadata": {},
   "outputs": [
    {
     "name": "stdout",
     "output_type": "stream",
     "text": [
      "                                        paragraph_text\n",
      "0                                                   \\n\n",
      "1                                                   \\n\n",
      "2    The alt-right, an abbreviation of alternative ...\n",
      "3    In 2010, the American white nationalist Richar...\n",
      "4    The alt-right is a biologically racist movemen...\n",
      "..                                                 ...\n",
      "123                              Informational notes\\n\n",
      "124                                        Citations\\n\n",
      "125                                     Bibliography\\n\n",
      "126                                 Further reading \\n\n",
      "127  Cateogry:Opposition to Islam in the United Sta...\n",
      "\n",
      "[128 rows x 1 columns]\n"
     ]
    }
   ],
   "source": [
    "altright_contentParagraphs = []\n",
    "for pTag in altright_contentPTags:\n",
    "    #strings starting with r are raw so their \\'s are not modifier characters\n",
    "    #If we didn't start with r the string would be: '\\\\[\\\\d+\\\\]'\n",
    "    altright_contentParagraphs.append(re.sub(r'\\[\\d+\\]', '', pTag.text))\n",
    "\n",
    "#convert to a DataFrame\n",
    "altright_contentParagraphsDF = pandas.DataFrame({'paragraph_text' : altright_contentParagraphs})\n",
    "print(altright_contentParagraphsDF)"
   ]
  },
  {
   "cell_type": "markdown",
   "metadata": {},
   "source": [
    "1. Paragraphs where Richard Spencer is mentioned"
   ]
  },
  {
   "cell_type": "code",
   "execution_count": 5,
   "metadata": {},
   "outputs": [
    {
     "data": {
      "text/html": [
       "<div>\n",
       "<style scoped>\n",
       "    .dataframe tbody tr th:only-of-type {\n",
       "        vertical-align: middle;\n",
       "    }\n",
       "\n",
       "    .dataframe tbody tr th {\n",
       "        vertical-align: top;\n",
       "    }\n",
       "\n",
       "    .dataframe thead th {\n",
       "        text-align: right;\n",
       "    }\n",
       "</style>\n",
       "<table border=\"1\" class=\"dataframe\">\n",
       "  <thead>\n",
       "    <tr style=\"text-align: right;\">\n",
       "      <th></th>\n",
       "      <th>paragraph_text</th>\n",
       "    </tr>\n",
       "  </thead>\n",
       "  <tbody>\n",
       "    <tr>\n",
       "      <th>3</th>\n",
       "      <td>In 2010, the American white nationalist Richar...</td>\n",
       "    </tr>\n",
       "    <tr>\n",
       "      <th>6</th>\n",
       "      <td>The term \"alt-right\" is a neologism first used...</td>\n",
       "    </tr>\n",
       "    <tr>\n",
       "      <th>18</th>\n",
       "      <td>According to Hawley, the alt-right began in 20...</td>\n",
       "    </tr>\n",
       "    <tr>\n",
       "      <th>19</th>\n",
       "      <td>After The American Conservative fired Spencer,...</td>\n",
       "    </tr>\n",
       "    <tr>\n",
       "      <th>20</th>\n",
       "      <td>AlternativeRight.com consisted primarily of sh...</td>\n",
       "    </tr>\n",
       "  </tbody>\n",
       "</table>\n",
       "</div>"
      ],
      "text/plain": [
       "                                       paragraph_text\n",
       "3   In 2010, the American white nationalist Richar...\n",
       "6   The term \"alt-right\" is a neologism first used...\n",
       "18  According to Hawley, the alt-right began in 20...\n",
       "19  After The American Conservative fired Spencer,...\n",
       "20  AlternativeRight.com consisted primarily of sh..."
      ]
     },
     "execution_count": 5,
     "metadata": {},
     "output_type": "execute_result"
    }
   ],
   "source": [
    "altright_contentParagraphsDF[altright_contentParagraphsDF.paragraph_text.str.contains('Spencer')]\n",
    "altright_contentParagraphsDF[altright_contentParagraphsDF.paragraph_text.str.contains('Spencer')][:5]"
   ]
  },
  {
   "cell_type": "markdown",
   "metadata": {},
   "source": [
    "2. Paragraphs where Charlottesville is mentioned"
   ]
  },
  {
   "cell_type": "code",
   "execution_count": 6,
   "metadata": {},
   "outputs": [
    {
     "data": {
      "text/html": [
       "<div>\n",
       "<style scoped>\n",
       "    .dataframe tbody tr th:only-of-type {\n",
       "        vertical-align: middle;\n",
       "    }\n",
       "\n",
       "    .dataframe tbody tr th {\n",
       "        vertical-align: top;\n",
       "    }\n",
       "\n",
       "    .dataframe thead th {\n",
       "        text-align: right;\n",
       "    }\n",
       "</style>\n",
       "<table border=\"1\" class=\"dataframe\">\n",
       "  <thead>\n",
       "    <tr style=\"text-align: right;\">\n",
       "      <th></th>\n",
       "      <th>paragraph_text</th>\n",
       "    </tr>\n",
       "  </thead>\n",
       "  <tbody>\n",
       "    <tr>\n",
       "      <th>3</th>\n",
       "      <td>In 2010, the American white nationalist Richar...</td>\n",
       "    </tr>\n",
       "    <tr>\n",
       "      <th>38</th>\n",
       "      <td>In August 2017, the Unite the Right rally took...</td>\n",
       "    </tr>\n",
       "    <tr>\n",
       "      <th>39</th>\n",
       "      <td>Alt-rightists who attended the rally often fou...</td>\n",
       "    </tr>\n",
       "    <tr>\n",
       "      <th>97</th>\n",
       "      <td>In February 2018, the Southern Poverty Law Cen...</td>\n",
       "    </tr>\n",
       "    <tr>\n",
       "      <th>105</th>\n",
       "      <td>The ramming occurred at a pedestrian mall at W...</td>\n",
       "    </tr>\n",
       "  </tbody>\n",
       "</table>\n",
       "</div>"
      ],
      "text/plain": [
       "                                        paragraph_text\n",
       "3    In 2010, the American white nationalist Richar...\n",
       "38   In August 2017, the Unite the Right rally took...\n",
       "39   Alt-rightists who attended the rally often fou...\n",
       "97   In February 2018, the Southern Poverty Law Cen...\n",
       "105  The ramming occurred at a pedestrian mall at W..."
      ]
     },
     "execution_count": 6,
     "metadata": {},
     "output_type": "execute_result"
    }
   ],
   "source": [
    "altright_contentParagraphsDF[altright_contentParagraphsDF.paragraph_text.str.contains('Charlo*')]\n",
    "altright_contentParagraphsDF[altright_contentParagraphsDF.paragraph_text.str.contains('Charlo*')][:5]"
   ]
  },
  {
   "cell_type": "markdown",
   "metadata": {},
   "source": [
    "3. Paragraphs where Nazi* or fasci* is mentioned"
   ]
  },
  {
   "cell_type": "code",
   "execution_count": 7,
   "metadata": {},
   "outputs": [
    {
     "data": {
      "text/html": [
       "<div>\n",
       "<style scoped>\n",
       "    .dataframe tbody tr th:only-of-type {\n",
       "        vertical-align: middle;\n",
       "    }\n",
       "\n",
       "    .dataframe tbody tr th {\n",
       "        vertical-align: top;\n",
       "    }\n",
       "\n",
       "    .dataframe thead th {\n",
       "        text-align: right;\n",
       "    }\n",
       "</style>\n",
       "<table border=\"1\" class=\"dataframe\">\n",
       "  <thead>\n",
       "    <tr style=\"text-align: right;\">\n",
       "      <th></th>\n",
       "      <th>paragraph_text</th>\n",
       "    </tr>\n",
       "  </thead>\n",
       "  <tbody>\n",
       "    <tr>\n",
       "      <th>3</th>\n",
       "      <td>In 2010, the American white nationalist Richar...</td>\n",
       "    </tr>\n",
       "    <tr>\n",
       "      <th>4</th>\n",
       "      <td>The alt-right is a biologically racist movemen...</td>\n",
       "    </tr>\n",
       "    <tr>\n",
       "      <th>5</th>\n",
       "      <td>The alt-right distinguished itself from earlie...</td>\n",
       "    </tr>\n",
       "    <tr>\n",
       "      <th>6</th>\n",
       "      <td>The term \"alt-right\" is a neologism first used...</td>\n",
       "    </tr>\n",
       "    <tr>\n",
       "      <th>9</th>\n",
       "      <td>The anti-fascist researcher Matthew N. Lyons d...</td>\n",
       "    </tr>\n",
       "  </tbody>\n",
       "</table>\n",
       "</div>"
      ],
      "text/plain": [
       "                                      paragraph_text\n",
       "3  In 2010, the American white nationalist Richar...\n",
       "4  The alt-right is a biologically racist movemen...\n",
       "5  The alt-right distinguished itself from earlie...\n",
       "6  The term \"alt-right\" is a neologism first used...\n",
       "9  The anti-fascist researcher Matthew N. Lyons d..."
      ]
     },
     "execution_count": 7,
     "metadata": {},
     "output_type": "execute_result"
    }
   ],
   "source": [
    "altright_contentParagraphsDF[altright_contentParagraphsDF.paragraph_text.str.contains('Nazi*|fasci*', regex = True)]\n",
    "altright_contentParagraphsDF[altright_contentParagraphsDF.paragraph_text.str.contains('Nazi*|fasci*', regex = True)][:5]"
   ]
  },
  {
   "cell_type": "markdown",
   "metadata": {},
   "source": [
    "4. Paragraphs where Trump is mentioned"
   ]
  },
  {
   "cell_type": "code",
   "execution_count": 8,
   "metadata": {},
   "outputs": [
    {
     "data": {
      "text/html": [
       "<div>\n",
       "<style scoped>\n",
       "    .dataframe tbody tr th:only-of-type {\n",
       "        vertical-align: middle;\n",
       "    }\n",
       "\n",
       "    .dataframe tbody tr th {\n",
       "        vertical-align: top;\n",
       "    }\n",
       "\n",
       "    .dataframe thead th {\n",
       "        text-align: right;\n",
       "    }\n",
       "</style>\n",
       "<table border=\"1\" class=\"dataframe\">\n",
       "  <thead>\n",
       "    <tr style=\"text-align: right;\">\n",
       "      <th></th>\n",
       "      <th>paragraph_text</th>\n",
       "    </tr>\n",
       "  </thead>\n",
       "  <tbody>\n",
       "    <tr>\n",
       "      <th>3</th>\n",
       "      <td>In 2010, the American white nationalist Richar...</td>\n",
       "    </tr>\n",
       "    <tr>\n",
       "      <th>27</th>\n",
       "      <td>On September 9, 2016, several figures of the a...</td>\n",
       "    </tr>\n",
       "    <tr>\n",
       "      <th>28</th>\n",
       "      <td>In June 2015, New York billionaire businessman...</td>\n",
       "    </tr>\n",
       "    <tr>\n",
       "      <th>29</th>\n",
       "      <td>The alt-right was exceedingly vocal in support...</td>\n",
       "    </tr>\n",
       "    <tr>\n",
       "      <th>30</th>\n",
       "      <td>As noted by Hawley, \"the Alt-Right is most def...</td>\n",
       "    </tr>\n",
       "  </tbody>\n",
       "</table>\n",
       "</div>"
      ],
      "text/plain": [
       "                                       paragraph_text\n",
       "3   In 2010, the American white nationalist Richar...\n",
       "27  On September 9, 2016, several figures of the a...\n",
       "28  In June 2015, New York billionaire businessman...\n",
       "29  The alt-right was exceedingly vocal in support...\n",
       "30  As noted by Hawley, \"the Alt-Right is most def..."
      ]
     },
     "execution_count": 8,
     "metadata": {},
     "output_type": "execute_result"
    }
   ],
   "source": [
    "altright_contentParagraphsDF[altright_contentParagraphsDF.paragraph_text.str.contains('Trump')]\n",
    "altright_contentParagraphsDF[altright_contentParagraphsDF.paragraph_text.str.contains('Trump')][:5]"
   ]
  },
  {
   "cell_type": "markdown",
   "metadata": {},
   "source": [
    "5. Paragraphs where Breitbart is mentioned"
   ]
  },
  {
   "cell_type": "code",
   "execution_count": 9,
   "metadata": {},
   "outputs": [
    {
     "data": {
      "text/html": [
       "<div>\n",
       "<style scoped>\n",
       "    .dataframe tbody tr th:only-of-type {\n",
       "        vertical-align: middle;\n",
       "    }\n",
       "\n",
       "    .dataframe tbody tr th {\n",
       "        vertical-align: top;\n",
       "    }\n",
       "\n",
       "    .dataframe thead th {\n",
       "        text-align: right;\n",
       "    }\n",
       "</style>\n",
       "<table border=\"1\" class=\"dataframe\">\n",
       "  <thead>\n",
       "    <tr style=\"text-align: right;\">\n",
       "      <th></th>\n",
       "      <th>paragraph_text</th>\n",
       "    </tr>\n",
       "  </thead>\n",
       "  <tbody>\n",
       "    <tr>\n",
       "      <th>3</th>\n",
       "      <td>In 2010, the American white nationalist Richar...</td>\n",
       "    </tr>\n",
       "    <tr>\n",
       "      <th>24</th>\n",
       "      <td>Many press sources described Breitbart News as...</td>\n",
       "    </tr>\n",
       "    <tr>\n",
       "      <th>25</th>\n",
       "      <td>In March 2016, Breitbart writers Allum Bokhari...</td>\n",
       "    </tr>\n",
       "    <tr>\n",
       "      <th>32</th>\n",
       "      <td>Breitbart's Bannon had been one of Trump's mos...</td>\n",
       "    </tr>\n",
       "    <tr>\n",
       "      <th>39</th>\n",
       "      <td>Alt-rightists who attended the rally often fou...</td>\n",
       "    </tr>\n",
       "  </tbody>\n",
       "</table>\n",
       "</div>"
      ],
      "text/plain": [
       "                                       paragraph_text\n",
       "3   In 2010, the American white nationalist Richar...\n",
       "24  Many press sources described Breitbart News as...\n",
       "25  In March 2016, Breitbart writers Allum Bokhari...\n",
       "32  Breitbart's Bannon had been one of Trump's mos...\n",
       "39  Alt-rightists who attended the rally often fou..."
      ]
     },
     "execution_count": 9,
     "metadata": {},
     "output_type": "execute_result"
    }
   ],
   "source": [
    "altright_contentParagraphsDF[altright_contentParagraphsDF.paragraph_text.str.contains('Breitbart')]\n",
    "altright_contentParagraphsDF[altright_contentParagraphsDF.paragraph_text.str.contains('Breitbart')][:5]"
   ]
  },
  {
   "cell_type": "markdown",
   "metadata": {},
   "source": [
    "\n",
    "# <span style=\"color:red\">Section 2</span>\n",
    "<span style=\"color:red\">Construct cells immediately below this that spider webcontent from another site with content relating to your anticipated final project. Specifically, identify urls on a core page, then follow and extract content from them into a pandas `Dataframe`. In addition, demonstrate a *recursive* spider, which follows more than one level of links (i.e., follows links from a site, then follows links on followed sites to new sites, etc.), making sure to define a reasonable endpoint so that you do not wander the web forever :-).</span>"
   ]
  },
  {
   "cell_type": "code",
   "execution_count": 10,
   "metadata": {},
   "outputs": [
    {
     "name": "stdout",
     "output_type": "stream",
     "text": [
      "[('https://en.wikipedia.org/wiki/Far-right_politics', 2, 'far-right'), ('https://en.wikipedia.org/wiki/White_nationalism', 2, 'white nationalist'), ('https://en.wikipedia.org/wiki/Internet_activism', 2, 'online phenomenon'), ('https://en.wikipedia.org/wiki/Antisemitism', 2, 'antisemitism'), ('https://en.wikipedia.org/wiki/Richard_B._Spencer', 3, 'Richard B. Spencer'), ('https://en.wikipedia.org/wiki/Paleoconservatism', 3, 'paleoconservatism'), ('https://en.wikipedia.org/wiki/Dark_Enlightenment', 3, 'Dark Enlightenment'), ('https://en.wikipedia.org/wiki/Nouvelle_Droite', 3, 'Nouvelle Droite'), ('https://en.wikipedia.org/wiki//pol/', 3, '/pol/'), ('https://en.wikipedia.org/wiki/4chan', 3, '4chan'), ('https://en.wikipedia.org/wiki/Traditionalist_Worker_Party', 3, 'Traditionalist Worker Party'), ('https://en.wikipedia.org/wiki/Gamergate_controversy', 3, 'Gamergate controversy'), ('https://en.wikipedia.org/wiki/Steve_Bannon', 3, 'Steve Bannon'), ('https://en.wikipedia.org/wiki/Breitbart_News', 3, 'Breitbart News'), ('https://en.wikipedia.org/wiki/Donald_Trump', 3, 'Donald Trump'), ('https://en.wikipedia.org/wiki/2016_United_States_presidential_election', 3, 'being elected'), ('https://en.wikipedia.org/wiki/Unite_the_Right_rally', 3, 'Unite the Right rally'), ('https://en.wikipedia.org/wiki/Charlottesville,_Virginia', 3, 'Charlottesville'), ('https://en.wikipedia.org/wiki/Anti-fascism', 3, 'anti-fascist'), ('https://en.wikipedia.org/wiki/Scientific_racism', 4, 'biologically racist'), ('https://en.wikipedia.org/wiki/Identity_politics', 4, 'identity politics'), ('https://en.wikipedia.org/wiki/European_Americans', 4, 'European Americans'), ('https://en.wikipedia.org/wiki/Opposition_to_immigration', 4, 'anti-immigrationist'), ('https://en.wikipedia.org/wiki/North_America', 4, 'North America'), ('https://en.wikipedia.org/wiki/Fourteen_Words', 4, '1488'), ('https://en.wikipedia.org/wiki/Neo-Nazism', 4, 'neo-Nazi'), ('https://en.wikipedia.org/wiki/Antisemitism', 4, 'anti-semitic'), ('https://en.wikipedia.org/wiki/Conspiracy_theory', 4, 'conspiracy theory'), ('https://en.wikipedia.org/wiki/Zionist_Occupation_Government_conspiracy_theory', 4, 'a Jewish plot'), ('https://en.wikipedia.org/wiki/White_genocide_conspiracy_theory', 4, 'white genocide'), ('https://en.wikipedia.org/wiki/Patriarchy', 4, 'patriarchal society'), ('https://en.wikipedia.org/wiki/Men%27s_rights_movement', 4, \"men's rights movement\"), ('https://en.wikipedia.org/wiki/Manosphere', 4, 'manosphere'), ('https://en.wikipedia.org/wiki/Isolationism', 4, 'isolationist'), ('https://en.wikipedia.org/wiki/Foreign_policy', 4, 'foreign policies'), ('https://en.wikipedia.org/wiki/Protectionism', 4, 'economic protectionism'), ('https://en.wikipedia.org/wiki/Alt-lite', 4, 'alt-lite'), ('https://en.wikipedia.org/wiki/Pepe_the_Frog', 5, 'Pepe the Frog'), ('https://en.wikipedia.org/wiki/Left-wing_politics', 5, 'left-wing'), ('https://en.wikipedia.org/wiki/Black_Lives_Matter', 5, 'Black Lives Matter'), ('https://en.wikipedia.org/wiki/Hate_group', 5, 'hate groups'), ('https://en.wikipedia.org/wiki/Right-wing_terrorism', 5, 'terrorist'), ('https://en.wikipedia.org/wiki/Liberalism_in_the_United_States', 5, 'liberals'), ('https://en.wikipedia.org/wiki/Conservatism_in_the_United_States', 5, 'conservatives'), ('https://en.wikipedia.org/wiki/Neologism', 6, 'neologism'), ('https://en.wikipedia.org/wiki/Paleoconservatism', 6, 'paleoconservative'), ('https://en.wikipedia.org/wiki/Paul_Gottfried', 6, 'Paul Gottfried'), ('https://en.wikipedia.org/wiki/H._L._Mencken', 6, 'H. L. Mencken'), ('https://en.wikipedia.org/wiki/Conservatism_in_the_United_States', 6, 'conservative'), ('https://en.wikipedia.org/wiki/Taki%27s_Magazine', 6, \"Taki's Magazine\"), ('https://en.wikipedia.org/wiki/Slate_(magazine)', 6, 'Slate'), ('https://en.wikipedia.org/wiki/Richard_B._Spencer', 6, 'Richard B. Spencer'), ('https://en.wikipedia.org/wiki/National_Policy_Institute', 6, 'National Policy Institute'), ('https://en.wikipedia.org/wiki/White_nationalism', 6, 'white nationalism'), ('https://en.wikipedia.org/wiki/Racism', 6, 'racism'), ('https://en.wikipedia.org/wiki/Neo-Nazism', 6, 'neo-Nazism'), ('https://en.wikipedia.org/wiki/Ben_Shapiro', 7, 'Ben Shapiro'), ('https://en.wikipedia.org/wiki/American_Left', 7, 'American Left'), ('https://en.wikipedia.org/wiki/Multiculturalism', 9, 'multiculturalism'), ('https://en.wikipedia.org/wiki/Political_correctness', 9, 'political correctness'), ('https://en.wikipedia.org/wiki/Globalism', 9, 'globalism'), ('https://en.wikipedia.org/wiki/Southern_Poverty_Law_Center', 10, 'Southern Poverty Law Center'), ('https://en.wikipedia.org/wiki/Anti-Defamation_League', 10, 'Anti-Defamation League'), ('https://en.wikipedia.org/wiki/Timothy_D._Snyder', 11, 'Timothy D. Snyder'), ('https://en.wikipedia.org/wiki/Associated_Press', 11, 'Associated Press'), ('https://en.wikipedia.org/wiki/Political_science', 11, 'political scientist'), ('https://en.wikipedia.org/wiki/Far-right_politics', 11, 'far-right'), ('https://en.wikipedia.org/wiki/Columbia_Journalism_Review', 12, 'Columbia Journalism Review'), ('https://en.wikipedia.org/wiki/Andrew_Marantz', 12, 'Andrew Marantz'), ('https://en.wikipedia.org/wiki/The_New_Yorker', 12, 'The New Yorker'), ('https://en.wikipedia.org/wiki/Snob', 12, 'snob'), ('https://en.wikipedia.org/wiki/Hipster_(contemporary_subculture)', 12, 'hipster'), ('https://en.wikipedia.org/wiki/White_supremacy', 13, 'white supremacy'), ('https://en.wikipedia.org/wiki/World_War_II', 13, 'World War II'), ('https://en.wikipedia.org/wiki/Far-right_politics', 13, 'far-right'), ('https://en.wikipedia.org/wiki/George_Lincoln_Rockwell', 13, 'George Lincoln Rockwell'), ('https://en.wikipedia.org/wiki/American_Nazi_Party', 13, 'American Nazi Party'), ('https://en.wikipedia.org/wiki/William_Luther_Pierce', 13, 'William Luther Pierce'), ('https://en.wikipedia.org/wiki/National_Alliance_(United_States)', 13, 'National Alliance'), ('https://en.wikipedia.org/wiki/Ku_Klux_Klan', 13, 'Ku Klux Klan'), ('https://en.wikipedia.org/wiki/White_nationalism', 13, 'white nationalism'), ('https://en.wikipedia.org/wiki/European_Americans', 13, 'European Americans'), ('https://en.wikipedia.org/wiki/African_Americans', 13, 'African Americans'), ('https://en.wikipedia.org/wiki/White_ethnostate', 14, 'white ethno-state'), ('https://en.wikipedia.org/wiki/Skinhead', 14, 'skinhead'), ('https://en.wikipedia.org/wiki/Jared_Taylor', 14, 'Jared Taylor'), ('https://en.wikipedia.org/wiki/Peter_Brimelow', 14, 'Peter Brimelow'), ('https://en.wikipedia.org/wiki/Republican_Party_(United_States)', 15, 'Republican'), ('https://en.wikipedia.org/wiki/Presidency_of_George_W._Bush', 15, 'presidency of George W. Bush'), ('https://en.wikipedia.org/wiki/Mainstream', 15, 'mainstream'), ('https://en.wikipedia.org/wiki/Liberalism_in_the_United_States', 15, 'liberals'), ('https://en.wikipedia.org/wiki/Conspiracy_theory', 15, 'conspiracy theories'), ('https://en.wikipedia.org/wiki/Patriot_movement', 15, 'Patriot movement'), ('https://en.wikipedia.org/wiki/2008_United_States_presidential_election', 15, 'election'), ('https://en.wikipedia.org/wiki/Democratic_Party_(United_States)', 15, 'Democratic Party'), ('https://en.wikipedia.org/wiki/Barack_Obama', 15, 'Barack Obama'), ('https://en.wikipedia.org/wiki/President_of_the_United_States', 15, 'presidency'), ('https://en.wikipedia.org/wiki/Tea_Party_movement', 15, 'Tea Partiers'), ('https://en.wikipedia.org/wiki/Nouvelle_Droite', 16, 'Nouvelle Droite'), ('https://en.wikipedia.org/wiki/France', 16, 'France'), ('https://en.wikipedia.org/wiki/Metapolitics', 16, 'metapolitical'), ('https://en.wikipedia.org/wiki/Paleoconservatism', 16, 'paleoconservative'), ('https://en.wikipedia.org/wiki/Samuel_T._Francis', 16, 'Samuel T. Francis'), ('https://en.wikipedia.org/wiki/Libertarianism_in_the_United_States', 17, 'American libertarian movement'), ('https://en.wikipedia.org/wiki/Murray_Rothbard', 17, 'Murray Rothbard'), ('https://en.wikipedia.org/wiki/Dark_Enlightenment', 17, 'Dark Enlightenment'), ('https://en.wikipedia.org/wiki/Reactionary', 17, 'reactionary'), ('https://en.wikipedia.org/wiki/Paul_Gottfried', 18, 'Paul Gottfried'), ('https://en.wikipedia.org/wiki/Baltimore', 18, 'Baltimore'), ('https://en.wikipedia.org/wiki/Dallas', 18, 'Dallas'), ('https://en.wikipedia.org/wiki/Texas', 18, 'Texas'), ('https://en.wikipedia.org/wiki/Duke_University', 18, 'Duke University'), ('https://en.wikipedia.org/wiki/The_American_Conservative', 18, 'The American Conservative'), ('https://en.wikipedia.org/wiki/Taki_Theodoracopulos', 19, 'Taki Theodoracopulos'), ('https://en.wikipedia.org/wiki/Taki%27s_Magazine', 19, \"Taki's Magazine\"), ('https://en.wikipedia.org/wiki/Heathenry_(new_religious_movement)', 19, 'Heathen'), ('https://en.wikipedia.org/wiki/Stephen_McNallen', 19, 'Stephen McNallen'), ('https://en.wikipedia.org/wiki/National_Policy_Institute', 20, 'National Policy Institute'), ('https://en.wikipedia.org/wiki/4chan', 22, '4chan'), ('https://en.wikipedia.org/wiki/Reddit', 22, 'Reddit'), ('https://en.wikipedia.org/wiki/Left-libertarianism', 22, 'left-libertarian'), ('https://en.wikipedia.org/wiki//pol/', 22, '/pol/'), ('https://en.wikipedia.org/wiki/Gamergate_controversy', 22, 'Gamergate controversy'), ('https://en.wikipedia.org/wiki/Culture_war', 22, 'culture war'), ('https://en.wikipedia.org/wiki/Imageboard', 22, 'chan'), ('https://en.wikipedia.org/wiki/Vox_Day', 23, 'Vox Day'), ('https://en.wikipedia.org/wiki/Steve_Sailer', 23, 'Steve Sailer'), ('https://en.wikipedia.org/wiki/Neo-Confederate', 23, 'Neo-Confederate'), ('https://en.wikipedia.org/wiki/League_of_the_South', 23, 'League of the South'), ('https://en.wikipedia.org/wiki/Traditionalist_Worker_Party', 23, 'Traditionalist Youth Network'), ('https://en.wikipedia.org/wiki/Der_St%C3%BCrmer', 23, 'Der Stürmer'), ('https://en.wikipedia.org/wiki/Nazi_Germany', 23, 'Nazi Germany'), ('https://en.wikipedia.org/wiki/Breitbart_News', 24, 'Breitbart News'), ('https://en.wikipedia.org/wiki/Andrew_Breitbart', 24, 'Andrew Breitbart'), ('https://en.wikipedia.org/wiki/Steve_Bannon', 24, 'Steve Bannon'), ('https://en.wikipedia.org/wiki/National_Review', 24, 'National Review'), ('https://en.wikipedia.org/wiki/The_Weekly_Standard', 24, 'The Weekly Standard'), ('https://en.wikipedia.org/wiki/Mother_Jones_(magazine)', 24, 'Mother Jones'), ('https://en.wikipedia.org/wiki/Milo_Yiannopoulos', 25, 'Milo Yiannopoulos'), ('https://en.wikipedia.org/wiki/Old_Right_(United_States)', 25, 'Old Right'), ('https://en.wikipedia.org/wiki/Oswald_Spengler', 25, 'Oswald Spengler'), ('https://en.wikipedia.org/wiki/Julius_Evola', 25, 'Julius Evola'), ('https://en.wikipedia.org/wiki/CNN', 25, 'CNN'), ('https://en.wikipedia.org/wiki/Manifesto', 25, 'manifesto'), ('https://en.wikipedia.org/wiki/Apologetics', 25, 'apologetics'), ('https://en.wikipedia.org/wiki/Angela_Nagle', 25, 'Angela Nagle'), ('https://en.wikipedia.org/wiki/Mike_Cernovich', 26, 'Mike Cernovich'), ('https://en.wikipedia.org/wiki/Gavin_McInnes', 26, 'Gavin McInnes'), ('https://en.wikipedia.org/wiki/Donald_Trump', 28, 'Donald Trump'), ('https://en.wikipedia.org/wiki/2016_United_States_presidential_election', 28, '2016 presidential election'), ('https://en.wikipedia.org/wiki/Trump_travel_ban', 29, 'calls for a ban on Muslims entering the U.S.'), ('https://en.wikipedia.org/wiki/Mexico%E2%80%93United_States_barrier', 29, 'a wall to be built'), ('https://en.wikipedia.org/wiki/Cuckservative', 30, 'cuckservative'), ('https://en.wikipedia.org/wiki/Auschwitz_concentration_camp', 30, 'Auschwitz'), ('https://en.wikipedia.org/wiki/Referee_(association_football)', 30, 'Soccer Ref'), ('https://en.wikipedia.org/wiki/Israel', 30, 'Israel'), ('https://en.wikipedia.org/wiki/Twitter', 31, 'Twitter'), ('https://en.wikipedia.org/wiki/Hillary_Clinton', 32, 'Hillary Clinton'), ('https://en.wikipedia.org/wiki/Reno,_Nevada', 32, 'Reno'), ('https://en.wikipedia.org/wiki/Electoral_fraud', 33, 'rig the election'), ('https://en.wikipedia.org/wiki/Jeff_Sessions', 33, 'Jeff Sessions'), ('https://en.wikipedia.org/wiki/Overton_window', 33, 'Overton window'), ('https://en.wikipedia.org/wiki/Nazi_salute', 34, 'Nazi salutes'), ('https://en.wikipedia.org/wiki/The_New_York_Times', 35, 'The New York Times'), ('https://en.wikipedia.org/wiki/2017_Shayrat_missile_strike', 35, 'Shayrat missile strike'), ('https://en.wikipedia.org/wiki/Presidency_of_Donald_Trump', 36, 'Trump administration'), ('https://en.wikipedia.org/wiki/Stephen_Miller_(political_advisor)', 36, 'Stephen Miller'), ('https://en.wikipedia.org/wiki/Julia_Hahn', 36, 'Julia Hahn'), ('https://en.wikipedia.org/wiki/Michael_Flynn', 36, 'Michael Flynn'), ('https://en.wikipedia.org/wiki/Sebastian_Gorka', 36, 'Sebastian Gorka'), ('https://en.wikipedia.org/wiki/Roy_Moore', 36, 'Roy Moore'), ('https://en.wikipedia.org/wiki/Josh_Mandel', 36, 'Josh Mandel'), ('https://en.wikipedia.org/wiki/Joe_Arpaio', 36, 'Joe Arpaio'), ('https://en.wikipedia.org/wiki/Paul_Nehlen', 36, 'Paul Nehlen'), ('https://en.wikipedia.org/wiki/Doxing', 37, 'doxing'), ('https://en.wikipedia.org/wiki/Facebook', 37, 'Facebook'), ('https://en.wikipedia.org/wiki/Arktos', 37, 'Arktos'), ('https://en.wikipedia.org/wiki/Unite_the_Right_rally', 38, 'Unite the Right rally'), ('https://en.wikipedia.org/wiki/Charlottesville,_Virginia', 38, 'Charlottesville'), ('https://en.wikipedia.org/wiki/Charlottesville_car_attack', 38, 'rammed his car into counter-protesters'), ('https://en.wikipedia.org/wiki/Social_media', 40, 'social media sites'), ('https://en.wikipedia.org/wiki/Anti-fascism', 40, 'widespread opposition by the American population'), ('https://en.wikipedia.org/wiki/Lone_wolf_(terrorism)', 41, 'lone-wolf terrorist attacks'), ('https://en.wikipedia.org/wiki/List_of_terrorist_incidents', 41, 'terrorist attacks'), ('https://en.wikipedia.org/wiki/Holocaust_denial', 41, 'Holocaust denier'), ('https://en.wikipedia.org/wiki/Arthur_J._Jones', 41, 'Arthur Jones'), ('https://en.wikipedia.org/wiki/Paul_Nehlen', 41, 'Paul Nehlen'), ('https://en.wikipedia.org/wiki/Paul_Ryan', 41, 'Paul Ryan'), ('https://en.wikipedia.org/wiki/Far-right_politics', 42, 'far-right'), ('https://en.wikipedia.org/wiki/Age_of_Enlightenment', 42, 'Age of Enlightenment'), ('https://en.wikipedia.org/wiki/Classical_liberalism', 42, 'classical liberalism'), ('https://en.wikipedia.org/wiki/Stormfront_(website)', 43, 'Stormfront'), ('https://en.wikipedia.org/wiki/American_nationalism', 44, 'American nationalists'), ('https://en.wikipedia.org/wiki/National-anarchism', 44, 'national-anarchists'), ('https://en.wikipedia.org/wiki/Monarchism', 44, 'neo-monarchists'), ('https://en.wikipedia.org/wiki/Immigration_to_the_United_States', 45, 'immigration into the U.S.'), ('https://en.wikipedia.org/wiki/Ethnic_cleansing', 45, 'ethnic cleansing'), ('https://en.wikipedia.org/wiki/Scientific_racism', 46, 'scientific racism'), ('https://en.wikipedia.org/wiki/Asian_people', 46, 'Asians'), ('https://en.wikipedia.org/wiki/Interwar_period', 46, 'interwar'), ('https://en.wikipedia.org/wiki/Fascism', 46, 'fascists'), ('https://en.wikipedia.org/wiki/Affirmative_action', 47, 'affirmative action'), ('https://en.wikipedia.org/wiki/Illegal_immigration', 47, 'illegal immigrants'), ('https://en.wikipedia.org/wiki/Christopher_Columbus', 47, 'Christopher Columbus'), ('https://en.wikipedia.org/wiki/Confederate_States_of_America', 47, 'Confederate States of America'), ('https://en.wikipedia.org/wiki/White_privilege', 47, 'white privilege'), ('https://en.wikipedia.org/wiki/Overton_window', 48, 'Overton window'), ('https://en.wikipedia.org/wiki/White_genocide_conspiracy_theory', 48, 'white genocide conspiracy theory'), ('https://en.wikipedia.org/wiki/Mike_Cernovich', 49, 'Mike Cernovich'), ('https://en.wikipedia.org/wiki/John_Derbyshire', 49, 'John Derbyshire'), ('https://en.wikipedia.org/wiki/Kyle_Chapman', 49, 'Kyle Chapman'), ('https://en.wikipedia.org/wiki/Zionism', 50, 'Zionism'), ('https://en.wikipedia.org/wiki/Roman_Empire', 52, 'Roman Empire'), ('https://en.wikipedia.org/wiki/Near_East', 52, 'Near East'), ('https://en.wikipedia.org/wiki/Istanbul', 52, 'Istanbul'), ('https://en.wikipedia.org/wiki/Turkish_people', 52, 'Turkish'), ('https://en.wikipedia.org/wiki/White_genocide_conspiracy_theory', 53, 'white genocide'), ('https://en.wikipedia.org/wiki/Zionist_Occupation_Government_conspiracy_theory', 53, 'a Jewish cabal controls the U.S. government, media, and universities'), ('https://en.wikipedia.org/wiki/Rachel_Dolezal', 53, 'Rachel Dolezal'), ('https://en.wikipedia.org/wiki/Western_world', 54, 'Western'), ('https://en.wikipedia.org/wiki/The_Washington_Post', 54, 'Washington Post'), ('https://en.wikipedia.org/wiki/Jeffrey_Tucker', 55, 'Jeffrey Tucker'), ('https://en.wikipedia.org/wiki/Libertarianism', 55, 'libertarianism'), ('https://en.wikipedia.org/wiki/Laissez-faire', 55, 'laissez-faire economics'), ('https://en.wikipedia.org/wiki/NPR', 56, 'NPR'), ('https://en.wikipedia.org/wiki/Political_correctness', 56, 'political correctness'), ('https://en.wikipedia.org/wiki/Marxism', 56, 'Marxist'), ('https://en.wikipedia.org/wiki/2017_Shayrat_missile_strike', 57, '2017 Shayrat missile strike'), ('https://en.wikipedia.org/wiki/Vladimir_Putin', 58, 'Vladimir Putin'), ('https://en.wikipedia.org/wiki/Cold_War', 58, 'Cold War'), ('https://en.wikipedia.org/wiki/Soviet_Union', 58, 'Soviet Union'), ('https://en.wikipedia.org/wiki/David_Duke', 58, 'David Duke'), ('https://en.wikipedia.org/wiki/Aleksandr_Dugin', 58, 'Aleksandr Dugin'), ('https://en.wikipedia.org/wiki/Georgians', 58, 'Georgian'), ('https://en.wikipedia.org/wiki/Bashar_al-Assad', 58, 'Bashar al-Assad'), ('https://en.wikipedia.org/wiki/Syrian_Civil_War', 58, 'Syrian Civil War'), ('https://en.wikipedia.org/wiki/Hezbollah', 58, 'Hezbollah'), ('https://en.wikipedia.org/wiki/Misogyny', 59, 'misogynistic'), ('https://en.wikipedia.org/wiki/Manosphere', 60, 'manosphere'), ('https://en.wikipedia.org/wiki/Feminism', 60, 'feminism'), ('https://en.wikipedia.org/wiki/Rape_culture', 60, 'rape culture'), ('https://en.wikipedia.org/wiki/Homosexuality', 61, 'homosexuality'), ('https://en.wikipedia.org/wiki/Abortion', 61, 'abortion'), ('https://en.wikipedia.org/wiki/Homophobia', 61, 'homophobic'), ('https://en.wikipedia.org/wiki/Faggot_(slang)', 61, 'faggot'), ('https://en.wikipedia.org/wiki/Douglas_P.', 61, 'Douglas Pearce'), ('https://en.wikipedia.org/wiki/Secularity', 62, 'secular'), ('https://en.wikipedia.org/wiki/Atheism', 62, 'atheists'), ('https://en.wikipedia.org/wiki/Organized_religion', 62, 'organized religion'), ('https://en.wikipedia.org/wiki/Cultural_Christian', 62, 'cultural Christians'), ('https://en.wikipedia.org/wiki/Modern_Paganism', 62, 'modern Paganism'), ('https://en.wikipedia.org/wiki/Pope_Francis', 62, 'Pope Francis'), ('https://en.wikipedia.org/wiki/Islamophobia', 63, 'Islamophobia'), ('https://en.wikipedia.org/wiki/Soft_power', 65, 'soft power'), ('https://en.wikipedia.org/wiki/Stormfront_(website)', 66, 'Stormfront'), ('https://en.wikipedia.org/wiki/YouTube', 66, 'YouTube'), ('https://en.wikipedia.org/wiki/American_Renaissance_(magazine)', 68, 'American Renaissance'), ('https://en.wikipedia.org/wiki/Golden_Dawn_(political_party)', 68, 'Golden Dawn'), ('https://en.wikipedia.org/wiki/National_Democratic_Party_of_Germany', 68, 'National Democratic Party of Germany'), ('https://en.wikipedia.org/wiki/Alternative_for_Germany', 68, 'Alternative for Germany'), ('https://en.wikipedia.org/wiki/2017_German_federal_election', 68, '2017 federal election'), ('https://en.wikipedia.org/wiki/Freedom_of_speech', 69, 'freedom of speech'), ('https://en.wikipedia.org/wiki/Taylor_Swift', 70, 'Taylor Swift'), ('https://en.wikipedia.org/wiki/The_Matrix', 70, 'The Matrix'), ('https://en.wikipedia.org/wiki/Milk', 70, 'milk'), ('https://en.wikipedia.org/wiki/Emoji', 70, 'emoji'), ('https://en.wikipedia.org/wiki/Animal_studies', 70, 'animal studies'), ('https://en.wikipedia.org/wiki/Woke', 72, 'woke'), ('https://en.wikipedia.org/wiki/Politico', 72, 'Politico'), ('https://en.wikipedia.org/wiki/Marquis_de_Sade', 73, 'Marquis de Sade'), ('https://en.wikipedia.org/wiki/Internet_meme', 74, 'memes'), ('https://en.wikipedia.org/wiki/Columbia_Journalism_Review', 74, 'Columbia Journalism Review'), ('https://en.wikipedia.org/wiki/Marc_Hetherington', 74, 'Marc Hetherington'), ('https://en.wikipedia.org/wiki/Pepe_the_Frog', 75, 'Pepe the Frog'), ('https://en.wikipedia.org/wiki/Nicki_Minaj', 75, 'Nicki Minaj'), ('https://en.wikipedia.org/wiki/Katy_Perry', 75, 'Katy Perry'), ('https://en.wikipedia.org/wiki/Gary_Lachman', 75, 'Gary Lachman'), ('https://en.wikipedia.org/wiki/Kek_(mythology)', 75, 'Kek'), ('https://en.wikipedia.org/wiki/McDonald%27s', 76, \"McDonald's\"), ('https://en.wikipedia.org/wiki/Cuckold', 77, 'cuckold'), ('https://en.wikipedia.org/wiki/Progressivism', 78, 'progressive'), ('https://en.wikipedia.org/wiki/Social_justice_warrior', 78, 'social justice warriors'), ('https://en.wikipedia.org/wiki/Tumblr', 78, 'Tumblr'), ('https://en.wikipedia.org/wiki/Snowflake_(slang)', 78, 'snowflake'), ('https://en.wikipedia.org/wiki/Black_Egyptian_hypothesis', 79, 'Black Egyptian hypothesis'), ('https://en.wikipedia.org/wiki/2015%E2%80%9316_New_Year%27s_Eve_sexual_assaults_in_Germany', 79, \"2015–16 New Year's Eve sexual assaults in Germany\"), ('https://en.wikipedia.org/wiki/Triple_parentheses', 79, 'triple parentheses'), ('https://en.wikipedia.org/wiki/Google_Chrome', 79, 'Google Chrome'), ('https://en.wikipedia.org/wiki/It%27s_OK_to_be_white', 80, \"It's OK to be white\"), ('https://en.wikipedia.org/wiki/Deus_vult', 80, 'Deus Vult'), ('https://en.wikipedia.org/wiki/Crusades', 80, 'crusader'), ('https://en.wikipedia.org/wiki/Government_Junta_of_Chile_(1973)', 80, 'Chilean'), ('https://en.wikipedia.org/wiki/National_Reorganization_Process', 80, 'Argentine'), ('https://en.wikipedia.org/wiki/Electronic_music', 80, 'electronic music'), ('https://en.wikipedia.org/wiki/Microgenre', 80, 'microgenre'), ('https://en.wikipedia.org/wiki/Vaporwave', 80, 'vaporwave'), ('https://en.wikipedia.org/wiki/David_A._French', 81, 'David A. French'), ('https://en.wikipedia.org/wiki/Nancy_French', 81, 'his white wife'), ('https://en.wikipedia.org/wiki/Luciana_Berger', 82, 'Luciana Berger'), ('https://en.wikipedia.org/wiki/Yellow_badge#Nazi_Germany_and_Axis_Powers', 82, 'a yellow star'), ('https://en.wikipedia.org/wiki/Murder_of_Jo_Cox', 82, 'the June 2016 murder'), ('https://en.wikipedia.org/wiki/Jo_Cox', 82, 'Jo Cox'), ('https://en.wikipedia.org/wiki/Arrington_de_Dionyso', 83, 'Arrington de Dionyso'), ('https://en.wikipedia.org/wiki/Comet_Ping_Pong', 83, 'Comet Ping Pong'), ('https://en.wikipedia.org/wiki/Pizzagate_conspiracy_theory', 83, 'Pizzagate conspiracy theory'), ('https://en.wikipedia.org/wiki/Gamergate_controversy', 83, 'Gamergate controversy'), ('https://en.wikipedia.org/wiki/2017_Jewish_Community_Center_bomb_threats', 83, 'A wave of threats'), ('https://en.wikipedia.org/wiki/Jewish_Community_Center', 83, 'Jewish Community Centers'), ('https://en.wikipedia.org/wiki/Trayvon_Martin', 86, 'Trayvon Martin'), ('https://en.wikipedia.org/wiki/Shooting_of_Michael_Brown', 86, 'Michael Brown'), ('https://en.wikipedia.org/wiki/Black_Lives_Matter', 86, 'Black Lives Matter'), ('https://en.wikipedia.org/wiki/Islamic_State_of_Iraq_and_the_Levant', 89, 'Islamic State of Iraq and the Levant'), ('https://en.wikipedia.org/wiki/American_studies', 90, 'American studies'), ('https://en.wikipedia.org/wiki/September_11_attacks', 90, 'September 11 attacks'), ('https://en.wikipedia.org/wiki/Ann_Coulter', 90, 'Ann Coulter'), ('https://en.wikipedia.org/wiki/Matt_K._Lewis', 90, 'Matt K. Lewis'), ('https://en.wikipedia.org/wiki/Angela_Nagle', 91, 'Angela Nagle'), ('https://en.wikipedia.org/wiki/Justin_Trudeau', 91, 'Justin Trudeau'), ('https://en.wikipedia.org/wiki/2016_United_States_presidential_election#Notable_expressions,_phrases,_and_statements', 91, 'With Her'), ('https://en.wikipedia.org/wiki/The_Boy_Who_Cried_Wolf', 91, 'The Boy Who Cried Wolf'), ('https://en.wikipedia.org/wiki/White_privilege', 92, 'white privilege'), ('https://en.wikipedia.org/wiki/Male_privilege', 92, 'male privilege'), ('https://en.wikipedia.org/wiki/2015_Baltimore_protests', 92, 'Baltimore'), ('https://en.wikipedia.org/wiki/Ferguson_unrest', 92, 'Ferguson'), ('https://en.wikipedia.org/wiki/2016_shooting_of_Dallas_police_officers', 92, 'Dallas'), ('https://en.wikipedia.org/wiki/2016_shooting_of_Baton_Rouge_police_officers', 92, 'Baton Rouge'), ('https://en.wikipedia.org/wiki/Extremist_Groups', 96, 'extremist movement'), ('https://en.wikipedia.org/wiki/Southern_Poverty_Law_Center', 97, 'Southern Poverty Law Center'), ('https://en.wikipedia.org/wiki/Dylann_Roof', 97, 'Dylann Roof'), ('https://en.wikipedia.org/wiki/Charleston_church_shooting', 97, 'Charleston church shooting'), ('https://en.wikipedia.org/wiki/Council_of_Conservative_Citizens', 97, 'Council of Conservative Citizens'), ('https://en.wikipedia.org/wiki/Aztec_High_School_shooting', 97, 'shot dead two students'), ('https://en.wikipedia.org/wiki/Aztec_High_School', 97, 'Aztec High School'), ('https://en.wikipedia.org/wiki/Aztec,_New_Mexico', 97, 'Aztec'), ('https://en.wikipedia.org/wiki/New_Mexico', 97, 'New Mexico'), ('https://en.wikipedia.org/wiki/Sandy_Hook_Elementary_School_shooting', 97, 'Adam Lanza'), ('https://en.wikipedia.org/wiki/Columbine_High_School_massacre', 97, 'Columbine High School massacre'), ('https://en.wikipedia.org/wiki/Amtrak', 98, 'Amtrak'), ('https://en.wikipedia.org/wiki/National_Socialist_Movement_(United_States)', 98, 'National Socialist Movement'), ('https://en.wikipedia.org/wiki/Pittsburgh_synagogue_shooting', 98, 'opened fire on a synagogue in Pittsburgh'), ('https://en.wikipedia.org/wiki/Gab_(social_network)', 98, 'Gab'), ('https://en.wikipedia.org/wiki/Rise_Above_Movement', 99, 'Rise Above Movement'), ('https://en.wikipedia.org/wiki/Antipodean_Resistance', 100, 'Antipodean Resistance'), ('https://en.wikipedia.org/wiki/Swastika', 100, 'swastika'), ('https://en.wikipedia.org/wiki/Nazi_salute', 100, 'Nazi salute'), ('https://en.wikipedia.org/wiki/German_language', 101, 'German'), ('https://en.wikipedia.org/wiki/Neo-Nazism', 101, 'neo-Nazi'), ('https://en.wikipedia.org/wiki/Terrorism', 101, 'terrorist'), ('https://en.wikipedia.org/wiki/Florida', 101, 'Florida'), ('https://en.wikipedia.org/wiki/Montana', 101, 'Montana'), ('https://en.wikipedia.org/wiki/Flag_desecration', 101, 'burn the United States flag'), ('https://en.wikipedia.org/wiki/Jews', 101, 'Jews'), ('https://en.wikipedia.org/wiki/Hate_group', 101, 'hate group'), ('https://en.wikipedia.org/wiki/Southern_Poverty_Law_Center', 101, 'Southern Poverty Law Center'), ('https://en.wikipedia.org/wiki/Nuclear_meltdown', 101, 'meltdowns'), ('https://en.wikipedia.org/wiki/Guerrilla_warfare', 101, 'guerrilla warfare'), ('https://en.wikipedia.org/wiki/Omar_Mateen', 102, 'Omar Mateen'), ('https://en.wikipedia.org/wiki/Salafi_jihadism', 103, 'Salafi jihadi'), ('https://en.wikipedia.org/wiki/Islam', 103, 'Islam'), ('https://en.wikipedia.org/wiki/Hexamethylene_triperoxide_diamine', 103, 'hexamethylene triperoxide diamine'), ('https://en.wikipedia.org/wiki/Timothy_McVeigh', 103, 'Timothy McVeigh'), ('https://en.wikipedia.org/wiki/Oklahoma_City_bombing', 103, 'Oklahoma City bombing'), ('https://en.wikipedia.org/wiki/Orange_County,_California', 103, 'Orange County'), ('https://en.wikipedia.org/wiki/Vehicle-ramming_attack', 104, 'deliberate attack'), ('https://en.wikipedia.org/wiki/University_of_Virginia_Health_System', 105, \"University of Virginia's University Hospital\"), ('https://en.wikipedia.org/wiki/Dodge_Challenger', 105, 'Dodge Challenger'), ('https://en.wikipedia.org/wiki/Aerial_photography', 105, 'aerial video footage'), ('https://en.wikipedia.org/wiki/Unmanned_aerial_vehicle', 105, 'drone'), ('https://en.wikipedia.org/wiki/University_of_Virginia_Health_System#Components', 105, 'University of Virginia Medical Center'), ('https://en.wikipedia.org/wiki/Ohio', 106, 'Ohio'), ('https://en.wikipedia.org/wiki/Randall_K._Cooper_High_School', 106, 'Cooper High School'), ('https://en.wikipedia.org/wiki/Union,_Kentucky', 106, 'Union'), ('https://en.wikipedia.org/wiki/Vanguard_America', 107, 'Vanguard America'), ('https://en.wikipedia.org/wiki/Antisemitism', 107, 'antisemitic'), ('https://en.wikipedia.org/wiki/Albemarle_County,_Virginia', 107, 'Albemarle-Charlottesville County'), ('https://en.wikipedia.org/wiki/H._R._McMaster', 108, 'H. R. McMaster'), ('https://en.wikipedia.org/wiki/Wikipedia:Manual_of_Style/Words_to_watch#Unsupported_attributions', 108, 'who?'), ('https://en.wikipedia.org/wiki/Domestic_terrorism_in_the_United_States', 108, 'domestic terrorism'), ('https://en.wikipedia.org/wiki/Hit_and_run', 109, 'failure to stop'), ('https://en.wikipedia.org/wiki/Ku_Klux_Klan', 110, 'Klansman'), ('https://en.wikipedia.org/wiki/Maryland', 110, 'Maryland'), ('https://en.wikipedia.org/wiki/Atomwaffen_Division', 111, 'Atomwaffen Division'), ('https://en.wikipedia.org/wiki/Black_Lives_Matter#\"White_Lives_Matter\"', 111, 'White Lives Matter'), ('https://en.wikipedia.org/wiki/Identity_Evropa#Views', 111, 'You will not replace us!'), ('https://en.wikipedia.org/wiki/Transgender', 111, 'transgender'), ('https://en.wikipedia.org/wiki/Emily_Gorcenski', 111, 'Emily Gorcenski'), ('https://en.wikipedia.org/wiki/New_Middleton,_Ohio', 112, 'New Middleton, Ohio'), ('https://en.wikipedia.org/wiki/Instagram', 112, 'Instagram'), ('https://en.wikipedia.org/wiki/Youngstown,_Ohio', 112, 'Youngstown, Ohio'), ('https://en.wikipedia.org/wiki/National_Geographic', 112, 'National Geographic'), ('https://en.wikipedia.org/wiki/Unite_the_Right_rally', 112, 'Unite the Right rally'), ('https://en.wikipedia.org/wiki/Charlottesville,_Virginia', 112, 'Charlottesville, Virginia'), ('https://en.wikipedia.org/wiki/George_Haley', 113, 'George Hawley'), ('https://en.wikipedia.org/wiki/Progressivism', 113, 'progressivism'), ('https://en.wikipedia.org/wiki/ABC_News', 114, 'ABC News'), ('https://en.wikipedia.org/wiki/The_Washington_Post', 114, 'The Washington Post'), ('https://en.wikipedia.org/wiki/Ipsos', 114, 'Ipsos'), ('https://en.wikipedia.org/wiki/Reuters', 114, 'Reuters'), ('https://en.wikipedia.org/wiki/Adam_Bhala_Lough', 115, 'Adam Bhala Lough'), ('https://en.wikipedia.org/wiki/Normalization_(sociology)', 116, 'normalization'), ('https://en.wikipedia.org/wiki/Pseudonym', 116, 'pseudonym'), ('https://en.wikipedia.org/wiki/David_Frum', 117, 'David Frum'), ('https://en.wikipedia.org/wiki/Margaret_Atwood', 118, 'Margaret Atwood'), ('https://en.wikipedia.org/wiki/The_Handmaid%27s_Tale', 118, \"The Handmaid's Tale\"), ('https://en.wikipedia.org/wiki/The_Handmaid%27s_Tale_(TV_series)', 118, '2017 television adaptation'), ('https://en.wikipedia.org/wiki/Neologism', 121, 'neologism'), ('https://en.wikipedia.org/wiki/Timothy_D._Snyder', 121, 'Timothy D. Snyder'), ('https://en.wikipedia.org/wiki/Mark_Pitcavage', 121, 'Mark Pitcavage'), ('https://en.wikipedia.org/wiki/Anti-Defamation_League', 121, 'Anti-Defamation League'), ('https://en.wikipedia.org/wiki/False_equivalence', 121, 'false equivalence'), ('https://en.wikipedia.org/wiki/Left-wing_politics', 121, 'left'), ('https://en.wikipedia.org/wiki/Donald_Trump_Jr.', 122, 'Donald Trump Jr.'), ('https://en.wikipedia.org/wiki/Lara_Trump', 122, 'Lara Trump'), ('https://en.wikipedia.org/wiki/Kimberly_Guilfoyle', 122, 'Kimberly Guilfoyle')]\n"
     ]
    }
   ],
   "source": [
    "wikipedia_base_url = 'https://en.wikipedia.org'\n",
    "\n",
    "altright_otherPageURLS = []\n",
    "#We also want to know where the links come from so we also will get:\n",
    "#the paragraph number\n",
    "#the word the link is in\n",
    "for paragraphNum, pTag in enumerate(altright_contentPTags):\n",
    "    #we only want hrefs that link to wiki pages\n",
    "    tagLinks = pTag.findAll('a', href=re.compile('/wiki/'), class_=False)\n",
    "    for aTag in tagLinks:\n",
    "        #We need to extract the url from the <a> tag\n",
    "        relurl = aTag.get('href')\n",
    "        linkText = aTag.text\n",
    "        #wikipedia_base_url is the base we can use the urllib joining function to merge them\n",
    "        #Giving a nice structured tupe like this means we can use tuple expansion later\n",
    "        altright_otherPageURLS.append((\n",
    "            urllib.parse.urljoin(wikipedia_base_url, relurl),\n",
    "            paragraphNum,\n",
    "            linkText,\n",
    "        ))\n",
    "print(altright_otherPageURLS)"
   ]
  },
  {
   "cell_type": "code",
   "execution_count": 11,
   "metadata": {},
   "outputs": [
    {
     "data": {
      "text/html": [
       "<div>\n",
       "<style scoped>\n",
       "    .dataframe tbody tr th:only-of-type {\n",
       "        vertical-align: middle;\n",
       "    }\n",
       "\n",
       "    .dataframe tbody tr th {\n",
       "        vertical-align: top;\n",
       "    }\n",
       "\n",
       "    .dataframe thead th {\n",
       "        text-align: right;\n",
       "    }\n",
       "</style>\n",
       "<table border=\"1\" class=\"dataframe\">\n",
       "  <thead>\n",
       "    <tr style=\"text-align: right;\">\n",
       "      <th></th>\n",
       "      <th>paragraph_text</th>\n",
       "      <th>source</th>\n",
       "      <th>paragraph_number</th>\n",
       "    </tr>\n",
       "  </thead>\n",
       "  <tbody>\n",
       "    <tr>\n",
       "      <th>0</th>\n",
       "      <td>\\n</td>\n",
       "      <td>https://en.wikipedia.org/wiki/Alt-right</td>\n",
       "      <td>0</td>\n",
       "    </tr>\n",
       "    <tr>\n",
       "      <th>1</th>\n",
       "      <td>\\n</td>\n",
       "      <td>https://en.wikipedia.org/wiki/Alt-right</td>\n",
       "      <td>1</td>\n",
       "    </tr>\n",
       "    <tr>\n",
       "      <th>2</th>\n",
       "      <td>The alt-right, an abbreviation of alternative ...</td>\n",
       "      <td>https://en.wikipedia.org/wiki/Alt-right</td>\n",
       "      <td>2</td>\n",
       "    </tr>\n",
       "    <tr>\n",
       "      <th>3</th>\n",
       "      <td>In 2010, the American white nationalist Richar...</td>\n",
       "      <td>https://en.wikipedia.org/wiki/Alt-right</td>\n",
       "      <td>3</td>\n",
       "    </tr>\n",
       "    <tr>\n",
       "      <th>4</th>\n",
       "      <td>The alt-right is a biologically racist movemen...</td>\n",
       "      <td>https://en.wikipedia.org/wiki/Alt-right</td>\n",
       "      <td>4</td>\n",
       "    </tr>\n",
       "  </tbody>\n",
       "</table>\n",
       "</div>"
      ],
      "text/plain": [
       "                                      paragraph_text  \\\n",
       "0                                                 \\n   \n",
       "1                                                 \\n   \n",
       "2  The alt-right, an abbreviation of alternative ...   \n",
       "3  In 2010, the American white nationalist Richar...   \n",
       "4  The alt-right is a biologically racist movemen...   \n",
       "\n",
       "                                    source  paragraph_number  \n",
       "0  https://en.wikipedia.org/wiki/Alt-right                 0  \n",
       "1  https://en.wikipedia.org/wiki/Alt-right                 1  \n",
       "2  https://en.wikipedia.org/wiki/Alt-right                 2  \n",
       "3  https://en.wikipedia.org/wiki/Alt-right                 3  \n",
       "4  https://en.wikipedia.org/wiki/Alt-right                 4  "
      ]
     },
     "execution_count": 11,
     "metadata": {},
     "output_type": "execute_result"
    }
   ],
   "source": [
    "altright_contentParagraphsDF['source'] = [altright_wikipage] * len(altright_contentParagraphsDF['paragraph_text'])\n",
    "altright_contentParagraphsDF['paragraph_number'] = range(len(altright_contentParagraphsDF['paragraph_text']))\n",
    "\n",
    "altright_contentParagraphsDF[:5]"
   ]
  },
  {
   "cell_type": "code",
   "execution_count": 12,
   "metadata": {},
   "outputs": [
    {
     "data": {
      "text/html": [
       "<div>\n",
       "<style scoped>\n",
       "    .dataframe tbody tr th:only-of-type {\n",
       "        vertical-align: middle;\n",
       "    }\n",
       "\n",
       "    .dataframe tbody tr th {\n",
       "        vertical-align: top;\n",
       "    }\n",
       "\n",
       "    .dataframe thead th {\n",
       "        text-align: right;\n",
       "    }\n",
       "</style>\n",
       "<table border=\"1\" class=\"dataframe\">\n",
       "  <thead>\n",
       "    <tr style=\"text-align: right;\">\n",
       "      <th></th>\n",
       "      <th>paragraph_number</th>\n",
       "      <th>paragraph_text</th>\n",
       "      <th>source</th>\n",
       "      <th>source_paragraph_number</th>\n",
       "      <th>source_paragraph_text</th>\n",
       "    </tr>\n",
       "  </thead>\n",
       "  <tbody>\n",
       "    <tr>\n",
       "      <th>0</th>\n",
       "      <td>0</td>\n",
       "      <td>\\n</td>\n",
       "      <td>https://en.wikipedia.org/wiki/Alt-right</td>\n",
       "      <td>None</td>\n",
       "      <td>None</td>\n",
       "    </tr>\n",
       "    <tr>\n",
       "      <th>1</th>\n",
       "      <td>1</td>\n",
       "      <td>\\n</td>\n",
       "      <td>https://en.wikipedia.org/wiki/Alt-right</td>\n",
       "      <td>None</td>\n",
       "      <td>None</td>\n",
       "    </tr>\n",
       "    <tr>\n",
       "      <th>2</th>\n",
       "      <td>2</td>\n",
       "      <td>The alt-right, an abbreviation of alternative ...</td>\n",
       "      <td>https://en.wikipedia.org/wiki/Alt-right</td>\n",
       "      <td>None</td>\n",
       "      <td>None</td>\n",
       "    </tr>\n",
       "    <tr>\n",
       "      <th>3</th>\n",
       "      <td>3</td>\n",
       "      <td>In 2010, the American white nationalist Richar...</td>\n",
       "      <td>https://en.wikipedia.org/wiki/Alt-right</td>\n",
       "      <td>None</td>\n",
       "      <td>None</td>\n",
       "    </tr>\n",
       "    <tr>\n",
       "      <th>4</th>\n",
       "      <td>4</td>\n",
       "      <td>The alt-right is a biologically racist movemen...</td>\n",
       "      <td>https://en.wikipedia.org/wiki/Alt-right</td>\n",
       "      <td>None</td>\n",
       "      <td>None</td>\n",
       "    </tr>\n",
       "  </tbody>\n",
       "</table>\n",
       "</div>"
      ],
      "text/plain": [
       "   paragraph_number                                     paragraph_text  \\\n",
       "0                 0                                                 \\n   \n",
       "1                 1                                                 \\n   \n",
       "2                 2  The alt-right, an abbreviation of alternative ...   \n",
       "3                 3  In 2010, the American white nationalist Richar...   \n",
       "4                 4  The alt-right is a biologically racist movemen...   \n",
       "\n",
       "                                    source source_paragraph_number  \\\n",
       "0  https://en.wikipedia.org/wiki/Alt-right                    None   \n",
       "1  https://en.wikipedia.org/wiki/Alt-right                    None   \n",
       "2  https://en.wikipedia.org/wiki/Alt-right                    None   \n",
       "3  https://en.wikipedia.org/wiki/Alt-right                    None   \n",
       "4  https://en.wikipedia.org/wiki/Alt-right                    None   \n",
       "\n",
       "  source_paragraph_text  \n",
       "0                  None  \n",
       "1                  None  \n",
       "2                  None  \n",
       "3                  None  \n",
       "4                  None  "
      ]
     },
     "execution_count": 12,
     "metadata": {},
     "output_type": "execute_result"
    }
   ],
   "source": [
    "altright_contentParagraphsDF['source_paragraph_number'] = [None] * len(altright_contentParagraphsDF['paragraph_text'])\n",
    "altright_contentParagraphsDF['source_paragraph_text'] = [None] * len(altright_contentParagraphsDF['paragraph_text'])\n",
    "\n",
    "def getTextFromWikiPage(targetURL, sourceParNum, sourceText):\n",
    "    #Make a dict to store data before adding it to the DataFrame\n",
    "    parsDict = {'source' : [], 'paragraph_number' : [], 'paragraph_text' : [], 'source_paragraph_number' : [],  'source_paragraph_text' : []}\n",
    "    #Now we get the page\n",
    "    r = requests.get(targetURL)\n",
    "    soup = bs4.BeautifulSoup(r.text, 'html.parser')\n",
    "    #enumerating gives use the paragraph number\n",
    "    for parNum, pTag in enumerate(soup.body.findAll('p')):\n",
    "        #same regex as before\n",
    "        parsDict['paragraph_text'].append(re.sub(r'\\[\\d+\\]', '', pTag.text))\n",
    "        parsDict['paragraph_number'].append(parNum)\n",
    "        parsDict['source'].append(targetURL)\n",
    "        parsDict['source_paragraph_number'].append(sourceParNum)\n",
    "        parsDict['source_paragraph_text'].append(sourceText)\n",
    "    return pandas.DataFrame(parsDict)\n",
    "\n",
    "for urlTuple in altright_otherPageURLS[:5]:\n",
    "    #ignore_index means the indices will not be reset after each append\n",
    "    altright_contentParagraphsDF = altright_contentParagraphsDF.append(getTextFromWikiPage(*urlTuple),ignore_index=True)\n",
    "\n",
    "altright_contentParagraphsDF[:5]"
   ]
  },
  {
   "cell_type": "code",
   "execution_count": 35,
   "metadata": {},
   "outputs": [],
   "source": [
    "def get_pageURLs(start_wikiURL):\n",
    "    otherPageURLs = []\n",
    "    start_wikiContentRequest = requests.get(start_wikiURL)\n",
    "    start_wikiContentSoup = bs4.BeautifulSoup(start_wikiContentRequest.text, 'html.parser')\n",
    "    start_contentPTags = start_wikiContentSoup.body.findAll('p')\n",
    "    for pTag in start_contentPTags:\n",
    "        tagLinks = pTag.findAll('a', href=re.compile('/wiki/'), class_=False)\n",
    "        for aTag in tagLinks:\n",
    "            relurl = aTag.get('href')\n",
    "            full_url = urllib.parse.urljoin(wikipedia_base_url, relurl)\n",
    "            if full_url not in otherPageURLs:\n",
    "                otherPageURLs.append(full_url)\n",
    "                    \n",
    "    return otherPageURLs\n",
    "\n",
    "def rec_spider(start_wikiURL, stop_level):    \n",
    "    global ref_list\n",
    "    ref_list = []\n",
    "    \n",
    "    for i in range(stop_level):\n",
    "        if len(ref_list) == 0:\n",
    "            ref_list = get_pageURLs(start_wikiURL)\n",
    "            new_URLs = ref_list\n",
    "        else:\n",
    "            i_otherPageURLs = []\n",
    "            for x in new_URLs:\n",
    "                i_otherPageURLs.extend(get_pageURLs(x))\n",
    "            unique_i_otherPageURLs = [] \n",
    "            [unique_i_otherPageURLs.append(x) for x in i_otherPageURLs if x not in unique_i_otherPageURLs] \n",
    "            new_URLs = [x for x in unique_i_otherPageURLs if x not in ref_list]\n",
    "            ref_list.extend(new_URLs)\n",
    "            \n",
    "    return ref_list     "
   ]
  },
  {
   "cell_type": "code",
   "execution_count": 37,
   "metadata": {},
   "outputs": [
    {
     "data": {
      "text/plain": [
       "34978"
      ]
     },
     "execution_count": 37,
     "metadata": {},
     "output_type": "execute_result"
    }
   ],
   "source": [
    "altright_reclist = rec_spider(altright_wikipage,2)\n",
    "len(altright_reclist)"
   ]
  },
  {
   "cell_type": "markdown",
   "metadata": {},
   "source": [
    "\n",
    "# <span style=\"color:red\">Section 3</span>\n",
    "<span style=\"color:red\">Construct cells immediately below this that extract and organize textual content from text, PDF or Word into a pandas dataframe.</span>\n"
   ]
  },
  {
   "cell_type": "markdown",
   "metadata": {},
   "source": [
    "The cell below creates a txt file from a Vox article. "
   ]
  },
  {
   "cell_type": "code",
   "execution_count": 38,
   "metadata": {},
   "outputs": [],
   "source": [
    "kcrenshaw_content_analysis_save = 'kcrenshaw_content_analysis.txt'\n",
    "kcrenshaw_wpage = 'https://www.vox.com/the-highlight/2019/5/20/18542843/intersectionality-conservatism-law-race-gender-discrimination'\n",
    "\n",
    "kcrenshaw_ContentRequest = requests.get(kcrenshaw_wpage)\n",
    "kcrenshaw_ContentSoup = bs4.BeautifulSoup(kcrenshaw_ContentRequest.text, 'html.parser')\n",
    "\n",
    "with open(kcrenshaw_content_analysis_save, mode='w', encoding='utf-8') as f:\n",
    "    kcrenshaw_contentPTags = kcrenshaw_ContentSoup.body.findAll('p')\n",
    "    kcrenshaw_contentParagraphs = []\n",
    "    for pTag in kcrenshaw_contentPTags:\n",
    "        f.write(re.sub(r'\\[\\d+\\]', '', pTag.text) + '\\n')"
   ]
  },
  {
   "cell_type": "markdown",
   "metadata": {},
   "source": [
    "Code to read the above `txt` file into a pandas dataframe:"
   ]
  },
  {
   "cell_type": "code",
   "execution_count": 39,
   "metadata": {},
   "outputs": [
    {
     "data": {
      "text/html": [
       "<div>\n",
       "<style scoped>\n",
       "    .dataframe tbody tr th:only-of-type {\n",
       "        vertical-align: middle;\n",
       "    }\n",
       "\n",
       "    .dataframe tbody tr th {\n",
       "        vertical-align: top;\n",
       "    }\n",
       "\n",
       "    .dataframe thead th {\n",
       "        text-align: right;\n",
       "    }\n",
       "</style>\n",
       "<table border=\"1\" class=\"dataframe\">\n",
       "  <thead>\n",
       "    <tr style=\"text-align: right;\">\n",
       "      <th></th>\n",
       "      <th>text</th>\n",
       "    </tr>\n",
       "  </thead>\n",
       "  <tbody>\n",
       "    <tr>\n",
       "      <th>0</th>\n",
       "      <td>When Kimberlé Crenshaw coined the term 30 year...</td>\n",
       "    </tr>\n",
       "    <tr>\n",
       "      <th>1</th>\n",
       "      <td>There may not be a word in American conservati...</td>\n",
       "    </tr>\n",
       "    <tr>\n",
       "      <th>2</th>\n",
       "      <td>To many conservatives, intersectionality means...</td>\n",
       "    </tr>\n",
       "    <tr>\n",
       "      <th>3</th>\n",
       "      <td>This is a highly unusual level of disdain for ...</td>\n",
       "    </tr>\n",
       "    <tr>\n",
       "      <th>4</th>\n",
       "      <td>In my conversations with right-wing critics of...</td>\n",
       "    </tr>\n",
       "  </tbody>\n",
       "</table>\n",
       "</div>"
      ],
      "text/plain": [
       "                                                text\n",
       "0  When Kimberlé Crenshaw coined the term 30 year...\n",
       "1  There may not be a word in American conservati...\n",
       "2  To many conservatives, intersectionality means...\n",
       "3  This is a highly unusual level of disdain for ...\n",
       "4  In my conversations with right-wing critics of..."
      ]
     },
     "execution_count": 39,
     "metadata": {},
     "output_type": "execute_result"
    }
   ],
   "source": [
    "with open(kcrenshaw_content_analysis_save, mode = 'r', encoding = 'utf-8') as f:\n",
    "    kcrenshaw_text = f.read().split('\\n')\n",
    "    \n",
    "kcrenshaw_df = pandas.DataFrame({'text' : kcrenshaw_text})\n",
    "kcrenshaw_df[:5]"
   ]
  }
 ],
 "metadata": {
  "kernelspec": {
   "display_name": "Python 3",
   "language": "python",
   "name": "python3"
  },
  "language_info": {
   "codemirror_mode": {
    "name": "ipython",
    "version": 3
   },
   "file_extension": ".py",
   "mimetype": "text/x-python",
   "name": "python",
   "nbconvert_exporter": "python",
   "pygments_lexer": "ipython3",
   "version": "3.7.4"
  }
 },
 "nbformat": 4,
 "nbformat_minor": 2
}
